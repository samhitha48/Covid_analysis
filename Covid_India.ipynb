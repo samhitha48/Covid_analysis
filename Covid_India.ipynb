{
  "nbformat": 4,
  "nbformat_minor": 0,
  "metadata": {
    "kernelspec": {
      "display_name": "Python 3",
      "language": "python",
      "name": "python3"
    },
    "language_info": {
      "codemirror_mode": {
        "name": "ipython",
        "version": 3
      },
      "file_extension": ".py",
      "mimetype": "text/x-python",
      "name": "python",
      "nbconvert_exporter": "python",
      "pygments_lexer": "ipython3",
      "version": "3.8.8"
    },
    "colab": {
      "name": "Covid India.ipynb",
      "provenance": []
    }
  },
  "cells": [
    {
      "cell_type": "code",
      "metadata": {
        "execution": {
          "iopub.execute_input": "2021-11-30T10:44:32.106360Z",
          "iopub.status.busy": "2021-11-30T10:44:32.105834Z",
          "iopub.status.idle": "2021-11-30T10:44:32.114998Z",
          "shell.execute_reply": "2021-11-30T10:44:32.114185Z",
          "shell.execute_reply.started": "2021-11-30T10:44:32.106316Z"
        },
        "id": "fHrqUzGMhOcg"
      },
      "source": [
        "import warnings\n",
        "warnings.filterwarnings('ignore')\n",
        "import pandas as pd\n",
        "import matplotlib.pyplot as plt\n",
        "import seaborn as sns\n",
        "import numpy as np\n",
        "import datetime as dt\n",
        "from datetime import timedelta\n",
        "from sklearn.preprocessing import PolynomialFeatures \n",
        "from sklearn.linear_model import LinearRegression\n",
        "from sklearn.svm import SVR\n",
        "from statsmodels.tsa.api import Holt,SimpleExpSmoothing,ExponentialSmoothing\n",
        "from sklearn.metrics import mean_squared_error,r2_score\n",
        "import statsmodels.api as sm\n",
        "from fbprophet import Prophet\n"
      ],
      "execution_count": null,
      "outputs": []
    },
    {
      "cell_type": "code",
      "metadata": {
        "execution": {
          "iopub.execute_input": "2021-11-30T10:44:32.116939Z",
          "iopub.status.busy": "2021-11-30T10:44:32.116337Z",
          "iopub.status.idle": "2021-11-30T10:44:32.134737Z",
          "shell.execute_reply": "2021-11-30T10:44:32.133698Z",
          "shell.execute_reply.started": "2021-11-30T10:44:32.116897Z"
        },
        "id": "MliGg9TKhOcg"
      },
      "source": [
        "import plotly.express as px\n",
        "import plotly.graph_objects as go\n",
        "from plotly.subplots import make_subplots"
      ],
      "execution_count": null,
      "outputs": []
    },
    {
      "cell_type": "code",
      "metadata": {
        "colab": {
          "resources": {
            "http://localhost:8080/nbextensions/google.colab/files.js": {
              "data": "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",
              "ok": true,
              "headers": [
                [
                  "content-type",
                  "application/javascript"
                ]
              ],
              "status": 200,
              "status_text": ""
            }
          },
          "base_uri": "https://localhost:8080/",
          "height": 73
        },
        "id": "dytC-3c9hOch",
        "outputId": "a2442ca9-8bb5-403a-bd88-a3017ede98f4"
      },
      "source": [
        "from google.colab import files\n",
        "covid = files.upload()"
      ],
      "execution_count": null,
      "outputs": [
        {
          "output_type": "display_data",
          "data": {
            "text/html": [
              "\n",
              "     <input type=\"file\" id=\"files-869fa453-0206-4d56-bd05-f5c6cb72448f\" name=\"files[]\" multiple disabled\n",
              "        style=\"border:none\" />\n",
              "     <output id=\"result-869fa453-0206-4d56-bd05-f5c6cb72448f\">\n",
              "      Upload widget is only available when the cell has been executed in the\n",
              "      current browser session. Please rerun this cell to enable.\n",
              "      </output>\n",
              "      <script src=\"/nbextensions/google.colab/files.js\"></script> "
            ],
            "text/plain": [
              "<IPython.core.display.HTML object>"
            ]
          },
          "metadata": {}
        },
        {
          "output_type": "stream",
          "name": "stdout",
          "text": [
            "Saving covid_19_data.csv to covid_19_data (1).csv\n"
          ]
        }
      ]
    },
    {
      "cell_type": "code",
      "metadata": {
        "id": "i75ysPYehOch"
      },
      "source": [
        "import io\n",
        "covid = pd.read_csv(io.BytesIO(covid['covid_19_data.csv']))"
      ],
      "execution_count": null,
      "outputs": []
    },
    {
      "cell_type": "code",
      "metadata": {
        "execution": {
          "iopub.execute_input": "2021-11-30T10:44:32.136976Z",
          "iopub.status.busy": "2021-11-30T10:44:32.136219Z",
          "iopub.status.idle": "2021-11-30T10:44:32.806947Z",
          "shell.execute_reply": "2021-11-30T10:44:32.806053Z",
          "shell.execute_reply.started": "2021-11-30T10:44:32.136924Z"
        },
        "colab": {
          "base_uri": "https://localhost:8080/",
          "height": 206
        },
        "id": "QiW9FUzPhOci",
        "outputId": "83632a21-1e4a-49f3-ed30-cc38b3fd1952"
      },
      "source": [
        "covid.head()"
      ],
      "execution_count": null,
      "outputs": [
        {
          "output_type": "execute_result",
          "data": {
            "text/html": [
              "<div>\n",
              "<style scoped>\n",
              "    .dataframe tbody tr th:only-of-type {\n",
              "        vertical-align: middle;\n",
              "    }\n",
              "\n",
              "    .dataframe tbody tr th {\n",
              "        vertical-align: top;\n",
              "    }\n",
              "\n",
              "    .dataframe thead th {\n",
              "        text-align: right;\n",
              "    }\n",
              "</style>\n",
              "<table border=\"1\" class=\"dataframe\">\n",
              "  <thead>\n",
              "    <tr style=\"text-align: right;\">\n",
              "      <th></th>\n",
              "      <th>SNo</th>\n",
              "      <th>ObservationDate</th>\n",
              "      <th>Province/State</th>\n",
              "      <th>Country/Region</th>\n",
              "      <th>Last Update</th>\n",
              "      <th>Confirmed</th>\n",
              "      <th>Deaths</th>\n",
              "      <th>Recovered</th>\n",
              "    </tr>\n",
              "  </thead>\n",
              "  <tbody>\n",
              "    <tr>\n",
              "      <th>0</th>\n",
              "      <td>1</td>\n",
              "      <td>01/22/2020</td>\n",
              "      <td>Anhui</td>\n",
              "      <td>Mainland China</td>\n",
              "      <td>1/22/2020 17:00</td>\n",
              "      <td>1.0</td>\n",
              "      <td>0.0</td>\n",
              "      <td>0.0</td>\n",
              "    </tr>\n",
              "    <tr>\n",
              "      <th>1</th>\n",
              "      <td>2</td>\n",
              "      <td>01/22/2020</td>\n",
              "      <td>Beijing</td>\n",
              "      <td>Mainland China</td>\n",
              "      <td>1/22/2020 17:00</td>\n",
              "      <td>14.0</td>\n",
              "      <td>0.0</td>\n",
              "      <td>0.0</td>\n",
              "    </tr>\n",
              "    <tr>\n",
              "      <th>2</th>\n",
              "      <td>3</td>\n",
              "      <td>01/22/2020</td>\n",
              "      <td>Chongqing</td>\n",
              "      <td>Mainland China</td>\n",
              "      <td>1/22/2020 17:00</td>\n",
              "      <td>6.0</td>\n",
              "      <td>0.0</td>\n",
              "      <td>0.0</td>\n",
              "    </tr>\n",
              "    <tr>\n",
              "      <th>3</th>\n",
              "      <td>4</td>\n",
              "      <td>01/22/2020</td>\n",
              "      <td>Fujian</td>\n",
              "      <td>Mainland China</td>\n",
              "      <td>1/22/2020 17:00</td>\n",
              "      <td>1.0</td>\n",
              "      <td>0.0</td>\n",
              "      <td>0.0</td>\n",
              "    </tr>\n",
              "    <tr>\n",
              "      <th>4</th>\n",
              "      <td>5</td>\n",
              "      <td>01/22/2020</td>\n",
              "      <td>Gansu</td>\n",
              "      <td>Mainland China</td>\n",
              "      <td>1/22/2020 17:00</td>\n",
              "      <td>0.0</td>\n",
              "      <td>0.0</td>\n",
              "      <td>0.0</td>\n",
              "    </tr>\n",
              "  </tbody>\n",
              "</table>\n",
              "</div>"
            ],
            "text/plain": [
              "   SNo ObservationDate Province/State  ... Confirmed Deaths  Recovered\n",
              "0    1      01/22/2020          Anhui  ...       1.0    0.0        0.0\n",
              "1    2      01/22/2020        Beijing  ...      14.0    0.0        0.0\n",
              "2    3      01/22/2020      Chongqing  ...       6.0    0.0        0.0\n",
              "3    4      01/22/2020         Fujian  ...       1.0    0.0        0.0\n",
              "4    5      01/22/2020          Gansu  ...       0.0    0.0        0.0\n",
              "\n",
              "[5 rows x 8 columns]"
            ]
          },
          "metadata": {},
          "execution_count": 7
        }
      ]
    },
    {
      "cell_type": "code",
      "metadata": {
        "execution": {
          "iopub.execute_input": "2021-11-30T10:44:32.810519Z",
          "iopub.status.busy": "2021-11-30T10:44:32.809556Z",
          "iopub.status.idle": "2021-11-30T10:44:33.168698Z",
          "shell.execute_reply": "2021-11-30T10:44:33.167955Z",
          "shell.execute_reply.started": "2021-11-30T10:44:32.810465Z"
        },
        "id": "HyQl1u-ghOci"
      },
      "source": [
        "#Extracting India's data \n",
        "covid_india=covid[covid['Country/Region']==\"India\"]\n",
        "\n",
        "#Extracting other countries for comparison of worst affected countries\n",
        "covid_spain=covid[covid['Country/Region']==\"Spain\"]\n",
        "covid_us=covid[covid['Country/Region']==\"US\"]\n",
        "covid_italy=covid[covid['Country/Region']==\"Italy\"]\n",
        "covid_iran=covid[covid['Country/Region']==\"Iran\"]\n",
        "covid_france=covid[covid['Country/Region']==\"France\"]\n",
        "covid_uk=covid[covid['Country/Region']==\"UK\"]\n",
        "covid_br=covid[covid['Country/Region']==\"Brazil\"]\n",
        "covid_russia=covid[covid['Country/Region']==\"Russia\"]\n",
        "\n",
        "#Extracting data of neighbouring countries\n",
        "covid_pak=covid[covid['Country/Region']==\"Pakistan\"]\n",
        "covid_china=covid[covid['Country/Region']==\"Mainland China\"]\n",
        "covid_afg=covid[covid['Country/Region']==\"Afghanistan\"]\n",
        "covid_nepal=covid[covid['Country/Region']==\"Nepal\"]\n",
        "covid_bhutan=covid[covid['Country/Region']==\"Bhutan\"]\n",
        "covid_lanka=covid[covid[\"Country/Region\"]==\"Sri Lanka\"]\n",
        "covid_ban=covid[covid[\"Country/Region\"]==\"Bangladesh\"]"
      ],
      "execution_count": null,
      "outputs": []
    },
    {
      "cell_type": "code",
      "metadata": {
        "execution": {
          "iopub.execute_input": "2021-11-30T10:44:33.170131Z",
          "iopub.status.busy": "2021-11-30T10:44:33.169748Z",
          "iopub.status.idle": "2021-11-30T10:44:33.227827Z",
          "shell.execute_reply": "2021-11-30T10:44:33.227161Z",
          "shell.execute_reply.started": "2021-11-30T10:44:33.170098Z"
        },
        "id": "Y7HWTem7hOcj"
      },
      "source": [
        "#Converting the date into Datetime format\n",
        "covid_india[\"ObservationDate\"]=pd.to_datetime(covid_india[\"ObservationDate\"])\n",
        "covid_spain[\"ObservationDate\"]=pd.to_datetime(covid_spain[\"ObservationDate\"])\n",
        "covid_us[\"ObservationDate\"]=pd.to_datetime(covid_us[\"ObservationDate\"])\n",
        "covid_italy[\"ObservationDate\"]=pd.to_datetime(covid_italy[\"ObservationDate\"])\n",
        "covid_iran[\"ObservationDate\"]=pd.to_datetime(covid_iran[\"ObservationDate\"])\n",
        "covid_france[\"ObservationDate\"]=pd.to_datetime(covid_france[\"ObservationDate\"])\n",
        "covid_uk[\"ObservationDate\"]=pd.to_datetime(covid_uk[\"ObservationDate\"])\n",
        "covid_br[\"ObservationDate\"]=pd.to_datetime(covid_br[\"ObservationDate\"])\n",
        "covid_russia[\"ObservationDate\"]=pd.to_datetime(covid_russia[\"ObservationDate\"])\n",
        "\n",
        "covid_pak[\"ObservationDate\"]=pd.to_datetime(covid_pak[\"ObservationDate\"])\n",
        "covid_china[\"ObservationDate\"]=pd.to_datetime(covid_china[\"ObservationDate\"])\n",
        "covid_afg[\"ObservationDate\"]=pd.to_datetime(covid_afg[\"ObservationDate\"])\n",
        "covid_nepal[\"ObservationDate\"]=pd.to_datetime(covid_nepal[\"ObservationDate\"])\n",
        "covid_bhutan[\"ObservationDate\"]=pd.to_datetime(covid_bhutan[\"ObservationDate\"])\n",
        "covid_lanka[\"ObservationDate\"]=pd.to_datetime(covid_lanka[\"ObservationDate\"])\n",
        "covid_ban[\"ObservationDate\"]=pd.to_datetime(covid_ban[\"ObservationDate\"])"
      ],
      "execution_count": null,
      "outputs": []
    },
    {
      "cell_type": "code",
      "metadata": {
        "execution": {
          "iopub.execute_input": "2021-11-30T10:44:33.229678Z",
          "iopub.status.busy": "2021-11-30T10:44:33.228894Z",
          "iopub.status.idle": "2021-11-30T10:44:33.289383Z",
          "shell.execute_reply": "2021-11-30T10:44:33.288484Z",
          "shell.execute_reply.started": "2021-11-30T10:44:33.229644Z"
        },
        "id": "ZeaESdPVhOck"
      },
      "source": [
        "#Grouping the data based on the Date \n",
        "india_datewise=covid_india.groupby([\"ObservationDate\"]).agg({\"Confirmed\":'sum',\"Recovered\":'sum',\"Deaths\":'sum'})\n",
        "spain_datewise=covid_spain.groupby([\"ObservationDate\"]).agg({\"Confirmed\":'sum',\"Recovered\":'sum',\"Deaths\":'sum'})\n",
        "us_datewise=covid_us.groupby([\"ObservationDate\"]).agg({\"Confirmed\":'sum',\"Recovered\":'sum',\"Deaths\":'sum'})\n",
        "italy_datewise=covid_italy.groupby([\"ObservationDate\"]).agg({\"Confirmed\":'sum',\"Recovered\":'sum',\"Deaths\":'sum'})\n",
        "iran_datewise=covid_iran.groupby([\"ObservationDate\"]).agg({\"Confirmed\":'sum',\"Recovered\":'sum',\"Deaths\":'sum'})\n",
        "france_datewise=covid_france.groupby([\"ObservationDate\"]).agg({\"Confirmed\":'sum',\"Recovered\":'sum',\"Deaths\":'sum'})\n",
        "uk_datewise=covid_uk.groupby([\"ObservationDate\"]).agg({\"Confirmed\":'sum',\"Recovered\":'sum',\"Deaths\":'sum'})\n",
        "brazil_datewise=covid_br.groupby([\"ObservationDate\"]).agg({\"Confirmed\":'sum',\"Recovered\":'sum',\"Deaths\":'sum'})\n",
        "russia_datewise=covid_russia.groupby([\"ObservationDate\"]).agg({\"Confirmed\":'sum',\"Recovered\":'sum',\"Deaths\":'sum'})\n",
        "\n",
        "pak_datewise=covid_pak.groupby([\"ObservationDate\"]).agg({\"Confirmed\":'sum',\"Recovered\":'sum',\"Deaths\":'sum'})\n",
        "china_datewise=covid_china.groupby([\"ObservationDate\"]).agg({\"Confirmed\":'sum',\"Recovered\":'sum',\"Deaths\":'sum'})\n",
        "afg_datewise=covid_afg.groupby([\"ObservationDate\"]).agg({\"Confirmed\":'sum',\"Recovered\":'sum',\"Deaths\":'sum'})\n",
        "nepal_datewise=covid_nepal.groupby([\"ObservationDate\"]).agg({\"Confirmed\":'sum',\"Recovered\":'sum',\"Deaths\":'sum'})\n",
        "bhutan_datewise=covid_bhutan.groupby([\"ObservationDate\"]).agg({\"Confirmed\":'sum',\"Recovered\":'sum',\"Deaths\":'sum'})\n",
        "lanka_datewise=covid_lanka.groupby([\"ObservationDate\"]).agg({\"Confirmed\":'sum',\"Recovered\":'sum',\"Deaths\":'sum'})\n",
        "ban_datewise=covid_ban.groupby([\"ObservationDate\"]).agg({\"Confirmed\":'sum',\"Recovered\":'sum',\"Deaths\":'sum'})"
      ],
      "execution_count": null,
      "outputs": []
    },
    {
      "cell_type": "code",
      "metadata": {
        "execution": {
          "iopub.execute_input": "2021-11-30T10:44:33.291478Z",
          "iopub.status.busy": "2021-11-30T10:44:33.291004Z",
          "iopub.status.idle": "2021-11-30T10:44:33.336822Z",
          "shell.execute_reply": "2021-11-30T10:44:33.336164Z",
          "shell.execute_reply.started": "2021-11-30T10:44:33.291444Z"
        },
        "id": "cgalX4lPhOcl"
      },
      "source": [
        "#Adding week column to perfom weekly analysis further ahead\n",
        "india_datewise[\"WeekofYear\"]=india_datewise.index.weekofyear\n",
        "spain_datewise[\"WeekofYear\"]=spain_datewise.index.weekofyear\n",
        "us_datewise[\"WeekofYear\"]=us_datewise.index.weekofyear\n",
        "italy_datewise[\"WeekofYear\"]=italy_datewise.index.weekofyear\n",
        "iran_datewise[\"WeekofYear\"]=iran_datewise.index.weekofyear\n",
        "france_datewise[\"WeekofYear\"]=france_datewise.index.weekofyear\n",
        "uk_datewise[\"WeekofYear\"]=uk_datewise.index.weekofyear\n",
        "brazil_datewise[\"WeekofYear\"]=brazil_datewise.index.weekofyear\n",
        "russia_datewise[\"WeekofYear\"]=russia_datewise.index.weekofyear\n",
        "\n",
        "pak_datewise[\"WeekofYear\"]=pak_datewise.index.weekofyear\n",
        "china_datewise[\"WeekofYear\"]=china_datewise.index.weekofyear\n",
        "afg_datewise[\"WeekofYear\"]=afg_datewise.index.weekofyear\n",
        "nepal_datewise[\"WeekofYear\"]=nepal_datewise.index.weekofyear\n",
        "bhutan_datewise[\"WeekofYear\"]=bhutan_datewise.index.weekofyear\n",
        "lanka_datewise[\"WeekofYear\"]=lanka_datewise.index.weekofyear\n",
        "ban_datewise[\"WeekofYear\"]=ban_datewise.index.weekofyear"
      ],
      "execution_count": null,
      "outputs": []
    },
    {
      "cell_type": "code",
      "metadata": {
        "id": "VW5NJ0NDhOcm"
      },
      "source": [
        "india_datewise[\"Days Since\"]=(india_datewise.index-india_datewise.index[0])\n",
        "india_datewise[\"Days Since\"]=india_datewise[\"Days Since\"].dt.days"
      ],
      "execution_count": null,
      "outputs": []
    },
    {
      "cell_type": "code",
      "metadata": {
        "execution": {
          "iopub.execute_input": "2021-11-30T10:47:58.568575Z",
          "iopub.status.busy": "2021-11-30T10:47:58.568247Z",
          "iopub.status.idle": "2021-11-30T10:47:58.607810Z",
          "shell.execute_reply": "2021-11-30T10:47:58.607192Z",
          "shell.execute_reply.started": "2021-11-30T10:47:58.568538Z"
        },
        "id": "MHhznQ66hOcm"
      },
      "source": [
        "No_Lockdown=covid_india[covid_india[\"ObservationDate\"]<pd.to_datetime(\"2020-03-21\")]\n",
        "Lockdown_1=covid_india[(covid_india[\"ObservationDate\"]>=pd.to_datetime(\"2020-03-21\"))&(covid_india[\"ObservationDate\"]<pd.to_datetime(\"2020-04-15\"))]\n",
        "Lockdown_2=covid_india[(covid_india[\"ObservationDate\"]>=pd.to_datetime(\"2020-04-15\"))&(covid_india[\"ObservationDate\"]<pd.to_datetime(\"2020-05-04\"))]\n",
        "Lockdown_3=covid_india[(covid_india[\"ObservationDate\"]>=pd.to_datetime(\"2020-05-04\"))&(covid_india[\"ObservationDate\"]<pd.to_datetime(\"2020-05-19\"))]\n",
        "Lockdown_4=covid_india[(covid_india[\"ObservationDate\"]>=pd.to_datetime(\"2020-05-19\"))&(covid_india[\"ObservationDate\"]<=pd.to_datetime(\"2020-05-31\"))]\n",
        "Unlock_1=covid_india[(covid_india[\"ObservationDate\"]>=pd.to_datetime(\"2020-06-01\"))&(covid_india[\"ObservationDate\"]<=pd.to_datetime(\"2020-06-30\"))]\n",
        "Unlock_2=covid_india[(covid_india[\"ObservationDate\"]>=pd.to_datetime(\"2020-07-01\"))]\n",
        "\n",
        "No_Lockdown_datewise=No_Lockdown.groupby([\"ObservationDate\"]).agg({\"Confirmed\":'sum',\"Recovered\":'sum',\"Deaths\":'sum'})\n",
        "Lockdown_1_datewise=Lockdown_1.groupby([\"ObservationDate\"]).agg({\"Confirmed\":'sum',\"Recovered\":'sum',\"Deaths\":'sum'})\n",
        "Lockdown_2_datewise=Lockdown_2.groupby([\"ObservationDate\"]).agg({\"Confirmed\":'sum',\"Recovered\":'sum',\"Deaths\":'sum'})\n",
        "Lockdown_3_datewise=Lockdown_3.groupby([\"ObservationDate\"]).agg({\"Confirmed\":'sum',\"Recovered\":'sum',\"Deaths\":'sum'})\n",
        "Lockdown_4_datewise=Lockdown_4.groupby([\"ObservationDate\"]).agg({\"Confirmed\":'sum',\"Recovered\":'sum',\"Deaths\":'sum'})\n",
        "Unlock_1_datewise=Unlock_1.groupby([\"ObservationDate\"]).agg({\"Confirmed\":'sum',\"Recovered\":'sum',\"Deaths\":'sum'})\n",
        "Unlock_2_datewise=Unlock_2.groupby([\"ObservationDate\"]).agg({\"Confirmed\":'sum',\"Recovered\":'sum',\"Deaths\":'sum'})"
      ],
      "execution_count": null,
      "outputs": []
    },
    {
      "cell_type": "code",
      "metadata": {
        "execution": {
          "iopub.execute_input": "2021-11-30T10:48:06.764475Z",
          "iopub.status.busy": "2021-11-30T10:48:06.763757Z",
          "iopub.status.idle": "2021-11-30T10:48:06.964722Z",
          "shell.execute_reply": "2021-11-30T10:48:06.963618Z",
          "shell.execute_reply.started": "2021-11-30T10:48:06.764434Z"
        },
        "id": "RIc34dVGhOcm"
      },
      "source": [
        "covid[\"ObservationDate\"]=pd.to_datetime(covid[\"ObservationDate\"])\n",
        "grouped_country=covid.groupby([\"Country/Region\",\"ObservationDate\"]).agg({\"Confirmed\":'sum',\"Recovered\":'sum',\"Deaths\":'sum'})"
      ],
      "execution_count": null,
      "outputs": []
    },
    {
      "cell_type": "code",
      "metadata": {
        "execution": {
          "iopub.execute_input": "2021-11-30T10:48:14.731979Z",
          "iopub.status.busy": "2021-11-30T10:48:14.731674Z",
          "iopub.status.idle": "2021-11-30T10:48:14.745346Z",
          "shell.execute_reply": "2021-11-30T10:48:14.744506Z",
          "shell.execute_reply.started": "2021-11-30T10:48:14.731945Z"
        },
        "id": "elxEcKBHhOcn"
      },
      "source": [
        "grouped_country[\"Active Cases\"]=grouped_country[\"Confirmed\"]-grouped_country[\"Recovered\"]-grouped_country[\"Deaths\"]\n",
        "grouped_country[\"log_confirmed\"]=np.log(grouped_country[\"Confirmed\"])\n",
        "grouped_country[\"log_active\"]=np.log(grouped_country[\"Active Cases\"])"
      ],
      "execution_count": null,
      "outputs": []
    },
    {
      "cell_type": "markdown",
      "metadata": {
        "id": "hd6nxkDqhOcn"
      },
      "source": [
        "Polynomial regression"
      ]
    },
    {
      "cell_type": "code",
      "metadata": {
        "execution": {
          "iopub.execute_input": "2021-11-30T10:48:16.745167Z",
          "iopub.status.busy": "2021-11-30T10:48:16.744850Z",
          "iopub.status.idle": "2021-11-30T10:48:16.750325Z",
          "shell.execute_reply": "2021-11-30T10:48:16.749516Z",
          "shell.execute_reply.started": "2021-11-30T10:48:16.745133Z"
        },
        "id": "ifUygclkhOco"
      },
      "source": [
        "train_ml=india_datewise.iloc[:int(india_datewise.shape[0]*0.95)]\n",
        "valid_ml=india_datewise.iloc[int(india_datewise.shape[0]*0.95):]\n",
        "model_scores=[]"
      ],
      "execution_count": null,
      "outputs": []
    },
    {
      "cell_type": "code",
      "metadata": {
        "execution": {
          "iopub.execute_input": "2021-11-30T10:48:17.077007Z",
          "iopub.status.busy": "2021-11-30T10:48:17.076707Z",
          "iopub.status.idle": "2021-11-30T10:48:17.082043Z",
          "shell.execute_reply": "2021-11-30T10:48:17.081059Z",
          "shell.execute_reply.started": "2021-11-30T10:48:17.076977Z"
        },
        "id": "p8WwcYrWhOco"
      },
      "source": [
        "poly = PolynomialFeatures(degree = 6) "
      ],
      "execution_count": null,
      "outputs": []
    },
    {
      "cell_type": "code",
      "metadata": {
        "execution": {
          "iopub.execute_input": "2021-11-30T10:48:17.723344Z",
          "iopub.status.busy": "2021-11-30T10:48:17.723005Z",
          "iopub.status.idle": "2021-11-30T10:48:17.729987Z",
          "shell.execute_reply": "2021-11-30T10:48:17.729291Z",
          "shell.execute_reply.started": "2021-11-30T10:48:17.723309Z"
        },
        "id": "ojHWnfCUhOcp"
      },
      "source": [
        "train_poly=poly.fit_transform(np.array(train_ml[\"Days Since\"]).reshape(-1,1))\n",
        "valid_poly=poly.fit_transform(np.array(valid_ml[\"Days Since\"]).reshape(-1,1))\n",
        "y=train_ml[\"Confirmed\"]"
      ],
      "execution_count": null,
      "outputs": []
    },
    {
      "cell_type": "code",
      "metadata": {
        "execution": {
          "iopub.execute_input": "2021-11-30T10:48:18.466915Z",
          "iopub.status.busy": "2021-11-30T10:48:18.466569Z",
          "iopub.status.idle": "2021-11-30T10:48:18.475882Z",
          "shell.execute_reply": "2021-11-30T10:48:18.475131Z",
          "shell.execute_reply.started": "2021-11-30T10:48:18.466880Z"
        },
        "colab": {
          "base_uri": "https://localhost:8080/"
        },
        "id": "8O7VdqhHhOcp",
        "outputId": "2812ea56-ad0e-4dfa-9372-5ed7ae7db446"
      },
      "source": [
        "linreg=LinearRegression(normalize=True)\n",
        "linreg.fit(train_poly,y)"
      ],
      "execution_count": null,
      "outputs": [
        {
          "output_type": "execute_result",
          "data": {
            "text/plain": [
              "LinearRegression(normalize=True)"
            ]
          },
          "metadata": {},
          "execution_count": 19
        }
      ]
    },
    {
      "cell_type": "code",
      "metadata": {
        "execution": {
          "iopub.execute_input": "2021-11-30T10:48:19.019981Z",
          "iopub.status.busy": "2021-11-30T10:48:19.019551Z",
          "iopub.status.idle": "2021-11-30T10:48:19.026373Z",
          "shell.execute_reply": "2021-11-30T10:48:19.025274Z",
          "shell.execute_reply.started": "2021-11-30T10:48:19.019949Z"
        },
        "colab": {
          "base_uri": "https://localhost:8080/"
        },
        "id": "ez5rEnLzhOcq",
        "outputId": "4224f761-45ba-4928-e2b1-44d11170458a"
      },
      "source": [
        "prediction_poly=linreg.predict(valid_poly)\n",
        "rmse_poly=np.sqrt(mean_squared_error(valid_ml[\"Confirmed\"],prediction_poly))\n",
        "model_scores.append(rmse_poly)\n",
        "print(\"Root Mean Squared Error for Polynomial Regression: \",rmse_poly)"
      ],
      "execution_count": null,
      "outputs": [
        {
          "output_type": "stream",
          "name": "stdout",
          "text": [
            "Root Mean Squared Error for Polynomial Regression:  2280842.7581361886\n"
          ]
        }
      ]
    },
    {
      "cell_type": "code",
      "metadata": {
        "execution": {
          "iopub.execute_input": "2021-11-30T10:48:20.738927Z",
          "iopub.status.busy": "2021-11-30T10:48:20.738633Z",
          "iopub.status.idle": "2021-11-30T10:48:20.999360Z",
          "shell.execute_reply": "2021-11-30T10:48:20.998479Z",
          "shell.execute_reply.started": "2021-11-30T10:48:20.738892Z"
        },
        "colab": {
          "base_uri": "https://localhost:8080/",
          "height": 559
        },
        "id": "Bl9AtPClhOcq",
        "outputId": "d7e956a1-7a28-448a-f411-43d26767f3a5"
      },
      "source": [
        "comp_data=poly.fit_transform(np.array(india_datewise[\"Days Since\"]).reshape(-1,1))\n",
        "plt.figure(figsize=(11,6))\n",
        "predictions_poly=linreg.predict(comp_data)\n",
        "fig=go.Figure()\n",
        "fig.add_trace(go.Scatter(x=india_datewise.index, y=india_datewise[\"Confirmed\"],\n",
        "                    mode='lines+markers',name=\"Train Data for Confirmed Cases\"))\n",
        "fig.add_trace(go.Scatter(x=india_datewise.index, y=predictions_poly,\n",
        "                    mode='lines',name=\"Polynomial Regression Best Fit\",\n",
        "                    line=dict(color='black', dash='dot')))\n",
        "fig.update_layout(title=\"Confirmed Cases Polynomial Regression Prediction\",\n",
        "                 xaxis_title=\"Date\",yaxis_title=\"Confirmed Cases\",\n",
        "                 legend=dict(x=0,y=1,traceorder=\"normal\"))\n",
        "fig.show()"
      ],
      "execution_count": null,
      "outputs": [
        {
          "output_type": "display_data",
          "data": {
            "text/html": [
              "<html>\n",
              "<head><meta charset=\"utf-8\" /></head>\n",
              "<body>\n",
              "    <div>\n",
              "            <script src=\"https://cdnjs.cloudflare.com/ajax/libs/mathjax/2.7.5/MathJax.js?config=TeX-AMS-MML_SVG\"></script><script type=\"text/javascript\">if (window.MathJax) {MathJax.Hub.Config({SVG: {font: \"STIX-Web\"}});}</script>\n",
              "                <script type=\"text/javascript\">window.PlotlyConfig = {MathJaxConfig: 'local'};</script>\n",
              "        <script src=\"https://cdn.plot.ly/plotly-latest.min.js\"></script>    \n",
              "            <div id=\"99e0f32e-9017-4682-9e66-cd6885a4f294\" class=\"plotly-graph-div\" style=\"height:525px; width:100%;\"></div>\n",
              "            <script type=\"text/javascript\">\n",
              "                \n",
              "                    window.PLOTLYENV=window.PLOTLYENV || {};\n",
              "                    \n",
              "                if (document.getElementById(\"99e0f32e-9017-4682-9e66-cd6885a4f294\")) {\n",
              "                    Plotly.newPlot(\n",
              "                        '99e0f32e-9017-4682-9e66-cd6885a4f294',\n",
              "                        [{\"mode\": \"lines+markers\", \"name\": \"Train Data for Confirmed Cases\", \"type\": \"scatter\", \"x\": [\"2020-01-30T00:00:00\", \"2020-01-31T00:00:00\", \"2020-02-01T00:00:00\", \"2020-02-02T00:00:00\", \"2020-02-03T00:00:00\", \"2020-02-04T00:00:00\", \"2020-02-05T00:00:00\", \"2020-02-06T00:00:00\", \"2020-02-07T00:00:00\", \"2020-02-08T00:00:00\", \"2020-02-09T00:00:00\", \"2020-02-10T00:00:00\", \"2020-02-11T00:00:00\", \"2020-02-12T00:00:00\", \"2020-02-13T00:00:00\", \"2020-02-14T00:00:00\", \"2020-02-15T00:00:00\", \"2020-02-16T00:00:00\", \"2020-02-17T00:00:00\", \"2020-02-18T00:00:00\", \"2020-02-19T00:00:00\", \"2020-02-20T00:00:00\", \"2020-02-21T00:00:00\", \"2020-02-22T00:00:00\", \"2020-02-23T00:00:00\", \"2020-02-24T00:00:00\", \"2020-02-25T00:00:00\", \"2020-02-26T00:00:00\", \"2020-02-27T00:00:00\", \"2020-02-28T00:00:00\", \"2020-02-29T00:00:00\", \"2020-03-01T00:00:00\", \"2020-03-02T00:00:00\", \"2020-03-03T00:00:00\", \"2020-03-04T00:00:00\", \"2020-03-05T00:00:00\", \"2020-03-06T00:00:00\", \"2020-03-07T00:00:00\", \"2020-03-08T00:00:00\", \"2020-03-09T00:00:00\", \"2020-03-10T00:00:00\", \"2020-03-11T00:00:00\", \"2020-03-12T00:00:00\", \"2020-03-13T00:00:00\", \"2020-03-14T00:00:00\", \"2020-03-15T00:00:00\", \"2020-03-16T00:00:00\", \"2020-03-17T00:00:00\", \"2020-03-18T00:00:00\", \"2020-03-19T00:00:00\", \"2020-03-20T00:00:00\", \"2020-03-21T00:00:00\", \"2020-03-22T00:00:00\", \"2020-03-23T00:00:00\", \"2020-03-24T00:00:00\", \"2020-03-25T00:00:00\", \"2020-03-26T00:00:00\", \"2020-03-27T00:00:00\", \"2020-03-28T00:00:00\", \"2020-03-29T00:00:00\", \"2020-03-30T00:00:00\", \"2020-03-31T00:00:00\", \"2020-04-01T00:00:00\", \"2020-04-02T00:00:00\", \"2020-04-03T00:00:00\", \"2020-04-04T00:00:00\", \"2020-04-05T00:00:00\", \"2020-04-06T00:00:00\", \"2020-04-07T00:00:00\", \"2020-04-08T00:00:00\", \"2020-04-09T00:00:00\", \"2020-04-10T00:00:00\", \"2020-04-11T00:00:00\", \"2020-04-12T00:00:00\", \"2020-04-13T00:00:00\", \"2020-04-14T00:00:00\", \"2020-04-15T00:00:00\", \"2020-04-16T00:00:00\", \"2020-04-17T00:00:00\", \"2020-04-18T00:00:00\", \"2020-04-19T00:00:00\", \"2020-04-20T00:00:00\", \"2020-04-21T00:00:00\", \"2020-04-22T00:00:00\", \"2020-04-23T00:00:00\", \"2020-04-24T00:00:00\", \"2020-04-25T00:00:00\", \"2020-04-26T00:00:00\", \"2020-04-27T00:00:00\", \"2020-04-28T00:00:00\", \"2020-04-29T00:00:00\", \"2020-04-30T00:00:00\", \"2020-05-01T00:00:00\", \"2020-05-02T00:00:00\", \"2020-05-03T00:00:00\", \"2020-05-04T00:00:00\", \"2020-05-05T00:00:00\", \"2020-05-06T00:00:00\", \"2020-05-07T00:00:00\", \"2020-05-08T00:00:00\", \"2020-05-09T00:00:00\", \"2020-05-10T00:00:00\", \"2020-05-11T00:00:00\", \"2020-05-12T00:00:00\", \"2020-05-13T00:00:00\", \"2020-05-14T00:00:00\", \"2020-05-15T00:00:00\", \"2020-05-16T00:00:00\", \"2020-05-17T00:00:00\", \"2020-05-18T00:00:00\", \"2020-05-19T00:00:00\", \"2020-05-20T00:00:00\", \"2020-05-21T00:00:00\", \"2020-05-22T00:00:00\", \"2020-05-23T00:00:00\", \"2020-05-24T00:00:00\", \"2020-05-25T00:00:00\", \"2020-05-26T00:00:00\", \"2020-05-27T00:00:00\", \"2020-05-28T00:00:00\", \"2020-05-29T00:00:00\", \"2020-05-30T00:00:00\", \"2020-05-31T00:00:00\", \"2020-06-01T00:00:00\", \"2020-06-02T00:00:00\", \"2020-06-03T00:00:00\", \"2020-06-04T00:00:00\", \"2020-06-05T00:00:00\", \"2020-06-06T00:00:00\", \"2020-06-07T00:00:00\", \"2020-06-08T00:00:00\", \"2020-06-09T00:00:00\", \"2020-06-10T00:00:00\", \"2020-06-11T00:00:00\", \"2020-06-12T00:00:00\", \"2020-06-13T00:00:00\", \"2020-06-14T00:00:00\", \"2020-06-15T00:00:00\", \"2020-06-16T00:00:00\", \"2020-06-17T00:00:00\", \"2020-06-18T00:00:00\", \"2020-06-19T00:00:00\", \"2020-06-20T00:00:00\", \"2020-06-21T00:00:00\", \"2020-06-22T00:00:00\", \"2020-06-23T00:00:00\", \"2020-06-24T00:00:00\", \"2020-06-25T00:00:00\", \"2020-06-26T00:00:00\", \"2020-06-27T00:00:00\", \"2020-06-28T00:00:00\", \"2020-06-29T00:00:00\", \"2020-06-30T00:00:00\", \"2020-07-01T00:00:00\", \"2020-07-02T00:00:00\", \"2020-07-03T00:00:00\", \"2020-07-04T00:00:00\", \"2020-07-05T00:00:00\", \"2020-07-06T00:00:00\", \"2020-07-07T00:00:00\", \"2020-07-08T00:00:00\", \"2020-07-09T00:00:00\", \"2020-07-10T00:00:00\", \"2020-07-11T00:00:00\", \"2020-07-12T00:00:00\", \"2020-07-13T00:00:00\", \"2020-07-14T00:00:00\", \"2020-07-15T00:00:00\", \"2020-07-16T00:00:00\", \"2020-07-17T00:00:00\", \"2020-07-18T00:00:00\", \"2020-07-19T00:00:00\", \"2020-07-20T00:00:00\", \"2020-07-21T00:00:00\", \"2020-07-22T00:00:00\", \"2020-07-23T00:00:00\", \"2020-07-24T00:00:00\", \"2020-07-25T00:00:00\", \"2020-07-26T00:00:00\", \"2020-07-27T00:00:00\", \"2020-07-28T00:00:00\", \"2020-07-29T00:00:00\", \"2020-07-30T00:00:00\", \"2020-07-31T00:00:00\", \"2020-08-01T00:00:00\", \"2020-08-02T00:00:00\", \"2020-08-03T00:00:00\", \"2020-08-04T00:00:00\", \"2020-08-05T00:00:00\", \"2020-08-06T00:00:00\", \"2020-08-07T00:00:00\", \"2020-08-08T00:00:00\", \"2020-08-09T00:00:00\", \"2020-08-10T00:00:00\", \"2020-08-11T00:00:00\", \"2020-08-12T00:00:00\", \"2020-08-13T00:00:00\", \"2020-08-14T00:00:00\", \"2020-08-15T00:00:00\", \"2020-08-16T00:00:00\", \"2020-08-17T00:00:00\", \"2020-08-18T00:00:00\", \"2020-08-19T00:00:00\", \"2020-08-20T00:00:00\", \"2020-08-21T00:00:00\", \"2020-08-22T00:00:00\", \"2020-08-23T00:00:00\", \"2020-08-24T00:00:00\", \"2020-08-25T00:00:00\", \"2020-08-26T00:00:00\", \"2020-08-27T00:00:00\", \"2020-08-28T00:00:00\", \"2020-08-29T00:00:00\", \"2020-08-30T00:00:00\", \"2020-08-31T00:00:00\", \"2020-09-01T00:00:00\", \"2020-09-02T00:00:00\", \"2020-09-03T00:00:00\", \"2020-09-04T00:00:00\", \"2020-09-05T00:00:00\", \"2020-09-06T00:00:00\", \"2020-09-07T00:00:00\", \"2020-09-08T00:00:00\", \"2020-09-09T00:00:00\", \"2020-09-10T00:00:00\", \"2020-09-11T00:00:00\", \"2020-09-12T00:00:00\", \"2020-09-13T00:00:00\", \"2020-09-14T00:00:00\", \"2020-09-15T00:00:00\", \"2020-09-16T00:00:00\", \"2020-09-17T00:00:00\", \"2020-09-18T00:00:00\", \"2020-09-19T00:00:00\", \"2020-09-20T00:00:00\", \"2020-09-21T00:00:00\", \"2020-09-22T00:00:00\", \"2020-09-23T00:00:00\", \"2020-09-24T00:00:00\", \"2020-09-25T00:00:00\", \"2020-09-26T00:00:00\", \"2020-09-27T00:00:00\", \"2020-09-28T00:00:00\", \"2020-09-29T00:00:00\", \"2020-09-30T00:00:00\", \"2020-10-01T00:00:00\", \"2020-10-02T00:00:00\", \"2020-10-03T00:00:00\", \"2020-10-04T00:00:00\", \"2020-10-05T00:00:00\", \"2020-10-06T00:00:00\", \"2020-10-07T00:00:00\", \"2020-10-08T00:00:00\", \"2020-10-09T00:00:00\", \"2020-10-10T00:00:00\", \"2020-10-11T00:00:00\", \"2020-10-12T00:00:00\", \"2020-10-13T00:00:00\", \"2020-10-14T00:00:00\", \"2020-10-15T00:00:00\", \"2020-10-16T00:00:00\", \"2020-10-17T00:00:00\", \"2020-10-18T00:00:00\", \"2020-10-19T00:00:00\", \"2020-10-20T00:00:00\", \"2020-10-21T00:00:00\", \"2020-10-22T00:00:00\", \"2020-10-23T00:00:00\", \"2020-10-24T00:00:00\", \"2020-10-25T00:00:00\", \"2020-10-26T00:00:00\", \"2020-10-27T00:00:00\", \"2020-10-28T00:00:00\", \"2020-10-29T00:00:00\", \"2020-10-30T00:00:00\", \"2020-10-31T00:00:00\", \"2020-11-01T00:00:00\", \"2020-11-02T00:00:00\", \"2020-11-03T00:00:00\", \"2020-11-04T00:00:00\", \"2020-11-05T00:00:00\", \"2020-11-06T00:00:00\", \"2020-11-07T00:00:00\", \"2020-11-08T00:00:00\", \"2020-11-09T00:00:00\", \"2020-11-10T00:00:00\", \"2020-11-11T00:00:00\", \"2020-11-12T00:00:00\", \"2020-11-13T00:00:00\", \"2020-11-14T00:00:00\", \"2020-11-15T00:00:00\", \"2020-11-16T00:00:00\", \"2020-11-17T00:00:00\", \"2020-11-18T00:00:00\", \"2020-11-19T00:00:00\", \"2020-11-20T00:00:00\", \"2020-11-21T00:00:00\", \"2020-11-22T00:00:00\", \"2020-11-23T00:00:00\", \"2020-11-24T00:00:00\", \"2020-11-25T00:00:00\", \"2020-11-26T00:00:00\", \"2020-11-27T00:00:00\", \"2020-11-28T00:00:00\", \"2020-11-29T00:00:00\", \"2020-11-30T00:00:00\", \"2020-12-01T00:00:00\", \"2020-12-02T00:00:00\", \"2020-12-03T00:00:00\", \"2020-12-04T00:00:00\", \"2020-12-05T00:00:00\", \"2020-12-06T00:00:00\", \"2020-12-07T00:00:00\", \"2020-12-08T00:00:00\", \"2020-12-09T00:00:00\", \"2020-12-10T00:00:00\", \"2020-12-11T00:00:00\", \"2020-12-12T00:00:00\", \"2020-12-13T00:00:00\", \"2020-12-14T00:00:00\", \"2020-12-15T00:00:00\", \"2020-12-16T00:00:00\", \"2020-12-17T00:00:00\", \"2020-12-18T00:00:00\", \"2020-12-19T00:00:00\", \"2020-12-20T00:00:00\", \"2020-12-21T00:00:00\", \"2020-12-22T00:00:00\", \"2020-12-23T00:00:00\", \"2020-12-24T00:00:00\", \"2020-12-25T00:00:00\", \"2020-12-26T00:00:00\", \"2020-12-27T00:00:00\", \"2020-12-28T00:00:00\", \"2020-12-29T00:00:00\", \"2020-12-30T00:00:00\", \"2020-12-31T00:00:00\", \"2021-01-01T00:00:00\", \"2021-01-02T00:00:00\", \"2021-01-03T00:00:00\", \"2021-01-04T00:00:00\", \"2021-01-05T00:00:00\", \"2021-01-06T00:00:00\", \"2021-01-07T00:00:00\", \"2021-01-08T00:00:00\", \"2021-01-09T00:00:00\", \"2021-01-10T00:00:00\", \"2021-01-11T00:00:00\", \"2021-01-12T00:00:00\", \"2021-01-13T00:00:00\", \"2021-01-14T00:00:00\", \"2021-01-15T00:00:00\", \"2021-01-16T00:00:00\", \"2021-01-17T00:00:00\", \"2021-01-18T00:00:00\", \"2021-01-19T00:00:00\", \"2021-01-20T00:00:00\", \"2021-01-21T00:00:00\", \"2021-01-22T00:00:00\", \"2021-01-23T00:00:00\", \"2021-01-24T00:00:00\", \"2021-01-25T00:00:00\", \"2021-01-26T00:00:00\", \"2021-01-27T00:00:00\", \"2021-01-28T00:00:00\", \"2021-01-29T00:00:00\", \"2021-01-30T00:00:00\", \"2021-01-31T00:00:00\", \"2021-02-01T00:00:00\", \"2021-02-02T00:00:00\", \"2021-02-03T00:00:00\", \"2021-02-04T00:00:00\", \"2021-02-05T00:00:00\", \"2021-02-06T00:00:00\", \"2021-02-07T00:00:00\", \"2021-02-08T00:00:00\", \"2021-02-09T00:00:00\", \"2021-02-10T00:00:00\", \"2021-02-11T00:00:00\", \"2021-02-12T00:00:00\", \"2021-02-13T00:00:00\", \"2021-02-14T00:00:00\", \"2021-02-15T00:00:00\", \"2021-02-16T00:00:00\", \"2021-02-17T00:00:00\", \"2021-02-18T00:00:00\", \"2021-02-19T00:00:00\", \"2021-02-20T00:00:00\", \"2021-02-21T00:00:00\", \"2021-02-22T00:00:00\", \"2021-02-23T00:00:00\", \"2021-02-24T00:00:00\", \"2021-02-25T00:00:00\", \"2021-02-26T00:00:00\", \"2021-02-27T00:00:00\", \"2021-02-28T00:00:00\", \"2021-03-01T00:00:00\", \"2021-03-02T00:00:00\", \"2021-03-03T00:00:00\", \"2021-03-04T00:00:00\", \"2021-03-05T00:00:00\", \"2021-03-06T00:00:00\", \"2021-03-07T00:00:00\", \"2021-03-08T00:00:00\", \"2021-03-09T00:00:00\", \"2021-03-10T00:00:00\", \"2021-03-11T00:00:00\", \"2021-03-12T00:00:00\", \"2021-03-13T00:00:00\", \"2021-03-14T00:00:00\", \"2021-03-15T00:00:00\", \"2021-03-16T00:00:00\", \"2021-03-17T00:00:00\", \"2021-03-18T00:00:00\", \"2021-03-19T00:00:00\", \"2021-03-20T00:00:00\", \"2021-03-21T00:00:00\", \"2021-03-22T00:00:00\", \"2021-03-23T00:00:00\", \"2021-03-24T00:00:00\", \"2021-03-25T00:00:00\", \"2021-03-26T00:00:00\", \"2021-03-27T00:00:00\", \"2021-03-28T00:00:00\", \"2021-03-29T00:00:00\", \"2021-03-30T00:00:00\", \"2021-03-31T00:00:00\", \"2021-04-01T00:00:00\", \"2021-04-02T00:00:00\", \"2021-04-03T00:00:00\", \"2021-04-04T00:00:00\", \"2021-04-05T00:00:00\", \"2021-04-06T00:00:00\", \"2021-04-07T00:00:00\", \"2021-04-08T00:00:00\", \"2021-04-09T00:00:00\", \"2021-04-10T00:00:00\", \"2021-04-11T00:00:00\", \"2021-04-12T00:00:00\", \"2021-04-13T00:00:00\", \"2021-04-14T00:00:00\", \"2021-04-15T00:00:00\", \"2021-04-16T00:00:00\", \"2021-04-17T00:00:00\", \"2021-04-18T00:00:00\", \"2021-04-19T00:00:00\", \"2021-04-20T00:00:00\", \"2021-04-21T00:00:00\", \"2021-04-22T00:00:00\", \"2021-04-23T00:00:00\", \"2021-04-24T00:00:00\", \"2021-04-25T00:00:00\", \"2021-04-26T00:00:00\", \"2021-04-27T00:00:00\", \"2021-04-28T00:00:00\", \"2021-04-29T00:00:00\", \"2021-04-30T00:00:00\", \"2021-05-01T00:00:00\", \"2021-05-02T00:00:00\", \"2021-05-03T00:00:00\", \"2021-05-04T00:00:00\", \"2021-05-05T00:00:00\", \"2021-05-06T00:00:00\", \"2021-05-07T00:00:00\", \"2021-05-08T00:00:00\", \"2021-05-09T00:00:00\", \"2021-05-10T00:00:00\", \"2021-05-11T00:00:00\", \"2021-05-12T00:00:00\", \"2021-05-13T00:00:00\", \"2021-05-14T00:00:00\", \"2021-05-15T00:00:00\", \"2021-05-16T00:00:00\", \"2021-05-17T00:00:00\", \"2021-05-18T00:00:00\", \"2021-05-19T00:00:00\", \"2021-05-20T00:00:00\", \"2021-05-21T00:00:00\", \"2021-05-22T00:00:00\", \"2021-05-23T00:00:00\", \"2021-05-24T00:00:00\", \"2021-05-25T00:00:00\", \"2021-05-26T00:00:00\", \"2021-05-27T00:00:00\", \"2021-05-28T00:00:00\", \"2021-05-29T00:00:00\"], \"y\": [1.0, 1.0, 1.0, 2.0, 3.0, 3.0, 3.0, 3.0, 3.0, 3.0, 3.0, 3.0, 3.0, 3.0, 3.0, 3.0, 3.0, 3.0, 3.0, 3.0, 3.0, 3.0, 3.0, 3.0, 3.0, 3.0, 3.0, 3.0, 3.0, 3.0, 3.0, 3.0, 5.0, 5.0, 28.0, 30.0, 31.0, 34.0, 39.0, 43.0, 56.0, 62.0, 73.0, 82.0, 102.0, 113.0, 119.0, 142.0, 156.0, 194.0, 244.0, 330.0, 396.0, 499.0, 536.0, 657.0, 727.0, 887.0, 987.0, 1024.0, 1251.0, 1397.0, 1998.0, 2543.0, 2567.0, 3082.0, 3588.0, 4778.0, 5311.0, 5916.0, 6725.0, 7598.0, 8446.0, 9205.0, 10453.0, 11487.0, 12322.0, 13430.0, 14352.0, 15722.0, 17615.0, 18539.0, 20080.0, 21370.0, 23077.0, 24530.0, 26283.0, 27890.0, 29451.0, 31324.0, 33062.0, 34863.0, 37257.0, 39699.0, 42505.0, 46437.0, 49400.0, 52987.0, 56351.0, 59695.0, 62808.0, 67161.0, 70768.0, 74292.0, 78055.0, 81997.0, 85784.0, 90648.0, 95698.0, 100328.0, 106475.0, 112028.0, 118226.0, 124794.0, 131423.0, 138536.0, 144950.0, 150793.0, 158086.0, 165386.0, 173491.0, 181827.0, 190609.0, 198370.0, 207191.0, 216824.0, 226713.0, 236184.0, 246622.0, 257486.0, 265928.0, 276146.0, 276583.0, 297535.0, 297535.0, 308993.0, 320922.0, 343091.0, 354065.0, 366946.0, 380532.0, 395048.0, 410461.0, 425282.0, 440215.0, 456183.0, 473105.0, 490401.0, 508953.0, 528859.0, 548318.0, 566840.0, 585493.0, 604641.0, 625544.0, 648315.0, 673165.0, 697413.0, 719664.0, 742417.0, 767296.0, 793802.0, 820916.0, 849522.0, 878254.0, 906752.0, 936181.0, 968857.0, 1003832.0, 1039084.0, 1077781.0, 1118206.0, 1155338.0, 1193078.0, 1238798.0, 1288108.0, 1337024.0, 1385635.0, 1435616.0, 1480073.0, 1483156.0, 1581963.0, 1634746.0, 1695988.0, 1750723.0, 1803695.0, 1855745.0, 1908254.0, 1964536.0, 2027074.0, 2088611.0, 2153010.0, 2215074.0, 2268675.0, 2329638.0, 2396637.0, 2461190.0, 2525922.0, 2589952.0, 2647663.0, 2702681.0, 2767253.0, 2836925.0, 2905825.0, 2975701.0, 3044940.0, 3106348.0, 3167323.0, 3224547.0, 3310234.0, 3387500.0, 3463972.0, 3542733.0, 3621245.0, 3691166.0, 3769523.0, 3853406.0, 3936747.0, 4023179.0, 4113811.0, 4204613.0, 4280422.0, 4370128.0, 4465863.0, 4562414.0, 4659984.0, 4754356.0, 4846427.0, 4846427.0, 5020359.0, 5118253.0, 5214677.0, 5308014.0, 5400619.0, 5487580.0, 5562663.0, 5646010.0, 5732518.0, 5818570.0, 5903932.0, 5992532.0, 6074702.0, 6145291.0, 6225763.0, 6312584.0, 6386526.0, 6473544.0, 6549373.0, 6623815.0, 6685082.0, 6757131.0, 6835655.0, 6906151.0, 6979423.0, 7053806.0, 7120538.0, 7175880.0, 7239389.0, 7307097.0, 7370468.0, 7432680.0, 7494551.0, 7550273.0, 7597063.0, 7651107.0, 7706946.0, 7761312.0, 7814682.0, 7864811.0, 7909959.0, 7946429.0, 7990322.0, 8040203.0, 8088851.0, 8137119.0, 8184082.0, 8229313.0, 8267623.0, 8313876.0, 8364086.0, 8411724.0, 8462080.0, 8507754.0, 8553657.0, 8591730.0, 8636011.0, 8683916.0, 8728795.0, 8773479.0, 8814579.0, 8845127.0, 8873541.0, 8912907.0, 8958483.0, 9004365.0, 9050597.0, 9095806.0, 9139865.0, 9177840.0, 9222216.0, 9266705.0, 9309787.0, 9351109.0, 9392919.0, 9431691.0, 9462809.0, 9499413.0, 9534964.0, 9571559.0, 9608211.0, 9644222.0, 9677203.0, 9703770.0, 9735850.0, 9767371.0, 9796744.0, 9826775.0, 9857029.0, 9884100.0, 9906165.0, 9932547.0, 9956557.0, 9979447.0, 10004599.0, 10031223.0, 10055560.0, 10075116.0, 10099066.0, 10123778.0, 10146845.0, 10169118.0, 10187850.0, 10207871.0, 10224303.0, 10244852.0, 10266674.0, 10266674.0, 10286709.0, 10323965.0, 10340469.0, 10356844.0, 10374932.0, 10395278.0, 10413417.0, 10413417.0, 10450284.0, 10466595.0, 10479179.0, 10495147.0, 10512093.0, 10527683.0, 10542841.0, 10557985.0, 10571773.0, 10581823.0, 10595639.0, 10610883.0, 10625428.0, 10639684.0, 10654533.0, 10667736.0, 10676838.0, 10689527.0, 10701193.0, 10720048.0, 10733130.0, 10746174.0, 10757610.0, 10766245.0, 10777284.0, 10790183.0, 10802591.0, 10814304.0, 10826363.0, 10838194.0, 10847304.0, 10858371.0, 10871294.0, 10880603.0, 10892746.0, 10904940.0, 10916589.0, 10925710.0, 10937320.0, 10950201.0, 10963394.0, 10977387.0, 10991651.0, 11005850.0, 11016434.0, 11030176.0, 11046914.0, 11063491.0, 11079979.0, 11096731.0, 11112241.0, 11124527.0, 11139516.0, 11156923.0, 11173761.0, 11192045.0, 11210799.0, 11229398.0, 11244786.0, 11262707.0, 11285561.0, 11308846.0, 11333728.0, 11359048.0, 11385339.0, 11409831.0, 11438734.0, 11474605.0, 11514331.0, 11555284.0, 11599130.0, 11646081.0, 11686796.0, 11734058.0, 11787534.0, 11846652.0, 11908910.0, 11971624.0, 12039644.0, 12095855.0, 12149335.0, 12221665.0, 12303131.0, 12392260.0, 12485509.0, 12589067.0, 12686049.0, 12801785.0, 12928574.0, 13060542.0, 13205926.0, 13358805.0, 13527717.0, 13689453.0, 13873825.0, 14074564.0, 14291917.0, 14526609.0, 14788003.0, 15061805.0, 15320972.0, 15616130.0, 15930774.0, 16263695.0, 16610481.0, 16960172.0, 17313163.0, 17636186.0, 17997113.0, 18376421.0, 18762976.0, 19164969.0, 19557457.0, 19925517.0, 20282833.0, 20664979.0, 21077410.0, 21491598.0, 21892676.0, 22296081.0, 22662575.0, 22992517.0, 23340938.0, 23703665.0, 24046809.0, 24372907.0, 24684077.0, 24965463.0, 25228996.0, 25496330.0, 25772440.0, 26031991.0, 26289290.0, 26530132.0, 26752447.0, 26948874.0, 27157795.0, 27369093.0, 27555457.0, 27729247.0, 27894800.0]}, {\"line\": {\"color\": \"black\", \"dash\": \"dot\"}, \"mode\": \"lines\", \"name\": \"Polynomial Regression Best Fit\", \"type\": \"scatter\", \"x\": [\"2020-01-30T00:00:00\", \"2020-01-31T00:00:00\", \"2020-02-01T00:00:00\", \"2020-02-02T00:00:00\", \"2020-02-03T00:00:00\", \"2020-02-04T00:00:00\", \"2020-02-05T00:00:00\", \"2020-02-06T00:00:00\", \"2020-02-07T00:00:00\", \"2020-02-08T00:00:00\", \"2020-02-09T00:00:00\", \"2020-02-10T00:00:00\", \"2020-02-11T00:00:00\", \"2020-02-12T00:00:00\", \"2020-02-13T00:00:00\", \"2020-02-14T00:00:00\", \"2020-02-15T00:00:00\", \"2020-02-16T00:00:00\", \"2020-02-17T00:00:00\", \"2020-02-18T00:00:00\", \"2020-02-19T00:00:00\", \"2020-02-20T00:00:00\", \"2020-02-21T00:00:00\", \"2020-02-22T00:00:00\", \"2020-02-23T00:00:00\", \"2020-02-24T00:00:00\", \"2020-02-25T00:00:00\", \"2020-02-26T00:00:00\", \"2020-02-27T00:00:00\", \"2020-02-28T00:00:00\", \"2020-02-29T00:00:00\", \"2020-03-01T00:00:00\", \"2020-03-02T00:00:00\", \"2020-03-03T00:00:00\", \"2020-03-04T00:00:00\", \"2020-03-05T00:00:00\", \"2020-03-06T00:00:00\", \"2020-03-07T00:00:00\", \"2020-03-08T00:00:00\", \"2020-03-09T00:00:00\", \"2020-03-10T00:00:00\", \"2020-03-11T00:00:00\", \"2020-03-12T00:00:00\", \"2020-03-13T00:00:00\", \"2020-03-14T00:00:00\", \"2020-03-15T00:00:00\", \"2020-03-16T00:00:00\", \"2020-03-17T00:00:00\", \"2020-03-18T00:00:00\", \"2020-03-19T00:00:00\", \"2020-03-20T00:00:00\", \"2020-03-21T00:00:00\", \"2020-03-22T00:00:00\", \"2020-03-23T00:00:00\", \"2020-03-24T00:00:00\", \"2020-03-25T00:00:00\", \"2020-03-26T00:00:00\", \"2020-03-27T00:00:00\", \"2020-03-28T00:00:00\", \"2020-03-29T00:00:00\", \"2020-03-30T00:00:00\", \"2020-03-31T00:00:00\", \"2020-04-01T00:00:00\", \"2020-04-02T00:00:00\", \"2020-04-03T00:00:00\", \"2020-04-04T00:00:00\", \"2020-04-05T00:00:00\", \"2020-04-06T00:00:00\", \"2020-04-07T00:00:00\", \"2020-04-08T00:00:00\", \"2020-04-09T00:00:00\", \"2020-04-10T00:00:00\", \"2020-04-11T00:00:00\", \"2020-04-12T00:00:00\", \"2020-04-13T00:00:00\", \"2020-04-14T00:00:00\", \"2020-04-15T00:00:00\", \"2020-04-16T00:00:00\", \"2020-04-17T00:00:00\", \"2020-04-18T00:00:00\", \"2020-04-19T00:00:00\", \"2020-04-20T00:00:00\", \"2020-04-21T00:00:00\", \"2020-04-22T00:00:00\", \"2020-04-23T00:00:00\", \"2020-04-24T00:00:00\", \"2020-04-25T00:00:00\", \"2020-04-26T00:00:00\", \"2020-04-27T00:00:00\", \"2020-04-28T00:00:00\", \"2020-04-29T00:00:00\", \"2020-04-30T00:00:00\", \"2020-05-01T00:00:00\", \"2020-05-02T00:00:00\", \"2020-05-03T00:00:00\", \"2020-05-04T00:00:00\", \"2020-05-05T00:00:00\", \"2020-05-06T00:00:00\", \"2020-05-07T00:00:00\", \"2020-05-08T00:00:00\", \"2020-05-09T00:00:00\", \"2020-05-10T00:00:00\", \"2020-05-11T00:00:00\", \"2020-05-12T00:00:00\", \"2020-05-13T00:00:00\", \"2020-05-14T00:00:00\", \"2020-05-15T00:00:00\", \"2020-05-16T00:00:00\", \"2020-05-17T00:00:00\", \"2020-05-18T00:00:00\", \"2020-05-19T00:00:00\", \"2020-05-20T00:00:00\", \"2020-05-21T00:00:00\", \"2020-05-22T00:00:00\", \"2020-05-23T00:00:00\", \"2020-05-24T00:00:00\", \"2020-05-25T00:00:00\", \"2020-05-26T00:00:00\", \"2020-05-27T00:00:00\", \"2020-05-28T00:00:00\", \"2020-05-29T00:00:00\", \"2020-05-30T00:00:00\", \"2020-05-31T00:00:00\", \"2020-06-01T00:00:00\", \"2020-06-02T00:00:00\", \"2020-06-03T00:00:00\", \"2020-06-04T00:00:00\", \"2020-06-05T00:00:00\", \"2020-06-06T00:00:00\", \"2020-06-07T00:00:00\", \"2020-06-08T00:00:00\", \"2020-06-09T00:00:00\", \"2020-06-10T00:00:00\", \"2020-06-11T00:00:00\", \"2020-06-12T00:00:00\", \"2020-06-13T00:00:00\", \"2020-06-14T00:00:00\", \"2020-06-15T00:00:00\", \"2020-06-16T00:00:00\", \"2020-06-17T00:00:00\", \"2020-06-18T00:00:00\", \"2020-06-19T00:00:00\", \"2020-06-20T00:00:00\", \"2020-06-21T00:00:00\", \"2020-06-22T00:00:00\", \"2020-06-23T00:00:00\", \"2020-06-24T00:00:00\", \"2020-06-25T00:00:00\", \"2020-06-26T00:00:00\", \"2020-06-27T00:00:00\", \"2020-06-28T00:00:00\", \"2020-06-29T00:00:00\", \"2020-06-30T00:00:00\", \"2020-07-01T00:00:00\", \"2020-07-02T00:00:00\", \"2020-07-03T00:00:00\", \"2020-07-04T00:00:00\", \"2020-07-05T00:00:00\", \"2020-07-06T00:00:00\", \"2020-07-07T00:00:00\", \"2020-07-08T00:00:00\", \"2020-07-09T00:00:00\", \"2020-07-10T00:00:00\", \"2020-07-11T00:00:00\", \"2020-07-12T00:00:00\", \"2020-07-13T00:00:00\", \"2020-07-14T00:00:00\", \"2020-07-15T00:00:00\", \"2020-07-16T00:00:00\", \"2020-07-17T00:00:00\", \"2020-07-18T00:00:00\", \"2020-07-19T00:00:00\", \"2020-07-20T00:00:00\", \"2020-07-21T00:00:00\", \"2020-07-22T00:00:00\", \"2020-07-23T00:00:00\", \"2020-07-24T00:00:00\", \"2020-07-25T00:00:00\", \"2020-07-26T00:00:00\", \"2020-07-27T00:00:00\", \"2020-07-28T00:00:00\", \"2020-07-29T00:00:00\", \"2020-07-30T00:00:00\", \"2020-07-31T00:00:00\", \"2020-08-01T00:00:00\", \"2020-08-02T00:00:00\", \"2020-08-03T00:00:00\", \"2020-08-04T00:00:00\", \"2020-08-05T00:00:00\", \"2020-08-06T00:00:00\", \"2020-08-07T00:00:00\", \"2020-08-08T00:00:00\", \"2020-08-09T00:00:00\", \"2020-08-10T00:00:00\", \"2020-08-11T00:00:00\", \"2020-08-12T00:00:00\", \"2020-08-13T00:00:00\", \"2020-08-14T00:00:00\", \"2020-08-15T00:00:00\", \"2020-08-16T00:00:00\", \"2020-08-17T00:00:00\", \"2020-08-18T00:00:00\", \"2020-08-19T00:00:00\", \"2020-08-20T00:00:00\", \"2020-08-21T00:00:00\", \"2020-08-22T00:00:00\", \"2020-08-23T00:00:00\", \"2020-08-24T00:00:00\", \"2020-08-25T00:00:00\", \"2020-08-26T00:00:00\", \"2020-08-27T00:00:00\", \"2020-08-28T00:00:00\", \"2020-08-29T00:00:00\", \"2020-08-30T00:00:00\", \"2020-08-31T00:00:00\", \"2020-09-01T00:00:00\", \"2020-09-02T00:00:00\", \"2020-09-03T00:00:00\", \"2020-09-04T00:00:00\", \"2020-09-05T00:00:00\", \"2020-09-06T00:00:00\", \"2020-09-07T00:00:00\", \"2020-09-08T00:00:00\", \"2020-09-09T00:00:00\", \"2020-09-10T00:00:00\", \"2020-09-11T00:00:00\", \"2020-09-12T00:00:00\", \"2020-09-13T00:00:00\", \"2020-09-14T00:00:00\", \"2020-09-15T00:00:00\", \"2020-09-16T00:00:00\", \"2020-09-17T00:00:00\", \"2020-09-18T00:00:00\", \"2020-09-19T00:00:00\", \"2020-09-20T00:00:00\", \"2020-09-21T00:00:00\", \"2020-09-22T00:00:00\", \"2020-09-23T00:00:00\", \"2020-09-24T00:00:00\", \"2020-09-25T00:00:00\", \"2020-09-26T00:00:00\", \"2020-09-27T00:00:00\", \"2020-09-28T00:00:00\", \"2020-09-29T00:00:00\", \"2020-09-30T00:00:00\", \"2020-10-01T00:00:00\", \"2020-10-02T00:00:00\", \"2020-10-03T00:00:00\", \"2020-10-04T00:00:00\", \"2020-10-05T00:00:00\", \"2020-10-06T00:00:00\", \"2020-10-07T00:00:00\", \"2020-10-08T00:00:00\", \"2020-10-09T00:00:00\", \"2020-10-10T00:00:00\", \"2020-10-11T00:00:00\", \"2020-10-12T00:00:00\", \"2020-10-13T00:00:00\", \"2020-10-14T00:00:00\", \"2020-10-15T00:00:00\", \"2020-10-16T00:00:00\", \"2020-10-17T00:00:00\", \"2020-10-18T00:00:00\", \"2020-10-19T00:00:00\", \"2020-10-20T00:00:00\", \"2020-10-21T00:00:00\", \"2020-10-22T00:00:00\", \"2020-10-23T00:00:00\", \"2020-10-24T00:00:00\", \"2020-10-25T00:00:00\", \"2020-10-26T00:00:00\", \"2020-10-27T00:00:00\", \"2020-10-28T00:00:00\", \"2020-10-29T00:00:00\", \"2020-10-30T00:00:00\", \"2020-10-31T00:00:00\", \"2020-11-01T00:00:00\", \"2020-11-02T00:00:00\", \"2020-11-03T00:00:00\", \"2020-11-04T00:00:00\", \"2020-11-05T00:00:00\", \"2020-11-06T00:00:00\", \"2020-11-07T00:00:00\", \"2020-11-08T00:00:00\", \"2020-11-09T00:00:00\", \"2020-11-10T00:00:00\", \"2020-11-11T00:00:00\", \"2020-11-12T00:00:00\", \"2020-11-13T00:00:00\", \"2020-11-14T00:00:00\", \"2020-11-15T00:00:00\", \"2020-11-16T00:00:00\", \"2020-11-17T00:00:00\", \"2020-11-18T00:00:00\", \"2020-11-19T00:00:00\", \"2020-11-20T00:00:00\", \"2020-11-21T00:00:00\", \"2020-11-22T00:00:00\", \"2020-11-23T00:00:00\", \"2020-11-24T00:00:00\", \"2020-11-25T00:00:00\", \"2020-11-26T00:00:00\", \"2020-11-27T00:00:00\", \"2020-11-28T00:00:00\", \"2020-11-29T00:00:00\", \"2020-11-30T00:00:00\", \"2020-12-01T00:00:00\", \"2020-12-02T00:00:00\", \"2020-12-03T00:00:00\", \"2020-12-04T00:00:00\", \"2020-12-05T00:00:00\", \"2020-12-06T00:00:00\", \"2020-12-07T00:00:00\", \"2020-12-08T00:00:00\", \"2020-12-09T00:00:00\", \"2020-12-10T00:00:00\", \"2020-12-11T00:00:00\", \"2020-12-12T00:00:00\", \"2020-12-13T00:00:00\", \"2020-12-14T00:00:00\", \"2020-12-15T00:00:00\", \"2020-12-16T00:00:00\", \"2020-12-17T00:00:00\", \"2020-12-18T00:00:00\", \"2020-12-19T00:00:00\", \"2020-12-20T00:00:00\", \"2020-12-21T00:00:00\", \"2020-12-22T00:00:00\", \"2020-12-23T00:00:00\", \"2020-12-24T00:00:00\", \"2020-12-25T00:00:00\", \"2020-12-26T00:00:00\", \"2020-12-27T00:00:00\", \"2020-12-28T00:00:00\", \"2020-12-29T00:00:00\", \"2020-12-30T00:00:00\", \"2020-12-31T00:00:00\", \"2021-01-01T00:00:00\", \"2021-01-02T00:00:00\", \"2021-01-03T00:00:00\", \"2021-01-04T00:00:00\", \"2021-01-05T00:00:00\", \"2021-01-06T00:00:00\", \"2021-01-07T00:00:00\", \"2021-01-08T00:00:00\", \"2021-01-09T00:00:00\", \"2021-01-10T00:00:00\", \"2021-01-11T00:00:00\", \"2021-01-12T00:00:00\", \"2021-01-13T00:00:00\", \"2021-01-14T00:00:00\", \"2021-01-15T00:00:00\", \"2021-01-16T00:00:00\", \"2021-01-17T00:00:00\", \"2021-01-18T00:00:00\", \"2021-01-19T00:00:00\", \"2021-01-20T00:00:00\", \"2021-01-21T00:00:00\", \"2021-01-22T00:00:00\", \"2021-01-23T00:00:00\", \"2021-01-24T00:00:00\", \"2021-01-25T00:00:00\", \"2021-01-26T00:00:00\", \"2021-01-27T00:00:00\", \"2021-01-28T00:00:00\", \"2021-01-29T00:00:00\", \"2021-01-30T00:00:00\", \"2021-01-31T00:00:00\", \"2021-02-01T00:00:00\", \"2021-02-02T00:00:00\", \"2021-02-03T00:00:00\", \"2021-02-04T00:00:00\", \"2021-02-05T00:00:00\", \"2021-02-06T00:00:00\", \"2021-02-07T00:00:00\", \"2021-02-08T00:00:00\", \"2021-02-09T00:00:00\", \"2021-02-10T00:00:00\", \"2021-02-11T00:00:00\", \"2021-02-12T00:00:00\", \"2021-02-13T00:00:00\", \"2021-02-14T00:00:00\", \"2021-02-15T00:00:00\", \"2021-02-16T00:00:00\", \"2021-02-17T00:00:00\", \"2021-02-18T00:00:00\", \"2021-02-19T00:00:00\", \"2021-02-20T00:00:00\", \"2021-02-21T00:00:00\", \"2021-02-22T00:00:00\", \"2021-02-23T00:00:00\", \"2021-02-24T00:00:00\", \"2021-02-25T00:00:00\", \"2021-02-26T00:00:00\", \"2021-02-27T00:00:00\", \"2021-02-28T00:00:00\", \"2021-03-01T00:00:00\", \"2021-03-02T00:00:00\", \"2021-03-03T00:00:00\", \"2021-03-04T00:00:00\", \"2021-03-05T00:00:00\", \"2021-03-06T00:00:00\", \"2021-03-07T00:00:00\", \"2021-03-08T00:00:00\", \"2021-03-09T00:00:00\", \"2021-03-10T00:00:00\", \"2021-03-11T00:00:00\", \"2021-03-12T00:00:00\", \"2021-03-13T00:00:00\", \"2021-03-14T00:00:00\", \"2021-03-15T00:00:00\", \"2021-03-16T00:00:00\", \"2021-03-17T00:00:00\", \"2021-03-18T00:00:00\", \"2021-03-19T00:00:00\", \"2021-03-20T00:00:00\", \"2021-03-21T00:00:00\", \"2021-03-22T00:00:00\", \"2021-03-23T00:00:00\", \"2021-03-24T00:00:00\", \"2021-03-25T00:00:00\", \"2021-03-26T00:00:00\", \"2021-03-27T00:00:00\", \"2021-03-28T00:00:00\", \"2021-03-29T00:00:00\", \"2021-03-30T00:00:00\", \"2021-03-31T00:00:00\", \"2021-04-01T00:00:00\", \"2021-04-02T00:00:00\", \"2021-04-03T00:00:00\", \"2021-04-04T00:00:00\", \"2021-04-05T00:00:00\", \"2021-04-06T00:00:00\", \"2021-04-07T00:00:00\", \"2021-04-08T00:00:00\", \"2021-04-09T00:00:00\", \"2021-04-10T00:00:00\", \"2021-04-11T00:00:00\", \"2021-04-12T00:00:00\", \"2021-04-13T00:00:00\", \"2021-04-14T00:00:00\", \"2021-04-15T00:00:00\", \"2021-04-16T00:00:00\", \"2021-04-17T00:00:00\", \"2021-04-18T00:00:00\", \"2021-04-19T00:00:00\", \"2021-04-20T00:00:00\", \"2021-04-21T00:00:00\", \"2021-04-22T00:00:00\", \"2021-04-23T00:00:00\", \"2021-04-24T00:00:00\", \"2021-04-25T00:00:00\", \"2021-04-26T00:00:00\", \"2021-04-27T00:00:00\", \"2021-04-28T00:00:00\", \"2021-04-29T00:00:00\", \"2021-04-30T00:00:00\", \"2021-05-01T00:00:00\", \"2021-05-02T00:00:00\", \"2021-05-03T00:00:00\", \"2021-05-04T00:00:00\", \"2021-05-05T00:00:00\", \"2021-05-06T00:00:00\", \"2021-05-07T00:00:00\", \"2021-05-08T00:00:00\", \"2021-05-09T00:00:00\", \"2021-05-10T00:00:00\", \"2021-05-11T00:00:00\", \"2021-05-12T00:00:00\", \"2021-05-13T00:00:00\", \"2021-05-14T00:00:00\", \"2021-05-15T00:00:00\", \"2021-05-16T00:00:00\", \"2021-05-17T00:00:00\", \"2021-05-18T00:00:00\", \"2021-05-19T00:00:00\", \"2021-05-20T00:00:00\", \"2021-05-21T00:00:00\", \"2021-05-22T00:00:00\", \"2021-05-23T00:00:00\", \"2021-05-24T00:00:00\", \"2021-05-25T00:00:00\", \"2021-05-26T00:00:00\", \"2021-05-27T00:00:00\", \"2021-05-28T00:00:00\", \"2021-05-29T00:00:00\"], \"y\": [-103090.7891243808, -96066.63803071956, -89017.38576824455, -81961.5675866257, -74916.94255509804, -67900.50568200085, -60928.49996214636, -54016.42835201841, -47179.06567280083, -40430.47044123557, -33783.99662831066, -27252.30534577796, -20847.376460500673, -14580.520136630555, -8462.388305615197, -2502.986064034645, 3288.317000731826, 8902.775557009198, 14332.257347500738, 19569.23208013171, 24606.760391063843, 29438.482879879622, 34058.60921693698, 38461.90732289417, 42643.69262040488, 46599.8173579835, 50326.66000604062, 53821.11472508876, 57080.58090611847, 60102.95278314431, 62886.609117921354, 65430.402956831706, 67733.65145994135, 69796.12580222733, 71618.04114697463, 73200.0466913442, 74543.2157841101, 75649.03611556767, 76519.39997961163, 77156.59460798447, 77563.29257669492, 77742.54228460649, 77697.75850419709, 77432.71300448751, 76951.52524614133, 76258.65314873427, 75358.88393019434, 74257.32501841159, 72959.39503501856, 71470.81485134095, 69797.59871651774, 67946.04545779293, 65922.72975297619, 63734.49347507418, 61388.43710909248, 58891.91124100718, 56252.50811890687, 53478.05328630499, 50576.597287622135, 47556.40744583873, 44425.95971231838, 41193.93058880023, 37869.18912156264, 34460.78896775702, 30977.960533910897, 27430.103186602762, 23826.777535305184, 20177.697787400335, 16492.724175363663, 12781.85545611917, 9055.221482564928, 5323.075847267173, 1595.7885983269662, -2116.1609725849703, -5802.1914700220805, -9451.626462384826, -13053.701477376278, -16597.57092528371, -20072.31495009386, -23466.946208432666, -26770.416576342424, -29971.623783879797, -33059.41797755216, -36022.608210576, -38849.96886097337, -41530.24597748811, -44052.16355334269, -46404.429727814626, -48575.74291565223, -50554.79786431114, -52330.29163902858, -53890.9295357205, -55225.43092171382, -56322.53500430682, -57171.00652715727, -57759.64139450225, -58077.2722232074, -58112.77382264938, -57855.06860241806, -57293.131907862145, -56415.99728345219, -55212.76166398171, -53672.59049359616, -51784.72277264763, -49538.47603238281, -46923.2512374646, -43928.5376163139, -40543.91741928924, -36759.070604693145, -32563.7794526089, -27947.93310656678, -22901.532043039333, -17414.69246876659, -11477.650645914022, -5080.767145056743, 1785.4689740031026, 9130.436053599231, 16963.375801715534, 25293.38932768721, 34129.43325007148, 43480.31587667018, 53354.69345674757, 63761.06650540419, 74707.77620011754, 86203.00084946677, 98254.75243401807, 110870.87321937177, 124059.03244140744, 137826.72306366637, 152181.25860692468, 167129.77005093452, 182679.2028083261, 198836.3137706956, 215607.66842684057, 232999.63805318903, 251018.3969763862, 269669.91990805324, 288959.979351718, 308894.14308191, 329477.7716954397, 350716.01623482537, 372613.8158839168, 395175.8957356708, 418406.76463210396, 442310.71307640336, 466891.81121722795, 492153.9069051761, 518100.6238214057, 544735.3596784286, 572061.2844931148, 600081.3389317933, 628798.2327275984, 658214.4431699365, 688332.213666141, 719153.552375298, 750680.2309142351, 782913.7831356879, 815855.5039786473, 849506.4483908322, 883867.4303233922, 918939.0217977427, 954721.552044576, 991215.1067150552, 1028419.5271641538, 1066334.409806203, 1104959.1055425685, 1144292.7192615215, 1184334.1094102822, 1225081.8876392134, 1266534.4185182136, 1308689.819325244, 1351545.9599070642, 1395100.4626121037, 1439350.7022955343, 1484293.8063964844, 1529926.6550874356, 1576245.8814958148, 1623247.871997686, 1670928.7665837314, 1719284.4592972435, 1768310.5987444408, 1818002.5886768475, 1868355.5886459127, 1919364.5147297531, 1971024.0403320752, 2023328.5970532931, 2076272.3756337836, 2129849.3269693516, 2184053.163198795, 2238877.3588637486, 2294315.152140554, 2350359.5461444706, 2407003.3103058934, 2464238.9818188734, 2522058.86716168, 2580455.0436896943, 2639419.3613002747, 2698943.4441700056, 2759018.6925639324, 2819636.2847170793, 2880787.1787880957, 2942462.114885088, 3004651.6171635874, 3067345.9959967323, 3130535.350217633, 3194209.569433801, 3258358.3364138864, 3322971.129546508, 3388037.2253712565, 3453545.7011818923, 3519485.4377016947, 3585845.1218309626, 3652613.2494667694, 3719778.1283947974, 3787327.8812533244, 3855250.44856954, 3923533.5918678157, 3992164.8968503103, 4061131.7766496614, 4130421.475153908, 4200021.07040352, 4269917.478060611, 4340097.454950351, 4410547.6026745625, 4481254.371297445, 4552204.063103434, 4623382.836427327, 4694776.709556576, 4766371.564705584, 4838153.152062427, 4910107.093907502, 4982218.888804581, 5054473.915863726, 5126857.439076778, 5199354.611724649, 5271950.480856966, 5344629.99184389, 5417377.992999997, 5490179.240280483, 5563018.402049374, 5635880.063920077, 5708748.7336678915, 5781608.846214976, 5854444.768687133, 5927240.8055431135, 5999981.203775842, 6072650.158185903, 6145231.816727217, 6217710.285924893, 6290069.636365149, 6362293.908257518, 6434367.117069218, 6506273.259231549, 6577996.317918722, 6649520.2688985355, 6720829.086455535, 6791906.749386113, 6862737.247065891, 6933304.585589226, 7003592.793980945, 7073585.930480201, 7143268.088896435, 7212623.40503775, 7281636.063211087, 7350290.302794922, 7418570.424883891, 7486460.7990057655, 7553945.869910415, 7621010.164431121, 7687638.298417915, 7753814.983743127, 7819525.0353792645, 7884753.378548693, 7949485.055945981, 8013705.235031914, 8077399.215400014, 8140552.436215151, 8203150.4837243445, 8265179.09883951, 8326624.184792731, 8387471.814863462, 8447708.240178037, 8507319.89758112, 8566293.4175797, 8624615.632358853, 8682273.583870057, 8739254.531991217, 8795545.96275938, 8851135.59667528, 8906011.397080097, 8960161.578604463, 9013574.61568958, 9066239.251180623, 9118144.504992072, 9169279.682845581, 9219634.385079537, 9269198.515531275, 9317962.290491123, 9365916.247728754, 9413051.255591724, 9459358.52217618, 9504829.604569543, 9549456.418165762, 9593231.246052314, 9636146.748469565, 9678195.972342465, 9719372.360883925, 9759669.763271231, 9799082.4443934, 9837605.094671894, 9875232.83995277, 9911961.25147127, 9947786.355888683, 9982704.64540093, 10016713.087919924, 10049809.137326557, 10081990.743796293, 10113256.364196572, 10143604.972556729, 10173036.070609812, 10201549.698406462, 10229146.445001576, 10255827.459212441, 10281594.460449252, 10306449.749618236, 10330396.220096204, 10353437.36877777, 10375577.307194788, 10396820.77270754, 10417173.139768574, 10436640.431258235, 10455229.329892848, 10472947.189704735, 10489802.047594566, 10505802.634955648, 10520958.389370803, 10535279.466381107, 10548776.75132661, 10561461.871259842, 10573347.206930835, 10584445.904845003, 10594771.889392156, 10604339.875048865, 10613165.378652472, 10621264.731746737, 10628655.093000744, 10635354.460699055, 10641381.68530463, 10646756.482093189, 10651499.443860967, 10655632.053703535, 10659176.697866637, 10662156.678670872, 10664596.22750603, 10666520.517900366, 10667955.678659428, 10668928.807078857, 10669467.982228864, 10669602.278310467, 10669361.778083999, 10668777.586371083, 10667881.84362622, 10666707.739582974, 10665289.526971329, 10663662.53530671, 10661863.184752274, 10659929.0000525, 10657898.624539483, 10655811.83421104, 10653709.551881183, 10651633.86140265, 10649628.021961618, 10647736.48244508, 10646004.895879138, 10644480.133940954, 10643210.301542062, 10642244.751483727, 10641634.09918489, 10641430.237482239, 10641686.35150196, 10642456.933604557, 10643797.798400838, 10645766.097840805, 10648420.336374331, 10651820.386184294, 10656027.502491552, 10661104.338932443, 10667114.963007886, 10674124.871605534, 10682201.006593306, 10691411.77048551, 10701827.042180527, 10713518.192772258, 10726558.101431359, 10741021.17136075, 10756983.345821995, 10774522.124234725, 10793716.578347463, 10814647.368481148, 10837396.759844888, 10862048.638922978, 10888688.529935587, 10917403.611370344, 10948282.732586253, 10981416.430491019, 11016896.946288366, 11054818.242300022, 11095276.018857557, 11138367.731268037, 11184192.60685109, 11232851.662047971, 11284447.719603855, 11339085.425821293, 11396871.267885257, 11457913.591262955, 11522322.61717229, 11590210.460125495, 11661691.145543177, 11736880.627441365, 11815896.806190062, 11898859.546344597, 11985890.694548804, 12077114.097511102, 12172655.620050926, 12272643.163218874, 12377206.68249004, 12486478.206025828, 12600591.853011895, 12719683.85206591, 12843892.559719015, 12973358.478967447, 13108224.277898122, 13248634.808386106, 13394737.124862898, 13546680.503159601, 13704616.459418226, 13868698.769080091, 14039083.485942233, 14215928.96128707, 14399395.863086928, 14589647.19527619, 14786848.317099083, 14991166.96252929, 15202773.259758819, 15421839.750763346, 15648541.410936404, 15883055.668796945, 16125562.425770212, 16376244.076037455, 16635285.526461888, 16902874.216584373, 17179200.1386907, 17464455.85795455, 17758836.53264718, 18062539.934424866, 18375766.468684424, 18698719.194993366, 19031603.847590435, 19374628.855960418, 19728005.36547779, 20091947.258127738, 20466671.173292626, 20852396.52861737, 21249345.540941525, 21657743.247307707, 22077817.52603965, 22509799.117892075, 22953921.647275914, 23410421.64355086, 23879538.562396158, 24361514.807247568, 24856595.750809897, 25365029.75664084, 25887068.20080774, 26422965.493615974, 26972979.101407815, 27537369.56843673, 28116400.538811017, 28710338.778512944, 29319454.197484303, 29944019.87179147, 30584312.065855253, 31240610.25476061, 31913197.146630693, 32602358.705079425, 33308384.17173164]}],\n",
              "                        {\"legend\": {\"traceorder\": \"normal\", \"x\": 0, \"y\": 1}, \"template\": {\"data\": {\"bar\": [{\"error_x\": {\"color\": \"#2a3f5f\"}, \"error_y\": {\"color\": \"#2a3f5f\"}, \"marker\": {\"line\": {\"color\": \"#E5ECF6\", \"width\": 0.5}}, \"type\": \"bar\"}], \"barpolar\": [{\"marker\": {\"line\": {\"color\": \"#E5ECF6\", \"width\": 0.5}}, \"type\": \"barpolar\"}], \"carpet\": [{\"aaxis\": {\"endlinecolor\": \"#2a3f5f\", \"gridcolor\": \"white\", \"linecolor\": \"white\", \"minorgridcolor\": \"white\", \"startlinecolor\": \"#2a3f5f\"}, \"baxis\": {\"endlinecolor\": \"#2a3f5f\", \"gridcolor\": \"white\", \"linecolor\": \"white\", \"minorgridcolor\": \"white\", \"startlinecolor\": \"#2a3f5f\"}, \"type\": \"carpet\"}], \"choropleth\": [{\"colorbar\": {\"outlinewidth\": 0, \"ticks\": \"\"}, \"type\": \"choropleth\"}], \"contour\": [{\"colorbar\": {\"outlinewidth\": 0, \"ticks\": \"\"}, \"colorscale\": [[0.0, \"#0d0887\"], [0.1111111111111111, \"#46039f\"], [0.2222222222222222, \"#7201a8\"], [0.3333333333333333, \"#9c179e\"], [0.4444444444444444, \"#bd3786\"], [0.5555555555555556, \"#d8576b\"], [0.6666666666666666, \"#ed7953\"], [0.7777777777777778, \"#fb9f3a\"], [0.8888888888888888, \"#fdca26\"], [1.0, \"#f0f921\"]], \"type\": \"contour\"}], \"contourcarpet\": [{\"colorbar\": {\"outlinewidth\": 0, \"ticks\": \"\"}, \"type\": \"contourcarpet\"}], \"heatmap\": [{\"colorbar\": {\"outlinewidth\": 0, \"ticks\": \"\"}, \"colorscale\": [[0.0, \"#0d0887\"], [0.1111111111111111, \"#46039f\"], [0.2222222222222222, \"#7201a8\"], [0.3333333333333333, \"#9c179e\"], [0.4444444444444444, \"#bd3786\"], [0.5555555555555556, \"#d8576b\"], [0.6666666666666666, \"#ed7953\"], [0.7777777777777778, \"#fb9f3a\"], [0.8888888888888888, \"#fdca26\"], [1.0, \"#f0f921\"]], \"type\": \"heatmap\"}], \"heatmapgl\": [{\"colorbar\": {\"outlinewidth\": 0, \"ticks\": \"\"}, \"colorscale\": [[0.0, \"#0d0887\"], [0.1111111111111111, \"#46039f\"], [0.2222222222222222, \"#7201a8\"], [0.3333333333333333, \"#9c179e\"], [0.4444444444444444, \"#bd3786\"], [0.5555555555555556, \"#d8576b\"], [0.6666666666666666, \"#ed7953\"], [0.7777777777777778, \"#fb9f3a\"], [0.8888888888888888, \"#fdca26\"], [1.0, \"#f0f921\"]], \"type\": \"heatmapgl\"}], \"histogram\": [{\"marker\": {\"colorbar\": {\"outlinewidth\": 0, \"ticks\": \"\"}}, \"type\": \"histogram\"}], \"histogram2d\": [{\"colorbar\": {\"outlinewidth\": 0, \"ticks\": \"\"}, \"colorscale\": [[0.0, \"#0d0887\"], [0.1111111111111111, \"#46039f\"], [0.2222222222222222, \"#7201a8\"], [0.3333333333333333, \"#9c179e\"], [0.4444444444444444, \"#bd3786\"], [0.5555555555555556, \"#d8576b\"], [0.6666666666666666, \"#ed7953\"], [0.7777777777777778, \"#fb9f3a\"], [0.8888888888888888, \"#fdca26\"], [1.0, \"#f0f921\"]], \"type\": \"histogram2d\"}], \"histogram2dcontour\": [{\"colorbar\": {\"outlinewidth\": 0, \"ticks\": \"\"}, \"colorscale\": [[0.0, \"#0d0887\"], [0.1111111111111111, \"#46039f\"], [0.2222222222222222, \"#7201a8\"], [0.3333333333333333, \"#9c179e\"], [0.4444444444444444, \"#bd3786\"], [0.5555555555555556, \"#d8576b\"], [0.6666666666666666, \"#ed7953\"], [0.7777777777777778, \"#fb9f3a\"], [0.8888888888888888, \"#fdca26\"], [1.0, \"#f0f921\"]], \"type\": \"histogram2dcontour\"}], \"mesh3d\": [{\"colorbar\": {\"outlinewidth\": 0, \"ticks\": \"\"}, \"type\": \"mesh3d\"}], \"parcoords\": [{\"line\": {\"colorbar\": {\"outlinewidth\": 0, \"ticks\": \"\"}}, \"type\": \"parcoords\"}], \"pie\": [{\"automargin\": true, \"type\": \"pie\"}], \"scatter\": [{\"marker\": {\"colorbar\": {\"outlinewidth\": 0, \"ticks\": \"\"}}, \"type\": \"scatter\"}], \"scatter3d\": [{\"line\": {\"colorbar\": {\"outlinewidth\": 0, \"ticks\": \"\"}}, \"marker\": {\"colorbar\": {\"outlinewidth\": 0, \"ticks\": \"\"}}, \"type\": \"scatter3d\"}], \"scattercarpet\": [{\"marker\": {\"colorbar\": {\"outlinewidth\": 0, \"ticks\": \"\"}}, \"type\": \"scattercarpet\"}], \"scattergeo\": [{\"marker\": {\"colorbar\": {\"outlinewidth\": 0, \"ticks\": \"\"}}, \"type\": \"scattergeo\"}], \"scattergl\": [{\"marker\": {\"colorbar\": {\"outlinewidth\": 0, \"ticks\": \"\"}}, \"type\": \"scattergl\"}], \"scattermapbox\": [{\"marker\": {\"colorbar\": {\"outlinewidth\": 0, \"ticks\": \"\"}}, \"type\": \"scattermapbox\"}], \"scatterpolar\": [{\"marker\": {\"colorbar\": {\"outlinewidth\": 0, \"ticks\": \"\"}}, \"type\": \"scatterpolar\"}], \"scatterpolargl\": [{\"marker\": {\"colorbar\": {\"outlinewidth\": 0, \"ticks\": \"\"}}, \"type\": \"scatterpolargl\"}], \"scatterternary\": [{\"marker\": {\"colorbar\": {\"outlinewidth\": 0, \"ticks\": \"\"}}, \"type\": \"scatterternary\"}], \"surface\": [{\"colorbar\": {\"outlinewidth\": 0, \"ticks\": \"\"}, \"colorscale\": [[0.0, \"#0d0887\"], [0.1111111111111111, \"#46039f\"], [0.2222222222222222, \"#7201a8\"], [0.3333333333333333, \"#9c179e\"], [0.4444444444444444, \"#bd3786\"], [0.5555555555555556, \"#d8576b\"], [0.6666666666666666, \"#ed7953\"], [0.7777777777777778, \"#fb9f3a\"], [0.8888888888888888, \"#fdca26\"], [1.0, \"#f0f921\"]], \"type\": \"surface\"}], \"table\": [{\"cells\": {\"fill\": {\"color\": \"#EBF0F8\"}, \"line\": {\"color\": \"white\"}}, \"header\": {\"fill\": {\"color\": \"#C8D4E3\"}, \"line\": {\"color\": \"white\"}}, \"type\": \"table\"}]}, \"layout\": {\"annotationdefaults\": {\"arrowcolor\": \"#2a3f5f\", \"arrowhead\": 0, \"arrowwidth\": 1}, \"coloraxis\": {\"colorbar\": {\"outlinewidth\": 0, \"ticks\": \"\"}}, \"colorscale\": {\"diverging\": [[0, \"#8e0152\"], [0.1, \"#c51b7d\"], [0.2, \"#de77ae\"], [0.3, \"#f1b6da\"], [0.4, \"#fde0ef\"], [0.5, \"#f7f7f7\"], [0.6, \"#e6f5d0\"], [0.7, \"#b8e186\"], [0.8, \"#7fbc41\"], [0.9, \"#4d9221\"], [1, \"#276419\"]], \"sequential\": [[0.0, \"#0d0887\"], [0.1111111111111111, \"#46039f\"], [0.2222222222222222, \"#7201a8\"], [0.3333333333333333, \"#9c179e\"], [0.4444444444444444, \"#bd3786\"], [0.5555555555555556, \"#d8576b\"], [0.6666666666666666, \"#ed7953\"], [0.7777777777777778, \"#fb9f3a\"], [0.8888888888888888, \"#fdca26\"], [1.0, \"#f0f921\"]], \"sequentialminus\": [[0.0, \"#0d0887\"], [0.1111111111111111, \"#46039f\"], [0.2222222222222222, \"#7201a8\"], [0.3333333333333333, \"#9c179e\"], [0.4444444444444444, \"#bd3786\"], [0.5555555555555556, \"#d8576b\"], [0.6666666666666666, \"#ed7953\"], [0.7777777777777778, \"#fb9f3a\"], [0.8888888888888888, \"#fdca26\"], [1.0, \"#f0f921\"]]}, \"colorway\": [\"#636efa\", \"#EF553B\", \"#00cc96\", \"#ab63fa\", \"#FFA15A\", \"#19d3f3\", \"#FF6692\", \"#B6E880\", \"#FF97FF\", \"#FECB52\"], \"font\": {\"color\": \"#2a3f5f\"}, \"geo\": {\"bgcolor\": \"white\", \"lakecolor\": \"white\", \"landcolor\": \"#E5ECF6\", \"showlakes\": true, \"showland\": true, \"subunitcolor\": \"white\"}, \"hoverlabel\": {\"align\": \"left\"}, \"hovermode\": \"closest\", \"mapbox\": {\"style\": \"light\"}, \"paper_bgcolor\": \"white\", \"plot_bgcolor\": \"#E5ECF6\", \"polar\": {\"angularaxis\": {\"gridcolor\": \"white\", \"linecolor\": \"white\", \"ticks\": \"\"}, \"bgcolor\": \"#E5ECF6\", \"radialaxis\": {\"gridcolor\": \"white\", \"linecolor\": \"white\", \"ticks\": \"\"}}, \"scene\": {\"xaxis\": {\"backgroundcolor\": \"#E5ECF6\", \"gridcolor\": \"white\", \"gridwidth\": 2, \"linecolor\": \"white\", \"showbackground\": true, \"ticks\": \"\", \"zerolinecolor\": \"white\"}, \"yaxis\": {\"backgroundcolor\": \"#E5ECF6\", \"gridcolor\": \"white\", \"gridwidth\": 2, \"linecolor\": \"white\", \"showbackground\": true, \"ticks\": \"\", \"zerolinecolor\": \"white\"}, \"zaxis\": {\"backgroundcolor\": \"#E5ECF6\", \"gridcolor\": \"white\", \"gridwidth\": 2, \"linecolor\": \"white\", \"showbackground\": true, \"ticks\": \"\", \"zerolinecolor\": \"white\"}}, \"shapedefaults\": {\"line\": {\"color\": \"#2a3f5f\"}}, \"ternary\": {\"aaxis\": {\"gridcolor\": \"white\", \"linecolor\": \"white\", \"ticks\": \"\"}, \"baxis\": {\"gridcolor\": \"white\", \"linecolor\": \"white\", \"ticks\": \"\"}, \"bgcolor\": \"#E5ECF6\", \"caxis\": {\"gridcolor\": \"white\", \"linecolor\": \"white\", \"ticks\": \"\"}}, \"title\": {\"x\": 0.05}, \"xaxis\": {\"automargin\": true, \"gridcolor\": \"white\", \"linecolor\": \"white\", \"ticks\": \"\", \"title\": {\"standoff\": 15}, \"zerolinecolor\": \"white\", \"zerolinewidth\": 2}, \"yaxis\": {\"automargin\": true, \"gridcolor\": \"white\", \"linecolor\": \"white\", \"ticks\": \"\", \"title\": {\"standoff\": 15}, \"zerolinecolor\": \"white\", \"zerolinewidth\": 2}}}, \"title\": {\"text\": \"Confirmed Cases Polynomial Regression Prediction\"}, \"xaxis\": {\"title\": {\"text\": \"Date\"}}, \"yaxis\": {\"title\": {\"text\": \"Confirmed Cases\"}}},\n",
              "                        {\"responsive\": true}\n",
              "                    ).then(function(){\n",
              "                            \n",
              "var gd = document.getElementById('99e0f32e-9017-4682-9e66-cd6885a4f294');\n",
              "var x = new MutationObserver(function (mutations, observer) {{\n",
              "        var display = window.getComputedStyle(gd).display;\n",
              "        if (!display || display === 'none') {{\n",
              "            console.log([gd, 'removed!']);\n",
              "            Plotly.purge(gd);\n",
              "            observer.disconnect();\n",
              "        }}\n",
              "}});\n",
              "\n",
              "// Listen for the removal of the full notebook cells\n",
              "var notebookContainer = gd.closest('#notebook-container');\n",
              "if (notebookContainer) {{\n",
              "    x.observe(notebookContainer, {childList: true});\n",
              "}}\n",
              "\n",
              "// Listen for the clearing of the current output cell\n",
              "var outputEl = gd.closest('.output');\n",
              "if (outputEl) {{\n",
              "    x.observe(outputEl, {childList: true});\n",
              "}}\n",
              "\n",
              "                        })\n",
              "                };\n",
              "                \n",
              "            </script>\n",
              "        </div>\n",
              "</body>\n",
              "</html>"
            ]
          },
          "metadata": {}
        },
        {
          "output_type": "display_data",
          "data": {
            "text/plain": [
              "<Figure size 792x432 with 0 Axes>"
            ]
          },
          "metadata": {}
        }
      ]
    },
    {
      "cell_type": "code",
      "metadata": {
        "execution": {
          "iopub.execute_input": "2021-11-30T10:48:21.099600Z",
          "iopub.status.busy": "2021-11-30T10:48:21.098787Z",
          "iopub.status.idle": "2021-11-30T10:48:21.113252Z",
          "shell.execute_reply": "2021-11-30T10:48:21.112493Z",
          "shell.execute_reply.started": "2021-11-30T10:48:21.099556Z"
        },
        "id": "1TTO7WkchOcq"
      },
      "source": [
        "new_date=[]\n",
        "new_prediction_poly=[]\n",
        "for i in range(1,18):\n",
        "    new_date.append(india_datewise.index[-1]+timedelta(days=i))\n",
        "    new_date_poly=poly.fit_transform(np.array(india_datewise[\"Days Since\"].max()+i).reshape(-1,1))\n",
        "    new_prediction_poly.append(linreg.predict(new_date_poly)[0])"
      ],
      "execution_count": null,
      "outputs": []
    },
    {
      "cell_type": "code",
      "metadata": {
        "execution": {
          "iopub.execute_input": "2021-11-30T10:48:21.492436Z",
          "iopub.status.busy": "2021-11-30T10:48:21.491592Z",
          "iopub.status.idle": "2021-11-30T10:48:21.503311Z",
          "shell.execute_reply": "2021-11-30T10:48:21.502451Z",
          "shell.execute_reply.started": "2021-11-30T10:48:21.492385Z"
        },
        "colab": {
          "base_uri": "https://localhost:8080/",
          "height": 206
        },
        "id": "md8rm9CehOcq",
        "outputId": "08f490cd-cf7b-4b3c-d78a-6cc11998e1ee"
      },
      "source": [
        "model_predictions=pd.DataFrame(zip(new_date,new_prediction_poly),columns=[\"Date\",\"Polynomial Regression Prediction\"])\n",
        "model_predictions.head()"
      ],
      "execution_count": null,
      "outputs": [
        {
          "output_type": "execute_result",
          "data": {
            "text/html": [
              "<div>\n",
              "<style scoped>\n",
              "    .dataframe tbody tr th:only-of-type {\n",
              "        vertical-align: middle;\n",
              "    }\n",
              "\n",
              "    .dataframe tbody tr th {\n",
              "        vertical-align: top;\n",
              "    }\n",
              "\n",
              "    .dataframe thead th {\n",
              "        text-align: right;\n",
              "    }\n",
              "</style>\n",
              "<table border=\"1\" class=\"dataframe\">\n",
              "  <thead>\n",
              "    <tr style=\"text-align: right;\">\n",
              "      <th></th>\n",
              "      <th>Date</th>\n",
              "      <th>Polynomial Regression Prediction</th>\n",
              "    </tr>\n",
              "  </thead>\n",
              "  <tbody>\n",
              "    <tr>\n",
              "      <th>0</th>\n",
              "      <td>2021-05-30</td>\n",
              "      <td>3.403157e+07</td>\n",
              "    </tr>\n",
              "    <tr>\n",
              "      <th>1</th>\n",
              "      <td>2021-05-31</td>\n",
              "      <td>3.477220e+07</td>\n",
              "    </tr>\n",
              "    <tr>\n",
              "      <th>2</th>\n",
              "      <td>2021-06-01</td>\n",
              "      <td>3.553059e+07</td>\n",
              "    </tr>\n",
              "    <tr>\n",
              "      <th>3</th>\n",
              "      <td>2021-06-02</td>\n",
              "      <td>3.630703e+07</td>\n",
              "    </tr>\n",
              "    <tr>\n",
              "      <th>4</th>\n",
              "      <td>2021-06-03</td>\n",
              "      <td>3.710183e+07</td>\n",
              "    </tr>\n",
              "  </tbody>\n",
              "</table>\n",
              "</div>"
            ],
            "text/plain": [
              "        Date  Polynomial Regression Prediction\n",
              "0 2021-05-30                      3.403157e+07\n",
              "1 2021-05-31                      3.477220e+07\n",
              "2 2021-06-01                      3.553059e+07\n",
              "3 2021-06-02                      3.630703e+07\n",
              "4 2021-06-03                      3.710183e+07"
            ]
          },
          "metadata": {},
          "execution_count": 23
        }
      ]
    },
    {
      "cell_type": "markdown",
      "metadata": {
        "id": "kJp6TwGAhOcr"
      },
      "source": [
        "SVM"
      ]
    },
    {
      "cell_type": "code",
      "metadata": {
        "execution": {
          "iopub.execute_input": "2021-11-30T10:48:23.929711Z",
          "iopub.status.busy": "2021-11-30T10:48:23.928982Z",
          "iopub.status.idle": "2021-11-30T10:48:23.934494Z",
          "shell.execute_reply": "2021-11-30T10:48:23.933422Z",
          "shell.execute_reply.started": "2021-11-30T10:48:23.929664Z"
        },
        "id": "xe-DMYOlhOcr"
      },
      "source": [
        "train_ml=india_datewise.iloc[:int(india_datewise.shape[0]*0.95)]\n",
        "valid_ml=india_datewise.iloc[int(india_datewise.shape[0]*0.95):]"
      ],
      "execution_count": null,
      "outputs": []
    },
    {
      "cell_type": "code",
      "metadata": {
        "execution": {
          "iopub.execute_input": "2021-11-30T10:48:24.284001Z",
          "iopub.status.busy": "2021-11-30T10:48:24.283256Z",
          "iopub.status.idle": "2021-11-30T10:48:24.288767Z",
          "shell.execute_reply": "2021-11-30T10:48:24.287920Z",
          "shell.execute_reply.started": "2021-11-30T10:48:24.283962Z"
        },
        "id": "IyJNrLEAhOcr"
      },
      "source": [
        "svm=SVR(C=0.01,degree=7,kernel='poly')"
      ],
      "execution_count": null,
      "outputs": []
    },
    {
      "cell_type": "code",
      "metadata": {
        "execution": {
          "iopub.execute_input": "2021-11-30T10:48:25.217012Z",
          "iopub.status.busy": "2021-11-30T10:48:25.216187Z",
          "iopub.status.idle": "2021-11-30T10:48:25.235718Z",
          "shell.execute_reply": "2021-11-30T10:48:25.234848Z",
          "shell.execute_reply.started": "2021-11-30T10:48:25.216974Z"
        },
        "colab": {
          "base_uri": "https://localhost:8080/"
        },
        "id": "RMSQ7NuIhOcr",
        "outputId": "beb8d09a-c18e-4781-dbbb-bfe87a56a018"
      },
      "source": [
        "svm.fit(np.array(train_ml[\"Days Since\"]).reshape(-1,1),train_ml[\"Confirmed\"])"
      ],
      "execution_count": null,
      "outputs": [
        {
          "output_type": "execute_result",
          "data": {
            "text/plain": [
              "SVR(C=0.01, degree=7, kernel='poly')"
            ]
          },
          "metadata": {},
          "execution_count": 26
        }
      ]
    },
    {
      "cell_type": "code",
      "metadata": {
        "execution": {
          "iopub.execute_input": "2021-11-30T10:48:25.484792Z",
          "iopub.status.busy": "2021-11-30T10:48:25.484047Z",
          "iopub.status.idle": "2021-11-30T10:48:25.493259Z",
          "shell.execute_reply": "2021-11-30T10:48:25.492232Z",
          "shell.execute_reply.started": "2021-11-30T10:48:25.484746Z"
        },
        "colab": {
          "base_uri": "https://localhost:8080/"
        },
        "id": "VBA5k3QshOcs",
        "outputId": "3c3e1cd7-3d11-4d8a-9482-83d38b42a01d"
      },
      "source": [
        "prediction_svm=svm.predict(np.array(valid_ml[\"Days Since\"]).reshape(-1,1))\n",
        "rmse_svm=np.sqrt(mean_squared_error(prediction_svm,valid_ml[\"Confirmed\"]))\n",
        "model_scores.append(rmse_svm)\n",
        "print(\"Root Mean Square Error for SVR Model: \",rmse_svm)"
      ],
      "execution_count": null,
      "outputs": [
        {
          "output_type": "stream",
          "name": "stdout",
          "text": [
            "Root Mean Square Error for SVR Model:  3965132.809816331\n"
          ]
        }
      ]
    },
    {
      "cell_type": "code",
      "metadata": {
        "execution": {
          "iopub.execute_input": "2021-11-30T10:48:25.712526Z",
          "iopub.status.busy": "2021-11-30T10:48:25.712268Z",
          "iopub.status.idle": "2021-11-30T10:48:25.753478Z",
          "shell.execute_reply": "2021-11-30T10:48:25.752934Z",
          "shell.execute_reply.started": "2021-11-30T10:48:25.712498Z"
        },
        "colab": {
          "base_uri": "https://localhost:8080/",
          "height": 559
        },
        "id": "KXragmrYhOcs",
        "outputId": "29bdeba7-c908-4df0-c2f6-770ce390f197"
      },
      "source": [
        "plt.figure(figsize=(11,6))\n",
        "predictions=svm.predict(np.array(india_datewise[\"Days Since\"]).reshape(-1,1))\n",
        "fig=go.Figure()\n",
        "fig.add_trace(go.Scatter(x=india_datewise.index, y=india_datewise[\"Confirmed\"],\n",
        "                    mode='lines+markers',name=\"Train Data for Confirmed Cases\"))\n",
        "fig.add_trace(go.Scatter(x=india_datewise.index, y=predictions,\n",
        "                    mode='lines',name=\"Support Vector Machine Best fit Kernel\",\n",
        "                    line=dict(color='black', dash='dot')))\n",
        "fig.update_layout(title=\"Confirmed Cases Support Vectore Machine Regressor Prediction\",\n",
        "                 xaxis_title=\"Date\",yaxis_title=\"Confirmed Cases\",legend=dict(x=0,y=1,traceorder=\"normal\"))\n",
        "fig.show()"
      ],
      "execution_count": null,
      "outputs": [
        {
          "output_type": "display_data",
          "data": {
            "text/html": [
              "<html>\n",
              "<head><meta charset=\"utf-8\" /></head>\n",
              "<body>\n",
              "    <div>\n",
              "            <script src=\"https://cdnjs.cloudflare.com/ajax/libs/mathjax/2.7.5/MathJax.js?config=TeX-AMS-MML_SVG\"></script><script type=\"text/javascript\">if (window.MathJax) {MathJax.Hub.Config({SVG: {font: \"STIX-Web\"}});}</script>\n",
              "                <script type=\"text/javascript\">window.PlotlyConfig = {MathJaxConfig: 'local'};</script>\n",
              "        <script src=\"https://cdn.plot.ly/plotly-latest.min.js\"></script>    \n",
              "            <div id=\"905b5c25-4df6-4121-b74b-b5cbe94b6037\" class=\"plotly-graph-div\" style=\"height:525px; width:100%;\"></div>\n",
              "            <script type=\"text/javascript\">\n",
              "                \n",
              "                    window.PLOTLYENV=window.PLOTLYENV || {};\n",
              "                    \n",
              "                if (document.getElementById(\"905b5c25-4df6-4121-b74b-b5cbe94b6037\")) {\n",
              "                    Plotly.newPlot(\n",
              "                        '905b5c25-4df6-4121-b74b-b5cbe94b6037',\n",
              "                        [{\"mode\": \"lines+markers\", \"name\": \"Train Data for Confirmed Cases\", \"type\": \"scatter\", \"x\": [\"2020-01-30T00:00:00\", \"2020-01-31T00:00:00\", \"2020-02-01T00:00:00\", \"2020-02-02T00:00:00\", \"2020-02-03T00:00:00\", \"2020-02-04T00:00:00\", \"2020-02-05T00:00:00\", \"2020-02-06T00:00:00\", \"2020-02-07T00:00:00\", \"2020-02-08T00:00:00\", \"2020-02-09T00:00:00\", \"2020-02-10T00:00:00\", \"2020-02-11T00:00:00\", \"2020-02-12T00:00:00\", \"2020-02-13T00:00:00\", \"2020-02-14T00:00:00\", \"2020-02-15T00:00:00\", \"2020-02-16T00:00:00\", \"2020-02-17T00:00:00\", \"2020-02-18T00:00:00\", \"2020-02-19T00:00:00\", \"2020-02-20T00:00:00\", \"2020-02-21T00:00:00\", \"2020-02-22T00:00:00\", \"2020-02-23T00:00:00\", \"2020-02-24T00:00:00\", \"2020-02-25T00:00:00\", \"2020-02-26T00:00:00\", \"2020-02-27T00:00:00\", \"2020-02-28T00:00:00\", \"2020-02-29T00:00:00\", \"2020-03-01T00:00:00\", \"2020-03-02T00:00:00\", \"2020-03-03T00:00:00\", \"2020-03-04T00:00:00\", \"2020-03-05T00:00:00\", \"2020-03-06T00:00:00\", \"2020-03-07T00:00:00\", \"2020-03-08T00:00:00\", \"2020-03-09T00:00:00\", \"2020-03-10T00:00:00\", \"2020-03-11T00:00:00\", \"2020-03-12T00:00:00\", \"2020-03-13T00:00:00\", \"2020-03-14T00:00:00\", \"2020-03-15T00:00:00\", \"2020-03-16T00:00:00\", \"2020-03-17T00:00:00\", \"2020-03-18T00:00:00\", \"2020-03-19T00:00:00\", \"2020-03-20T00:00:00\", \"2020-03-21T00:00:00\", \"2020-03-22T00:00:00\", \"2020-03-23T00:00:00\", \"2020-03-24T00:00:00\", \"2020-03-25T00:00:00\", \"2020-03-26T00:00:00\", \"2020-03-27T00:00:00\", \"2020-03-28T00:00:00\", \"2020-03-29T00:00:00\", \"2020-03-30T00:00:00\", \"2020-03-31T00:00:00\", \"2020-04-01T00:00:00\", \"2020-04-02T00:00:00\", \"2020-04-03T00:00:00\", \"2020-04-04T00:00:00\", \"2020-04-05T00:00:00\", \"2020-04-06T00:00:00\", \"2020-04-07T00:00:00\", \"2020-04-08T00:00:00\", \"2020-04-09T00:00:00\", \"2020-04-10T00:00:00\", \"2020-04-11T00:00:00\", \"2020-04-12T00:00:00\", \"2020-04-13T00:00:00\", \"2020-04-14T00:00:00\", \"2020-04-15T00:00:00\", \"2020-04-16T00:00:00\", \"2020-04-17T00:00:00\", \"2020-04-18T00:00:00\", \"2020-04-19T00:00:00\", \"2020-04-20T00:00:00\", \"2020-04-21T00:00:00\", \"2020-04-22T00:00:00\", \"2020-04-23T00:00:00\", \"2020-04-24T00:00:00\", \"2020-04-25T00:00:00\", \"2020-04-26T00:00:00\", \"2020-04-27T00:00:00\", \"2020-04-28T00:00:00\", \"2020-04-29T00:00:00\", \"2020-04-30T00:00:00\", \"2020-05-01T00:00:00\", \"2020-05-02T00:00:00\", \"2020-05-03T00:00:00\", \"2020-05-04T00:00:00\", \"2020-05-05T00:00:00\", \"2020-05-06T00:00:00\", \"2020-05-07T00:00:00\", \"2020-05-08T00:00:00\", \"2020-05-09T00:00:00\", \"2020-05-10T00:00:00\", \"2020-05-11T00:00:00\", \"2020-05-12T00:00:00\", \"2020-05-13T00:00:00\", \"2020-05-14T00:00:00\", \"2020-05-15T00:00:00\", \"2020-05-16T00:00:00\", \"2020-05-17T00:00:00\", \"2020-05-18T00:00:00\", \"2020-05-19T00:00:00\", \"2020-05-20T00:00:00\", \"2020-05-21T00:00:00\", \"2020-05-22T00:00:00\", \"2020-05-23T00:00:00\", \"2020-05-24T00:00:00\", \"2020-05-25T00:00:00\", \"2020-05-26T00:00:00\", \"2020-05-27T00:00:00\", \"2020-05-28T00:00:00\", \"2020-05-29T00:00:00\", \"2020-05-30T00:00:00\", \"2020-05-31T00:00:00\", \"2020-06-01T00:00:00\", \"2020-06-02T00:00:00\", \"2020-06-03T00:00:00\", \"2020-06-04T00:00:00\", \"2020-06-05T00:00:00\", \"2020-06-06T00:00:00\", \"2020-06-07T00:00:00\", \"2020-06-08T00:00:00\", \"2020-06-09T00:00:00\", \"2020-06-10T00:00:00\", \"2020-06-11T00:00:00\", \"2020-06-12T00:00:00\", \"2020-06-13T00:00:00\", \"2020-06-14T00:00:00\", \"2020-06-15T00:00:00\", \"2020-06-16T00:00:00\", \"2020-06-17T00:00:00\", \"2020-06-18T00:00:00\", \"2020-06-19T00:00:00\", \"2020-06-20T00:00:00\", \"2020-06-21T00:00:00\", \"2020-06-22T00:00:00\", \"2020-06-23T00:00:00\", \"2020-06-24T00:00:00\", \"2020-06-25T00:00:00\", \"2020-06-26T00:00:00\", \"2020-06-27T00:00:00\", \"2020-06-28T00:00:00\", \"2020-06-29T00:00:00\", \"2020-06-30T00:00:00\", \"2020-07-01T00:00:00\", \"2020-07-02T00:00:00\", \"2020-07-03T00:00:00\", \"2020-07-04T00:00:00\", \"2020-07-05T00:00:00\", \"2020-07-06T00:00:00\", \"2020-07-07T00:00:00\", \"2020-07-08T00:00:00\", \"2020-07-09T00:00:00\", \"2020-07-10T00:00:00\", \"2020-07-11T00:00:00\", \"2020-07-12T00:00:00\", \"2020-07-13T00:00:00\", \"2020-07-14T00:00:00\", \"2020-07-15T00:00:00\", \"2020-07-16T00:00:00\", \"2020-07-17T00:00:00\", \"2020-07-18T00:00:00\", \"2020-07-19T00:00:00\", \"2020-07-20T00:00:00\", \"2020-07-21T00:00:00\", \"2020-07-22T00:00:00\", \"2020-07-23T00:00:00\", \"2020-07-24T00:00:00\", \"2020-07-25T00:00:00\", \"2020-07-26T00:00:00\", \"2020-07-27T00:00:00\", \"2020-07-28T00:00:00\", \"2020-07-29T00:00:00\", \"2020-07-30T00:00:00\", \"2020-07-31T00:00:00\", \"2020-08-01T00:00:00\", \"2020-08-02T00:00:00\", \"2020-08-03T00:00:00\", \"2020-08-04T00:00:00\", \"2020-08-05T00:00:00\", \"2020-08-06T00:00:00\", \"2020-08-07T00:00:00\", \"2020-08-08T00:00:00\", \"2020-08-09T00:00:00\", \"2020-08-10T00:00:00\", \"2020-08-11T00:00:00\", \"2020-08-12T00:00:00\", \"2020-08-13T00:00:00\", \"2020-08-14T00:00:00\", \"2020-08-15T00:00:00\", \"2020-08-16T00:00:00\", \"2020-08-17T00:00:00\", \"2020-08-18T00:00:00\", \"2020-08-19T00:00:00\", \"2020-08-20T00:00:00\", \"2020-08-21T00:00:00\", \"2020-08-22T00:00:00\", \"2020-08-23T00:00:00\", \"2020-08-24T00:00:00\", \"2020-08-25T00:00:00\", \"2020-08-26T00:00:00\", \"2020-08-27T00:00:00\", \"2020-08-28T00:00:00\", \"2020-08-29T00:00:00\", \"2020-08-30T00:00:00\", \"2020-08-31T00:00:00\", \"2020-09-01T00:00:00\", \"2020-09-02T00:00:00\", \"2020-09-03T00:00:00\", \"2020-09-04T00:00:00\", \"2020-09-05T00:00:00\", \"2020-09-06T00:00:00\", \"2020-09-07T00:00:00\", \"2020-09-08T00:00:00\", \"2020-09-09T00:00:00\", \"2020-09-10T00:00:00\", \"2020-09-11T00:00:00\", \"2020-09-12T00:00:00\", \"2020-09-13T00:00:00\", \"2020-09-14T00:00:00\", \"2020-09-15T00:00:00\", \"2020-09-16T00:00:00\", \"2020-09-17T00:00:00\", \"2020-09-18T00:00:00\", \"2020-09-19T00:00:00\", \"2020-09-20T00:00:00\", \"2020-09-21T00:00:00\", \"2020-09-22T00:00:00\", \"2020-09-23T00:00:00\", \"2020-09-24T00:00:00\", \"2020-09-25T00:00:00\", \"2020-09-26T00:00:00\", \"2020-09-27T00:00:00\", \"2020-09-28T00:00:00\", \"2020-09-29T00:00:00\", \"2020-09-30T00:00:00\", \"2020-10-01T00:00:00\", \"2020-10-02T00:00:00\", \"2020-10-03T00:00:00\", \"2020-10-04T00:00:00\", \"2020-10-05T00:00:00\", \"2020-10-06T00:00:00\", \"2020-10-07T00:00:00\", \"2020-10-08T00:00:00\", \"2020-10-09T00:00:00\", \"2020-10-10T00:00:00\", \"2020-10-11T00:00:00\", \"2020-10-12T00:00:00\", \"2020-10-13T00:00:00\", \"2020-10-14T00:00:00\", \"2020-10-15T00:00:00\", \"2020-10-16T00:00:00\", \"2020-10-17T00:00:00\", \"2020-10-18T00:00:00\", \"2020-10-19T00:00:00\", \"2020-10-20T00:00:00\", \"2020-10-21T00:00:00\", \"2020-10-22T00:00:00\", \"2020-10-23T00:00:00\", \"2020-10-24T00:00:00\", \"2020-10-25T00:00:00\", \"2020-10-26T00:00:00\", \"2020-10-27T00:00:00\", \"2020-10-28T00:00:00\", \"2020-10-29T00:00:00\", \"2020-10-30T00:00:00\", \"2020-10-31T00:00:00\", \"2020-11-01T00:00:00\", \"2020-11-02T00:00:00\", \"2020-11-03T00:00:00\", \"2020-11-04T00:00:00\", \"2020-11-05T00:00:00\", \"2020-11-06T00:00:00\", \"2020-11-07T00:00:00\", \"2020-11-08T00:00:00\", \"2020-11-09T00:00:00\", \"2020-11-10T00:00:00\", \"2020-11-11T00:00:00\", \"2020-11-12T00:00:00\", \"2020-11-13T00:00:00\", \"2020-11-14T00:00:00\", \"2020-11-15T00:00:00\", \"2020-11-16T00:00:00\", \"2020-11-17T00:00:00\", \"2020-11-18T00:00:00\", \"2020-11-19T00:00:00\", \"2020-11-20T00:00:00\", \"2020-11-21T00:00:00\", \"2020-11-22T00:00:00\", \"2020-11-23T00:00:00\", \"2020-11-24T00:00:00\", \"2020-11-25T00:00:00\", \"2020-11-26T00:00:00\", \"2020-11-27T00:00:00\", \"2020-11-28T00:00:00\", \"2020-11-29T00:00:00\", \"2020-11-30T00:00:00\", \"2020-12-01T00:00:00\", \"2020-12-02T00:00:00\", \"2020-12-03T00:00:00\", \"2020-12-04T00:00:00\", \"2020-12-05T00:00:00\", \"2020-12-06T00:00:00\", \"2020-12-07T00:00:00\", \"2020-12-08T00:00:00\", \"2020-12-09T00:00:00\", \"2020-12-10T00:00:00\", \"2020-12-11T00:00:00\", \"2020-12-12T00:00:00\", \"2020-12-13T00:00:00\", \"2020-12-14T00:00:00\", \"2020-12-15T00:00:00\", \"2020-12-16T00:00:00\", \"2020-12-17T00:00:00\", \"2020-12-18T00:00:00\", \"2020-12-19T00:00:00\", \"2020-12-20T00:00:00\", \"2020-12-21T00:00:00\", \"2020-12-22T00:00:00\", \"2020-12-23T00:00:00\", \"2020-12-24T00:00:00\", \"2020-12-25T00:00:00\", \"2020-12-26T00:00:00\", \"2020-12-27T00:00:00\", \"2020-12-28T00:00:00\", \"2020-12-29T00:00:00\", \"2020-12-30T00:00:00\", \"2020-12-31T00:00:00\", \"2021-01-01T00:00:00\", \"2021-01-02T00:00:00\", \"2021-01-03T00:00:00\", \"2021-01-04T00:00:00\", \"2021-01-05T00:00:00\", \"2021-01-06T00:00:00\", \"2021-01-07T00:00:00\", \"2021-01-08T00:00:00\", \"2021-01-09T00:00:00\", \"2021-01-10T00:00:00\", \"2021-01-11T00:00:00\", \"2021-01-12T00:00:00\", \"2021-01-13T00:00:00\", \"2021-01-14T00:00:00\", \"2021-01-15T00:00:00\", \"2021-01-16T00:00:00\", \"2021-01-17T00:00:00\", \"2021-01-18T00:00:00\", \"2021-01-19T00:00:00\", \"2021-01-20T00:00:00\", \"2021-01-21T00:00:00\", \"2021-01-22T00:00:00\", \"2021-01-23T00:00:00\", \"2021-01-24T00:00:00\", \"2021-01-25T00:00:00\", \"2021-01-26T00:00:00\", \"2021-01-27T00:00:00\", \"2021-01-28T00:00:00\", \"2021-01-29T00:00:00\", \"2021-01-30T00:00:00\", \"2021-01-31T00:00:00\", \"2021-02-01T00:00:00\", \"2021-02-02T00:00:00\", \"2021-02-03T00:00:00\", \"2021-02-04T00:00:00\", \"2021-02-05T00:00:00\", \"2021-02-06T00:00:00\", \"2021-02-07T00:00:00\", \"2021-02-08T00:00:00\", \"2021-02-09T00:00:00\", \"2021-02-10T00:00:00\", \"2021-02-11T00:00:00\", \"2021-02-12T00:00:00\", \"2021-02-13T00:00:00\", \"2021-02-14T00:00:00\", \"2021-02-15T00:00:00\", \"2021-02-16T00:00:00\", \"2021-02-17T00:00:00\", \"2021-02-18T00:00:00\", \"2021-02-19T00:00:00\", \"2021-02-20T00:00:00\", \"2021-02-21T00:00:00\", \"2021-02-22T00:00:00\", \"2021-02-23T00:00:00\", \"2021-02-24T00:00:00\", \"2021-02-25T00:00:00\", \"2021-02-26T00:00:00\", \"2021-02-27T00:00:00\", \"2021-02-28T00:00:00\", \"2021-03-01T00:00:00\", \"2021-03-02T00:00:00\", \"2021-03-03T00:00:00\", \"2021-03-04T00:00:00\", \"2021-03-05T00:00:00\", \"2021-03-06T00:00:00\", \"2021-03-07T00:00:00\", \"2021-03-08T00:00:00\", \"2021-03-09T00:00:00\", \"2021-03-10T00:00:00\", \"2021-03-11T00:00:00\", \"2021-03-12T00:00:00\", \"2021-03-13T00:00:00\", \"2021-03-14T00:00:00\", \"2021-03-15T00:00:00\", \"2021-03-16T00:00:00\", \"2021-03-17T00:00:00\", \"2021-03-18T00:00:00\", \"2021-03-19T00:00:00\", \"2021-03-20T00:00:00\", \"2021-03-21T00:00:00\", \"2021-03-22T00:00:00\", \"2021-03-23T00:00:00\", \"2021-03-24T00:00:00\", \"2021-03-25T00:00:00\", \"2021-03-26T00:00:00\", \"2021-03-27T00:00:00\", \"2021-03-28T00:00:00\", \"2021-03-29T00:00:00\", \"2021-03-30T00:00:00\", \"2021-03-31T00:00:00\", \"2021-04-01T00:00:00\", \"2021-04-02T00:00:00\", \"2021-04-03T00:00:00\", \"2021-04-04T00:00:00\", \"2021-04-05T00:00:00\", \"2021-04-06T00:00:00\", \"2021-04-07T00:00:00\", \"2021-04-08T00:00:00\", \"2021-04-09T00:00:00\", \"2021-04-10T00:00:00\", \"2021-04-11T00:00:00\", \"2021-04-12T00:00:00\", \"2021-04-13T00:00:00\", \"2021-04-14T00:00:00\", \"2021-04-15T00:00:00\", \"2021-04-16T00:00:00\", \"2021-04-17T00:00:00\", \"2021-04-18T00:00:00\", \"2021-04-19T00:00:00\", \"2021-04-20T00:00:00\", \"2021-04-21T00:00:00\", \"2021-04-22T00:00:00\", \"2021-04-23T00:00:00\", \"2021-04-24T00:00:00\", \"2021-04-25T00:00:00\", \"2021-04-26T00:00:00\", \"2021-04-27T00:00:00\", \"2021-04-28T00:00:00\", \"2021-04-29T00:00:00\", \"2021-04-30T00:00:00\", \"2021-05-01T00:00:00\", \"2021-05-02T00:00:00\", \"2021-05-03T00:00:00\", \"2021-05-04T00:00:00\", \"2021-05-05T00:00:00\", \"2021-05-06T00:00:00\", \"2021-05-07T00:00:00\", \"2021-05-08T00:00:00\", \"2021-05-09T00:00:00\", \"2021-05-10T00:00:00\", \"2021-05-11T00:00:00\", \"2021-05-12T00:00:00\", \"2021-05-13T00:00:00\", \"2021-05-14T00:00:00\", \"2021-05-15T00:00:00\", \"2021-05-16T00:00:00\", \"2021-05-17T00:00:00\", \"2021-05-18T00:00:00\", \"2021-05-19T00:00:00\", \"2021-05-20T00:00:00\", \"2021-05-21T00:00:00\", \"2021-05-22T00:00:00\", \"2021-05-23T00:00:00\", \"2021-05-24T00:00:00\", \"2021-05-25T00:00:00\", \"2021-05-26T00:00:00\", \"2021-05-27T00:00:00\", \"2021-05-28T00:00:00\", \"2021-05-29T00:00:00\"], \"y\": [1.0, 1.0, 1.0, 2.0, 3.0, 3.0, 3.0, 3.0, 3.0, 3.0, 3.0, 3.0, 3.0, 3.0, 3.0, 3.0, 3.0, 3.0, 3.0, 3.0, 3.0, 3.0, 3.0, 3.0, 3.0, 3.0, 3.0, 3.0, 3.0, 3.0, 3.0, 3.0, 5.0, 5.0, 28.0, 30.0, 31.0, 34.0, 39.0, 43.0, 56.0, 62.0, 73.0, 82.0, 102.0, 113.0, 119.0, 142.0, 156.0, 194.0, 244.0, 330.0, 396.0, 499.0, 536.0, 657.0, 727.0, 887.0, 987.0, 1024.0, 1251.0, 1397.0, 1998.0, 2543.0, 2567.0, 3082.0, 3588.0, 4778.0, 5311.0, 5916.0, 6725.0, 7598.0, 8446.0, 9205.0, 10453.0, 11487.0, 12322.0, 13430.0, 14352.0, 15722.0, 17615.0, 18539.0, 20080.0, 21370.0, 23077.0, 24530.0, 26283.0, 27890.0, 29451.0, 31324.0, 33062.0, 34863.0, 37257.0, 39699.0, 42505.0, 46437.0, 49400.0, 52987.0, 56351.0, 59695.0, 62808.0, 67161.0, 70768.0, 74292.0, 78055.0, 81997.0, 85784.0, 90648.0, 95698.0, 100328.0, 106475.0, 112028.0, 118226.0, 124794.0, 131423.0, 138536.0, 144950.0, 150793.0, 158086.0, 165386.0, 173491.0, 181827.0, 190609.0, 198370.0, 207191.0, 216824.0, 226713.0, 236184.0, 246622.0, 257486.0, 265928.0, 276146.0, 276583.0, 297535.0, 297535.0, 308993.0, 320922.0, 343091.0, 354065.0, 366946.0, 380532.0, 395048.0, 410461.0, 425282.0, 440215.0, 456183.0, 473105.0, 490401.0, 508953.0, 528859.0, 548318.0, 566840.0, 585493.0, 604641.0, 625544.0, 648315.0, 673165.0, 697413.0, 719664.0, 742417.0, 767296.0, 793802.0, 820916.0, 849522.0, 878254.0, 906752.0, 936181.0, 968857.0, 1003832.0, 1039084.0, 1077781.0, 1118206.0, 1155338.0, 1193078.0, 1238798.0, 1288108.0, 1337024.0, 1385635.0, 1435616.0, 1480073.0, 1483156.0, 1581963.0, 1634746.0, 1695988.0, 1750723.0, 1803695.0, 1855745.0, 1908254.0, 1964536.0, 2027074.0, 2088611.0, 2153010.0, 2215074.0, 2268675.0, 2329638.0, 2396637.0, 2461190.0, 2525922.0, 2589952.0, 2647663.0, 2702681.0, 2767253.0, 2836925.0, 2905825.0, 2975701.0, 3044940.0, 3106348.0, 3167323.0, 3224547.0, 3310234.0, 3387500.0, 3463972.0, 3542733.0, 3621245.0, 3691166.0, 3769523.0, 3853406.0, 3936747.0, 4023179.0, 4113811.0, 4204613.0, 4280422.0, 4370128.0, 4465863.0, 4562414.0, 4659984.0, 4754356.0, 4846427.0, 4846427.0, 5020359.0, 5118253.0, 5214677.0, 5308014.0, 5400619.0, 5487580.0, 5562663.0, 5646010.0, 5732518.0, 5818570.0, 5903932.0, 5992532.0, 6074702.0, 6145291.0, 6225763.0, 6312584.0, 6386526.0, 6473544.0, 6549373.0, 6623815.0, 6685082.0, 6757131.0, 6835655.0, 6906151.0, 6979423.0, 7053806.0, 7120538.0, 7175880.0, 7239389.0, 7307097.0, 7370468.0, 7432680.0, 7494551.0, 7550273.0, 7597063.0, 7651107.0, 7706946.0, 7761312.0, 7814682.0, 7864811.0, 7909959.0, 7946429.0, 7990322.0, 8040203.0, 8088851.0, 8137119.0, 8184082.0, 8229313.0, 8267623.0, 8313876.0, 8364086.0, 8411724.0, 8462080.0, 8507754.0, 8553657.0, 8591730.0, 8636011.0, 8683916.0, 8728795.0, 8773479.0, 8814579.0, 8845127.0, 8873541.0, 8912907.0, 8958483.0, 9004365.0, 9050597.0, 9095806.0, 9139865.0, 9177840.0, 9222216.0, 9266705.0, 9309787.0, 9351109.0, 9392919.0, 9431691.0, 9462809.0, 9499413.0, 9534964.0, 9571559.0, 9608211.0, 9644222.0, 9677203.0, 9703770.0, 9735850.0, 9767371.0, 9796744.0, 9826775.0, 9857029.0, 9884100.0, 9906165.0, 9932547.0, 9956557.0, 9979447.0, 10004599.0, 10031223.0, 10055560.0, 10075116.0, 10099066.0, 10123778.0, 10146845.0, 10169118.0, 10187850.0, 10207871.0, 10224303.0, 10244852.0, 10266674.0, 10266674.0, 10286709.0, 10323965.0, 10340469.0, 10356844.0, 10374932.0, 10395278.0, 10413417.0, 10413417.0, 10450284.0, 10466595.0, 10479179.0, 10495147.0, 10512093.0, 10527683.0, 10542841.0, 10557985.0, 10571773.0, 10581823.0, 10595639.0, 10610883.0, 10625428.0, 10639684.0, 10654533.0, 10667736.0, 10676838.0, 10689527.0, 10701193.0, 10720048.0, 10733130.0, 10746174.0, 10757610.0, 10766245.0, 10777284.0, 10790183.0, 10802591.0, 10814304.0, 10826363.0, 10838194.0, 10847304.0, 10858371.0, 10871294.0, 10880603.0, 10892746.0, 10904940.0, 10916589.0, 10925710.0, 10937320.0, 10950201.0, 10963394.0, 10977387.0, 10991651.0, 11005850.0, 11016434.0, 11030176.0, 11046914.0, 11063491.0, 11079979.0, 11096731.0, 11112241.0, 11124527.0, 11139516.0, 11156923.0, 11173761.0, 11192045.0, 11210799.0, 11229398.0, 11244786.0, 11262707.0, 11285561.0, 11308846.0, 11333728.0, 11359048.0, 11385339.0, 11409831.0, 11438734.0, 11474605.0, 11514331.0, 11555284.0, 11599130.0, 11646081.0, 11686796.0, 11734058.0, 11787534.0, 11846652.0, 11908910.0, 11971624.0, 12039644.0, 12095855.0, 12149335.0, 12221665.0, 12303131.0, 12392260.0, 12485509.0, 12589067.0, 12686049.0, 12801785.0, 12928574.0, 13060542.0, 13205926.0, 13358805.0, 13527717.0, 13689453.0, 13873825.0, 14074564.0, 14291917.0, 14526609.0, 14788003.0, 15061805.0, 15320972.0, 15616130.0, 15930774.0, 16263695.0, 16610481.0, 16960172.0, 17313163.0, 17636186.0, 17997113.0, 18376421.0, 18762976.0, 19164969.0, 19557457.0, 19925517.0, 20282833.0, 20664979.0, 21077410.0, 21491598.0, 21892676.0, 22296081.0, 22662575.0, 22992517.0, 23340938.0, 23703665.0, 24046809.0, 24372907.0, 24684077.0, 24965463.0, 25228996.0, 25496330.0, 25772440.0, 26031991.0, 26289290.0, 26530132.0, 26752447.0, 26948874.0, 27157795.0, 27369093.0, 27555457.0, 27729247.0, 27894800.0]}, {\"line\": {\"color\": \"black\", \"dash\": \"dot\"}, \"mode\": \"lines\", \"name\": \"Support Vector Machine Best fit Kernel\", \"type\": \"scatter\", \"x\": [\"2020-01-30T00:00:00\", \"2020-01-31T00:00:00\", \"2020-02-01T00:00:00\", \"2020-02-02T00:00:00\", \"2020-02-03T00:00:00\", \"2020-02-04T00:00:00\", \"2020-02-05T00:00:00\", \"2020-02-06T00:00:00\", \"2020-02-07T00:00:00\", \"2020-02-08T00:00:00\", \"2020-02-09T00:00:00\", \"2020-02-10T00:00:00\", \"2020-02-11T00:00:00\", \"2020-02-12T00:00:00\", \"2020-02-13T00:00:00\", \"2020-02-14T00:00:00\", \"2020-02-15T00:00:00\", \"2020-02-16T00:00:00\", \"2020-02-17T00:00:00\", \"2020-02-18T00:00:00\", \"2020-02-19T00:00:00\", \"2020-02-20T00:00:00\", \"2020-02-21T00:00:00\", \"2020-02-22T00:00:00\", \"2020-02-23T00:00:00\", \"2020-02-24T00:00:00\", \"2020-02-25T00:00:00\", \"2020-02-26T00:00:00\", \"2020-02-27T00:00:00\", \"2020-02-28T00:00:00\", \"2020-02-29T00:00:00\", \"2020-03-01T00:00:00\", \"2020-03-02T00:00:00\", \"2020-03-03T00:00:00\", \"2020-03-04T00:00:00\", \"2020-03-05T00:00:00\", \"2020-03-06T00:00:00\", \"2020-03-07T00:00:00\", \"2020-03-08T00:00:00\", \"2020-03-09T00:00:00\", \"2020-03-10T00:00:00\", \"2020-03-11T00:00:00\", \"2020-03-12T00:00:00\", \"2020-03-13T00:00:00\", \"2020-03-14T00:00:00\", \"2020-03-15T00:00:00\", \"2020-03-16T00:00:00\", \"2020-03-17T00:00:00\", \"2020-03-18T00:00:00\", \"2020-03-19T00:00:00\", \"2020-03-20T00:00:00\", \"2020-03-21T00:00:00\", \"2020-03-22T00:00:00\", \"2020-03-23T00:00:00\", \"2020-03-24T00:00:00\", \"2020-03-25T00:00:00\", \"2020-03-26T00:00:00\", \"2020-03-27T00:00:00\", \"2020-03-28T00:00:00\", \"2020-03-29T00:00:00\", \"2020-03-30T00:00:00\", \"2020-03-31T00:00:00\", \"2020-04-01T00:00:00\", \"2020-04-02T00:00:00\", \"2020-04-03T00:00:00\", \"2020-04-04T00:00:00\", \"2020-04-05T00:00:00\", \"2020-04-06T00:00:00\", \"2020-04-07T00:00:00\", \"2020-04-08T00:00:00\", \"2020-04-09T00:00:00\", \"2020-04-10T00:00:00\", \"2020-04-11T00:00:00\", \"2020-04-12T00:00:00\", \"2020-04-13T00:00:00\", \"2020-04-14T00:00:00\", \"2020-04-15T00:00:00\", \"2020-04-16T00:00:00\", \"2020-04-17T00:00:00\", \"2020-04-18T00:00:00\", \"2020-04-19T00:00:00\", \"2020-04-20T00:00:00\", \"2020-04-21T00:00:00\", \"2020-04-22T00:00:00\", \"2020-04-23T00:00:00\", \"2020-04-24T00:00:00\", \"2020-04-25T00:00:00\", \"2020-04-26T00:00:00\", \"2020-04-27T00:00:00\", \"2020-04-28T00:00:00\", \"2020-04-29T00:00:00\", \"2020-04-30T00:00:00\", \"2020-05-01T00:00:00\", \"2020-05-02T00:00:00\", \"2020-05-03T00:00:00\", \"2020-05-04T00:00:00\", \"2020-05-05T00:00:00\", \"2020-05-06T00:00:00\", \"2020-05-07T00:00:00\", \"2020-05-08T00:00:00\", \"2020-05-09T00:00:00\", \"2020-05-10T00:00:00\", \"2020-05-11T00:00:00\", \"2020-05-12T00:00:00\", \"2020-05-13T00:00:00\", \"2020-05-14T00:00:00\", \"2020-05-15T00:00:00\", \"2020-05-16T00:00:00\", \"2020-05-17T00:00:00\", \"2020-05-18T00:00:00\", \"2020-05-19T00:00:00\", \"2020-05-20T00:00:00\", \"2020-05-21T00:00:00\", \"2020-05-22T00:00:00\", \"2020-05-23T00:00:00\", \"2020-05-24T00:00:00\", \"2020-05-25T00:00:00\", \"2020-05-26T00:00:00\", \"2020-05-27T00:00:00\", \"2020-05-28T00:00:00\", \"2020-05-29T00:00:00\", \"2020-05-30T00:00:00\", \"2020-05-31T00:00:00\", \"2020-06-01T00:00:00\", \"2020-06-02T00:00:00\", \"2020-06-03T00:00:00\", \"2020-06-04T00:00:00\", \"2020-06-05T00:00:00\", \"2020-06-06T00:00:00\", \"2020-06-07T00:00:00\", \"2020-06-08T00:00:00\", \"2020-06-09T00:00:00\", \"2020-06-10T00:00:00\", \"2020-06-11T00:00:00\", \"2020-06-12T00:00:00\", \"2020-06-13T00:00:00\", \"2020-06-14T00:00:00\", \"2020-06-15T00:00:00\", \"2020-06-16T00:00:00\", \"2020-06-17T00:00:00\", \"2020-06-18T00:00:00\", \"2020-06-19T00:00:00\", \"2020-06-20T00:00:00\", \"2020-06-21T00:00:00\", \"2020-06-22T00:00:00\", \"2020-06-23T00:00:00\", \"2020-06-24T00:00:00\", \"2020-06-25T00:00:00\", \"2020-06-26T00:00:00\", \"2020-06-27T00:00:00\", \"2020-06-28T00:00:00\", \"2020-06-29T00:00:00\", \"2020-06-30T00:00:00\", \"2020-07-01T00:00:00\", \"2020-07-02T00:00:00\", \"2020-07-03T00:00:00\", \"2020-07-04T00:00:00\", \"2020-07-05T00:00:00\", \"2020-07-06T00:00:00\", \"2020-07-07T00:00:00\", \"2020-07-08T00:00:00\", \"2020-07-09T00:00:00\", \"2020-07-10T00:00:00\", \"2020-07-11T00:00:00\", \"2020-07-12T00:00:00\", \"2020-07-13T00:00:00\", \"2020-07-14T00:00:00\", \"2020-07-15T00:00:00\", \"2020-07-16T00:00:00\", \"2020-07-17T00:00:00\", \"2020-07-18T00:00:00\", \"2020-07-19T00:00:00\", \"2020-07-20T00:00:00\", \"2020-07-21T00:00:00\", \"2020-07-22T00:00:00\", \"2020-07-23T00:00:00\", \"2020-07-24T00:00:00\", \"2020-07-25T00:00:00\", \"2020-07-26T00:00:00\", \"2020-07-27T00:00:00\", \"2020-07-28T00:00:00\", \"2020-07-29T00:00:00\", \"2020-07-30T00:00:00\", \"2020-07-31T00:00:00\", \"2020-08-01T00:00:00\", \"2020-08-02T00:00:00\", \"2020-08-03T00:00:00\", \"2020-08-04T00:00:00\", \"2020-08-05T00:00:00\", \"2020-08-06T00:00:00\", \"2020-08-07T00:00:00\", \"2020-08-08T00:00:00\", \"2020-08-09T00:00:00\", \"2020-08-10T00:00:00\", \"2020-08-11T00:00:00\", \"2020-08-12T00:00:00\", \"2020-08-13T00:00:00\", \"2020-08-14T00:00:00\", \"2020-08-15T00:00:00\", \"2020-08-16T00:00:00\", \"2020-08-17T00:00:00\", \"2020-08-18T00:00:00\", \"2020-08-19T00:00:00\", \"2020-08-20T00:00:00\", \"2020-08-21T00:00:00\", \"2020-08-22T00:00:00\", \"2020-08-23T00:00:00\", \"2020-08-24T00:00:00\", \"2020-08-25T00:00:00\", \"2020-08-26T00:00:00\", \"2020-08-27T00:00:00\", \"2020-08-28T00:00:00\", \"2020-08-29T00:00:00\", \"2020-08-30T00:00:00\", \"2020-08-31T00:00:00\", \"2020-09-01T00:00:00\", \"2020-09-02T00:00:00\", \"2020-09-03T00:00:00\", \"2020-09-04T00:00:00\", \"2020-09-05T00:00:00\", \"2020-09-06T00:00:00\", \"2020-09-07T00:00:00\", \"2020-09-08T00:00:00\", \"2020-09-09T00:00:00\", \"2020-09-10T00:00:00\", \"2020-09-11T00:00:00\", \"2020-09-12T00:00:00\", \"2020-09-13T00:00:00\", \"2020-09-14T00:00:00\", \"2020-09-15T00:00:00\", \"2020-09-16T00:00:00\", \"2020-09-17T00:00:00\", \"2020-09-18T00:00:00\", \"2020-09-19T00:00:00\", \"2020-09-20T00:00:00\", \"2020-09-21T00:00:00\", \"2020-09-22T00:00:00\", \"2020-09-23T00:00:00\", \"2020-09-24T00:00:00\", \"2020-09-25T00:00:00\", \"2020-09-26T00:00:00\", \"2020-09-27T00:00:00\", \"2020-09-28T00:00:00\", \"2020-09-29T00:00:00\", \"2020-09-30T00:00:00\", \"2020-10-01T00:00:00\", \"2020-10-02T00:00:00\", \"2020-10-03T00:00:00\", \"2020-10-04T00:00:00\", \"2020-10-05T00:00:00\", \"2020-10-06T00:00:00\", \"2020-10-07T00:00:00\", \"2020-10-08T00:00:00\", \"2020-10-09T00:00:00\", \"2020-10-10T00:00:00\", \"2020-10-11T00:00:00\", \"2020-10-12T00:00:00\", \"2020-10-13T00:00:00\", \"2020-10-14T00:00:00\", \"2020-10-15T00:00:00\", \"2020-10-16T00:00:00\", \"2020-10-17T00:00:00\", \"2020-10-18T00:00:00\", \"2020-10-19T00:00:00\", \"2020-10-20T00:00:00\", \"2020-10-21T00:00:00\", \"2020-10-22T00:00:00\", \"2020-10-23T00:00:00\", \"2020-10-24T00:00:00\", \"2020-10-25T00:00:00\", \"2020-10-26T00:00:00\", \"2020-10-27T00:00:00\", \"2020-10-28T00:00:00\", \"2020-10-29T00:00:00\", \"2020-10-30T00:00:00\", \"2020-10-31T00:00:00\", \"2020-11-01T00:00:00\", \"2020-11-02T00:00:00\", \"2020-11-03T00:00:00\", \"2020-11-04T00:00:00\", \"2020-11-05T00:00:00\", \"2020-11-06T00:00:00\", \"2020-11-07T00:00:00\", \"2020-11-08T00:00:00\", \"2020-11-09T00:00:00\", \"2020-11-10T00:00:00\", \"2020-11-11T00:00:00\", \"2020-11-12T00:00:00\", \"2020-11-13T00:00:00\", \"2020-11-14T00:00:00\", \"2020-11-15T00:00:00\", \"2020-11-16T00:00:00\", \"2020-11-17T00:00:00\", \"2020-11-18T00:00:00\", \"2020-11-19T00:00:00\", \"2020-11-20T00:00:00\", \"2020-11-21T00:00:00\", \"2020-11-22T00:00:00\", \"2020-11-23T00:00:00\", \"2020-11-24T00:00:00\", \"2020-11-25T00:00:00\", \"2020-11-26T00:00:00\", \"2020-11-27T00:00:00\", \"2020-11-28T00:00:00\", \"2020-11-29T00:00:00\", \"2020-11-30T00:00:00\", \"2020-12-01T00:00:00\", \"2020-12-02T00:00:00\", \"2020-12-03T00:00:00\", \"2020-12-04T00:00:00\", \"2020-12-05T00:00:00\", \"2020-12-06T00:00:00\", \"2020-12-07T00:00:00\", \"2020-12-08T00:00:00\", \"2020-12-09T00:00:00\", \"2020-12-10T00:00:00\", \"2020-12-11T00:00:00\", \"2020-12-12T00:00:00\", \"2020-12-13T00:00:00\", \"2020-12-14T00:00:00\", \"2020-12-15T00:00:00\", \"2020-12-16T00:00:00\", \"2020-12-17T00:00:00\", \"2020-12-18T00:00:00\", \"2020-12-19T00:00:00\", \"2020-12-20T00:00:00\", \"2020-12-21T00:00:00\", \"2020-12-22T00:00:00\", \"2020-12-23T00:00:00\", \"2020-12-24T00:00:00\", \"2020-12-25T00:00:00\", \"2020-12-26T00:00:00\", \"2020-12-27T00:00:00\", \"2020-12-28T00:00:00\", \"2020-12-29T00:00:00\", \"2020-12-30T00:00:00\", \"2020-12-31T00:00:00\", \"2021-01-01T00:00:00\", \"2021-01-02T00:00:00\", \"2021-01-03T00:00:00\", \"2021-01-04T00:00:00\", \"2021-01-05T00:00:00\", \"2021-01-06T00:00:00\", \"2021-01-07T00:00:00\", \"2021-01-08T00:00:00\", \"2021-01-09T00:00:00\", \"2021-01-10T00:00:00\", \"2021-01-11T00:00:00\", \"2021-01-12T00:00:00\", \"2021-01-13T00:00:00\", \"2021-01-14T00:00:00\", \"2021-01-15T00:00:00\", \"2021-01-16T00:00:00\", \"2021-01-17T00:00:00\", \"2021-01-18T00:00:00\", \"2021-01-19T00:00:00\", \"2021-01-20T00:00:00\", \"2021-01-21T00:00:00\", \"2021-01-22T00:00:00\", \"2021-01-23T00:00:00\", \"2021-01-24T00:00:00\", \"2021-01-25T00:00:00\", \"2021-01-26T00:00:00\", \"2021-01-27T00:00:00\", \"2021-01-28T00:00:00\", \"2021-01-29T00:00:00\", \"2021-01-30T00:00:00\", \"2021-01-31T00:00:00\", \"2021-02-01T00:00:00\", \"2021-02-02T00:00:00\", \"2021-02-03T00:00:00\", \"2021-02-04T00:00:00\", \"2021-02-05T00:00:00\", \"2021-02-06T00:00:00\", \"2021-02-07T00:00:00\", \"2021-02-08T00:00:00\", \"2021-02-09T00:00:00\", \"2021-02-10T00:00:00\", \"2021-02-11T00:00:00\", \"2021-02-12T00:00:00\", \"2021-02-13T00:00:00\", \"2021-02-14T00:00:00\", \"2021-02-15T00:00:00\", \"2021-02-16T00:00:00\", \"2021-02-17T00:00:00\", \"2021-02-18T00:00:00\", \"2021-02-19T00:00:00\", \"2021-02-20T00:00:00\", \"2021-02-21T00:00:00\", \"2021-02-22T00:00:00\", \"2021-02-23T00:00:00\", \"2021-02-24T00:00:00\", \"2021-02-25T00:00:00\", \"2021-02-26T00:00:00\", \"2021-02-27T00:00:00\", \"2021-02-28T00:00:00\", \"2021-03-01T00:00:00\", \"2021-03-02T00:00:00\", \"2021-03-03T00:00:00\", \"2021-03-04T00:00:00\", \"2021-03-05T00:00:00\", \"2021-03-06T00:00:00\", \"2021-03-07T00:00:00\", \"2021-03-08T00:00:00\", \"2021-03-09T00:00:00\", \"2021-03-10T00:00:00\", \"2021-03-11T00:00:00\", \"2021-03-12T00:00:00\", \"2021-03-13T00:00:00\", \"2021-03-14T00:00:00\", \"2021-03-15T00:00:00\", \"2021-03-16T00:00:00\", \"2021-03-17T00:00:00\", \"2021-03-18T00:00:00\", \"2021-03-19T00:00:00\", \"2021-03-20T00:00:00\", \"2021-03-21T00:00:00\", \"2021-03-22T00:00:00\", \"2021-03-23T00:00:00\", \"2021-03-24T00:00:00\", \"2021-03-25T00:00:00\", \"2021-03-26T00:00:00\", \"2021-03-27T00:00:00\", \"2021-03-28T00:00:00\", \"2021-03-29T00:00:00\", \"2021-03-30T00:00:00\", \"2021-03-31T00:00:00\", \"2021-04-01T00:00:00\", \"2021-04-02T00:00:00\", \"2021-04-03T00:00:00\", \"2021-04-04T00:00:00\", \"2021-04-05T00:00:00\", \"2021-04-06T00:00:00\", \"2021-04-07T00:00:00\", \"2021-04-08T00:00:00\", \"2021-04-09T00:00:00\", \"2021-04-10T00:00:00\", \"2021-04-11T00:00:00\", \"2021-04-12T00:00:00\", \"2021-04-13T00:00:00\", \"2021-04-14T00:00:00\", \"2021-04-15T00:00:00\", \"2021-04-16T00:00:00\", \"2021-04-17T00:00:00\", \"2021-04-18T00:00:00\", \"2021-04-19T00:00:00\", \"2021-04-20T00:00:00\", \"2021-04-21T00:00:00\", \"2021-04-22T00:00:00\", \"2021-04-23T00:00:00\", \"2021-04-24T00:00:00\", \"2021-04-25T00:00:00\", \"2021-04-26T00:00:00\", \"2021-04-27T00:00:00\", \"2021-04-28T00:00:00\", \"2021-04-29T00:00:00\", \"2021-04-30T00:00:00\", \"2021-05-01T00:00:00\", \"2021-05-02T00:00:00\", \"2021-05-03T00:00:00\", \"2021-05-04T00:00:00\", \"2021-05-05T00:00:00\", \"2021-05-06T00:00:00\", \"2021-05-07T00:00:00\", \"2021-05-08T00:00:00\", \"2021-05-09T00:00:00\", \"2021-05-10T00:00:00\", \"2021-05-11T00:00:00\", \"2021-05-12T00:00:00\", \"2021-05-13T00:00:00\", \"2021-05-14T00:00:00\", \"2021-05-15T00:00:00\", \"2021-05-16T00:00:00\", \"2021-05-17T00:00:00\", \"2021-05-18T00:00:00\", \"2021-05-19T00:00:00\", \"2021-05-20T00:00:00\", \"2021-05-21T00:00:00\", \"2021-05-22T00:00:00\", \"2021-05-23T00:00:00\", \"2021-05-24T00:00:00\", \"2021-05-25T00:00:00\", \"2021-05-26T00:00:00\", \"2021-05-27T00:00:00\", \"2021-05-28T00:00:00\", \"2021-05-29T00:00:00\"], \"y\": [3863697.876056333, 3863697.876056333, 3863697.8760563335, 3863697.87605634, 3863697.8760563857, 3863697.876056585, 3863697.8760572355, 3863697.8760589883, 3863697.8760630945, 3863697.8760717534, 3863697.876088573, 3863697.87611916, 3863697.8761718553, 3863697.8762586354, 3863697.876396188, 3863697.8766071866, 3863697.876921774, 3863697.8773792726, 3863697.8780301413, 3863697.8789381916, 3863697.880183076, 3863697.881863075, 3863697.884098188, 3863697.887033552, 3863697.8908432, 3863697.895734178, 3863697.901951034, 3863697.9097807007, 3863697.9195577786, 3863697.931670246, 3863697.946565608, 3863697.964757498, 3863697.9868327505, 3863698.0134589635, 3863698.045392563, 3863698.0834873887, 3863698.128703814, 3863698.1821184205, 3863698.244934239, 3863698.3184915786, 3863698.4042794537, 3863698.5039476315, 3863698.6193193095, 3863698.752404447, 3863698.905413761, 3863699.080773402, 3863699.281140335, 3863699.509418428, 3863699.768775277, 3863700.0626597754, 3863700.3948204503, 3863700.7693245746, 3863701.1905780793, 3863701.6633462748, 3863702.192775404, 3863702.784415039, 3863703.4442413365, 3863704.1786811757, 3863704.994637187, 3863705.89951369, 3863706.901243557, 3863708.0083160256, 3863709.229805459, 3863710.5754010906, 3863712.055437757, 3863713.680927635, 3863715.4635930075, 3863717.415900065, 3863719.5510937674, 3863721.8832337745, 3863724.4272314664, 3863727.198888072, 3863730.214933911, 3863733.493068784, 3863737.0520035056, 3863740.911502615, 3863745.09242827, 3863749.6167853405, 3863754.5077677295, 3863759.789805917, 3863765.488615766, 3863771.631248589, 3863778.2461425005, 3863785.3631750694, 3863793.013717288, 3863801.2306888746, 3863810.048614918, 3863819.503683897, 3863829.633807075, 3863840.478679292, 3863852.0798411705, 3863864.480742756, 3863877.7268085945, 3863891.8655042844, 3863906.946404493, 3863923.021262482, 3863940.144081133, 3863958.371185507, 3863977.7612969456, 3863998.3756087306, 3864020.2778633228, 3864043.5344311898, 3864068.2143912464, 3864094.3896129155, 3864122.1348398337, 3864151.527775213, 3864182.649168876, 3864215.5829059803, 3864250.41609745, 3864287.239172132, 3864326.1459706845, 3864367.2338412274, 3864410.603736759, 3864456.360314363, 3864504.612036218, 3864555.4712724243, 3864609.054405675, 3864665.4819377675, 3864724.8785979943, 3864787.3734534145, 3864853.100021024, 3864922.1963818455, 3864994.805296956, 3865071.0743254567, 3865151.155944413, 3865235.207670778, 3865323.3921853118, 3865415.877458518, 3865512.836878611, 3865614.4493815266, 3865720.899583005, 3865832.377912744, 3865949.0807506554, 3866071.2105652285, 3866198.9760540277, 3866332.5922863306, 3866472.280847928, 3866618.2699881033, 3866770.7947688038, 3866930.097216022, 3867096.426473404, 3867270.038958098, 3867451.198518865, 3867640.176596461, 3867837.252386312, 3868042.713003496, 3868256.85365005, 3868479.9777846118, 3868712.3972944263, 3868954.4326697155, 3869206.413180445, 3869468.6770554865, 3869741.571664212, 3870025.453700514, 3870320.689369291, 3870627.654575391, 3870946.735115052, 3871278.326869836, 3871622.8360030875, 3871980.6791589246, 3872352.2836637814, 3872738.0877305167, 3873138.5406651087, 3873554.1030759476, 3873985.2470857445, 3874432.4565460742, 3874896.2272545644, 3875377.0671747504, 3875875.496658613, 3876392.04867181, 3876927.269021625, 3877481.7165876436, 3878055.963555176, 3878650.5956514427, 3879266.212384539, 3879903.4272851935, 3880562.8681513374, 3881245.1772955023, 3881951.011795061, 3882681.0437453287, 3883435.9605155373, 3884216.4650077075, 3885023.275918425, 3885857.128003543, 3886718.772345825, 3887608.976625548, 3888528.5253940746, 3889478.220350418, 3890458.8806208116, 3891471.343041304, 3892516.462443388, 3893595.111942688, 3894708.1832307153, 3895856.586869715, 3897041.252590611, 3898263.1295940783, 3899523.186854742, 3900822.413428536, 3902161.8187632286, 3903542.4330121297, 3904965.3073510043, 3906431.514298197, 3907942.148037997, 3909498.3247472476, 3911101.182925223, 3912751.8837267905, 3914451.6112988656, 3916201.5731201875, 3918003.0003444226, 3919857.148146615, 3921765.2960730027, 3923728.7483942118, 3925748.8344618473, 3927826.9090684974, 3929964.3528111624, 3932162.572458134, 3934423.001319332, 3936747.0996201183, 3939136.3548786067, 3941592.28228648, 3944116.4250933337, 3946710.354994565, 3949375.6725228145, 3952114.007442989, 3954927.0191508704, 3957816.397075335, 3960783.861084195, 3963831.1618936784, 3966960.081481571, 3970172.4335040194, 3973470.0637160363, 3976854.850395699, 3980328.7047720756, 3983893.571456885, 3987551.428879914, 3991304.2897282005, 3995154.201389004, 3999103.246396581, 4003153.542882773, 4007307.2450314364, 4011566.5435367175, 4015933.6660651984, 4020410.877721925, 4025000.481520334, 4029704.818856098, 4034526.2699849023, 4039467.2545041684, 4044530.231838743, 4049717.7017305717, 4055032.204732362, 4060476.32270527, 4066052.679320607, 4071763.9405655987, 4077612.815253206, 4083602.0555360196, 4089734.457424255, 4096012.861307856, 4102440.1524827243, 4109019.2616810948, 4115753.1656060712, 4122644.887470333, 4129697.4975390416, 4136914.1136769485, 4144297.9018997313, 4151852.0769295725, 4159579.9027549913, 4167484.693194952, 4175569.812467261, 4183838.675761271, 4192294.7498149034, 4200941.553496017, 4209782.658388122, 4218821.689380473, 4228062.325262546, 4237508.299322913, 4247163.399952554, 4257031.471252579, 4267116.413646428, 4277422.184496521, 4287952.798725404, 4298712.329441386, 4309704.908568708, 4320934.727482226, 4332406.03764666, 4344123.151260402, 4356090.44190391, 4368312.34519269, 4380793.359434911, 4393538.046293631, 4406551.031453687, 4419837.005293233, 4433400.723559977, 4447247.008052092, 4461380.7473038575, 4475806.89727602, 4490530.482050897, 4505556.5945322495, 4520890.397149929, 4536537.12256931, 4552502.074405542, 4568790.627942627, 4585408.230857335, 4602360.403947974, 4619652.741868046, 4637290.913864789, 4655280.66452262, 4673627.81451151, 4692338.261340294, 4711417.980114941, 4730873.024301789, 4750709.526495779, 4770933.699193684, 4791551.835572359, 4812570.310272043, 4833995.580184691, 4855834.185247396, 4878092.749240887, 4900777.980593132, 4923896.673188053, 4947455.70717939, 4971462.049809704, 4995922.756234547, 5020844.970351823, 5046235.925636344, 5072102.945979601, 5098453.446534773, 5125294.934566975, 5152635.010308775, 5180481.367821004, 5208841.795858837, 5237724.1787432125, 5267136.49723757, 5297086.829429931, 5327583.351620354, 5358634.339213752, 5390248.167618116, 5422433.313148152, 5455198.35393433, 5488551.970837391, 5522502.948368311, 5557060.175613733, 5592232.647166904, 5628029.4640641045, 5664459.834726616, 5701533.075908228, 5739258.613648296, 5777645.98423037, 5816704.835146432, 5856444.926066712, 5896876.12981515, 5938008.433350481, 5979851.938752984, 6022416.864216898, 6065713.54504852, 6109752.434670018, 6154544.105628956, 6200099.250613557, 6246428.683473711, 6293543.340247768, 6341454.2801951, 6390172.686834468, 6439709.8689882085, 6490077.261832265, 6541286.427952031, 6593349.058404107, 6646276.973783912, 6700082.125299193, 6754776.595849458, 6810372.601111338, 6866882.490629895, 6924318.748915891, 6982693.996549045, 7042020.991287268, 7102312.6291819345, 7163581.945699164, 7225842.11684715, 7289106.460309566, 7353388.436585016, 7418701.650132614, 7485059.850523654, 7552476.933599401, 7620966.942635042, 7690544.069509776, 7761222.6558831055, 7833017.194377276, 7905942.329765968, 7980012.860169192, 8055243.738254413, 8131650.072443941, 8209247.128128614, 8288050.328887726, 8368075.257715297, 8449337.658252649, 8531853.436027315, 8615638.659698304, 8700709.56230776, 8787082.54253895, 8874774.165980717, 8963801.166398322, 9054180.447010709, 9145929.081774235, 9239064.316672882, 9333603.571014918, 9429564.438736094, 9526964.689709332, 9625822.27106093, 9726155.30849338, 9827982.107614685, 9931321.15527426, 10036191.1209055, 10142610.857874867, 10250599.404837672, 10360175.987100478, 10471360.017990168, 10584171.100229695, 10698629.027320514, 10814753.784931768, 10932565.552296113, 11052084.70361239, 11173331.809454996, 11296327.638190024, 11421093.157398231, 11547649.535304802, 11676018.142215913, 11806220.551962178, 11938278.54334893, 12072214.10161335, 12208049.419888541, 12345806.900674462, 12485509.157315817, 12627179.015486844, 12770839.514683086, 12916513.909720179, 13064225.672239471, 13213998.492220849, 13365856.279502433, 13519823.165307365, 13675923.503777672, 13834181.873515122, 13994623.079129249, 14157272.15279242, 14322154.355802074, 14489295.180150002, 14658720.350098893, 14830455.823765945, 15004527.79471375, 15180962.693548273, 15359787.189524136, 15541028.1921571, 15724712.852843761, 15910868.566488564, 16099522.973138105, 16290703.959622618, 16484439.661204908, 16680758.463236544, 16879689.00282146, 17081260.170486744, 17285501.111861046, 17492441.229360193, 17702110.183880318, 17914537.896498363, 18129754.550180025, 18347790.59149519, 18568676.732340824, 18792443.95167136, 19019123.497236557, 19248746.88732697, 19481345.91252685, 19716952.637474682, 19955599.40263125, 20197318.826055344, 20442143.80518695, 20690107.51863824, 20941243.427992035, 21195585.279608063, 21453167.106436715, 21714023.229840666, 21978188.26142407, 22245697.104869578, 22516584.957782954, 22790887.313545562, 23068639.963174626, 23349878.997191116, 23634640.80749567, 23922962.08925209, 24214879.842778854]}],\n",
              "                        {\"legend\": {\"traceorder\": \"normal\", \"x\": 0, \"y\": 1}, \"template\": {\"data\": {\"bar\": [{\"error_x\": {\"color\": \"#2a3f5f\"}, \"error_y\": {\"color\": \"#2a3f5f\"}, \"marker\": {\"line\": {\"color\": \"#E5ECF6\", \"width\": 0.5}}, \"type\": \"bar\"}], \"barpolar\": [{\"marker\": {\"line\": {\"color\": \"#E5ECF6\", \"width\": 0.5}}, \"type\": \"barpolar\"}], \"carpet\": [{\"aaxis\": {\"endlinecolor\": \"#2a3f5f\", \"gridcolor\": \"white\", \"linecolor\": \"white\", \"minorgridcolor\": \"white\", \"startlinecolor\": \"#2a3f5f\"}, \"baxis\": {\"endlinecolor\": \"#2a3f5f\", \"gridcolor\": \"white\", \"linecolor\": \"white\", \"minorgridcolor\": \"white\", \"startlinecolor\": \"#2a3f5f\"}, \"type\": \"carpet\"}], \"choropleth\": [{\"colorbar\": {\"outlinewidth\": 0, \"ticks\": \"\"}, \"type\": \"choropleth\"}], \"contour\": [{\"colorbar\": {\"outlinewidth\": 0, \"ticks\": \"\"}, \"colorscale\": [[0.0, \"#0d0887\"], [0.1111111111111111, \"#46039f\"], [0.2222222222222222, \"#7201a8\"], [0.3333333333333333, \"#9c179e\"], [0.4444444444444444, \"#bd3786\"], [0.5555555555555556, \"#d8576b\"], [0.6666666666666666, \"#ed7953\"], [0.7777777777777778, \"#fb9f3a\"], [0.8888888888888888, \"#fdca26\"], [1.0, \"#f0f921\"]], \"type\": \"contour\"}], \"contourcarpet\": [{\"colorbar\": {\"outlinewidth\": 0, \"ticks\": \"\"}, \"type\": \"contourcarpet\"}], \"heatmap\": [{\"colorbar\": {\"outlinewidth\": 0, \"ticks\": \"\"}, \"colorscale\": [[0.0, \"#0d0887\"], [0.1111111111111111, \"#46039f\"], [0.2222222222222222, \"#7201a8\"], [0.3333333333333333, \"#9c179e\"], [0.4444444444444444, \"#bd3786\"], [0.5555555555555556, \"#d8576b\"], [0.6666666666666666, \"#ed7953\"], [0.7777777777777778, \"#fb9f3a\"], [0.8888888888888888, \"#fdca26\"], [1.0, \"#f0f921\"]], \"type\": \"heatmap\"}], \"heatmapgl\": [{\"colorbar\": {\"outlinewidth\": 0, \"ticks\": \"\"}, \"colorscale\": [[0.0, \"#0d0887\"], [0.1111111111111111, \"#46039f\"], [0.2222222222222222, \"#7201a8\"], [0.3333333333333333, \"#9c179e\"], [0.4444444444444444, \"#bd3786\"], [0.5555555555555556, \"#d8576b\"], [0.6666666666666666, \"#ed7953\"], [0.7777777777777778, \"#fb9f3a\"], [0.8888888888888888, \"#fdca26\"], [1.0, \"#f0f921\"]], \"type\": \"heatmapgl\"}], \"histogram\": [{\"marker\": {\"colorbar\": {\"outlinewidth\": 0, \"ticks\": \"\"}}, \"type\": \"histogram\"}], \"histogram2d\": [{\"colorbar\": {\"outlinewidth\": 0, \"ticks\": \"\"}, \"colorscale\": [[0.0, \"#0d0887\"], [0.1111111111111111, \"#46039f\"], [0.2222222222222222, \"#7201a8\"], [0.3333333333333333, \"#9c179e\"], [0.4444444444444444, \"#bd3786\"], [0.5555555555555556, \"#d8576b\"], [0.6666666666666666, \"#ed7953\"], [0.7777777777777778, \"#fb9f3a\"], [0.8888888888888888, \"#fdca26\"], [1.0, \"#f0f921\"]], \"type\": \"histogram2d\"}], \"histogram2dcontour\": [{\"colorbar\": {\"outlinewidth\": 0, \"ticks\": \"\"}, \"colorscale\": [[0.0, \"#0d0887\"], [0.1111111111111111, \"#46039f\"], [0.2222222222222222, \"#7201a8\"], [0.3333333333333333, \"#9c179e\"], [0.4444444444444444, \"#bd3786\"], [0.5555555555555556, \"#d8576b\"], [0.6666666666666666, \"#ed7953\"], [0.7777777777777778, \"#fb9f3a\"], [0.8888888888888888, \"#fdca26\"], [1.0, \"#f0f921\"]], \"type\": \"histogram2dcontour\"}], \"mesh3d\": [{\"colorbar\": {\"outlinewidth\": 0, \"ticks\": \"\"}, \"type\": \"mesh3d\"}], \"parcoords\": [{\"line\": {\"colorbar\": {\"outlinewidth\": 0, \"ticks\": \"\"}}, \"type\": \"parcoords\"}], \"pie\": [{\"automargin\": true, \"type\": \"pie\"}], \"scatter\": [{\"marker\": {\"colorbar\": {\"outlinewidth\": 0, \"ticks\": \"\"}}, \"type\": \"scatter\"}], \"scatter3d\": [{\"line\": {\"colorbar\": {\"outlinewidth\": 0, \"ticks\": \"\"}}, \"marker\": {\"colorbar\": {\"outlinewidth\": 0, \"ticks\": \"\"}}, \"type\": \"scatter3d\"}], \"scattercarpet\": [{\"marker\": {\"colorbar\": {\"outlinewidth\": 0, \"ticks\": \"\"}}, \"type\": \"scattercarpet\"}], \"scattergeo\": [{\"marker\": {\"colorbar\": {\"outlinewidth\": 0, \"ticks\": \"\"}}, \"type\": \"scattergeo\"}], \"scattergl\": [{\"marker\": {\"colorbar\": {\"outlinewidth\": 0, \"ticks\": \"\"}}, \"type\": \"scattergl\"}], \"scattermapbox\": [{\"marker\": {\"colorbar\": {\"outlinewidth\": 0, \"ticks\": \"\"}}, \"type\": \"scattermapbox\"}], \"scatterpolar\": [{\"marker\": {\"colorbar\": {\"outlinewidth\": 0, \"ticks\": \"\"}}, \"type\": \"scatterpolar\"}], \"scatterpolargl\": [{\"marker\": {\"colorbar\": {\"outlinewidth\": 0, \"ticks\": \"\"}}, \"type\": \"scatterpolargl\"}], \"scatterternary\": [{\"marker\": {\"colorbar\": {\"outlinewidth\": 0, \"ticks\": \"\"}}, \"type\": \"scatterternary\"}], \"surface\": [{\"colorbar\": {\"outlinewidth\": 0, \"ticks\": \"\"}, \"colorscale\": [[0.0, \"#0d0887\"], [0.1111111111111111, \"#46039f\"], [0.2222222222222222, \"#7201a8\"], [0.3333333333333333, \"#9c179e\"], [0.4444444444444444, \"#bd3786\"], [0.5555555555555556, \"#d8576b\"], [0.6666666666666666, \"#ed7953\"], [0.7777777777777778, \"#fb9f3a\"], [0.8888888888888888, \"#fdca26\"], [1.0, \"#f0f921\"]], \"type\": \"surface\"}], \"table\": [{\"cells\": {\"fill\": {\"color\": \"#EBF0F8\"}, \"line\": {\"color\": \"white\"}}, \"header\": {\"fill\": {\"color\": \"#C8D4E3\"}, \"line\": {\"color\": \"white\"}}, \"type\": \"table\"}]}, \"layout\": {\"annotationdefaults\": {\"arrowcolor\": \"#2a3f5f\", \"arrowhead\": 0, \"arrowwidth\": 1}, \"coloraxis\": {\"colorbar\": {\"outlinewidth\": 0, \"ticks\": \"\"}}, \"colorscale\": {\"diverging\": [[0, \"#8e0152\"], [0.1, \"#c51b7d\"], [0.2, \"#de77ae\"], [0.3, \"#f1b6da\"], [0.4, \"#fde0ef\"], [0.5, \"#f7f7f7\"], [0.6, \"#e6f5d0\"], [0.7, \"#b8e186\"], [0.8, \"#7fbc41\"], [0.9, \"#4d9221\"], [1, \"#276419\"]], \"sequential\": [[0.0, \"#0d0887\"], [0.1111111111111111, \"#46039f\"], [0.2222222222222222, \"#7201a8\"], [0.3333333333333333, \"#9c179e\"], [0.4444444444444444, \"#bd3786\"], [0.5555555555555556, \"#d8576b\"], [0.6666666666666666, \"#ed7953\"], [0.7777777777777778, \"#fb9f3a\"], [0.8888888888888888, \"#fdca26\"], [1.0, \"#f0f921\"]], \"sequentialminus\": [[0.0, \"#0d0887\"], [0.1111111111111111, \"#46039f\"], [0.2222222222222222, \"#7201a8\"], [0.3333333333333333, \"#9c179e\"], [0.4444444444444444, \"#bd3786\"], [0.5555555555555556, \"#d8576b\"], [0.6666666666666666, \"#ed7953\"], [0.7777777777777778, \"#fb9f3a\"], [0.8888888888888888, \"#fdca26\"], [1.0, \"#f0f921\"]]}, \"colorway\": [\"#636efa\", \"#EF553B\", \"#00cc96\", \"#ab63fa\", \"#FFA15A\", \"#19d3f3\", \"#FF6692\", \"#B6E880\", \"#FF97FF\", \"#FECB52\"], \"font\": {\"color\": \"#2a3f5f\"}, \"geo\": {\"bgcolor\": \"white\", \"lakecolor\": \"white\", \"landcolor\": \"#E5ECF6\", \"showlakes\": true, \"showland\": true, \"subunitcolor\": \"white\"}, \"hoverlabel\": {\"align\": \"left\"}, \"hovermode\": \"closest\", \"mapbox\": {\"style\": \"light\"}, \"paper_bgcolor\": \"white\", \"plot_bgcolor\": \"#E5ECF6\", \"polar\": {\"angularaxis\": {\"gridcolor\": \"white\", \"linecolor\": \"white\", \"ticks\": \"\"}, \"bgcolor\": \"#E5ECF6\", \"radialaxis\": {\"gridcolor\": \"white\", \"linecolor\": \"white\", \"ticks\": \"\"}}, \"scene\": {\"xaxis\": {\"backgroundcolor\": \"#E5ECF6\", \"gridcolor\": \"white\", \"gridwidth\": 2, \"linecolor\": \"white\", \"showbackground\": true, \"ticks\": \"\", \"zerolinecolor\": \"white\"}, \"yaxis\": {\"backgroundcolor\": \"#E5ECF6\", \"gridcolor\": \"white\", \"gridwidth\": 2, \"linecolor\": \"white\", \"showbackground\": true, \"ticks\": \"\", \"zerolinecolor\": \"white\"}, \"zaxis\": {\"backgroundcolor\": \"#E5ECF6\", \"gridcolor\": \"white\", \"gridwidth\": 2, \"linecolor\": \"white\", \"showbackground\": true, \"ticks\": \"\", \"zerolinecolor\": \"white\"}}, \"shapedefaults\": {\"line\": {\"color\": \"#2a3f5f\"}}, \"ternary\": {\"aaxis\": {\"gridcolor\": \"white\", \"linecolor\": \"white\", \"ticks\": \"\"}, \"baxis\": {\"gridcolor\": \"white\", \"linecolor\": \"white\", \"ticks\": \"\"}, \"bgcolor\": \"#E5ECF6\", \"caxis\": {\"gridcolor\": \"white\", \"linecolor\": \"white\", \"ticks\": \"\"}}, \"title\": {\"x\": 0.05}, \"xaxis\": {\"automargin\": true, \"gridcolor\": \"white\", \"linecolor\": \"white\", \"ticks\": \"\", \"title\": {\"standoff\": 15}, \"zerolinecolor\": \"white\", \"zerolinewidth\": 2}, \"yaxis\": {\"automargin\": true, \"gridcolor\": \"white\", \"linecolor\": \"white\", \"ticks\": \"\", \"title\": {\"standoff\": 15}, \"zerolinecolor\": \"white\", \"zerolinewidth\": 2}}}, \"title\": {\"text\": \"Confirmed Cases Support Vectore Machine Regressor Prediction\"}, \"xaxis\": {\"title\": {\"text\": \"Date\"}}, \"yaxis\": {\"title\": {\"text\": \"Confirmed Cases\"}}},\n",
              "                        {\"responsive\": true}\n",
              "                    ).then(function(){\n",
              "                            \n",
              "var gd = document.getElementById('905b5c25-4df6-4121-b74b-b5cbe94b6037');\n",
              "var x = new MutationObserver(function (mutations, observer) {{\n",
              "        var display = window.getComputedStyle(gd).display;\n",
              "        if (!display || display === 'none') {{\n",
              "            console.log([gd, 'removed!']);\n",
              "            Plotly.purge(gd);\n",
              "            observer.disconnect();\n",
              "        }}\n",
              "}});\n",
              "\n",
              "// Listen for the removal of the full notebook cells\n",
              "var notebookContainer = gd.closest('#notebook-container');\n",
              "if (notebookContainer) {{\n",
              "    x.observe(notebookContainer, {childList: true});\n",
              "}}\n",
              "\n",
              "// Listen for the clearing of the current output cell\n",
              "var outputEl = gd.closest('.output');\n",
              "if (outputEl) {{\n",
              "    x.observe(outputEl, {childList: true});\n",
              "}}\n",
              "\n",
              "                        })\n",
              "                };\n",
              "                \n",
              "            </script>\n",
              "        </div>\n",
              "</body>\n",
              "</html>"
            ]
          },
          "metadata": {}
        },
        {
          "output_type": "display_data",
          "data": {
            "text/plain": [
              "<Figure size 792x432 with 0 Axes>"
            ]
          },
          "metadata": {}
        }
      ]
    },
    {
      "cell_type": "code",
      "metadata": {
        "execution": {
          "iopub.execute_input": "2021-11-30T10:48:25.921523Z",
          "iopub.status.busy": "2021-11-30T10:48:25.921106Z",
          "iopub.status.idle": "2021-11-30T10:48:25.929712Z",
          "shell.execute_reply": "2021-11-30T10:48:25.929146Z",
          "shell.execute_reply.started": "2021-11-30T10:48:25.921482Z"
        },
        "id": "py5BqLjvhOcs"
      },
      "source": [
        "new_date=[]\n",
        "new_prediction_svm=[]\n",
        "for i in range(1,18):\n",
        "    new_date.append(india_datewise.index[-1]+timedelta(days=i))\n",
        "    new_prediction_svm.append(svm.predict(np.array(india_datewise[\"Days Since\"].max()+i).reshape(-1,1))[0])"
      ],
      "execution_count": null,
      "outputs": []
    },
    {
      "cell_type": "code",
      "metadata": {
        "execution": {
          "iopub.execute_input": "2021-11-30T10:48:27.411364Z",
          "iopub.status.busy": "2021-11-30T10:48:27.411040Z",
          "iopub.status.idle": "2021-11-30T10:48:27.422338Z",
          "shell.execute_reply": "2021-11-30T10:48:27.421746Z",
          "shell.execute_reply.started": "2021-11-30T10:48:27.411330Z"
        },
        "colab": {
          "base_uri": "https://localhost:8080/",
          "height": 206
        },
        "id": "X5mnjCXdhOcs",
        "outputId": "e8bb7ce0-ec3c-442d-ad4a-78dfb4fbac04"
      },
      "source": [
        "model_predictions[\"SVM Prediction\"]=new_prediction_svm\n",
        "model_predictions.head()"
      ],
      "execution_count": null,
      "outputs": [
        {
          "output_type": "execute_result",
          "data": {
            "text/html": [
              "<div>\n",
              "<style scoped>\n",
              "    .dataframe tbody tr th:only-of-type {\n",
              "        vertical-align: middle;\n",
              "    }\n",
              "\n",
              "    .dataframe tbody tr th {\n",
              "        vertical-align: top;\n",
              "    }\n",
              "\n",
              "    .dataframe thead th {\n",
              "        text-align: right;\n",
              "    }\n",
              "</style>\n",
              "<table border=\"1\" class=\"dataframe\">\n",
              "  <thead>\n",
              "    <tr style=\"text-align: right;\">\n",
              "      <th></th>\n",
              "      <th>Date</th>\n",
              "      <th>Polynomial Regression Prediction</th>\n",
              "      <th>SVM Prediction</th>\n",
              "    </tr>\n",
              "  </thead>\n",
              "  <tbody>\n",
              "    <tr>\n",
              "      <th>0</th>\n",
              "      <td>2021-05-30</td>\n",
              "      <td>3.403157e+07</td>\n",
              "      <td>2.451043e+07</td>\n",
              "    </tr>\n",
              "    <tr>\n",
              "      <th>1</th>\n",
              "      <td>2021-05-31</td>\n",
              "      <td>3.477220e+07</td>\n",
              "      <td>2.480965e+07</td>\n",
              "    </tr>\n",
              "    <tr>\n",
              "      <th>2</th>\n",
              "      <td>2021-06-01</td>\n",
              "      <td>3.553059e+07</td>\n",
              "      <td>2.511259e+07</td>\n",
              "    </tr>\n",
              "    <tr>\n",
              "      <th>3</th>\n",
              "      <td>2021-06-02</td>\n",
              "      <td>3.630703e+07</td>\n",
              "      <td>2.541927e+07</td>\n",
              "    </tr>\n",
              "    <tr>\n",
              "      <th>4</th>\n",
              "      <td>2021-06-03</td>\n",
              "      <td>3.710183e+07</td>\n",
              "      <td>2.572973e+07</td>\n",
              "    </tr>\n",
              "  </tbody>\n",
              "</table>\n",
              "</div>"
            ],
            "text/plain": [
              "        Date  Polynomial Regression Prediction  SVM Prediction\n",
              "0 2021-05-30                      3.403157e+07    2.451043e+07\n",
              "1 2021-05-31                      3.477220e+07    2.480965e+07\n",
              "2 2021-06-01                      3.553059e+07    2.511259e+07\n",
              "3 2021-06-02                      3.630703e+07    2.541927e+07\n",
              "4 2021-06-03                      3.710183e+07    2.572973e+07"
            ]
          },
          "metadata": {},
          "execution_count": 30
        }
      ]
    },
    {
      "cell_type": "markdown",
      "metadata": {
        "id": "H9Pu6Je5hOcs"
      },
      "source": [
        "Time series Forecast models"
      ]
    },
    {
      "cell_type": "markdown",
      "metadata": {
        "id": "L2uBVl5ihOcs"
      },
      "source": [
        "Holt't Linear method"
      ]
    },
    {
      "cell_type": "code",
      "metadata": {
        "execution": {
          "iopub.execute_input": "2021-11-30T10:48:27.879335Z",
          "iopub.status.busy": "2021-11-30T10:48:27.878883Z",
          "iopub.status.idle": "2021-11-30T10:48:27.885112Z",
          "shell.execute_reply": "2021-11-30T10:48:27.884475Z",
          "shell.execute_reply.started": "2021-11-30T10:48:27.879302Z"
        },
        "id": "UIzOKA0OhOcs"
      },
      "source": [
        "model_train=india_datewise.iloc[:int(india_datewise.shape[0]*0.95)]\n",
        "valid=india_datewise.iloc[int(india_datewise.shape[0]*0.95):]\n",
        "y_pred=valid.copy()"
      ],
      "execution_count": null,
      "outputs": []
    },
    {
      "cell_type": "code",
      "metadata": {
        "execution": {
          "iopub.execute_input": "2021-11-30T10:48:28.056577Z",
          "iopub.status.busy": "2021-11-30T10:48:28.056042Z",
          "iopub.status.idle": "2021-11-30T10:48:28.068870Z",
          "shell.execute_reply": "2021-11-30T10:48:28.067734Z",
          "shell.execute_reply.started": "2021-11-30T10:48:28.056528Z"
        },
        "id": "ggF5Jr25hOct"
      },
      "source": [
        "holt=Holt(np.asarray(model_train[\"Confirmed\"])).fit(smoothing_level=0.3, smoothing_slope=1.2)"
      ],
      "execution_count": null,
      "outputs": []
    },
    {
      "cell_type": "code",
      "metadata": {
        "execution": {
          "iopub.execute_input": "2021-11-30T10:48:28.195309Z",
          "iopub.status.busy": "2021-11-30T10:48:28.194819Z",
          "iopub.status.idle": "2021-11-30T10:48:28.209622Z",
          "shell.execute_reply": "2021-11-30T10:48:28.208598Z",
          "shell.execute_reply.started": "2021-11-30T10:48:28.195260Z"
        },
        "colab": {
          "base_uri": "https://localhost:8080/"
        },
        "id": "-d1gPDh3hOct",
        "outputId": "bd6c145e-ed5a-46c7-b0a7-2d4b804ba5b9"
      },
      "source": [
        "y_pred[\"Holt\"]=holt.forecast(len(valid))\n",
        "rmse_holt_linear=np.sqrt(mean_squared_error(y_pred[\"Confirmed\"],y_pred[\"Holt\"]))\n",
        "model_scores.append(rmse_holt_linear)\n",
        "print(\"Root Mean Square Error Holt's Linear Model: \",rmse_holt_linear)"
      ],
      "execution_count": null,
      "outputs": [
        {
          "output_type": "stream",
          "name": "stdout",
          "text": [
            "Root Mean Square Error Holt's Linear Model:  857757.6976798134\n"
          ]
        }
      ]
    },
    {
      "cell_type": "code",
      "metadata": {
        "execution": {
          "iopub.execute_input": "2021-11-30T10:48:28.338877Z",
          "iopub.status.busy": "2021-11-30T10:48:28.338617Z",
          "iopub.status.idle": "2021-11-30T10:48:28.363642Z",
          "shell.execute_reply": "2021-11-30T10:48:28.363047Z",
          "shell.execute_reply.started": "2021-11-30T10:48:28.338850Z"
        },
        "colab": {
          "base_uri": "https://localhost:8080/",
          "height": 542
        },
        "id": "vFMtWRhWhOct",
        "outputId": "10af1236-da07-4530-e375-ffaef2538462"
      },
      "source": [
        "fig=go.Figure()\n",
        "fig.add_trace(go.Scatter(x=model_train.index, y=model_train[\"Confirmed\"],\n",
        "                    mode='lines+markers',name=\"Train Data for Confirmed Cases\"))\n",
        "fig.add_trace(go.Scatter(x=valid.index, y=valid[\"Confirmed\"],\n",
        "                    mode='lines+markers',name=\"Validation Data for Confirmed Cases\",))\n",
        "fig.add_trace(go.Scatter(x=valid.index, y=y_pred[\"Holt\"],\n",
        "                    mode='lines+markers',name=\"Prediction of Confirmed Cases\",))\n",
        "fig.update_layout(title=\"Confirmed Cases Holt's Linear Model Prediction\",\n",
        "                 xaxis_title=\"Date\",yaxis_title=\"Confirmed Cases\",legend=dict(x=0,y=1,traceorder=\"normal\"))\n",
        "fig.show()"
      ],
      "execution_count": null,
      "outputs": [
        {
          "output_type": "display_data",
          "data": {
            "text/html": [
              "<html>\n",
              "<head><meta charset=\"utf-8\" /></head>\n",
              "<body>\n",
              "    <div>\n",
              "            <script src=\"https://cdnjs.cloudflare.com/ajax/libs/mathjax/2.7.5/MathJax.js?config=TeX-AMS-MML_SVG\"></script><script type=\"text/javascript\">if (window.MathJax) {MathJax.Hub.Config({SVG: {font: \"STIX-Web\"}});}</script>\n",
              "                <script type=\"text/javascript\">window.PlotlyConfig = {MathJaxConfig: 'local'};</script>\n",
              "        <script src=\"https://cdn.plot.ly/plotly-latest.min.js\"></script>    \n",
              "            <div id=\"2d87d07d-386e-4a3e-a155-74b2d7e36707\" class=\"plotly-graph-div\" style=\"height:525px; width:100%;\"></div>\n",
              "            <script type=\"text/javascript\">\n",
              "                \n",
              "                    window.PLOTLYENV=window.PLOTLYENV || {};\n",
              "                    \n",
              "                if (document.getElementById(\"2d87d07d-386e-4a3e-a155-74b2d7e36707\")) {\n",
              "                    Plotly.newPlot(\n",
              "                        '2d87d07d-386e-4a3e-a155-74b2d7e36707',\n",
              "                        [{\"mode\": \"lines+markers\", \"name\": \"Train Data for Confirmed Cases\", \"type\": \"scatter\", \"x\": [\"2020-01-30T00:00:00\", \"2020-01-31T00:00:00\", \"2020-02-01T00:00:00\", \"2020-02-02T00:00:00\", \"2020-02-03T00:00:00\", \"2020-02-04T00:00:00\", \"2020-02-05T00:00:00\", \"2020-02-06T00:00:00\", \"2020-02-07T00:00:00\", \"2020-02-08T00:00:00\", \"2020-02-09T00:00:00\", \"2020-02-10T00:00:00\", \"2020-02-11T00:00:00\", \"2020-02-12T00:00:00\", \"2020-02-13T00:00:00\", \"2020-02-14T00:00:00\", \"2020-02-15T00:00:00\", \"2020-02-16T00:00:00\", \"2020-02-17T00:00:00\", \"2020-02-18T00:00:00\", \"2020-02-19T00:00:00\", \"2020-02-20T00:00:00\", \"2020-02-21T00:00:00\", \"2020-02-22T00:00:00\", \"2020-02-23T00:00:00\", \"2020-02-24T00:00:00\", \"2020-02-25T00:00:00\", \"2020-02-26T00:00:00\", \"2020-02-27T00:00:00\", \"2020-02-28T00:00:00\", \"2020-02-29T00:00:00\", \"2020-03-01T00:00:00\", \"2020-03-02T00:00:00\", \"2020-03-03T00:00:00\", \"2020-03-04T00:00:00\", \"2020-03-05T00:00:00\", \"2020-03-06T00:00:00\", \"2020-03-07T00:00:00\", \"2020-03-08T00:00:00\", \"2020-03-09T00:00:00\", \"2020-03-10T00:00:00\", \"2020-03-11T00:00:00\", \"2020-03-12T00:00:00\", \"2020-03-13T00:00:00\", \"2020-03-14T00:00:00\", \"2020-03-15T00:00:00\", \"2020-03-16T00:00:00\", \"2020-03-17T00:00:00\", \"2020-03-18T00:00:00\", \"2020-03-19T00:00:00\", \"2020-03-20T00:00:00\", \"2020-03-21T00:00:00\", \"2020-03-22T00:00:00\", \"2020-03-23T00:00:00\", \"2020-03-24T00:00:00\", \"2020-03-25T00:00:00\", \"2020-03-26T00:00:00\", \"2020-03-27T00:00:00\", \"2020-03-28T00:00:00\", \"2020-03-29T00:00:00\", \"2020-03-30T00:00:00\", \"2020-03-31T00:00:00\", \"2020-04-01T00:00:00\", \"2020-04-02T00:00:00\", \"2020-04-03T00:00:00\", \"2020-04-04T00:00:00\", \"2020-04-05T00:00:00\", \"2020-04-06T00:00:00\", \"2020-04-07T00:00:00\", \"2020-04-08T00:00:00\", \"2020-04-09T00:00:00\", \"2020-04-10T00:00:00\", \"2020-04-11T00:00:00\", \"2020-04-12T00:00:00\", \"2020-04-13T00:00:00\", \"2020-04-14T00:00:00\", \"2020-04-15T00:00:00\", \"2020-04-16T00:00:00\", \"2020-04-17T00:00:00\", \"2020-04-18T00:00:00\", \"2020-04-19T00:00:00\", \"2020-04-20T00:00:00\", \"2020-04-21T00:00:00\", \"2020-04-22T00:00:00\", \"2020-04-23T00:00:00\", \"2020-04-24T00:00:00\", \"2020-04-25T00:00:00\", \"2020-04-26T00:00:00\", \"2020-04-27T00:00:00\", \"2020-04-28T00:00:00\", \"2020-04-29T00:00:00\", \"2020-04-30T00:00:00\", \"2020-05-01T00:00:00\", \"2020-05-02T00:00:00\", \"2020-05-03T00:00:00\", \"2020-05-04T00:00:00\", \"2020-05-05T00:00:00\", \"2020-05-06T00:00:00\", \"2020-05-07T00:00:00\", \"2020-05-08T00:00:00\", \"2020-05-09T00:00:00\", \"2020-05-10T00:00:00\", \"2020-05-11T00:00:00\", \"2020-05-12T00:00:00\", \"2020-05-13T00:00:00\", \"2020-05-14T00:00:00\", \"2020-05-15T00:00:00\", \"2020-05-16T00:00:00\", \"2020-05-17T00:00:00\", \"2020-05-18T00:00:00\", \"2020-05-19T00:00:00\", \"2020-05-20T00:00:00\", \"2020-05-21T00:00:00\", \"2020-05-22T00:00:00\", \"2020-05-23T00:00:00\", \"2020-05-24T00:00:00\", \"2020-05-25T00:00:00\", \"2020-05-26T00:00:00\", \"2020-05-27T00:00:00\", \"2020-05-28T00:00:00\", \"2020-05-29T00:00:00\", \"2020-05-30T00:00:00\", \"2020-05-31T00:00:00\", \"2020-06-01T00:00:00\", \"2020-06-02T00:00:00\", \"2020-06-03T00:00:00\", \"2020-06-04T00:00:00\", \"2020-06-05T00:00:00\", \"2020-06-06T00:00:00\", \"2020-06-07T00:00:00\", \"2020-06-08T00:00:00\", \"2020-06-09T00:00:00\", \"2020-06-10T00:00:00\", \"2020-06-11T00:00:00\", \"2020-06-12T00:00:00\", \"2020-06-13T00:00:00\", \"2020-06-14T00:00:00\", \"2020-06-15T00:00:00\", \"2020-06-16T00:00:00\", \"2020-06-17T00:00:00\", \"2020-06-18T00:00:00\", \"2020-06-19T00:00:00\", \"2020-06-20T00:00:00\", \"2020-06-21T00:00:00\", \"2020-06-22T00:00:00\", \"2020-06-23T00:00:00\", \"2020-06-24T00:00:00\", \"2020-06-25T00:00:00\", \"2020-06-26T00:00:00\", \"2020-06-27T00:00:00\", \"2020-06-28T00:00:00\", \"2020-06-29T00:00:00\", \"2020-06-30T00:00:00\", \"2020-07-01T00:00:00\", \"2020-07-02T00:00:00\", \"2020-07-03T00:00:00\", \"2020-07-04T00:00:00\", \"2020-07-05T00:00:00\", \"2020-07-06T00:00:00\", \"2020-07-07T00:00:00\", \"2020-07-08T00:00:00\", \"2020-07-09T00:00:00\", \"2020-07-10T00:00:00\", \"2020-07-11T00:00:00\", \"2020-07-12T00:00:00\", \"2020-07-13T00:00:00\", \"2020-07-14T00:00:00\", \"2020-07-15T00:00:00\", \"2020-07-16T00:00:00\", \"2020-07-17T00:00:00\", \"2020-07-18T00:00:00\", \"2020-07-19T00:00:00\", \"2020-07-20T00:00:00\", \"2020-07-21T00:00:00\", \"2020-07-22T00:00:00\", \"2020-07-23T00:00:00\", \"2020-07-24T00:00:00\", \"2020-07-25T00:00:00\", \"2020-07-26T00:00:00\", \"2020-07-27T00:00:00\", \"2020-07-28T00:00:00\", \"2020-07-29T00:00:00\", \"2020-07-30T00:00:00\", \"2020-07-31T00:00:00\", \"2020-08-01T00:00:00\", \"2020-08-02T00:00:00\", \"2020-08-03T00:00:00\", \"2020-08-04T00:00:00\", \"2020-08-05T00:00:00\", \"2020-08-06T00:00:00\", \"2020-08-07T00:00:00\", \"2020-08-08T00:00:00\", \"2020-08-09T00:00:00\", \"2020-08-10T00:00:00\", \"2020-08-11T00:00:00\", \"2020-08-12T00:00:00\", \"2020-08-13T00:00:00\", \"2020-08-14T00:00:00\", \"2020-08-15T00:00:00\", \"2020-08-16T00:00:00\", \"2020-08-17T00:00:00\", \"2020-08-18T00:00:00\", \"2020-08-19T00:00:00\", \"2020-08-20T00:00:00\", \"2020-08-21T00:00:00\", \"2020-08-22T00:00:00\", \"2020-08-23T00:00:00\", \"2020-08-24T00:00:00\", \"2020-08-25T00:00:00\", \"2020-08-26T00:00:00\", \"2020-08-27T00:00:00\", \"2020-08-28T00:00:00\", \"2020-08-29T00:00:00\", \"2020-08-30T00:00:00\", \"2020-08-31T00:00:00\", \"2020-09-01T00:00:00\", \"2020-09-02T00:00:00\", \"2020-09-03T00:00:00\", \"2020-09-04T00:00:00\", \"2020-09-05T00:00:00\", \"2020-09-06T00:00:00\", \"2020-09-07T00:00:00\", \"2020-09-08T00:00:00\", \"2020-09-09T00:00:00\", \"2020-09-10T00:00:00\", \"2020-09-11T00:00:00\", \"2020-09-12T00:00:00\", \"2020-09-13T00:00:00\", \"2020-09-14T00:00:00\", \"2020-09-15T00:00:00\", \"2020-09-16T00:00:00\", \"2020-09-17T00:00:00\", \"2020-09-18T00:00:00\", \"2020-09-19T00:00:00\", \"2020-09-20T00:00:00\", \"2020-09-21T00:00:00\", \"2020-09-22T00:00:00\", \"2020-09-23T00:00:00\", \"2020-09-24T00:00:00\", \"2020-09-25T00:00:00\", \"2020-09-26T00:00:00\", \"2020-09-27T00:00:00\", \"2020-09-28T00:00:00\", \"2020-09-29T00:00:00\", \"2020-09-30T00:00:00\", \"2020-10-01T00:00:00\", \"2020-10-02T00:00:00\", \"2020-10-03T00:00:00\", \"2020-10-04T00:00:00\", \"2020-10-05T00:00:00\", \"2020-10-06T00:00:00\", \"2020-10-07T00:00:00\", \"2020-10-08T00:00:00\", \"2020-10-09T00:00:00\", \"2020-10-10T00:00:00\", \"2020-10-11T00:00:00\", \"2020-10-12T00:00:00\", \"2020-10-13T00:00:00\", \"2020-10-14T00:00:00\", \"2020-10-15T00:00:00\", \"2020-10-16T00:00:00\", \"2020-10-17T00:00:00\", \"2020-10-18T00:00:00\", \"2020-10-19T00:00:00\", \"2020-10-20T00:00:00\", \"2020-10-21T00:00:00\", \"2020-10-22T00:00:00\", \"2020-10-23T00:00:00\", \"2020-10-24T00:00:00\", \"2020-10-25T00:00:00\", \"2020-10-26T00:00:00\", \"2020-10-27T00:00:00\", \"2020-10-28T00:00:00\", \"2020-10-29T00:00:00\", \"2020-10-30T00:00:00\", \"2020-10-31T00:00:00\", \"2020-11-01T00:00:00\", \"2020-11-02T00:00:00\", \"2020-11-03T00:00:00\", \"2020-11-04T00:00:00\", \"2020-11-05T00:00:00\", \"2020-11-06T00:00:00\", \"2020-11-07T00:00:00\", \"2020-11-08T00:00:00\", \"2020-11-09T00:00:00\", \"2020-11-10T00:00:00\", \"2020-11-11T00:00:00\", \"2020-11-12T00:00:00\", \"2020-11-13T00:00:00\", \"2020-11-14T00:00:00\", \"2020-11-15T00:00:00\", \"2020-11-16T00:00:00\", \"2020-11-17T00:00:00\", \"2020-11-18T00:00:00\", \"2020-11-19T00:00:00\", \"2020-11-20T00:00:00\", \"2020-11-21T00:00:00\", \"2020-11-22T00:00:00\", \"2020-11-23T00:00:00\", \"2020-11-24T00:00:00\", \"2020-11-25T00:00:00\", \"2020-11-26T00:00:00\", \"2020-11-27T00:00:00\", \"2020-11-28T00:00:00\", \"2020-11-29T00:00:00\", \"2020-11-30T00:00:00\", \"2020-12-01T00:00:00\", \"2020-12-02T00:00:00\", \"2020-12-03T00:00:00\", \"2020-12-04T00:00:00\", \"2020-12-05T00:00:00\", \"2020-12-06T00:00:00\", \"2020-12-07T00:00:00\", \"2020-12-08T00:00:00\", \"2020-12-09T00:00:00\", \"2020-12-10T00:00:00\", \"2020-12-11T00:00:00\", \"2020-12-12T00:00:00\", \"2020-12-13T00:00:00\", \"2020-12-14T00:00:00\", \"2020-12-15T00:00:00\", \"2020-12-16T00:00:00\", \"2020-12-17T00:00:00\", \"2020-12-18T00:00:00\", \"2020-12-19T00:00:00\", \"2020-12-20T00:00:00\", \"2020-12-21T00:00:00\", \"2020-12-22T00:00:00\", \"2020-12-23T00:00:00\", \"2020-12-24T00:00:00\", \"2020-12-25T00:00:00\", \"2020-12-26T00:00:00\", \"2020-12-27T00:00:00\", \"2020-12-28T00:00:00\", \"2020-12-29T00:00:00\", \"2020-12-30T00:00:00\", \"2020-12-31T00:00:00\", \"2021-01-01T00:00:00\", \"2021-01-02T00:00:00\", \"2021-01-03T00:00:00\", \"2021-01-04T00:00:00\", \"2021-01-05T00:00:00\", \"2021-01-06T00:00:00\", \"2021-01-07T00:00:00\", \"2021-01-08T00:00:00\", \"2021-01-09T00:00:00\", \"2021-01-10T00:00:00\", \"2021-01-11T00:00:00\", \"2021-01-12T00:00:00\", \"2021-01-13T00:00:00\", \"2021-01-14T00:00:00\", \"2021-01-15T00:00:00\", \"2021-01-16T00:00:00\", \"2021-01-17T00:00:00\", \"2021-01-18T00:00:00\", \"2021-01-19T00:00:00\", \"2021-01-20T00:00:00\", \"2021-01-21T00:00:00\", \"2021-01-22T00:00:00\", \"2021-01-23T00:00:00\", \"2021-01-24T00:00:00\", \"2021-01-25T00:00:00\", \"2021-01-26T00:00:00\", \"2021-01-27T00:00:00\", \"2021-01-28T00:00:00\", \"2021-01-29T00:00:00\", \"2021-01-30T00:00:00\", \"2021-01-31T00:00:00\", \"2021-02-01T00:00:00\", \"2021-02-02T00:00:00\", \"2021-02-03T00:00:00\", \"2021-02-04T00:00:00\", \"2021-02-05T00:00:00\", \"2021-02-06T00:00:00\", \"2021-02-07T00:00:00\", \"2021-02-08T00:00:00\", \"2021-02-09T00:00:00\", \"2021-02-10T00:00:00\", \"2021-02-11T00:00:00\", \"2021-02-12T00:00:00\", \"2021-02-13T00:00:00\", \"2021-02-14T00:00:00\", \"2021-02-15T00:00:00\", \"2021-02-16T00:00:00\", \"2021-02-17T00:00:00\", \"2021-02-18T00:00:00\", \"2021-02-19T00:00:00\", \"2021-02-20T00:00:00\", \"2021-02-21T00:00:00\", \"2021-02-22T00:00:00\", \"2021-02-23T00:00:00\", \"2021-02-24T00:00:00\", \"2021-02-25T00:00:00\", \"2021-02-26T00:00:00\", \"2021-02-27T00:00:00\", \"2021-02-28T00:00:00\", \"2021-03-01T00:00:00\", \"2021-03-02T00:00:00\", \"2021-03-03T00:00:00\", \"2021-03-04T00:00:00\", \"2021-03-05T00:00:00\", \"2021-03-06T00:00:00\", \"2021-03-07T00:00:00\", \"2021-03-08T00:00:00\", \"2021-03-09T00:00:00\", \"2021-03-10T00:00:00\", \"2021-03-11T00:00:00\", \"2021-03-12T00:00:00\", \"2021-03-13T00:00:00\", \"2021-03-14T00:00:00\", \"2021-03-15T00:00:00\", \"2021-03-16T00:00:00\", \"2021-03-17T00:00:00\", \"2021-03-18T00:00:00\", \"2021-03-19T00:00:00\", \"2021-03-20T00:00:00\", \"2021-03-21T00:00:00\", \"2021-03-22T00:00:00\", \"2021-03-23T00:00:00\", \"2021-03-24T00:00:00\", \"2021-03-25T00:00:00\", \"2021-03-26T00:00:00\", \"2021-03-27T00:00:00\", \"2021-03-28T00:00:00\", \"2021-03-29T00:00:00\", \"2021-03-30T00:00:00\", \"2021-03-31T00:00:00\", \"2021-04-01T00:00:00\", \"2021-04-02T00:00:00\", \"2021-04-03T00:00:00\", \"2021-04-04T00:00:00\", \"2021-04-05T00:00:00\", \"2021-04-06T00:00:00\", \"2021-04-07T00:00:00\", \"2021-04-08T00:00:00\", \"2021-04-09T00:00:00\", \"2021-04-10T00:00:00\", \"2021-04-11T00:00:00\", \"2021-04-12T00:00:00\", \"2021-04-13T00:00:00\", \"2021-04-14T00:00:00\", \"2021-04-15T00:00:00\", \"2021-04-16T00:00:00\", \"2021-04-17T00:00:00\", \"2021-04-18T00:00:00\", \"2021-04-19T00:00:00\", \"2021-04-20T00:00:00\", \"2021-04-21T00:00:00\", \"2021-04-22T00:00:00\", \"2021-04-23T00:00:00\", \"2021-04-24T00:00:00\", \"2021-04-25T00:00:00\", \"2021-04-26T00:00:00\", \"2021-04-27T00:00:00\", \"2021-04-28T00:00:00\", \"2021-04-29T00:00:00\", \"2021-04-30T00:00:00\", \"2021-05-01T00:00:00\", \"2021-05-02T00:00:00\", \"2021-05-03T00:00:00\", \"2021-05-04T00:00:00\"], \"y\": [1.0, 1.0, 1.0, 2.0, 3.0, 3.0, 3.0, 3.0, 3.0, 3.0, 3.0, 3.0, 3.0, 3.0, 3.0, 3.0, 3.0, 3.0, 3.0, 3.0, 3.0, 3.0, 3.0, 3.0, 3.0, 3.0, 3.0, 3.0, 3.0, 3.0, 3.0, 3.0, 5.0, 5.0, 28.0, 30.0, 31.0, 34.0, 39.0, 43.0, 56.0, 62.0, 73.0, 82.0, 102.0, 113.0, 119.0, 142.0, 156.0, 194.0, 244.0, 330.0, 396.0, 499.0, 536.0, 657.0, 727.0, 887.0, 987.0, 1024.0, 1251.0, 1397.0, 1998.0, 2543.0, 2567.0, 3082.0, 3588.0, 4778.0, 5311.0, 5916.0, 6725.0, 7598.0, 8446.0, 9205.0, 10453.0, 11487.0, 12322.0, 13430.0, 14352.0, 15722.0, 17615.0, 18539.0, 20080.0, 21370.0, 23077.0, 24530.0, 26283.0, 27890.0, 29451.0, 31324.0, 33062.0, 34863.0, 37257.0, 39699.0, 42505.0, 46437.0, 49400.0, 52987.0, 56351.0, 59695.0, 62808.0, 67161.0, 70768.0, 74292.0, 78055.0, 81997.0, 85784.0, 90648.0, 95698.0, 100328.0, 106475.0, 112028.0, 118226.0, 124794.0, 131423.0, 138536.0, 144950.0, 150793.0, 158086.0, 165386.0, 173491.0, 181827.0, 190609.0, 198370.0, 207191.0, 216824.0, 226713.0, 236184.0, 246622.0, 257486.0, 265928.0, 276146.0, 276583.0, 297535.0, 297535.0, 308993.0, 320922.0, 343091.0, 354065.0, 366946.0, 380532.0, 395048.0, 410461.0, 425282.0, 440215.0, 456183.0, 473105.0, 490401.0, 508953.0, 528859.0, 548318.0, 566840.0, 585493.0, 604641.0, 625544.0, 648315.0, 673165.0, 697413.0, 719664.0, 742417.0, 767296.0, 793802.0, 820916.0, 849522.0, 878254.0, 906752.0, 936181.0, 968857.0, 1003832.0, 1039084.0, 1077781.0, 1118206.0, 1155338.0, 1193078.0, 1238798.0, 1288108.0, 1337024.0, 1385635.0, 1435616.0, 1480073.0, 1483156.0, 1581963.0, 1634746.0, 1695988.0, 1750723.0, 1803695.0, 1855745.0, 1908254.0, 1964536.0, 2027074.0, 2088611.0, 2153010.0, 2215074.0, 2268675.0, 2329638.0, 2396637.0, 2461190.0, 2525922.0, 2589952.0, 2647663.0, 2702681.0, 2767253.0, 2836925.0, 2905825.0, 2975701.0, 3044940.0, 3106348.0, 3167323.0, 3224547.0, 3310234.0, 3387500.0, 3463972.0, 3542733.0, 3621245.0, 3691166.0, 3769523.0, 3853406.0, 3936747.0, 4023179.0, 4113811.0, 4204613.0, 4280422.0, 4370128.0, 4465863.0, 4562414.0, 4659984.0, 4754356.0, 4846427.0, 4846427.0, 5020359.0, 5118253.0, 5214677.0, 5308014.0, 5400619.0, 5487580.0, 5562663.0, 5646010.0, 5732518.0, 5818570.0, 5903932.0, 5992532.0, 6074702.0, 6145291.0, 6225763.0, 6312584.0, 6386526.0, 6473544.0, 6549373.0, 6623815.0, 6685082.0, 6757131.0, 6835655.0, 6906151.0, 6979423.0, 7053806.0, 7120538.0, 7175880.0, 7239389.0, 7307097.0, 7370468.0, 7432680.0, 7494551.0, 7550273.0, 7597063.0, 7651107.0, 7706946.0, 7761312.0, 7814682.0, 7864811.0, 7909959.0, 7946429.0, 7990322.0, 8040203.0, 8088851.0, 8137119.0, 8184082.0, 8229313.0, 8267623.0, 8313876.0, 8364086.0, 8411724.0, 8462080.0, 8507754.0, 8553657.0, 8591730.0, 8636011.0, 8683916.0, 8728795.0, 8773479.0, 8814579.0, 8845127.0, 8873541.0, 8912907.0, 8958483.0, 9004365.0, 9050597.0, 9095806.0, 9139865.0, 9177840.0, 9222216.0, 9266705.0, 9309787.0, 9351109.0, 9392919.0, 9431691.0, 9462809.0, 9499413.0, 9534964.0, 9571559.0, 9608211.0, 9644222.0, 9677203.0, 9703770.0, 9735850.0, 9767371.0, 9796744.0, 9826775.0, 9857029.0, 9884100.0, 9906165.0, 9932547.0, 9956557.0, 9979447.0, 10004599.0, 10031223.0, 10055560.0, 10075116.0, 10099066.0, 10123778.0, 10146845.0, 10169118.0, 10187850.0, 10207871.0, 10224303.0, 10244852.0, 10266674.0, 10266674.0, 10286709.0, 10323965.0, 10340469.0, 10356844.0, 10374932.0, 10395278.0, 10413417.0, 10413417.0, 10450284.0, 10466595.0, 10479179.0, 10495147.0, 10512093.0, 10527683.0, 10542841.0, 10557985.0, 10571773.0, 10581823.0, 10595639.0, 10610883.0, 10625428.0, 10639684.0, 10654533.0, 10667736.0, 10676838.0, 10689527.0, 10701193.0, 10720048.0, 10733130.0, 10746174.0, 10757610.0, 10766245.0, 10777284.0, 10790183.0, 10802591.0, 10814304.0, 10826363.0, 10838194.0, 10847304.0, 10858371.0, 10871294.0, 10880603.0, 10892746.0, 10904940.0, 10916589.0, 10925710.0, 10937320.0, 10950201.0, 10963394.0, 10977387.0, 10991651.0, 11005850.0, 11016434.0, 11030176.0, 11046914.0, 11063491.0, 11079979.0, 11096731.0, 11112241.0, 11124527.0, 11139516.0, 11156923.0, 11173761.0, 11192045.0, 11210799.0, 11229398.0, 11244786.0, 11262707.0, 11285561.0, 11308846.0, 11333728.0, 11359048.0, 11385339.0, 11409831.0, 11438734.0, 11474605.0, 11514331.0, 11555284.0, 11599130.0, 11646081.0, 11686796.0, 11734058.0, 11787534.0, 11846652.0, 11908910.0, 11971624.0, 12039644.0, 12095855.0, 12149335.0, 12221665.0, 12303131.0, 12392260.0, 12485509.0, 12589067.0, 12686049.0, 12801785.0, 12928574.0, 13060542.0, 13205926.0, 13358805.0, 13527717.0, 13689453.0, 13873825.0, 14074564.0, 14291917.0, 14526609.0, 14788003.0, 15061805.0, 15320972.0, 15616130.0, 15930774.0, 16263695.0, 16610481.0, 16960172.0, 17313163.0, 17636186.0, 17997113.0, 18376421.0, 18762976.0, 19164969.0, 19557457.0, 19925517.0, 20282833.0, 20664979.0]}, {\"mode\": \"lines+markers\", \"name\": \"Validation Data for Confirmed Cases\", \"type\": \"scatter\", \"x\": [\"2021-05-05T00:00:00\", \"2021-05-06T00:00:00\", \"2021-05-07T00:00:00\", \"2021-05-08T00:00:00\", \"2021-05-09T00:00:00\", \"2021-05-10T00:00:00\", \"2021-05-11T00:00:00\", \"2021-05-12T00:00:00\", \"2021-05-13T00:00:00\", \"2021-05-14T00:00:00\", \"2021-05-15T00:00:00\", \"2021-05-16T00:00:00\", \"2021-05-17T00:00:00\", \"2021-05-18T00:00:00\", \"2021-05-19T00:00:00\", \"2021-05-20T00:00:00\", \"2021-05-21T00:00:00\", \"2021-05-22T00:00:00\", \"2021-05-23T00:00:00\", \"2021-05-24T00:00:00\", \"2021-05-25T00:00:00\", \"2021-05-26T00:00:00\", \"2021-05-27T00:00:00\", \"2021-05-28T00:00:00\", \"2021-05-29T00:00:00\"], \"y\": [21077410.0, 21491598.0, 21892676.0, 22296081.0, 22662575.0, 22992517.0, 23340938.0, 23703665.0, 24046809.0, 24372907.0, 24684077.0, 24965463.0, 25228996.0, 25496330.0, 25772440.0, 26031991.0, 26289290.0, 26530132.0, 26752447.0, 26948874.0, 27157795.0, 27369093.0, 27555457.0, 27729247.0, 27894800.0]}, {\"mode\": \"lines+markers\", \"name\": \"Prediction of Confirmed Cases\", \"type\": \"scatter\", \"x\": [\"2021-05-05T00:00:00\", \"2021-05-06T00:00:00\", \"2021-05-07T00:00:00\", \"2021-05-08T00:00:00\", \"2021-05-09T00:00:00\", \"2021-05-10T00:00:00\", \"2021-05-11T00:00:00\", \"2021-05-12T00:00:00\", \"2021-05-13T00:00:00\", \"2021-05-14T00:00:00\", \"2021-05-15T00:00:00\", \"2021-05-16T00:00:00\", \"2021-05-17T00:00:00\", \"2021-05-18T00:00:00\", \"2021-05-19T00:00:00\", \"2021-05-20T00:00:00\", \"2021-05-21T00:00:00\", \"2021-05-22T00:00:00\", \"2021-05-23T00:00:00\", \"2021-05-24T00:00:00\", \"2021-05-25T00:00:00\", \"2021-05-26T00:00:00\", \"2021-05-27T00:00:00\", \"2021-05-28T00:00:00\", \"2021-05-29T00:00:00\"], \"y\": [21062871.207499072, 21432811.901517306, 21802752.59553554, 22172693.289553776, 22542633.98357201, 22912574.677590244, 23282515.371608477, 23652456.06562671, 24022396.759644948, 24392337.45366318, 24762278.147681415, 25132218.84169965, 25502159.535717882, 25872100.22973612, 26242040.92375435, 26611981.617772587, 26981922.31179082, 27351863.005809054, 27721803.699827287, 28091744.39384552, 28461685.08786376, 28831625.78188199, 29201566.475900225, 29571507.16991846, 29941447.863936692]}],\n",
              "                        {\"legend\": {\"traceorder\": \"normal\", \"x\": 0, \"y\": 1}, \"template\": {\"data\": {\"bar\": [{\"error_x\": {\"color\": \"#2a3f5f\"}, \"error_y\": {\"color\": \"#2a3f5f\"}, \"marker\": {\"line\": {\"color\": \"#E5ECF6\", \"width\": 0.5}}, \"type\": \"bar\"}], \"barpolar\": [{\"marker\": {\"line\": {\"color\": \"#E5ECF6\", \"width\": 0.5}}, \"type\": \"barpolar\"}], \"carpet\": [{\"aaxis\": {\"endlinecolor\": \"#2a3f5f\", \"gridcolor\": \"white\", \"linecolor\": \"white\", \"minorgridcolor\": \"white\", \"startlinecolor\": \"#2a3f5f\"}, \"baxis\": {\"endlinecolor\": \"#2a3f5f\", \"gridcolor\": \"white\", \"linecolor\": \"white\", \"minorgridcolor\": \"white\", \"startlinecolor\": \"#2a3f5f\"}, \"type\": \"carpet\"}], \"choropleth\": [{\"colorbar\": {\"outlinewidth\": 0, \"ticks\": \"\"}, \"type\": \"choropleth\"}], \"contour\": [{\"colorbar\": {\"outlinewidth\": 0, \"ticks\": \"\"}, \"colorscale\": [[0.0, \"#0d0887\"], [0.1111111111111111, \"#46039f\"], [0.2222222222222222, \"#7201a8\"], [0.3333333333333333, \"#9c179e\"], [0.4444444444444444, \"#bd3786\"], [0.5555555555555556, \"#d8576b\"], [0.6666666666666666, \"#ed7953\"], [0.7777777777777778, \"#fb9f3a\"], [0.8888888888888888, \"#fdca26\"], [1.0, \"#f0f921\"]], \"type\": \"contour\"}], \"contourcarpet\": [{\"colorbar\": {\"outlinewidth\": 0, \"ticks\": \"\"}, \"type\": \"contourcarpet\"}], \"heatmap\": [{\"colorbar\": {\"outlinewidth\": 0, \"ticks\": \"\"}, \"colorscale\": [[0.0, \"#0d0887\"], [0.1111111111111111, \"#46039f\"], [0.2222222222222222, \"#7201a8\"], [0.3333333333333333, \"#9c179e\"], [0.4444444444444444, \"#bd3786\"], [0.5555555555555556, \"#d8576b\"], [0.6666666666666666, \"#ed7953\"], [0.7777777777777778, \"#fb9f3a\"], [0.8888888888888888, \"#fdca26\"], [1.0, \"#f0f921\"]], \"type\": \"heatmap\"}], \"heatmapgl\": [{\"colorbar\": {\"outlinewidth\": 0, \"ticks\": \"\"}, \"colorscale\": [[0.0, \"#0d0887\"], [0.1111111111111111, \"#46039f\"], [0.2222222222222222, \"#7201a8\"], [0.3333333333333333, \"#9c179e\"], [0.4444444444444444, \"#bd3786\"], [0.5555555555555556, \"#d8576b\"], [0.6666666666666666, \"#ed7953\"], [0.7777777777777778, \"#fb9f3a\"], [0.8888888888888888, \"#fdca26\"], [1.0, \"#f0f921\"]], \"type\": \"heatmapgl\"}], \"histogram\": [{\"marker\": {\"colorbar\": {\"outlinewidth\": 0, \"ticks\": \"\"}}, \"type\": \"histogram\"}], \"histogram2d\": [{\"colorbar\": {\"outlinewidth\": 0, \"ticks\": \"\"}, \"colorscale\": [[0.0, \"#0d0887\"], [0.1111111111111111, \"#46039f\"], [0.2222222222222222, \"#7201a8\"], [0.3333333333333333, \"#9c179e\"], [0.4444444444444444, \"#bd3786\"], [0.5555555555555556, \"#d8576b\"], [0.6666666666666666, \"#ed7953\"], [0.7777777777777778, \"#fb9f3a\"], [0.8888888888888888, \"#fdca26\"], [1.0, \"#f0f921\"]], \"type\": \"histogram2d\"}], \"histogram2dcontour\": [{\"colorbar\": {\"outlinewidth\": 0, \"ticks\": \"\"}, \"colorscale\": [[0.0, \"#0d0887\"], [0.1111111111111111, \"#46039f\"], [0.2222222222222222, \"#7201a8\"], [0.3333333333333333, \"#9c179e\"], [0.4444444444444444, \"#bd3786\"], [0.5555555555555556, \"#d8576b\"], [0.6666666666666666, \"#ed7953\"], [0.7777777777777778, \"#fb9f3a\"], [0.8888888888888888, \"#fdca26\"], [1.0, \"#f0f921\"]], \"type\": \"histogram2dcontour\"}], \"mesh3d\": [{\"colorbar\": {\"outlinewidth\": 0, \"ticks\": \"\"}, \"type\": \"mesh3d\"}], \"parcoords\": [{\"line\": {\"colorbar\": {\"outlinewidth\": 0, \"ticks\": \"\"}}, \"type\": \"parcoords\"}], \"pie\": [{\"automargin\": true, \"type\": \"pie\"}], \"scatter\": [{\"marker\": {\"colorbar\": {\"outlinewidth\": 0, \"ticks\": \"\"}}, \"type\": \"scatter\"}], \"scatter3d\": [{\"line\": {\"colorbar\": {\"outlinewidth\": 0, \"ticks\": \"\"}}, \"marker\": {\"colorbar\": {\"outlinewidth\": 0, \"ticks\": \"\"}}, \"type\": \"scatter3d\"}], \"scattercarpet\": [{\"marker\": {\"colorbar\": {\"outlinewidth\": 0, \"ticks\": \"\"}}, \"type\": \"scattercarpet\"}], \"scattergeo\": [{\"marker\": {\"colorbar\": {\"outlinewidth\": 0, \"ticks\": \"\"}}, \"type\": \"scattergeo\"}], \"scattergl\": [{\"marker\": {\"colorbar\": {\"outlinewidth\": 0, \"ticks\": \"\"}}, \"type\": \"scattergl\"}], \"scattermapbox\": [{\"marker\": {\"colorbar\": {\"outlinewidth\": 0, \"ticks\": \"\"}}, \"type\": \"scattermapbox\"}], \"scatterpolar\": [{\"marker\": {\"colorbar\": {\"outlinewidth\": 0, \"ticks\": \"\"}}, \"type\": \"scatterpolar\"}], \"scatterpolargl\": [{\"marker\": {\"colorbar\": {\"outlinewidth\": 0, \"ticks\": \"\"}}, \"type\": \"scatterpolargl\"}], \"scatterternary\": [{\"marker\": {\"colorbar\": {\"outlinewidth\": 0, \"ticks\": \"\"}}, \"type\": \"scatterternary\"}], \"surface\": [{\"colorbar\": {\"outlinewidth\": 0, \"ticks\": \"\"}, \"colorscale\": [[0.0, \"#0d0887\"], [0.1111111111111111, \"#46039f\"], [0.2222222222222222, \"#7201a8\"], [0.3333333333333333, \"#9c179e\"], [0.4444444444444444, \"#bd3786\"], [0.5555555555555556, \"#d8576b\"], [0.6666666666666666, \"#ed7953\"], [0.7777777777777778, \"#fb9f3a\"], [0.8888888888888888, \"#fdca26\"], [1.0, \"#f0f921\"]], \"type\": \"surface\"}], \"table\": [{\"cells\": {\"fill\": {\"color\": \"#EBF0F8\"}, \"line\": {\"color\": \"white\"}}, \"header\": {\"fill\": {\"color\": \"#C8D4E3\"}, \"line\": {\"color\": \"white\"}}, \"type\": \"table\"}]}, \"layout\": {\"annotationdefaults\": {\"arrowcolor\": \"#2a3f5f\", \"arrowhead\": 0, \"arrowwidth\": 1}, \"coloraxis\": {\"colorbar\": {\"outlinewidth\": 0, \"ticks\": \"\"}}, \"colorscale\": {\"diverging\": [[0, \"#8e0152\"], [0.1, \"#c51b7d\"], [0.2, \"#de77ae\"], [0.3, \"#f1b6da\"], [0.4, \"#fde0ef\"], [0.5, \"#f7f7f7\"], [0.6, \"#e6f5d0\"], [0.7, \"#b8e186\"], [0.8, \"#7fbc41\"], [0.9, \"#4d9221\"], [1, \"#276419\"]], \"sequential\": [[0.0, \"#0d0887\"], [0.1111111111111111, \"#46039f\"], [0.2222222222222222, \"#7201a8\"], [0.3333333333333333, \"#9c179e\"], [0.4444444444444444, \"#bd3786\"], [0.5555555555555556, \"#d8576b\"], [0.6666666666666666, \"#ed7953\"], [0.7777777777777778, \"#fb9f3a\"], [0.8888888888888888, \"#fdca26\"], [1.0, \"#f0f921\"]], \"sequentialminus\": [[0.0, \"#0d0887\"], [0.1111111111111111, \"#46039f\"], [0.2222222222222222, \"#7201a8\"], [0.3333333333333333, \"#9c179e\"], [0.4444444444444444, \"#bd3786\"], [0.5555555555555556, \"#d8576b\"], [0.6666666666666666, \"#ed7953\"], [0.7777777777777778, \"#fb9f3a\"], [0.8888888888888888, \"#fdca26\"], [1.0, \"#f0f921\"]]}, \"colorway\": [\"#636efa\", \"#EF553B\", \"#00cc96\", \"#ab63fa\", \"#FFA15A\", \"#19d3f3\", \"#FF6692\", \"#B6E880\", \"#FF97FF\", \"#FECB52\"], \"font\": {\"color\": \"#2a3f5f\"}, \"geo\": {\"bgcolor\": \"white\", \"lakecolor\": \"white\", \"landcolor\": \"#E5ECF6\", \"showlakes\": true, \"showland\": true, \"subunitcolor\": \"white\"}, \"hoverlabel\": {\"align\": \"left\"}, \"hovermode\": \"closest\", \"mapbox\": {\"style\": \"light\"}, \"paper_bgcolor\": \"white\", \"plot_bgcolor\": \"#E5ECF6\", \"polar\": {\"angularaxis\": {\"gridcolor\": \"white\", \"linecolor\": \"white\", \"ticks\": \"\"}, \"bgcolor\": \"#E5ECF6\", \"radialaxis\": {\"gridcolor\": \"white\", \"linecolor\": \"white\", \"ticks\": \"\"}}, \"scene\": {\"xaxis\": {\"backgroundcolor\": \"#E5ECF6\", \"gridcolor\": \"white\", \"gridwidth\": 2, \"linecolor\": \"white\", \"showbackground\": true, \"ticks\": \"\", \"zerolinecolor\": \"white\"}, \"yaxis\": {\"backgroundcolor\": \"#E5ECF6\", \"gridcolor\": \"white\", \"gridwidth\": 2, \"linecolor\": \"white\", \"showbackground\": true, \"ticks\": \"\", \"zerolinecolor\": \"white\"}, \"zaxis\": {\"backgroundcolor\": \"#E5ECF6\", \"gridcolor\": \"white\", \"gridwidth\": 2, \"linecolor\": \"white\", \"showbackground\": true, \"ticks\": \"\", \"zerolinecolor\": \"white\"}}, \"shapedefaults\": {\"line\": {\"color\": \"#2a3f5f\"}}, \"ternary\": {\"aaxis\": {\"gridcolor\": \"white\", \"linecolor\": \"white\", \"ticks\": \"\"}, \"baxis\": {\"gridcolor\": \"white\", \"linecolor\": \"white\", \"ticks\": \"\"}, \"bgcolor\": \"#E5ECF6\", \"caxis\": {\"gridcolor\": \"white\", \"linecolor\": \"white\", \"ticks\": \"\"}}, \"title\": {\"x\": 0.05}, \"xaxis\": {\"automargin\": true, \"gridcolor\": \"white\", \"linecolor\": \"white\", \"ticks\": \"\", \"title\": {\"standoff\": 15}, \"zerolinecolor\": \"white\", \"zerolinewidth\": 2}, \"yaxis\": {\"automargin\": true, \"gridcolor\": \"white\", \"linecolor\": \"white\", \"ticks\": \"\", \"title\": {\"standoff\": 15}, \"zerolinecolor\": \"white\", \"zerolinewidth\": 2}}}, \"title\": {\"text\": \"Confirmed Cases Holt's Linear Model Prediction\"}, \"xaxis\": {\"title\": {\"text\": \"Date\"}}, \"yaxis\": {\"title\": {\"text\": \"Confirmed Cases\"}}},\n",
              "                        {\"responsive\": true}\n",
              "                    ).then(function(){\n",
              "                            \n",
              "var gd = document.getElementById('2d87d07d-386e-4a3e-a155-74b2d7e36707');\n",
              "var x = new MutationObserver(function (mutations, observer) {{\n",
              "        var display = window.getComputedStyle(gd).display;\n",
              "        if (!display || display === 'none') {{\n",
              "            console.log([gd, 'removed!']);\n",
              "            Plotly.purge(gd);\n",
              "            observer.disconnect();\n",
              "        }}\n",
              "}});\n",
              "\n",
              "// Listen for the removal of the full notebook cells\n",
              "var notebookContainer = gd.closest('#notebook-container');\n",
              "if (notebookContainer) {{\n",
              "    x.observe(notebookContainer, {childList: true});\n",
              "}}\n",
              "\n",
              "// Listen for the clearing of the current output cell\n",
              "var outputEl = gd.closest('.output');\n",
              "if (outputEl) {{\n",
              "    x.observe(outputEl, {childList: true});\n",
              "}}\n",
              "\n",
              "                        })\n",
              "                };\n",
              "                \n",
              "            </script>\n",
              "        </div>\n",
              "</body>\n",
              "</html>"
            ]
          },
          "metadata": {}
        }
      ]
    },
    {
      "cell_type": "code",
      "metadata": {
        "execution": {
          "iopub.execute_input": "2021-11-30T10:48:28.471238Z",
          "iopub.status.busy": "2021-11-30T10:48:28.470706Z",
          "iopub.status.idle": "2021-11-30T10:48:28.577010Z",
          "shell.execute_reply": "2021-11-30T10:48:28.576048Z",
          "shell.execute_reply.started": "2021-11-30T10:48:28.471199Z"
        },
        "colab": {
          "base_uri": "https://localhost:8080/",
          "height": 206
        },
        "id": "8qzmLSNuhOct",
        "outputId": "fd990545-ac13-4012-ee54-69d4568466ae"
      },
      "source": [
        "holt_new_prediction=[]\n",
        "for i in range(1,18):\n",
        "    holt_new_prediction.append(holt.forecast((len(valid)+i))[-1])\n",
        "\n",
        "model_predictions[\"Holt's Linear Model Prediction\"]=holt_new_prediction\n",
        "model_predictions.head()"
      ],
      "execution_count": null,
      "outputs": [
        {
          "output_type": "execute_result",
          "data": {
            "text/html": [
              "<div>\n",
              "<style scoped>\n",
              "    .dataframe tbody tr th:only-of-type {\n",
              "        vertical-align: middle;\n",
              "    }\n",
              "\n",
              "    .dataframe tbody tr th {\n",
              "        vertical-align: top;\n",
              "    }\n",
              "\n",
              "    .dataframe thead th {\n",
              "        text-align: right;\n",
              "    }\n",
              "</style>\n",
              "<table border=\"1\" class=\"dataframe\">\n",
              "  <thead>\n",
              "    <tr style=\"text-align: right;\">\n",
              "      <th></th>\n",
              "      <th>Date</th>\n",
              "      <th>Polynomial Regression Prediction</th>\n",
              "      <th>SVM Prediction</th>\n",
              "      <th>Holt's Linear Model Prediction</th>\n",
              "    </tr>\n",
              "  </thead>\n",
              "  <tbody>\n",
              "    <tr>\n",
              "      <th>0</th>\n",
              "      <td>2021-05-30</td>\n",
              "      <td>3.403157e+07</td>\n",
              "      <td>2.451043e+07</td>\n",
              "      <td>3.031139e+07</td>\n",
              "    </tr>\n",
              "    <tr>\n",
              "      <th>1</th>\n",
              "      <td>2021-05-31</td>\n",
              "      <td>3.477220e+07</td>\n",
              "      <td>2.480965e+07</td>\n",
              "      <td>3.068133e+07</td>\n",
              "    </tr>\n",
              "    <tr>\n",
              "      <th>2</th>\n",
              "      <td>2021-06-01</td>\n",
              "      <td>3.553059e+07</td>\n",
              "      <td>2.511259e+07</td>\n",
              "      <td>3.105127e+07</td>\n",
              "    </tr>\n",
              "    <tr>\n",
              "      <th>3</th>\n",
              "      <td>2021-06-02</td>\n",
              "      <td>3.630703e+07</td>\n",
              "      <td>2.541927e+07</td>\n",
              "      <td>3.142121e+07</td>\n",
              "    </tr>\n",
              "    <tr>\n",
              "      <th>4</th>\n",
              "      <td>2021-06-03</td>\n",
              "      <td>3.710183e+07</td>\n",
              "      <td>2.572973e+07</td>\n",
              "      <td>3.179115e+07</td>\n",
              "    </tr>\n",
              "  </tbody>\n",
              "</table>\n",
              "</div>"
            ],
            "text/plain": [
              "        Date  ...  Holt's Linear Model Prediction\n",
              "0 2021-05-30  ...                    3.031139e+07\n",
              "1 2021-05-31  ...                    3.068133e+07\n",
              "2 2021-06-01  ...                    3.105127e+07\n",
              "3 2021-06-02  ...                    3.142121e+07\n",
              "4 2021-06-03  ...                    3.179115e+07\n",
              "\n",
              "[5 rows x 4 columns]"
            ]
          },
          "metadata": {},
          "execution_count": 35
        }
      ]
    },
    {
      "cell_type": "markdown",
      "metadata": {
        "id": "Gql95gDthOct"
      },
      "source": [
        "Holt's Winder model\n"
      ]
    },
    {
      "cell_type": "code",
      "metadata": {
        "execution": {
          "iopub.execute_input": "2021-11-30T10:48:29.728615Z",
          "iopub.status.busy": "2021-11-30T10:48:29.728357Z",
          "iopub.status.idle": "2021-11-30T10:48:29.733985Z",
          "shell.execute_reply": "2021-11-30T10:48:29.733386Z",
          "shell.execute_reply.started": "2021-11-30T10:48:29.728588Z"
        },
        "id": "NGJCzQughOct"
      },
      "source": [
        "model_train=india_datewise.iloc[:int(india_datewise.shape[0]*0.95)]\n",
        "valid=india_datewise.iloc[int(india_datewise.shape[0]*0.95):]\n",
        "y_pred=valid.copy()"
      ],
      "execution_count": null,
      "outputs": []
    },
    {
      "cell_type": "code",
      "metadata": {
        "execution": {
          "iopub.execute_input": "2021-11-30T10:48:29.920197Z",
          "iopub.status.busy": "2021-11-30T10:48:29.919885Z",
          "iopub.status.idle": "2021-11-30T10:48:30.165019Z",
          "shell.execute_reply": "2021-11-30T10:48:30.164233Z",
          "shell.execute_reply.started": "2021-11-30T10:48:29.920161Z"
        },
        "id": "8-ZPNxoXhOcu"
      },
      "source": [
        "es=ExponentialSmoothing(np.asarray(model_train['Confirmed']),seasonal_periods=15, trend='mul', seasonal='mul').fit()"
      ],
      "execution_count": null,
      "outputs": []
    },
    {
      "cell_type": "code",
      "metadata": {
        "execution": {
          "iopub.execute_input": "2021-11-30T10:48:30.167073Z",
          "iopub.status.busy": "2021-11-30T10:48:30.166755Z",
          "iopub.status.idle": "2021-11-30T10:48:30.187285Z",
          "shell.execute_reply": "2021-11-30T10:48:30.186157Z",
          "shell.execute_reply.started": "2021-11-30T10:48:30.167031Z"
        },
        "colab": {
          "base_uri": "https://localhost:8080/"
        },
        "id": "b3NsfM-RhOcu",
        "outputId": "d2d0db74-11f9-4b52-f318-203d5edf4ad9"
      },
      "source": [
        "y_pred[\"Holt's Winter Model\"]=es.forecast(len(valid))\n",
        "rmse_holt_winter=np.sqrt(mean_squared_error(y_pred[\"Confirmed\"],y_pred[\"Holt's Winter Model\"]))\n",
        "model_scores.append(rmse_holt_winter)\n",
        "print(\"Root Mean Square Error for Holt's Winter Model: \",rmse_holt_winter)"
      ],
      "execution_count": null,
      "outputs": [
        {
          "output_type": "stream",
          "name": "stdout",
          "text": [
            "Root Mean Square Error for Holt's Winter Model:  2830471.0718961703\n"
          ]
        }
      ]
    },
    {
      "cell_type": "code",
      "metadata": {
        "execution": {
          "iopub.execute_input": "2021-11-30T10:48:30.224794Z",
          "iopub.status.busy": "2021-11-30T10:48:30.224461Z",
          "iopub.status.idle": "2021-11-30T10:48:30.252628Z",
          "shell.execute_reply": "2021-11-30T10:48:30.251491Z",
          "shell.execute_reply.started": "2021-11-30T10:48:30.224756Z"
        },
        "colab": {
          "base_uri": "https://localhost:8080/",
          "height": 542
        },
        "id": "NXSeETiahOcu",
        "outputId": "eb63c27a-a9c7-438c-f0b6-1250fd36c397"
      },
      "source": [
        "fig=go.Figure()\n",
        "fig.add_trace(go.Scatter(x=model_train.index, y=model_train[\"Confirmed\"],\n",
        "                    mode='lines+markers',name=\"Train Data for Confirmed Cases\"))\n",
        "fig.add_trace(go.Scatter(x=valid.index, y=valid[\"Confirmed\"],\n",
        "                    mode='lines+markers',name=\"Validation Data for Confirmed Cases\",))\n",
        "fig.add_trace(go.Scatter(x=valid.index, y=y_pred[\"Holt\\'s Winter Model\"],\n",
        "                    mode='lines+markers',name=\"Prediction of Confirmed Cases\",))\n",
        "fig.update_layout(title=\"Confirmed Cases Holt's Winter Model Prediction\",\n",
        "                 xaxis_title=\"Date\",yaxis_title=\"Confirmed Cases\",legend=dict(x=0,y=1,traceorder=\"normal\"))\n",
        "fig.show()"
      ],
      "execution_count": null,
      "outputs": [
        {
          "output_type": "display_data",
          "data": {
            "text/html": [
              "<html>\n",
              "<head><meta charset=\"utf-8\" /></head>\n",
              "<body>\n",
              "    <div>\n",
              "            <script src=\"https://cdnjs.cloudflare.com/ajax/libs/mathjax/2.7.5/MathJax.js?config=TeX-AMS-MML_SVG\"></script><script type=\"text/javascript\">if (window.MathJax) {MathJax.Hub.Config({SVG: {font: \"STIX-Web\"}});}</script>\n",
              "                <script type=\"text/javascript\">window.PlotlyConfig = {MathJaxConfig: 'local'};</script>\n",
              "        <script src=\"https://cdn.plot.ly/plotly-latest.min.js\"></script>    \n",
              "            <div id=\"e7e2d9ae-6e8d-454c-8225-a5b4e797da5d\" class=\"plotly-graph-div\" style=\"height:525px; width:100%;\"></div>\n",
              "            <script type=\"text/javascript\">\n",
              "                \n",
              "                    window.PLOTLYENV=window.PLOTLYENV || {};\n",
              "                    \n",
              "                if (document.getElementById(\"e7e2d9ae-6e8d-454c-8225-a5b4e797da5d\")) {\n",
              "                    Plotly.newPlot(\n",
              "                        'e7e2d9ae-6e8d-454c-8225-a5b4e797da5d',\n",
              "                        [{\"mode\": \"lines+markers\", \"name\": \"Train Data for Confirmed Cases\", \"type\": \"scatter\", \"x\": [\"2020-01-30T00:00:00\", \"2020-01-31T00:00:00\", \"2020-02-01T00:00:00\", \"2020-02-02T00:00:00\", \"2020-02-03T00:00:00\", \"2020-02-04T00:00:00\", \"2020-02-05T00:00:00\", \"2020-02-06T00:00:00\", \"2020-02-07T00:00:00\", \"2020-02-08T00:00:00\", \"2020-02-09T00:00:00\", \"2020-02-10T00:00:00\", \"2020-02-11T00:00:00\", \"2020-02-12T00:00:00\", \"2020-02-13T00:00:00\", \"2020-02-14T00:00:00\", \"2020-02-15T00:00:00\", \"2020-02-16T00:00:00\", \"2020-02-17T00:00:00\", \"2020-02-18T00:00:00\", \"2020-02-19T00:00:00\", \"2020-02-20T00:00:00\", \"2020-02-21T00:00:00\", \"2020-02-22T00:00:00\", \"2020-02-23T00:00:00\", \"2020-02-24T00:00:00\", \"2020-02-25T00:00:00\", \"2020-02-26T00:00:00\", \"2020-02-27T00:00:00\", \"2020-02-28T00:00:00\", \"2020-02-29T00:00:00\", \"2020-03-01T00:00:00\", \"2020-03-02T00:00:00\", \"2020-03-03T00:00:00\", \"2020-03-04T00:00:00\", \"2020-03-05T00:00:00\", \"2020-03-06T00:00:00\", \"2020-03-07T00:00:00\", \"2020-03-08T00:00:00\", \"2020-03-09T00:00:00\", \"2020-03-10T00:00:00\", \"2020-03-11T00:00:00\", \"2020-03-12T00:00:00\", \"2020-03-13T00:00:00\", \"2020-03-14T00:00:00\", \"2020-03-15T00:00:00\", \"2020-03-16T00:00:00\", \"2020-03-17T00:00:00\", \"2020-03-18T00:00:00\", \"2020-03-19T00:00:00\", \"2020-03-20T00:00:00\", \"2020-03-21T00:00:00\", \"2020-03-22T00:00:00\", \"2020-03-23T00:00:00\", \"2020-03-24T00:00:00\", \"2020-03-25T00:00:00\", \"2020-03-26T00:00:00\", \"2020-03-27T00:00:00\", \"2020-03-28T00:00:00\", \"2020-03-29T00:00:00\", \"2020-03-30T00:00:00\", \"2020-03-31T00:00:00\", \"2020-04-01T00:00:00\", \"2020-04-02T00:00:00\", \"2020-04-03T00:00:00\", \"2020-04-04T00:00:00\", \"2020-04-05T00:00:00\", \"2020-04-06T00:00:00\", \"2020-04-07T00:00:00\", \"2020-04-08T00:00:00\", \"2020-04-09T00:00:00\", \"2020-04-10T00:00:00\", \"2020-04-11T00:00:00\", \"2020-04-12T00:00:00\", \"2020-04-13T00:00:00\", \"2020-04-14T00:00:00\", \"2020-04-15T00:00:00\", \"2020-04-16T00:00:00\", \"2020-04-17T00:00:00\", \"2020-04-18T00:00:00\", \"2020-04-19T00:00:00\", \"2020-04-20T00:00:00\", \"2020-04-21T00:00:00\", \"2020-04-22T00:00:00\", \"2020-04-23T00:00:00\", \"2020-04-24T00:00:00\", \"2020-04-25T00:00:00\", \"2020-04-26T00:00:00\", \"2020-04-27T00:00:00\", \"2020-04-28T00:00:00\", \"2020-04-29T00:00:00\", \"2020-04-30T00:00:00\", \"2020-05-01T00:00:00\", \"2020-05-02T00:00:00\", \"2020-05-03T00:00:00\", \"2020-05-04T00:00:00\", \"2020-05-05T00:00:00\", \"2020-05-06T00:00:00\", \"2020-05-07T00:00:00\", \"2020-05-08T00:00:00\", \"2020-05-09T00:00:00\", \"2020-05-10T00:00:00\", \"2020-05-11T00:00:00\", \"2020-05-12T00:00:00\", \"2020-05-13T00:00:00\", \"2020-05-14T00:00:00\", \"2020-05-15T00:00:00\", \"2020-05-16T00:00:00\", \"2020-05-17T00:00:00\", \"2020-05-18T00:00:00\", \"2020-05-19T00:00:00\", \"2020-05-20T00:00:00\", \"2020-05-21T00:00:00\", \"2020-05-22T00:00:00\", \"2020-05-23T00:00:00\", \"2020-05-24T00:00:00\", \"2020-05-25T00:00:00\", \"2020-05-26T00:00:00\", \"2020-05-27T00:00:00\", \"2020-05-28T00:00:00\", \"2020-05-29T00:00:00\", \"2020-05-30T00:00:00\", \"2020-05-31T00:00:00\", \"2020-06-01T00:00:00\", \"2020-06-02T00:00:00\", \"2020-06-03T00:00:00\", \"2020-06-04T00:00:00\", \"2020-06-05T00:00:00\", \"2020-06-06T00:00:00\", \"2020-06-07T00:00:00\", \"2020-06-08T00:00:00\", \"2020-06-09T00:00:00\", \"2020-06-10T00:00:00\", \"2020-06-11T00:00:00\", \"2020-06-12T00:00:00\", \"2020-06-13T00:00:00\", \"2020-06-14T00:00:00\", \"2020-06-15T00:00:00\", \"2020-06-16T00:00:00\", \"2020-06-17T00:00:00\", \"2020-06-18T00:00:00\", \"2020-06-19T00:00:00\", \"2020-06-20T00:00:00\", \"2020-06-21T00:00:00\", \"2020-06-22T00:00:00\", \"2020-06-23T00:00:00\", \"2020-06-24T00:00:00\", \"2020-06-25T00:00:00\", \"2020-06-26T00:00:00\", \"2020-06-27T00:00:00\", \"2020-06-28T00:00:00\", \"2020-06-29T00:00:00\", \"2020-06-30T00:00:00\", \"2020-07-01T00:00:00\", \"2020-07-02T00:00:00\", \"2020-07-03T00:00:00\", \"2020-07-04T00:00:00\", \"2020-07-05T00:00:00\", \"2020-07-06T00:00:00\", \"2020-07-07T00:00:00\", \"2020-07-08T00:00:00\", \"2020-07-09T00:00:00\", \"2020-07-10T00:00:00\", \"2020-07-11T00:00:00\", \"2020-07-12T00:00:00\", \"2020-07-13T00:00:00\", \"2020-07-14T00:00:00\", \"2020-07-15T00:00:00\", \"2020-07-16T00:00:00\", \"2020-07-17T00:00:00\", \"2020-07-18T00:00:00\", \"2020-07-19T00:00:00\", \"2020-07-20T00:00:00\", \"2020-07-21T00:00:00\", \"2020-07-22T00:00:00\", \"2020-07-23T00:00:00\", \"2020-07-24T00:00:00\", \"2020-07-25T00:00:00\", \"2020-07-26T00:00:00\", \"2020-07-27T00:00:00\", \"2020-07-28T00:00:00\", \"2020-07-29T00:00:00\", \"2020-07-30T00:00:00\", \"2020-07-31T00:00:00\", \"2020-08-01T00:00:00\", \"2020-08-02T00:00:00\", \"2020-08-03T00:00:00\", \"2020-08-04T00:00:00\", \"2020-08-05T00:00:00\", \"2020-08-06T00:00:00\", \"2020-08-07T00:00:00\", \"2020-08-08T00:00:00\", \"2020-08-09T00:00:00\", \"2020-08-10T00:00:00\", \"2020-08-11T00:00:00\", \"2020-08-12T00:00:00\", \"2020-08-13T00:00:00\", \"2020-08-14T00:00:00\", \"2020-08-15T00:00:00\", \"2020-08-16T00:00:00\", \"2020-08-17T00:00:00\", \"2020-08-18T00:00:00\", \"2020-08-19T00:00:00\", \"2020-08-20T00:00:00\", \"2020-08-21T00:00:00\", \"2020-08-22T00:00:00\", \"2020-08-23T00:00:00\", \"2020-08-24T00:00:00\", \"2020-08-25T00:00:00\", \"2020-08-26T00:00:00\", \"2020-08-27T00:00:00\", \"2020-08-28T00:00:00\", \"2020-08-29T00:00:00\", \"2020-08-30T00:00:00\", \"2020-08-31T00:00:00\", \"2020-09-01T00:00:00\", \"2020-09-02T00:00:00\", \"2020-09-03T00:00:00\", \"2020-09-04T00:00:00\", \"2020-09-05T00:00:00\", \"2020-09-06T00:00:00\", \"2020-09-07T00:00:00\", \"2020-09-08T00:00:00\", \"2020-09-09T00:00:00\", \"2020-09-10T00:00:00\", \"2020-09-11T00:00:00\", \"2020-09-12T00:00:00\", \"2020-09-13T00:00:00\", \"2020-09-14T00:00:00\", \"2020-09-15T00:00:00\", \"2020-09-16T00:00:00\", \"2020-09-17T00:00:00\", \"2020-09-18T00:00:00\", \"2020-09-19T00:00:00\", \"2020-09-20T00:00:00\", \"2020-09-21T00:00:00\", \"2020-09-22T00:00:00\", \"2020-09-23T00:00:00\", \"2020-09-24T00:00:00\", \"2020-09-25T00:00:00\", \"2020-09-26T00:00:00\", \"2020-09-27T00:00:00\", \"2020-09-28T00:00:00\", \"2020-09-29T00:00:00\", \"2020-09-30T00:00:00\", \"2020-10-01T00:00:00\", \"2020-10-02T00:00:00\", \"2020-10-03T00:00:00\", \"2020-10-04T00:00:00\", \"2020-10-05T00:00:00\", \"2020-10-06T00:00:00\", \"2020-10-07T00:00:00\", \"2020-10-08T00:00:00\", \"2020-10-09T00:00:00\", \"2020-10-10T00:00:00\", \"2020-10-11T00:00:00\", \"2020-10-12T00:00:00\", \"2020-10-13T00:00:00\", \"2020-10-14T00:00:00\", \"2020-10-15T00:00:00\", \"2020-10-16T00:00:00\", \"2020-10-17T00:00:00\", \"2020-10-18T00:00:00\", \"2020-10-19T00:00:00\", \"2020-10-20T00:00:00\", \"2020-10-21T00:00:00\", \"2020-10-22T00:00:00\", \"2020-10-23T00:00:00\", \"2020-10-24T00:00:00\", \"2020-10-25T00:00:00\", \"2020-10-26T00:00:00\", \"2020-10-27T00:00:00\", \"2020-10-28T00:00:00\", \"2020-10-29T00:00:00\", \"2020-10-30T00:00:00\", \"2020-10-31T00:00:00\", \"2020-11-01T00:00:00\", \"2020-11-02T00:00:00\", \"2020-11-03T00:00:00\", \"2020-11-04T00:00:00\", \"2020-11-05T00:00:00\", \"2020-11-06T00:00:00\", \"2020-11-07T00:00:00\", \"2020-11-08T00:00:00\", \"2020-11-09T00:00:00\", \"2020-11-10T00:00:00\", \"2020-11-11T00:00:00\", \"2020-11-12T00:00:00\", \"2020-11-13T00:00:00\", \"2020-11-14T00:00:00\", \"2020-11-15T00:00:00\", \"2020-11-16T00:00:00\", \"2020-11-17T00:00:00\", \"2020-11-18T00:00:00\", \"2020-11-19T00:00:00\", \"2020-11-20T00:00:00\", \"2020-11-21T00:00:00\", \"2020-11-22T00:00:00\", \"2020-11-23T00:00:00\", \"2020-11-24T00:00:00\", \"2020-11-25T00:00:00\", \"2020-11-26T00:00:00\", \"2020-11-27T00:00:00\", \"2020-11-28T00:00:00\", \"2020-11-29T00:00:00\", \"2020-11-30T00:00:00\", \"2020-12-01T00:00:00\", \"2020-12-02T00:00:00\", \"2020-12-03T00:00:00\", \"2020-12-04T00:00:00\", \"2020-12-05T00:00:00\", \"2020-12-06T00:00:00\", \"2020-12-07T00:00:00\", \"2020-12-08T00:00:00\", \"2020-12-09T00:00:00\", \"2020-12-10T00:00:00\", \"2020-12-11T00:00:00\", \"2020-12-12T00:00:00\", \"2020-12-13T00:00:00\", \"2020-12-14T00:00:00\", \"2020-12-15T00:00:00\", \"2020-12-16T00:00:00\", \"2020-12-17T00:00:00\", \"2020-12-18T00:00:00\", \"2020-12-19T00:00:00\", \"2020-12-20T00:00:00\", \"2020-12-21T00:00:00\", \"2020-12-22T00:00:00\", \"2020-12-23T00:00:00\", \"2020-12-24T00:00:00\", \"2020-12-25T00:00:00\", \"2020-12-26T00:00:00\", \"2020-12-27T00:00:00\", \"2020-12-28T00:00:00\", \"2020-12-29T00:00:00\", \"2020-12-30T00:00:00\", \"2020-12-31T00:00:00\", \"2021-01-01T00:00:00\", \"2021-01-02T00:00:00\", \"2021-01-03T00:00:00\", \"2021-01-04T00:00:00\", \"2021-01-05T00:00:00\", \"2021-01-06T00:00:00\", \"2021-01-07T00:00:00\", \"2021-01-08T00:00:00\", \"2021-01-09T00:00:00\", \"2021-01-10T00:00:00\", \"2021-01-11T00:00:00\", \"2021-01-12T00:00:00\", \"2021-01-13T00:00:00\", \"2021-01-14T00:00:00\", \"2021-01-15T00:00:00\", \"2021-01-16T00:00:00\", \"2021-01-17T00:00:00\", \"2021-01-18T00:00:00\", \"2021-01-19T00:00:00\", \"2021-01-20T00:00:00\", \"2021-01-21T00:00:00\", \"2021-01-22T00:00:00\", \"2021-01-23T00:00:00\", \"2021-01-24T00:00:00\", \"2021-01-25T00:00:00\", \"2021-01-26T00:00:00\", \"2021-01-27T00:00:00\", \"2021-01-28T00:00:00\", \"2021-01-29T00:00:00\", \"2021-01-30T00:00:00\", \"2021-01-31T00:00:00\", \"2021-02-01T00:00:00\", \"2021-02-02T00:00:00\", \"2021-02-03T00:00:00\", \"2021-02-04T00:00:00\", \"2021-02-05T00:00:00\", \"2021-02-06T00:00:00\", \"2021-02-07T00:00:00\", \"2021-02-08T00:00:00\", \"2021-02-09T00:00:00\", \"2021-02-10T00:00:00\", \"2021-02-11T00:00:00\", \"2021-02-12T00:00:00\", \"2021-02-13T00:00:00\", \"2021-02-14T00:00:00\", \"2021-02-15T00:00:00\", \"2021-02-16T00:00:00\", \"2021-02-17T00:00:00\", \"2021-02-18T00:00:00\", \"2021-02-19T00:00:00\", \"2021-02-20T00:00:00\", \"2021-02-21T00:00:00\", \"2021-02-22T00:00:00\", \"2021-02-23T00:00:00\", \"2021-02-24T00:00:00\", \"2021-02-25T00:00:00\", \"2021-02-26T00:00:00\", \"2021-02-27T00:00:00\", \"2021-02-28T00:00:00\", \"2021-03-01T00:00:00\", \"2021-03-02T00:00:00\", \"2021-03-03T00:00:00\", \"2021-03-04T00:00:00\", \"2021-03-05T00:00:00\", \"2021-03-06T00:00:00\", \"2021-03-07T00:00:00\", \"2021-03-08T00:00:00\", \"2021-03-09T00:00:00\", \"2021-03-10T00:00:00\", \"2021-03-11T00:00:00\", \"2021-03-12T00:00:00\", \"2021-03-13T00:00:00\", \"2021-03-14T00:00:00\", \"2021-03-15T00:00:00\", \"2021-03-16T00:00:00\", \"2021-03-17T00:00:00\", \"2021-03-18T00:00:00\", \"2021-03-19T00:00:00\", \"2021-03-20T00:00:00\", \"2021-03-21T00:00:00\", \"2021-03-22T00:00:00\", \"2021-03-23T00:00:00\", \"2021-03-24T00:00:00\", \"2021-03-25T00:00:00\", \"2021-03-26T00:00:00\", \"2021-03-27T00:00:00\", \"2021-03-28T00:00:00\", \"2021-03-29T00:00:00\", \"2021-03-30T00:00:00\", \"2021-03-31T00:00:00\", \"2021-04-01T00:00:00\", \"2021-04-02T00:00:00\", \"2021-04-03T00:00:00\", \"2021-04-04T00:00:00\", \"2021-04-05T00:00:00\", \"2021-04-06T00:00:00\", \"2021-04-07T00:00:00\", \"2021-04-08T00:00:00\", \"2021-04-09T00:00:00\", \"2021-04-10T00:00:00\", \"2021-04-11T00:00:00\", \"2021-04-12T00:00:00\", \"2021-04-13T00:00:00\", \"2021-04-14T00:00:00\", \"2021-04-15T00:00:00\", \"2021-04-16T00:00:00\", \"2021-04-17T00:00:00\", \"2021-04-18T00:00:00\", \"2021-04-19T00:00:00\", \"2021-04-20T00:00:00\", \"2021-04-21T00:00:00\", \"2021-04-22T00:00:00\", \"2021-04-23T00:00:00\", \"2021-04-24T00:00:00\", \"2021-04-25T00:00:00\", \"2021-04-26T00:00:00\", \"2021-04-27T00:00:00\", \"2021-04-28T00:00:00\", \"2021-04-29T00:00:00\", \"2021-04-30T00:00:00\", \"2021-05-01T00:00:00\", \"2021-05-02T00:00:00\", \"2021-05-03T00:00:00\", \"2021-05-04T00:00:00\"], \"y\": [1.0, 1.0, 1.0, 2.0, 3.0, 3.0, 3.0, 3.0, 3.0, 3.0, 3.0, 3.0, 3.0, 3.0, 3.0, 3.0, 3.0, 3.0, 3.0, 3.0, 3.0, 3.0, 3.0, 3.0, 3.0, 3.0, 3.0, 3.0, 3.0, 3.0, 3.0, 3.0, 5.0, 5.0, 28.0, 30.0, 31.0, 34.0, 39.0, 43.0, 56.0, 62.0, 73.0, 82.0, 102.0, 113.0, 119.0, 142.0, 156.0, 194.0, 244.0, 330.0, 396.0, 499.0, 536.0, 657.0, 727.0, 887.0, 987.0, 1024.0, 1251.0, 1397.0, 1998.0, 2543.0, 2567.0, 3082.0, 3588.0, 4778.0, 5311.0, 5916.0, 6725.0, 7598.0, 8446.0, 9205.0, 10453.0, 11487.0, 12322.0, 13430.0, 14352.0, 15722.0, 17615.0, 18539.0, 20080.0, 21370.0, 23077.0, 24530.0, 26283.0, 27890.0, 29451.0, 31324.0, 33062.0, 34863.0, 37257.0, 39699.0, 42505.0, 46437.0, 49400.0, 52987.0, 56351.0, 59695.0, 62808.0, 67161.0, 70768.0, 74292.0, 78055.0, 81997.0, 85784.0, 90648.0, 95698.0, 100328.0, 106475.0, 112028.0, 118226.0, 124794.0, 131423.0, 138536.0, 144950.0, 150793.0, 158086.0, 165386.0, 173491.0, 181827.0, 190609.0, 198370.0, 207191.0, 216824.0, 226713.0, 236184.0, 246622.0, 257486.0, 265928.0, 276146.0, 276583.0, 297535.0, 297535.0, 308993.0, 320922.0, 343091.0, 354065.0, 366946.0, 380532.0, 395048.0, 410461.0, 425282.0, 440215.0, 456183.0, 473105.0, 490401.0, 508953.0, 528859.0, 548318.0, 566840.0, 585493.0, 604641.0, 625544.0, 648315.0, 673165.0, 697413.0, 719664.0, 742417.0, 767296.0, 793802.0, 820916.0, 849522.0, 878254.0, 906752.0, 936181.0, 968857.0, 1003832.0, 1039084.0, 1077781.0, 1118206.0, 1155338.0, 1193078.0, 1238798.0, 1288108.0, 1337024.0, 1385635.0, 1435616.0, 1480073.0, 1483156.0, 1581963.0, 1634746.0, 1695988.0, 1750723.0, 1803695.0, 1855745.0, 1908254.0, 1964536.0, 2027074.0, 2088611.0, 2153010.0, 2215074.0, 2268675.0, 2329638.0, 2396637.0, 2461190.0, 2525922.0, 2589952.0, 2647663.0, 2702681.0, 2767253.0, 2836925.0, 2905825.0, 2975701.0, 3044940.0, 3106348.0, 3167323.0, 3224547.0, 3310234.0, 3387500.0, 3463972.0, 3542733.0, 3621245.0, 3691166.0, 3769523.0, 3853406.0, 3936747.0, 4023179.0, 4113811.0, 4204613.0, 4280422.0, 4370128.0, 4465863.0, 4562414.0, 4659984.0, 4754356.0, 4846427.0, 4846427.0, 5020359.0, 5118253.0, 5214677.0, 5308014.0, 5400619.0, 5487580.0, 5562663.0, 5646010.0, 5732518.0, 5818570.0, 5903932.0, 5992532.0, 6074702.0, 6145291.0, 6225763.0, 6312584.0, 6386526.0, 6473544.0, 6549373.0, 6623815.0, 6685082.0, 6757131.0, 6835655.0, 6906151.0, 6979423.0, 7053806.0, 7120538.0, 7175880.0, 7239389.0, 7307097.0, 7370468.0, 7432680.0, 7494551.0, 7550273.0, 7597063.0, 7651107.0, 7706946.0, 7761312.0, 7814682.0, 7864811.0, 7909959.0, 7946429.0, 7990322.0, 8040203.0, 8088851.0, 8137119.0, 8184082.0, 8229313.0, 8267623.0, 8313876.0, 8364086.0, 8411724.0, 8462080.0, 8507754.0, 8553657.0, 8591730.0, 8636011.0, 8683916.0, 8728795.0, 8773479.0, 8814579.0, 8845127.0, 8873541.0, 8912907.0, 8958483.0, 9004365.0, 9050597.0, 9095806.0, 9139865.0, 9177840.0, 9222216.0, 9266705.0, 9309787.0, 9351109.0, 9392919.0, 9431691.0, 9462809.0, 9499413.0, 9534964.0, 9571559.0, 9608211.0, 9644222.0, 9677203.0, 9703770.0, 9735850.0, 9767371.0, 9796744.0, 9826775.0, 9857029.0, 9884100.0, 9906165.0, 9932547.0, 9956557.0, 9979447.0, 10004599.0, 10031223.0, 10055560.0, 10075116.0, 10099066.0, 10123778.0, 10146845.0, 10169118.0, 10187850.0, 10207871.0, 10224303.0, 10244852.0, 10266674.0, 10266674.0, 10286709.0, 10323965.0, 10340469.0, 10356844.0, 10374932.0, 10395278.0, 10413417.0, 10413417.0, 10450284.0, 10466595.0, 10479179.0, 10495147.0, 10512093.0, 10527683.0, 10542841.0, 10557985.0, 10571773.0, 10581823.0, 10595639.0, 10610883.0, 10625428.0, 10639684.0, 10654533.0, 10667736.0, 10676838.0, 10689527.0, 10701193.0, 10720048.0, 10733130.0, 10746174.0, 10757610.0, 10766245.0, 10777284.0, 10790183.0, 10802591.0, 10814304.0, 10826363.0, 10838194.0, 10847304.0, 10858371.0, 10871294.0, 10880603.0, 10892746.0, 10904940.0, 10916589.0, 10925710.0, 10937320.0, 10950201.0, 10963394.0, 10977387.0, 10991651.0, 11005850.0, 11016434.0, 11030176.0, 11046914.0, 11063491.0, 11079979.0, 11096731.0, 11112241.0, 11124527.0, 11139516.0, 11156923.0, 11173761.0, 11192045.0, 11210799.0, 11229398.0, 11244786.0, 11262707.0, 11285561.0, 11308846.0, 11333728.0, 11359048.0, 11385339.0, 11409831.0, 11438734.0, 11474605.0, 11514331.0, 11555284.0, 11599130.0, 11646081.0, 11686796.0, 11734058.0, 11787534.0, 11846652.0, 11908910.0, 11971624.0, 12039644.0, 12095855.0, 12149335.0, 12221665.0, 12303131.0, 12392260.0, 12485509.0, 12589067.0, 12686049.0, 12801785.0, 12928574.0, 13060542.0, 13205926.0, 13358805.0, 13527717.0, 13689453.0, 13873825.0, 14074564.0, 14291917.0, 14526609.0, 14788003.0, 15061805.0, 15320972.0, 15616130.0, 15930774.0, 16263695.0, 16610481.0, 16960172.0, 17313163.0, 17636186.0, 17997113.0, 18376421.0, 18762976.0, 19164969.0, 19557457.0, 19925517.0, 20282833.0, 20664979.0]}, {\"mode\": \"lines+markers\", \"name\": \"Validation Data for Confirmed Cases\", \"type\": \"scatter\", \"x\": [\"2021-05-05T00:00:00\", \"2021-05-06T00:00:00\", \"2021-05-07T00:00:00\", \"2021-05-08T00:00:00\", \"2021-05-09T00:00:00\", \"2021-05-10T00:00:00\", \"2021-05-11T00:00:00\", \"2021-05-12T00:00:00\", \"2021-05-13T00:00:00\", \"2021-05-14T00:00:00\", \"2021-05-15T00:00:00\", \"2021-05-16T00:00:00\", \"2021-05-17T00:00:00\", \"2021-05-18T00:00:00\", \"2021-05-19T00:00:00\", \"2021-05-20T00:00:00\", \"2021-05-21T00:00:00\", \"2021-05-22T00:00:00\", \"2021-05-23T00:00:00\", \"2021-05-24T00:00:00\", \"2021-05-25T00:00:00\", \"2021-05-26T00:00:00\", \"2021-05-27T00:00:00\", \"2021-05-28T00:00:00\", \"2021-05-29T00:00:00\"], \"y\": [21077410.0, 21491598.0, 21892676.0, 22296081.0, 22662575.0, 22992517.0, 23340938.0, 23703665.0, 24046809.0, 24372907.0, 24684077.0, 24965463.0, 25228996.0, 25496330.0, 25772440.0, 26031991.0, 26289290.0, 26530132.0, 26752447.0, 26948874.0, 27157795.0, 27369093.0, 27555457.0, 27729247.0, 27894800.0]}, {\"mode\": \"lines+markers\", \"name\": \"Prediction of Confirmed Cases\", \"type\": \"scatter\", \"x\": [\"2021-05-05T00:00:00\", \"2021-05-06T00:00:00\", \"2021-05-07T00:00:00\", \"2021-05-08T00:00:00\", \"2021-05-09T00:00:00\", \"2021-05-10T00:00:00\", \"2021-05-11T00:00:00\", \"2021-05-12T00:00:00\", \"2021-05-13T00:00:00\", \"2021-05-14T00:00:00\", \"2021-05-15T00:00:00\", \"2021-05-16T00:00:00\", \"2021-05-17T00:00:00\", \"2021-05-18T00:00:00\", \"2021-05-19T00:00:00\", \"2021-05-20T00:00:00\", \"2021-05-21T00:00:00\", \"2021-05-22T00:00:00\", \"2021-05-23T00:00:00\", \"2021-05-24T00:00:00\", \"2021-05-25T00:00:00\", \"2021-05-26T00:00:00\", \"2021-05-27T00:00:00\", \"2021-05-28T00:00:00\", \"2021-05-29T00:00:00\"], \"y\": [21129953.27982523, 21556543.74354295, 21994278.00164636, 22438404.687753137, 22889423.80662522, 23345766.51734112, 23795265.59105562, 24269526.49249603, 24760084.0513818, 25256424.680362128, 25769201.494500726, 26283667.507844876, 26799681.89710262, 27320718.68812171, 27894382.021527916, 28451577.926683746, 29025983.92089073, 29615395.084780958, 30213413.68197074, 30820712.971139807, 31435180.50087184, 32040433.042342022, 32679027.497152977, 33339565.475128002, 34007890.383214585]}],\n",
              "                        {\"legend\": {\"traceorder\": \"normal\", \"x\": 0, \"y\": 1}, \"template\": {\"data\": {\"bar\": [{\"error_x\": {\"color\": \"#2a3f5f\"}, \"error_y\": {\"color\": \"#2a3f5f\"}, \"marker\": {\"line\": {\"color\": \"#E5ECF6\", \"width\": 0.5}}, \"type\": \"bar\"}], \"barpolar\": [{\"marker\": {\"line\": {\"color\": \"#E5ECF6\", \"width\": 0.5}}, \"type\": \"barpolar\"}], \"carpet\": [{\"aaxis\": {\"endlinecolor\": \"#2a3f5f\", \"gridcolor\": \"white\", \"linecolor\": \"white\", \"minorgridcolor\": \"white\", \"startlinecolor\": \"#2a3f5f\"}, \"baxis\": {\"endlinecolor\": \"#2a3f5f\", \"gridcolor\": \"white\", \"linecolor\": \"white\", \"minorgridcolor\": \"white\", \"startlinecolor\": \"#2a3f5f\"}, \"type\": \"carpet\"}], \"choropleth\": [{\"colorbar\": {\"outlinewidth\": 0, \"ticks\": \"\"}, \"type\": \"choropleth\"}], \"contour\": [{\"colorbar\": {\"outlinewidth\": 0, \"ticks\": \"\"}, \"colorscale\": [[0.0, \"#0d0887\"], [0.1111111111111111, \"#46039f\"], [0.2222222222222222, \"#7201a8\"], [0.3333333333333333, \"#9c179e\"], [0.4444444444444444, \"#bd3786\"], [0.5555555555555556, \"#d8576b\"], [0.6666666666666666, \"#ed7953\"], [0.7777777777777778, \"#fb9f3a\"], [0.8888888888888888, \"#fdca26\"], [1.0, \"#f0f921\"]], \"type\": \"contour\"}], \"contourcarpet\": [{\"colorbar\": {\"outlinewidth\": 0, \"ticks\": \"\"}, \"type\": \"contourcarpet\"}], \"heatmap\": [{\"colorbar\": {\"outlinewidth\": 0, \"ticks\": \"\"}, \"colorscale\": [[0.0, \"#0d0887\"], [0.1111111111111111, \"#46039f\"], [0.2222222222222222, \"#7201a8\"], [0.3333333333333333, \"#9c179e\"], [0.4444444444444444, \"#bd3786\"], [0.5555555555555556, \"#d8576b\"], [0.6666666666666666, \"#ed7953\"], [0.7777777777777778, \"#fb9f3a\"], [0.8888888888888888, \"#fdca26\"], [1.0, \"#f0f921\"]], \"type\": \"heatmap\"}], \"heatmapgl\": [{\"colorbar\": {\"outlinewidth\": 0, \"ticks\": \"\"}, \"colorscale\": [[0.0, \"#0d0887\"], [0.1111111111111111, \"#46039f\"], [0.2222222222222222, \"#7201a8\"], [0.3333333333333333, \"#9c179e\"], [0.4444444444444444, \"#bd3786\"], [0.5555555555555556, \"#d8576b\"], [0.6666666666666666, \"#ed7953\"], [0.7777777777777778, \"#fb9f3a\"], [0.8888888888888888, \"#fdca26\"], [1.0, \"#f0f921\"]], \"type\": \"heatmapgl\"}], \"histogram\": [{\"marker\": {\"colorbar\": {\"outlinewidth\": 0, \"ticks\": \"\"}}, \"type\": \"histogram\"}], \"histogram2d\": [{\"colorbar\": {\"outlinewidth\": 0, \"ticks\": \"\"}, \"colorscale\": [[0.0, \"#0d0887\"], [0.1111111111111111, \"#46039f\"], [0.2222222222222222, \"#7201a8\"], [0.3333333333333333, \"#9c179e\"], [0.4444444444444444, \"#bd3786\"], [0.5555555555555556, \"#d8576b\"], [0.6666666666666666, \"#ed7953\"], [0.7777777777777778, \"#fb9f3a\"], [0.8888888888888888, \"#fdca26\"], [1.0, \"#f0f921\"]], \"type\": \"histogram2d\"}], \"histogram2dcontour\": [{\"colorbar\": {\"outlinewidth\": 0, \"ticks\": \"\"}, \"colorscale\": [[0.0, \"#0d0887\"], [0.1111111111111111, \"#46039f\"], [0.2222222222222222, \"#7201a8\"], [0.3333333333333333, \"#9c179e\"], [0.4444444444444444, \"#bd3786\"], [0.5555555555555556, \"#d8576b\"], [0.6666666666666666, \"#ed7953\"], [0.7777777777777778, \"#fb9f3a\"], [0.8888888888888888, \"#fdca26\"], [1.0, \"#f0f921\"]], \"type\": \"histogram2dcontour\"}], \"mesh3d\": [{\"colorbar\": {\"outlinewidth\": 0, \"ticks\": \"\"}, \"type\": \"mesh3d\"}], \"parcoords\": [{\"line\": {\"colorbar\": {\"outlinewidth\": 0, \"ticks\": \"\"}}, \"type\": \"parcoords\"}], \"pie\": [{\"automargin\": true, \"type\": \"pie\"}], \"scatter\": [{\"marker\": {\"colorbar\": {\"outlinewidth\": 0, \"ticks\": \"\"}}, \"type\": \"scatter\"}], \"scatter3d\": [{\"line\": {\"colorbar\": {\"outlinewidth\": 0, \"ticks\": \"\"}}, \"marker\": {\"colorbar\": {\"outlinewidth\": 0, \"ticks\": \"\"}}, \"type\": \"scatter3d\"}], \"scattercarpet\": [{\"marker\": {\"colorbar\": {\"outlinewidth\": 0, \"ticks\": \"\"}}, \"type\": \"scattercarpet\"}], \"scattergeo\": [{\"marker\": {\"colorbar\": {\"outlinewidth\": 0, \"ticks\": \"\"}}, \"type\": \"scattergeo\"}], \"scattergl\": [{\"marker\": {\"colorbar\": {\"outlinewidth\": 0, \"ticks\": \"\"}}, \"type\": \"scattergl\"}], \"scattermapbox\": [{\"marker\": {\"colorbar\": {\"outlinewidth\": 0, \"ticks\": \"\"}}, \"type\": \"scattermapbox\"}], \"scatterpolar\": [{\"marker\": {\"colorbar\": {\"outlinewidth\": 0, \"ticks\": \"\"}}, \"type\": \"scatterpolar\"}], \"scatterpolargl\": [{\"marker\": {\"colorbar\": {\"outlinewidth\": 0, \"ticks\": \"\"}}, \"type\": \"scatterpolargl\"}], \"scatterternary\": [{\"marker\": {\"colorbar\": {\"outlinewidth\": 0, \"ticks\": \"\"}}, \"type\": \"scatterternary\"}], \"surface\": [{\"colorbar\": {\"outlinewidth\": 0, \"ticks\": \"\"}, \"colorscale\": [[0.0, \"#0d0887\"], [0.1111111111111111, \"#46039f\"], [0.2222222222222222, \"#7201a8\"], [0.3333333333333333, \"#9c179e\"], [0.4444444444444444, \"#bd3786\"], [0.5555555555555556, \"#d8576b\"], [0.6666666666666666, \"#ed7953\"], [0.7777777777777778, \"#fb9f3a\"], [0.8888888888888888, \"#fdca26\"], [1.0, \"#f0f921\"]], \"type\": \"surface\"}], \"table\": [{\"cells\": {\"fill\": {\"color\": \"#EBF0F8\"}, \"line\": {\"color\": \"white\"}}, \"header\": {\"fill\": {\"color\": \"#C8D4E3\"}, \"line\": {\"color\": \"white\"}}, \"type\": \"table\"}]}, \"layout\": {\"annotationdefaults\": {\"arrowcolor\": \"#2a3f5f\", \"arrowhead\": 0, \"arrowwidth\": 1}, \"coloraxis\": {\"colorbar\": {\"outlinewidth\": 0, \"ticks\": \"\"}}, \"colorscale\": {\"diverging\": [[0, \"#8e0152\"], [0.1, \"#c51b7d\"], [0.2, \"#de77ae\"], [0.3, \"#f1b6da\"], [0.4, \"#fde0ef\"], [0.5, \"#f7f7f7\"], [0.6, \"#e6f5d0\"], [0.7, \"#b8e186\"], [0.8, \"#7fbc41\"], [0.9, \"#4d9221\"], [1, \"#276419\"]], \"sequential\": [[0.0, \"#0d0887\"], [0.1111111111111111, \"#46039f\"], [0.2222222222222222, \"#7201a8\"], [0.3333333333333333, \"#9c179e\"], [0.4444444444444444, \"#bd3786\"], [0.5555555555555556, \"#d8576b\"], [0.6666666666666666, \"#ed7953\"], [0.7777777777777778, \"#fb9f3a\"], [0.8888888888888888, \"#fdca26\"], [1.0, \"#f0f921\"]], \"sequentialminus\": [[0.0, \"#0d0887\"], [0.1111111111111111, \"#46039f\"], [0.2222222222222222, \"#7201a8\"], [0.3333333333333333, \"#9c179e\"], [0.4444444444444444, \"#bd3786\"], [0.5555555555555556, \"#d8576b\"], [0.6666666666666666, \"#ed7953\"], [0.7777777777777778, \"#fb9f3a\"], [0.8888888888888888, \"#fdca26\"], [1.0, \"#f0f921\"]]}, \"colorway\": [\"#636efa\", \"#EF553B\", \"#00cc96\", \"#ab63fa\", \"#FFA15A\", \"#19d3f3\", \"#FF6692\", \"#B6E880\", \"#FF97FF\", \"#FECB52\"], \"font\": {\"color\": \"#2a3f5f\"}, \"geo\": {\"bgcolor\": \"white\", \"lakecolor\": \"white\", \"landcolor\": \"#E5ECF6\", \"showlakes\": true, \"showland\": true, \"subunitcolor\": \"white\"}, \"hoverlabel\": {\"align\": \"left\"}, \"hovermode\": \"closest\", \"mapbox\": {\"style\": \"light\"}, \"paper_bgcolor\": \"white\", \"plot_bgcolor\": \"#E5ECF6\", \"polar\": {\"angularaxis\": {\"gridcolor\": \"white\", \"linecolor\": \"white\", \"ticks\": \"\"}, \"bgcolor\": \"#E5ECF6\", \"radialaxis\": {\"gridcolor\": \"white\", \"linecolor\": \"white\", \"ticks\": \"\"}}, \"scene\": {\"xaxis\": {\"backgroundcolor\": \"#E5ECF6\", \"gridcolor\": \"white\", \"gridwidth\": 2, \"linecolor\": \"white\", \"showbackground\": true, \"ticks\": \"\", \"zerolinecolor\": \"white\"}, \"yaxis\": {\"backgroundcolor\": \"#E5ECF6\", \"gridcolor\": \"white\", \"gridwidth\": 2, \"linecolor\": \"white\", \"showbackground\": true, \"ticks\": \"\", \"zerolinecolor\": \"white\"}, \"zaxis\": {\"backgroundcolor\": \"#E5ECF6\", \"gridcolor\": \"white\", \"gridwidth\": 2, \"linecolor\": \"white\", \"showbackground\": true, \"ticks\": \"\", \"zerolinecolor\": \"white\"}}, \"shapedefaults\": {\"line\": {\"color\": \"#2a3f5f\"}}, \"ternary\": {\"aaxis\": {\"gridcolor\": \"white\", \"linecolor\": \"white\", \"ticks\": \"\"}, \"baxis\": {\"gridcolor\": \"white\", \"linecolor\": \"white\", \"ticks\": \"\"}, \"bgcolor\": \"#E5ECF6\", \"caxis\": {\"gridcolor\": \"white\", \"linecolor\": \"white\", \"ticks\": \"\"}}, \"title\": {\"x\": 0.05}, \"xaxis\": {\"automargin\": true, \"gridcolor\": \"white\", \"linecolor\": \"white\", \"ticks\": \"\", \"title\": {\"standoff\": 15}, \"zerolinecolor\": \"white\", \"zerolinewidth\": 2}, \"yaxis\": {\"automargin\": true, \"gridcolor\": \"white\", \"linecolor\": \"white\", \"ticks\": \"\", \"title\": {\"standoff\": 15}, \"zerolinecolor\": \"white\", \"zerolinewidth\": 2}}}, \"title\": {\"text\": \"Confirmed Cases Holt's Winter Model Prediction\"}, \"xaxis\": {\"title\": {\"text\": \"Date\"}}, \"yaxis\": {\"title\": {\"text\": \"Confirmed Cases\"}}},\n",
              "                        {\"responsive\": true}\n",
              "                    ).then(function(){\n",
              "                            \n",
              "var gd = document.getElementById('e7e2d9ae-6e8d-454c-8225-a5b4e797da5d');\n",
              "var x = new MutationObserver(function (mutations, observer) {{\n",
              "        var display = window.getComputedStyle(gd).display;\n",
              "        if (!display || display === 'none') {{\n",
              "            console.log([gd, 'removed!']);\n",
              "            Plotly.purge(gd);\n",
              "            observer.disconnect();\n",
              "        }}\n",
              "}});\n",
              "\n",
              "// Listen for the removal of the full notebook cells\n",
              "var notebookContainer = gd.closest('#notebook-container');\n",
              "if (notebookContainer) {{\n",
              "    x.observe(notebookContainer, {childList: true});\n",
              "}}\n",
              "\n",
              "// Listen for the clearing of the current output cell\n",
              "var outputEl = gd.closest('.output');\n",
              "if (outputEl) {{\n",
              "    x.observe(outputEl, {childList: true});\n",
              "}}\n",
              "\n",
              "                        })\n",
              "                };\n",
              "                \n",
              "            </script>\n",
              "        </div>\n",
              "</body>\n",
              "</html>"
            ]
          },
          "metadata": {}
        }
      ]
    },
    {
      "cell_type": "code",
      "metadata": {
        "execution": {
          "iopub.execute_input": "2021-11-30T10:48:30.391420Z",
          "iopub.status.busy": "2021-11-30T10:48:30.391008Z",
          "iopub.status.idle": "2021-11-30T10:48:30.550111Z",
          "shell.execute_reply": "2021-11-30T10:48:30.549057Z",
          "shell.execute_reply.started": "2021-11-30T10:48:30.391382Z"
        },
        "colab": {
          "base_uri": "https://localhost:8080/",
          "height": 206
        },
        "id": "H4lUCwBFhOcu",
        "outputId": "386ac75e-e497-490f-f504-7453d2e12351"
      },
      "source": [
        "holt_winter_new_prediction=[]\n",
        "for i in range(1,18):\n",
        "    holt_winter_new_prediction.append(es.forecast((len(valid)+i))[-1])\n",
        "model_predictions[\"Holt's Winter Model Prediction\"]=holt_winter_new_prediction\n",
        "model_predictions.head()"
      ],
      "execution_count": null,
      "outputs": [
        {
          "output_type": "execute_result",
          "data": {
            "text/html": [
              "<div>\n",
              "<style scoped>\n",
              "    .dataframe tbody tr th:only-of-type {\n",
              "        vertical-align: middle;\n",
              "    }\n",
              "\n",
              "    .dataframe tbody tr th {\n",
              "        vertical-align: top;\n",
              "    }\n",
              "\n",
              "    .dataframe thead th {\n",
              "        text-align: right;\n",
              "    }\n",
              "</style>\n",
              "<table border=\"1\" class=\"dataframe\">\n",
              "  <thead>\n",
              "    <tr style=\"text-align: right;\">\n",
              "      <th></th>\n",
              "      <th>Date</th>\n",
              "      <th>Polynomial Regression Prediction</th>\n",
              "      <th>SVM Prediction</th>\n",
              "      <th>Holt's Linear Model Prediction</th>\n",
              "      <th>Holt's Winter Model Prediction</th>\n",
              "    </tr>\n",
              "  </thead>\n",
              "  <tbody>\n",
              "    <tr>\n",
              "      <th>0</th>\n",
              "      <td>2021-05-30</td>\n",
              "      <td>3.403157e+07</td>\n",
              "      <td>2.451043e+07</td>\n",
              "      <td>3.031139e+07</td>\n",
              "      <td>3.469835e+07</td>\n",
              "    </tr>\n",
              "    <tr>\n",
              "      <th>1</th>\n",
              "      <td>2021-05-31</td>\n",
              "      <td>3.477220e+07</td>\n",
              "      <td>2.480965e+07</td>\n",
              "      <td>3.068133e+07</td>\n",
              "      <td>3.539108e+07</td>\n",
              "    </tr>\n",
              "    <tr>\n",
              "      <th>2</th>\n",
              "      <td>2021-06-01</td>\n",
              "      <td>3.553059e+07</td>\n",
              "      <td>2.511259e+07</td>\n",
              "      <td>3.105127e+07</td>\n",
              "      <td>3.608589e+07</td>\n",
              "    </tr>\n",
              "    <tr>\n",
              "      <th>3</th>\n",
              "      <td>2021-06-02</td>\n",
              "      <td>3.630703e+07</td>\n",
              "      <td>2.541927e+07</td>\n",
              "      <td>3.142121e+07</td>\n",
              "      <td>3.678747e+07</td>\n",
              "    </tr>\n",
              "    <tr>\n",
              "      <th>4</th>\n",
              "      <td>2021-06-03</td>\n",
              "      <td>3.710183e+07</td>\n",
              "      <td>2.572973e+07</td>\n",
              "      <td>3.179115e+07</td>\n",
              "      <td>3.755991e+07</td>\n",
              "    </tr>\n",
              "  </tbody>\n",
              "</table>\n",
              "</div>"
            ],
            "text/plain": [
              "        Date  ...  Holt's Winter Model Prediction\n",
              "0 2021-05-30  ...                    3.469835e+07\n",
              "1 2021-05-31  ...                    3.539108e+07\n",
              "2 2021-06-01  ...                    3.608589e+07\n",
              "3 2021-06-02  ...                    3.678747e+07\n",
              "4 2021-06-03  ...                    3.755991e+07\n",
              "\n",
              "[5 rows x 5 columns]"
            ]
          },
          "metadata": {},
          "execution_count": 40
        }
      ]
    },
    {
      "cell_type": "markdown",
      "metadata": {
        "id": "ugD7MTjXhOcu"
      },
      "source": [
        "Prophet"
      ]
    },
    {
      "cell_type": "code",
      "metadata": {
        "execution": {
          "iopub.execute_input": "2021-11-30T10:48:30.709896Z",
          "iopub.status.busy": "2021-11-30T10:48:30.709036Z",
          "iopub.status.idle": "2021-11-30T10:48:31.821833Z",
          "shell.execute_reply": "2021-11-30T10:48:31.820897Z",
          "shell.execute_reply.started": "2021-11-30T10:48:30.709835Z"
        },
        "id": "Qns3DCg8hOcu"
      },
      "source": [
        "prophet_c=Prophet(interval_width=0.95,weekly_seasonality=True,)\n",
        "prophet_confirmed=pd.DataFrame(zip(list(india_datewise.index),list(india_datewise[\"Confirmed\"])),columns=['ds','y'])"
      ],
      "execution_count": null,
      "outputs": []
    },
    {
      "cell_type": "code",
      "metadata": {
        "execution": {
          "iopub.execute_input": "2021-11-30T10:48:31.824066Z",
          "iopub.status.busy": "2021-11-30T10:48:31.823667Z",
          "iopub.status.idle": "2021-11-30T10:48:31.995611Z",
          "shell.execute_reply": "2021-11-30T10:48:31.994379Z",
          "shell.execute_reply.started": "2021-11-30T10:48:31.824017Z"
        },
        "colab": {
          "base_uri": "https://localhost:8080/"
        },
        "id": "eTNn6IjPhOcu",
        "outputId": "6831a883-10dd-4b5f-86dd-9049de1570c3"
      },
      "source": [
        "prophet_c.fit(prophet_confirmed)"
      ],
      "execution_count": null,
      "outputs": [
        {
          "output_type": "stream",
          "name": "stderr",
          "text": [
            "INFO:fbprophet:Disabling yearly seasonality. Run prophet with yearly_seasonality=True to override this.\n",
            "INFO:fbprophet:Disabling daily seasonality. Run prophet with daily_seasonality=True to override this.\n"
          ]
        },
        {
          "output_type": "execute_result",
          "data": {
            "text/plain": [
              "<fbprophet.forecaster.Prophet at 0x7f6f9d622250>"
            ]
          },
          "metadata": {},
          "execution_count": 42
        }
      ]
    },
    {
      "cell_type": "code",
      "metadata": {
        "execution": {
          "iopub.execute_input": "2021-11-30T10:48:32.894577Z",
          "iopub.status.busy": "2021-11-30T10:48:32.894293Z",
          "iopub.status.idle": "2021-11-30T10:48:32.900828Z",
          "shell.execute_reply": "2021-11-30T10:48:32.899943Z",
          "shell.execute_reply.started": "2021-11-30T10:48:32.894548Z"
        },
        "id": "IJ80PCaUhOcv"
      },
      "source": [
        "forecast_c=prophet_c.make_future_dataframe(periods=17)\n",
        "forecast_confirmed=forecast_c.copy()"
      ],
      "execution_count": null,
      "outputs": []
    },
    {
      "cell_type": "code",
      "metadata": {
        "execution": {
          "iopub.execute_input": "2021-11-30T10:48:33.056393Z",
          "iopub.status.busy": "2021-11-30T10:48:33.055957Z",
          "iopub.status.idle": "2021-11-30T10:48:34.648597Z",
          "shell.execute_reply": "2021-11-30T10:48:34.647836Z",
          "shell.execute_reply.started": "2021-11-30T10:48:33.056362Z"
        },
        "id": "k89vXH5KhOcv"
      },
      "source": [
        "confirmed_forecast=prophet_c.predict(forecast_c)"
      ],
      "execution_count": null,
      "outputs": []
    },
    {
      "cell_type": "code",
      "metadata": {
        "execution": {
          "iopub.execute_input": "2021-11-30T10:48:34.650347Z",
          "iopub.status.busy": "2021-11-30T10:48:34.649957Z",
          "iopub.status.idle": "2021-11-30T10:48:34.656799Z",
          "shell.execute_reply": "2021-11-30T10:48:34.655869Z",
          "shell.execute_reply.started": "2021-11-30T10:48:34.650316Z"
        },
        "colab": {
          "base_uri": "https://localhost:8080/"
        },
        "id": "BiJfuKjchOcv",
        "outputId": "8077f05d-74a9-47f3-fc63-cccbd49750f8"
      },
      "source": [
        "rmse_prophet=np.sqrt(mean_squared_error(india_datewise[\"Confirmed\"],confirmed_forecast['yhat'].head(india_datewise.shape[0])))\n",
        "model_scores.append(rmse_prophet)\n",
        "print(\"Root Mean Squared Error for Prophet Model: \",rmse_prophet)"
      ],
      "execution_count": null,
      "outputs": [
        {
          "output_type": "stream",
          "name": "stdout",
          "text": [
            "Root Mean Squared Error for Prophet Model:  1112918.2427191476\n"
          ]
        }
      ]
    },
    {
      "cell_type": "code",
      "metadata": {
        "execution": {
          "iopub.execute_input": "2021-11-30T10:48:34.658115Z",
          "iopub.status.busy": "2021-11-30T10:48:34.657891Z",
          "iopub.status.idle": "2021-11-30T10:48:35.008735Z",
          "shell.execute_reply": "2021-11-30T10:48:35.007827Z",
          "shell.execute_reply.started": "2021-11-30T10:48:34.658076Z"
        },
        "colab": {
          "base_uri": "https://localhost:8080/",
          "height": 458
        },
        "id": "GituaN6AhOcv",
        "outputId": "37667d01-ebb2-4564-84e4-bc2894487810"
      },
      "source": [
        "print(prophet_c.plot(confirmed_forecast))"
      ],
      "execution_count": null,
      "outputs": [
        {
          "output_type": "stream",
          "name": "stdout",
          "text": [
            "Figure(720x432)\n"
          ]
        },
        {
          "output_type": "display_data",
          "data": {
            "image/png": "[encoded data removed]",
            "text/plain": [
              "<Figure size 720x432 with 1 Axes>"
            ]
          },
          "metadata": {}
        }
      ]
    },
    {
      "cell_type": "code",
      "metadata": {
        "execution": {
          "iopub.execute_input": "2021-11-30T10:48:35.011309Z",
          "iopub.status.busy": "2021-11-30T10:48:35.011008Z",
          "iopub.status.idle": "2021-11-30T10:48:35.490334Z",
          "shell.execute_reply": "2021-11-30T10:48:35.489500Z",
          "shell.execute_reply.started": "2021-11-30T10:48:35.011276Z"
        },
        "colab": {
          "base_uri": "https://localhost:8080/",
          "height": 458
        },
        "id": "xuVxmOvJhOcv",
        "outputId": "5cb1e59e-e65f-4887-ee3f-cb14a71fe351"
      },
      "source": [
        "print(prophet_c.plot_components(confirmed_forecast))"
      ],
      "execution_count": null,
      "outputs": [
        {
          "output_type": "stream",
          "name": "stdout",
          "text": [
            "Figure(648x432)\n"
          ]
        },
        {
          "output_type": "display_data",
          "data": {
            "image/png": "[encoded data removed]",
            "text/plain": [
              "<Figure size 648x432 with 2 Axes>"
            ]
          },
          "metadata": {}
        }
      ]
    },
    {
      "cell_type": "code",
      "metadata": {
        "execution": {
          "iopub.execute_input": "2021-11-30T10:48:35.491912Z",
          "iopub.status.busy": "2021-11-30T10:48:35.491666Z",
          "iopub.status.idle": "2021-11-30T10:48:35.509925Z",
          "shell.execute_reply": "2021-11-30T10:48:35.509010Z",
          "shell.execute_reply.started": "2021-11-30T10:48:35.491885Z"
        },
        "colab": {
          "base_uri": "https://localhost:8080/",
          "height": 310
        },
        "id": "QD7NnwPJhOcv",
        "outputId": "224c4ed0-434d-4c99-c991-d98db36bd7df"
      },
      "source": [
        "model_predictions[\"Prophet's Prediction\"]=list(confirmed_forecast[\"yhat\"].tail(17))\n",
        "model_predictions[\"Prophet's Upper Bound\"]=list(confirmed_forecast[\"yhat_upper\"].tail(17))\n",
        "model_predictions.head()"
      ],
      "execution_count": null,
      "outputs": [
        {
          "output_type": "execute_result",
          "data": {
            "text/html": [
              "<div>\n",
              "<style scoped>\n",
              "    .dataframe tbody tr th:only-of-type {\n",
              "        vertical-align: middle;\n",
              "    }\n",
              "\n",
              "    .dataframe tbody tr th {\n",
              "        vertical-align: top;\n",
              "    }\n",
              "\n",
              "    .dataframe thead th {\n",
              "        text-align: right;\n",
              "    }\n",
              "</style>\n",
              "<table border=\"1\" class=\"dataframe\">\n",
              "  <thead>\n",
              "    <tr style=\"text-align: right;\">\n",
              "      <th></th>\n",
              "      <th>Date</th>\n",
              "      <th>Polynomial Regression Prediction</th>\n",
              "      <th>SVM Prediction</th>\n",
              "      <th>Holt's Linear Model Prediction</th>\n",
              "      <th>Holt's Winter Model Prediction</th>\n",
              "      <th>Prophet's Prediction</th>\n",
              "      <th>Prophet's Upper Bound</th>\n",
              "    </tr>\n",
              "  </thead>\n",
              "  <tbody>\n",
              "    <tr>\n",
              "      <th>0</th>\n",
              "      <td>2021-05-30</td>\n",
              "      <td>3.403157e+07</td>\n",
              "      <td>2.451043e+07</td>\n",
              "      <td>3.031139e+07</td>\n",
              "      <td>3.469835e+07</td>\n",
              "      <td>2.427854e+07</td>\n",
              "      <td>2.655395e+07</td>\n",
              "    </tr>\n",
              "    <tr>\n",
              "      <th>1</th>\n",
              "      <td>2021-05-31</td>\n",
              "      <td>3.477220e+07</td>\n",
              "      <td>2.480965e+07</td>\n",
              "      <td>3.068133e+07</td>\n",
              "      <td>3.539108e+07</td>\n",
              "      <td>2.442943e+07</td>\n",
              "      <td>2.663346e+07</td>\n",
              "    </tr>\n",
              "    <tr>\n",
              "      <th>2</th>\n",
              "      <td>2021-06-01</td>\n",
              "      <td>3.553059e+07</td>\n",
              "      <td>2.511259e+07</td>\n",
              "      <td>3.105127e+07</td>\n",
              "      <td>3.608589e+07</td>\n",
              "      <td>2.458716e+07</td>\n",
              "      <td>2.695658e+07</td>\n",
              "    </tr>\n",
              "    <tr>\n",
              "      <th>3</th>\n",
              "      <td>2021-06-02</td>\n",
              "      <td>3.630703e+07</td>\n",
              "      <td>2.541927e+07</td>\n",
              "      <td>3.142121e+07</td>\n",
              "      <td>3.678747e+07</td>\n",
              "      <td>2.474935e+07</td>\n",
              "      <td>2.681554e+07</td>\n",
              "    </tr>\n",
              "    <tr>\n",
              "      <th>4</th>\n",
              "      <td>2021-06-03</td>\n",
              "      <td>3.710183e+07</td>\n",
              "      <td>2.572973e+07</td>\n",
              "      <td>3.179115e+07</td>\n",
              "      <td>3.755991e+07</td>\n",
              "      <td>2.491167e+07</td>\n",
              "      <td>2.689919e+07</td>\n",
              "    </tr>\n",
              "  </tbody>\n",
              "</table>\n",
              "</div>"
            ],
            "text/plain": [
              "        Date  ...  Prophet's Upper Bound\n",
              "0 2021-05-30  ...           2.655395e+07\n",
              "1 2021-05-31  ...           2.663346e+07\n",
              "2 2021-06-01  ...           2.695658e+07\n",
              "3 2021-06-02  ...           2.681554e+07\n",
              "4 2021-06-03  ...           2.689919e+07\n",
              "\n",
              "[5 rows x 7 columns]"
            ]
          },
          "metadata": {},
          "execution_count": 48
        }
      ]
    },
    {
      "cell_type": "code",
      "metadata": {
        "execution": {
          "iopub.execute_input": "2021-11-30T10:48:35.512261Z",
          "iopub.status.busy": "2021-11-30T10:48:35.511233Z",
          "iopub.status.idle": "2021-11-30T10:48:35.523064Z",
          "shell.execute_reply": "2021-11-30T10:48:35.522292Z",
          "shell.execute_reply.started": "2021-11-30T10:48:35.512216Z"
        },
        "id": "ggqpP0FJhOcv"
      },
      "source": [
        "models=[\"Polynomial Regression\",\"Support Vector Machine Regresssor\",\"Holt's Linear Model\",\n",
        "       \"Holt's Winter Model\",\"Facebook's Prophet Model\"]"
      ],
      "execution_count": null,
      "outputs": []
    },
    {
      "cell_type": "code",
      "metadata": {
        "execution": {
          "iopub.execute_input": "2021-11-30T10:48:35.524921Z",
          "iopub.status.busy": "2021-11-30T10:48:35.524497Z",
          "iopub.status.idle": "2021-11-30T10:48:35.597220Z",
          "shell.execute_reply": "2021-11-30T10:48:35.596495Z",
          "shell.execute_reply.started": "2021-11-30T10:48:35.524871Z"
        },
        "colab": {
          "base_uri": "https://localhost:8080/",
          "height": 206
        },
        "id": "U1j7UE7zhOcv",
        "outputId": "7f553763-d8dd-4a43-8ce9-19739ef08a2d"
      },
      "source": [
        "model_evaluation=pd.DataFrame(list(zip(models,model_scores)),columns=[\"Model Name\",\"Root Mean Squared Error\"])\n",
        "model_evaluation=model_evaluation.sort_values([\"Root Mean Squared Error\"])\n",
        "model_evaluation.style.background_gradient(cmap='Reds')"
      ],
      "execution_count": null,
      "outputs": [
        {
          "output_type": "execute_result",
          "data": {
            "text/html": [
              "<style  type=\"text/css\" >\n",
              "#T_e67d2890_51d0_11ec_8faf_0242ac1c0002row0_col1{\n",
              "            background-color:  #fff5f0;\n",
              "            color:  #000000;\n",
              "        }#T_e67d2890_51d0_11ec_8faf_0242ac1c0002row1_col1{\n",
              "            background-color:  #fee7dc;\n",
              "            color:  #000000;\n",
              "        }#T_e67d2890_51d0_11ec_8faf_0242ac1c0002row2_col1{\n",
              "            background-color:  #fb7757;\n",
              "            color:  #000000;\n",
              "        }#T_e67d2890_51d0_11ec_8faf_0242ac1c0002row3_col1{\n",
              "            background-color:  #ec382b;\n",
              "            color:  #f1f1f1;\n",
              "        }#T_e67d2890_51d0_11ec_8faf_0242ac1c0002row4_col1{\n",
              "            background-color:  #67000d;\n",
              "            color:  #f1f1f1;\n",
              "        }</style><table id=\"T_e67d2890_51d0_11ec_8faf_0242ac1c0002\" class=\"dataframe\"><thead>    <tr>        <th class=\"blank level0\" ></th>        <th class=\"col_heading level0 col0\" >Model Name</th>        <th class=\"col_heading level0 col1\" >Root Mean Squared Error</th>    </tr></thead><tbody>\n",
              "                <tr>\n",
              "                        <th id=\"T_e67d2890_51d0_11ec_8faf_0242ac1c0002level0_row0\" class=\"row_heading level0 row0\" >2</th>\n",
              "                        <td id=\"T_e67d2890_51d0_11ec_8faf_0242ac1c0002row0_col0\" class=\"data row0 col0\" >Holt's Linear Model</td>\n",
              "                        <td id=\"T_e67d2890_51d0_11ec_8faf_0242ac1c0002row0_col1\" class=\"data row0 col1\" >857757.697680</td>\n",
              "            </tr>\n",
              "            <tr>\n",
              "                        <th id=\"T_e67d2890_51d0_11ec_8faf_0242ac1c0002level0_row1\" class=\"row_heading level0 row1\" >4</th>\n",
              "                        <td id=\"T_e67d2890_51d0_11ec_8faf_0242ac1c0002row1_col0\" class=\"data row1 col0\" >Facebook's Prophet Model</td>\n",
              "                        <td id=\"T_e67d2890_51d0_11ec_8faf_0242ac1c0002row1_col1\" class=\"data row1 col1\" >1112918.242719</td>\n",
              "            </tr>\n",
              "            <tr>\n",
              "                        <th id=\"T_e67d2890_51d0_11ec_8faf_0242ac1c0002level0_row2\" class=\"row_heading level0 row2\" >0</th>\n",
              "                        <td id=\"T_e67d2890_51d0_11ec_8faf_0242ac1c0002row2_col0\" class=\"data row2 col0\" >Polynomial Regression</td>\n",
              "                        <td id=\"T_e67d2890_51d0_11ec_8faf_0242ac1c0002row2_col1\" class=\"data row2 col1\" >2280842.758136</td>\n",
              "            </tr>\n",
              "            <tr>\n",
              "                        <th id=\"T_e67d2890_51d0_11ec_8faf_0242ac1c0002level0_row3\" class=\"row_heading level0 row3\" >3</th>\n",
              "                        <td id=\"T_e67d2890_51d0_11ec_8faf_0242ac1c0002row3_col0\" class=\"data row3 col0\" >Holt's Winter Model</td>\n",
              "                        <td id=\"T_e67d2890_51d0_11ec_8faf_0242ac1c0002row3_col1\" class=\"data row3 col1\" >2830471.071896</td>\n",
              "            </tr>\n",
              "            <tr>\n",
              "                        <th id=\"T_e67d2890_51d0_11ec_8faf_0242ac1c0002level0_row4\" class=\"row_heading level0 row4\" >1</th>\n",
              "                        <td id=\"T_e67d2890_51d0_11ec_8faf_0242ac1c0002row4_col0\" class=\"data row4 col0\" >Support Vector Machine Regresssor</td>\n",
              "                        <td id=\"T_e67d2890_51d0_11ec_8faf_0242ac1c0002row4_col1\" class=\"data row4 col1\" >3965132.809816</td>\n",
              "            </tr>\n",
              "    </tbody></table>"
            ],
            "text/plain": [
              "<pandas.io.formats.style.Styler at 0x7f6f9e439290>"
            ]
          },
          "metadata": {},
          "execution_count": 50
        }
      ]
    },
    {
      "cell_type": "code",
      "metadata": {
        "execution": {
          "iopub.execute_input": "2021-11-30T10:48:35.598875Z",
          "iopub.status.busy": "2021-11-30T10:48:35.598266Z",
          "iopub.status.idle": "2021-11-30T10:48:35.619849Z",
          "shell.execute_reply": "2021-11-30T10:48:35.619184Z",
          "shell.execute_reply.started": "2021-11-30T10:48:35.598836Z"
        },
        "colab": {
          "base_uri": "https://localhost:8080/",
          "height": 310
        },
        "id": "VrW3K3aehOcv",
        "outputId": "38a46f6b-4972-4667-8eb6-999994d05715"
      },
      "source": [
        "model_predictions[\"Average of Predictions Models\"]=model_predictions.mean(axis=1)\n",
        "show_predictions=model_predictions.head()\n",
        "show_predictions"
      ],
      "execution_count": null,
      "outputs": [
        {
          "output_type": "execute_result",
          "data": {
            "text/html": [
              "<div>\n",
              "<style scoped>\n",
              "    .dataframe tbody tr th:only-of-type {\n",
              "        vertical-align: middle;\n",
              "    }\n",
              "\n",
              "    .dataframe tbody tr th {\n",
              "        vertical-align: top;\n",
              "    }\n",
              "\n",
              "    .dataframe thead th {\n",
              "        text-align: right;\n",
              "    }\n",
              "</style>\n",
              "<table border=\"1\" class=\"dataframe\">\n",
              "  <thead>\n",
              "    <tr style=\"text-align: right;\">\n",
              "      <th></th>\n",
              "      <th>Date</th>\n",
              "      <th>Polynomial Regression Prediction</th>\n",
              "      <th>SVM Prediction</th>\n",
              "      <th>Holt's Linear Model Prediction</th>\n",
              "      <th>Holt's Winter Model Prediction</th>\n",
              "      <th>Prophet's Prediction</th>\n",
              "      <th>Prophet's Upper Bound</th>\n",
              "      <th>Average of Predictions Models</th>\n",
              "    </tr>\n",
              "  </thead>\n",
              "  <tbody>\n",
              "    <tr>\n",
              "      <th>0</th>\n",
              "      <td>2021-05-30</td>\n",
              "      <td>3.403157e+07</td>\n",
              "      <td>2.451043e+07</td>\n",
              "      <td>3.031139e+07</td>\n",
              "      <td>3.469835e+07</td>\n",
              "      <td>2.427854e+07</td>\n",
              "      <td>2.655395e+07</td>\n",
              "      <td>2.906404e+07</td>\n",
              "    </tr>\n",
              "    <tr>\n",
              "      <th>1</th>\n",
              "      <td>2021-05-31</td>\n",
              "      <td>3.477220e+07</td>\n",
              "      <td>2.480965e+07</td>\n",
              "      <td>3.068133e+07</td>\n",
              "      <td>3.539108e+07</td>\n",
              "      <td>2.442943e+07</td>\n",
              "      <td>2.663346e+07</td>\n",
              "      <td>2.945286e+07</td>\n",
              "    </tr>\n",
              "    <tr>\n",
              "      <th>2</th>\n",
              "      <td>2021-06-01</td>\n",
              "      <td>3.553059e+07</td>\n",
              "      <td>2.511259e+07</td>\n",
              "      <td>3.105127e+07</td>\n",
              "      <td>3.608589e+07</td>\n",
              "      <td>2.458716e+07</td>\n",
              "      <td>2.695658e+07</td>\n",
              "      <td>2.988735e+07</td>\n",
              "    </tr>\n",
              "    <tr>\n",
              "      <th>3</th>\n",
              "      <td>2021-06-02</td>\n",
              "      <td>3.630703e+07</td>\n",
              "      <td>2.541927e+07</td>\n",
              "      <td>3.142121e+07</td>\n",
              "      <td>3.678747e+07</td>\n",
              "      <td>2.474935e+07</td>\n",
              "      <td>2.681554e+07</td>\n",
              "      <td>3.024998e+07</td>\n",
              "    </tr>\n",
              "    <tr>\n",
              "      <th>4</th>\n",
              "      <td>2021-06-03</td>\n",
              "      <td>3.710183e+07</td>\n",
              "      <td>2.572973e+07</td>\n",
              "      <td>3.179115e+07</td>\n",
              "      <td>3.755991e+07</td>\n",
              "      <td>2.491167e+07</td>\n",
              "      <td>2.689919e+07</td>\n",
              "      <td>3.066558e+07</td>\n",
              "    </tr>\n",
              "  </tbody>\n",
              "</table>\n",
              "</div>"
            ],
            "text/plain": [
              "        Date  ...  Average of Predictions Models\n",
              "0 2021-05-30  ...                   2.906404e+07\n",
              "1 2021-05-31  ...                   2.945286e+07\n",
              "2 2021-06-01  ...                   2.988735e+07\n",
              "3 2021-06-02  ...                   3.024998e+07\n",
              "4 2021-06-03  ...                   3.066558e+07\n",
              "\n",
              "[5 rows x 8 columns]"
            ]
          },
          "metadata": {},
          "execution_count": 51
        }
      ]
    },
    {
      "cell_type": "markdown",
      "metadata": {
        "id": "MBirGxF8hOcw"
      },
      "source": [
        "LSTM"
      ]
    },
    {
      "cell_type": "code",
      "metadata": {
        "execution": {
          "iopub.execute_input": "2021-11-30T10:48:38.065637Z",
          "iopub.status.busy": "2021-11-30T10:48:38.065156Z",
          "iopub.status.idle": "2021-11-30T10:48:40.093394Z",
          "shell.execute_reply": "2021-11-30T10:48:40.092459Z",
          "shell.execute_reply.started": "2021-11-30T10:48:38.065588Z"
        },
        "id": "O97gtmuZhOcw"
      },
      "source": [
        "from sklearn.preprocessing import MinMaxScaler\n",
        "import tensorflow as tf\n",
        "from tensorflow.keras.layers import Input, Conv1D, Dense, Flatten, Dropout, BatchNormalization,LSTM,SeparableConv1D\n",
        "from tensorflow.keras.models import Model,Sequential\n",
        "from tensorflow.keras.optimizers import Adam\n",
        "from tensorflow.keras.callbacks import ReduceLROnPlateau,EarlyStopping\n",
        "import warnings\n",
        "warnings.filterwarnings('ignore')"
      ],
      "execution_count": null,
      "outputs": []
    },
    {
      "cell_type": "code",
      "metadata": {
        "id": "wKthU905nkyL"
      },
      "source": [
        "df_confirmed = pd.read_csv('/content/time_series_covid_19_confirmed (1).csv')\n",
        "df_deaths = pd.read_csv('/content/time_series_covid_19_deaths (1).csv')\n",
        "df_recovered = pd.read_csv('/content/time_series_covid_19_recovered (1).csv')"
      ],
      "execution_count": null,
      "outputs": []
    },
    {
      "cell_type": "code",
      "metadata": {
        "execution": {
          "iopub.execute_input": "2021-11-30T10:48:40.208717Z",
          "iopub.status.busy": "2021-11-30T10:48:40.208360Z",
          "iopub.status.idle": "2021-11-30T10:48:40.212895Z",
          "shell.execute_reply": "2021-11-30T10:48:40.212192Z",
          "shell.execute_reply.started": "2021-11-30T10:48:40.208689Z"
        },
        "id": "TySvU8TPhOcw"
      },
      "source": [
        "df_list = [df_confirmed,df_deaths,df_recovered]\n",
        "cases = ['Confirmed', 'Deaths', 'Recovered', 'Active']\n",
        "case_color = ['orange','red','green','blue']\n",
        "case_dict = {cases[i]:case_color[i] for i in range(len(cases))}"
      ],
      "execution_count": null,
      "outputs": []
    },
    {
      "cell_type": "code",
      "metadata": {
        "execution": {
          "iopub.execute_input": "2021-11-30T10:48:40.215106Z",
          "iopub.status.busy": "2021-11-30T10:48:40.214692Z",
          "iopub.status.idle": "2021-11-30T10:48:40.248756Z",
          "shell.execute_reply": "2021-11-30T10:48:40.247750Z",
          "shell.execute_reply.started": "2021-11-30T10:48:40.215053Z"
        },
        "id": "jq1Op0TThOcw"
      },
      "source": [
        "## creating time series data\n",
        "\n",
        "time_series_data = pd.DataFrame()\n",
        "for i in range(len(cases)-1):\n",
        "    df =  pd.DataFrame(df_list[i][df_list[i].columns[4:]].sum(),columns=[cases[i]])\n",
        "    time_series_data = pd.concat([time_series_data,df],axis = 1)\n",
        "time_series_data.index = pd.to_datetime(time_series_data.index,format='%m/%d/%y')\n",
        "time_series_data['Active'] = time_series_data['Confirmed'] - time_series_data['Deaths'] - time_series_data['Recovered']\n",
        "time_series_data= time_series_data.rename_axis('ObservationDate').reset_index()"
      ],
      "execution_count": null,
      "outputs": []
    },
    {
      "cell_type": "code",
      "metadata": {
        "execution": {
          "iopub.execute_input": "2021-11-30T10:48:40.250556Z",
          "iopub.status.busy": "2021-11-30T10:48:40.249877Z",
          "iopub.status.idle": "2021-11-30T10:48:40.272845Z",
          "shell.execute_reply": "2021-11-30T10:48:40.271917Z",
          "shell.execute_reply.started": "2021-11-30T10:48:40.250522Z"
        },
        "colab": {
          "base_uri": "https://localhost:8080/",
          "height": 363
        },
        "id": "GjwscQ0AhOcw",
        "outputId": "816315c3-083a-4d5c-f3e0-81af680c4168"
      },
      "source": [
        "time_series_data.head(10).style.background_gradient(cmap='PuBu')"
      ],
      "execution_count": null,
      "outputs": [
        {
          "output_type": "execute_result",
          "data": {
            "text/html": [
              "<style  type=\"text/css\" >\n",
              "#T_b09da1f4_51d1_11ec_8faf_0242ac1c0002row0_col1,#T_b09da1f4_51d1_11ec_8faf_0242ac1c0002row0_col2,#T_b09da1f4_51d1_11ec_8faf_0242ac1c0002row0_col3,#T_b09da1f4_51d1_11ec_8faf_0242ac1c0002row0_col4{\n",
              "            background-color:  #fff7fb;\n",
              "            color:  #000000;\n",
              "        }#T_b09da1f4_51d1_11ec_8faf_0242ac1c0002row1_col1,#T_b09da1f4_51d1_11ec_8faf_0242ac1c0002row1_col3,#T_b09da1f4_51d1_11ec_8faf_0242ac1c0002row1_col4{\n",
              "            background-color:  #fef6fa;\n",
              "            color:  #000000;\n",
              "        }#T_b09da1f4_51d1_11ec_8faf_0242ac1c0002row1_col2{\n",
              "            background-color:  #fef6fb;\n",
              "            color:  #000000;\n",
              "        }#T_b09da1f4_51d1_11ec_8faf_0242ac1c0002row2_col1,#T_b09da1f4_51d1_11ec_8faf_0242ac1c0002row2_col4{\n",
              "            background-color:  #f9f2f8;\n",
              "            color:  #000000;\n",
              "        }#T_b09da1f4_51d1_11ec_8faf_0242ac1c0002row2_col2,#T_b09da1f4_51d1_11ec_8faf_0242ac1c0002row2_col3{\n",
              "            background-color:  #f8f1f8;\n",
              "            color:  #000000;\n",
              "        }#T_b09da1f4_51d1_11ec_8faf_0242ac1c0002row3_col1,#T_b09da1f4_51d1_11ec_8faf_0242ac1c0002row3_col4{\n",
              "            background-color:  #f1ebf5;\n",
              "            color:  #000000;\n",
              "        }#T_b09da1f4_51d1_11ec_8faf_0242ac1c0002row3_col2{\n",
              "            background-color:  #ece7f2;\n",
              "            color:  #000000;\n",
              "        }#T_b09da1f4_51d1_11ec_8faf_0242ac1c0002row3_col3{\n",
              "            background-color:  #f6eff7;\n",
              "            color:  #000000;\n",
              "        }#T_b09da1f4_51d1_11ec_8faf_0242ac1c0002row4_col1,#T_b09da1f4_51d1_11ec_8faf_0242ac1c0002row4_col4{\n",
              "            background-color:  #e3e0ee;\n",
              "            color:  #000000;\n",
              "        }#T_b09da1f4_51d1_11ec_8faf_0242ac1c0002row4_col2{\n",
              "            background-color:  #dcdaeb;\n",
              "            color:  #000000;\n",
              "        }#T_b09da1f4_51d1_11ec_8faf_0242ac1c0002row4_col3{\n",
              "            background-color:  #eae6f1;\n",
              "            color:  #000000;\n",
              "        }#T_b09da1f4_51d1_11ec_8faf_0242ac1c0002row5_col1,#T_b09da1f4_51d1_11ec_8faf_0242ac1c0002row5_col4{\n",
              "            background-color:  #d0d1e6;\n",
              "            color:  #000000;\n",
              "        }#T_b09da1f4_51d1_11ec_8faf_0242ac1c0002row5_col2{\n",
              "            background-color:  #b5c4df;\n",
              "            color:  #000000;\n",
              "        }#T_b09da1f4_51d1_11ec_8faf_0242ac1c0002row5_col3{\n",
              "            background-color:  #e0deed;\n",
              "            color:  #000000;\n",
              "        }#T_b09da1f4_51d1_11ec_8faf_0242ac1c0002row6_col1,#T_b09da1f4_51d1_11ec_8faf_0242ac1c0002row6_col4{\n",
              "            background-color:  #62a2cb;\n",
              "            color:  #000000;\n",
              "        }#T_b09da1f4_51d1_11ec_8faf_0242ac1c0002row6_col2{\n",
              "            background-color:  #4c99c5;\n",
              "            color:  #000000;\n",
              "        }#T_b09da1f4_51d1_11ec_8faf_0242ac1c0002row6_col3{\n",
              "            background-color:  #9cb9d9;\n",
              "            color:  #000000;\n",
              "        }#T_b09da1f4_51d1_11ec_8faf_0242ac1c0002row7_col1,#T_b09da1f4_51d1_11ec_8faf_0242ac1c0002row7_col4{\n",
              "            background-color:  #4295c3;\n",
              "            color:  #000000;\n",
              "        }#T_b09da1f4_51d1_11ec_8faf_0242ac1c0002row7_col2{\n",
              "            background-color:  #4697c4;\n",
              "            color:  #000000;\n",
              "        }#T_b09da1f4_51d1_11ec_8faf_0242ac1c0002row7_col3{\n",
              "            background-color:  #75a9cf;\n",
              "            color:  #000000;\n",
              "        }#T_b09da1f4_51d1_11ec_8faf_0242ac1c0002row8_col1{\n",
              "            background-color:  #04649d;\n",
              "            color:  #f1f1f1;\n",
              "        }#T_b09da1f4_51d1_11ec_8faf_0242ac1c0002row8_col2{\n",
              "            background-color:  #0569a5;\n",
              "            color:  #f1f1f1;\n",
              "        }#T_b09da1f4_51d1_11ec_8faf_0242ac1c0002row8_col3{\n",
              "            background-color:  #4897c4;\n",
              "            color:  #000000;\n",
              "        }#T_b09da1f4_51d1_11ec_8faf_0242ac1c0002row8_col4{\n",
              "            background-color:  #04629a;\n",
              "            color:  #f1f1f1;\n",
              "        }#T_b09da1f4_51d1_11ec_8faf_0242ac1c0002row9_col1,#T_b09da1f4_51d1_11ec_8faf_0242ac1c0002row9_col2,#T_b09da1f4_51d1_11ec_8faf_0242ac1c0002row9_col3,#T_b09da1f4_51d1_11ec_8faf_0242ac1c0002row9_col4{\n",
              "            background-color:  #023858;\n",
              "            color:  #f1f1f1;\n",
              "        }</style><table id=\"T_b09da1f4_51d1_11ec_8faf_0242ac1c0002\" class=\"dataframe\"><thead>    <tr>        <th class=\"blank level0\" ></th>        <th class=\"col_heading level0 col0\" >ObservationDate</th>        <th class=\"col_heading level0 col1\" >Confirmed</th>        <th class=\"col_heading level0 col2\" >Deaths</th>        <th class=\"col_heading level0 col3\" >Recovered</th>        <th class=\"col_heading level0 col4\" >Active</th>    </tr></thead><tbody>\n",
              "                <tr>\n",
              "                        <th id=\"T_b09da1f4_51d1_11ec_8faf_0242ac1c0002level0_row0\" class=\"row_heading level0 row0\" >0</th>\n",
              "                        <td id=\"T_b09da1f4_51d1_11ec_8faf_0242ac1c0002row0_col0\" class=\"data row0 col0\" >2020-01-22 00:00:00</td>\n",
              "                        <td id=\"T_b09da1f4_51d1_11ec_8faf_0242ac1c0002row0_col1\" class=\"data row0 col1\" >557</td>\n",
              "                        <td id=\"T_b09da1f4_51d1_11ec_8faf_0242ac1c0002row0_col2\" class=\"data row0 col2\" >17</td>\n",
              "                        <td id=\"T_b09da1f4_51d1_11ec_8faf_0242ac1c0002row0_col3\" class=\"data row0 col3\" >30</td>\n",
              "                        <td id=\"T_b09da1f4_51d1_11ec_8faf_0242ac1c0002row0_col4\" class=\"data row0 col4\" >510</td>\n",
              "            </tr>\n",
              "            <tr>\n",
              "                        <th id=\"T_b09da1f4_51d1_11ec_8faf_0242ac1c0002level0_row1\" class=\"row_heading level0 row1\" >1</th>\n",
              "                        <td id=\"T_b09da1f4_51d1_11ec_8faf_0242ac1c0002row1_col0\" class=\"data row1 col0\" >2020-01-23 00:00:00</td>\n",
              "                        <td id=\"T_b09da1f4_51d1_11ec_8faf_0242ac1c0002row1_col1\" class=\"data row1 col1\" >655</td>\n",
              "                        <td id=\"T_b09da1f4_51d1_11ec_8faf_0242ac1c0002row1_col2\" class=\"data row1 col2\" >18</td>\n",
              "                        <td id=\"T_b09da1f4_51d1_11ec_8faf_0242ac1c0002row1_col3\" class=\"data row1 col3\" >32</td>\n",
              "                        <td id=\"T_b09da1f4_51d1_11ec_8faf_0242ac1c0002row1_col4\" class=\"data row1 col4\" >605</td>\n",
              "            </tr>\n",
              "            <tr>\n",
              "                        <th id=\"T_b09da1f4_51d1_11ec_8faf_0242ac1c0002level0_row2\" class=\"row_heading level0 row2\" >2</th>\n",
              "                        <td id=\"T_b09da1f4_51d1_11ec_8faf_0242ac1c0002row2_col0\" class=\"data row2 col0\" >2020-01-24 00:00:00</td>\n",
              "                        <td id=\"T_b09da1f4_51d1_11ec_8faf_0242ac1c0002row2_col1\" class=\"data row2 col1\" >941</td>\n",
              "                        <td id=\"T_b09da1f4_51d1_11ec_8faf_0242ac1c0002row2_col2\" class=\"data row2 col2\" >26</td>\n",
              "                        <td id=\"T_b09da1f4_51d1_11ec_8faf_0242ac1c0002row2_col3\" class=\"data row2 col3\" >39</td>\n",
              "                        <td id=\"T_b09da1f4_51d1_11ec_8faf_0242ac1c0002row2_col4\" class=\"data row2 col4\" >876</td>\n",
              "            </tr>\n",
              "            <tr>\n",
              "                        <th id=\"T_b09da1f4_51d1_11ec_8faf_0242ac1c0002level0_row3\" class=\"row_heading level0 row3\" >3</th>\n",
              "                        <td id=\"T_b09da1f4_51d1_11ec_8faf_0242ac1c0002row3_col0\" class=\"data row3 col0\" >2020-01-25 00:00:00</td>\n",
              "                        <td id=\"T_b09da1f4_51d1_11ec_8faf_0242ac1c0002row3_col1\" class=\"data row3 col1\" >1433</td>\n",
              "                        <td id=\"T_b09da1f4_51d1_11ec_8faf_0242ac1c0002row3_col2\" class=\"data row3 col2\" >42</td>\n",
              "                        <td id=\"T_b09da1f4_51d1_11ec_8faf_0242ac1c0002row3_col3\" class=\"data row3 col3\" >42</td>\n",
              "                        <td id=\"T_b09da1f4_51d1_11ec_8faf_0242ac1c0002row3_col4\" class=\"data row3 col4\" >1349</td>\n",
              "            </tr>\n",
              "            <tr>\n",
              "                        <th id=\"T_b09da1f4_51d1_11ec_8faf_0242ac1c0002level0_row4\" class=\"row_heading level0 row4\" >4</th>\n",
              "                        <td id=\"T_b09da1f4_51d1_11ec_8faf_0242ac1c0002row4_col0\" class=\"data row4 col0\" >2020-01-26 00:00:00</td>\n",
              "                        <td id=\"T_b09da1f4_51d1_11ec_8faf_0242ac1c0002row4_col1\" class=\"data row4 col1\" >2118</td>\n",
              "                        <td id=\"T_b09da1f4_51d1_11ec_8faf_0242ac1c0002row4_col2\" class=\"data row4 col2\" >56</td>\n",
              "                        <td id=\"T_b09da1f4_51d1_11ec_8faf_0242ac1c0002row4_col3\" class=\"data row4 col3\" >56</td>\n",
              "                        <td id=\"T_b09da1f4_51d1_11ec_8faf_0242ac1c0002row4_col4\" class=\"data row4 col4\" >2006</td>\n",
              "            </tr>\n",
              "            <tr>\n",
              "                        <th id=\"T_b09da1f4_51d1_11ec_8faf_0242ac1c0002level0_row5\" class=\"row_heading level0 row5\" >5</th>\n",
              "                        <td id=\"T_b09da1f4_51d1_11ec_8faf_0242ac1c0002row5_col0\" class=\"data row5 col0\" >2020-01-27 00:00:00</td>\n",
              "                        <td id=\"T_b09da1f4_51d1_11ec_8faf_0242ac1c0002row5_col1\" class=\"data row5 col1\" >2927</td>\n",
              "                        <td id=\"T_b09da1f4_51d1_11ec_8faf_0242ac1c0002row5_col2\" class=\"data row5 col2\" >82</td>\n",
              "                        <td id=\"T_b09da1f4_51d1_11ec_8faf_0242ac1c0002row5_col3\" class=\"data row5 col3\" >65</td>\n",
              "                        <td id=\"T_b09da1f4_51d1_11ec_8faf_0242ac1c0002row5_col4\" class=\"data row5 col4\" >2780</td>\n",
              "            </tr>\n",
              "            <tr>\n",
              "                        <th id=\"T_b09da1f4_51d1_11ec_8faf_0242ac1c0002level0_row6\" class=\"row_heading level0 row6\" >6</th>\n",
              "                        <td id=\"T_b09da1f4_51d1_11ec_8faf_0242ac1c0002row6_col0\" class=\"data row6 col0\" >2020-01-28 00:00:00</td>\n",
              "                        <td id=\"T_b09da1f4_51d1_11ec_8faf_0242ac1c0002row6_col1\" class=\"data row6 col1\" >5578</td>\n",
              "                        <td id=\"T_b09da1f4_51d1_11ec_8faf_0242ac1c0002row6_col2\" class=\"data row6 col2\" >131</td>\n",
              "                        <td id=\"T_b09da1f4_51d1_11ec_8faf_0242ac1c0002row6_col3\" class=\"data row6 col3\" >108</td>\n",
              "                        <td id=\"T_b09da1f4_51d1_11ec_8faf_0242ac1c0002row6_col4\" class=\"data row6 col4\" >5339</td>\n",
              "            </tr>\n",
              "            <tr>\n",
              "                        <th id=\"T_b09da1f4_51d1_11ec_8faf_0242ac1c0002level0_row7\" class=\"row_heading level0 row7\" >7</th>\n",
              "                        <td id=\"T_b09da1f4_51d1_11ec_8faf_0242ac1c0002row7_col0\" class=\"data row7 col0\" >2020-01-29 00:00:00</td>\n",
              "                        <td id=\"T_b09da1f4_51d1_11ec_8faf_0242ac1c0002row7_col1\" class=\"data row7 col1\" >6167</td>\n",
              "                        <td id=\"T_b09da1f4_51d1_11ec_8faf_0242ac1c0002row7_col2\" class=\"data row7 col2\" >133</td>\n",
              "                        <td id=\"T_b09da1f4_51d1_11ec_8faf_0242ac1c0002row7_col3\" class=\"data row7 col3\" >127</td>\n",
              "                        <td id=\"T_b09da1f4_51d1_11ec_8faf_0242ac1c0002row7_col4\" class=\"data row7 col4\" >5907</td>\n",
              "            </tr>\n",
              "            <tr>\n",
              "                        <th id=\"T_b09da1f4_51d1_11ec_8faf_0242ac1c0002level0_row8\" class=\"row_heading level0 row8\" >8</th>\n",
              "                        <td id=\"T_b09da1f4_51d1_11ec_8faf_0242ac1c0002row8_col0\" class=\"data row8 col0\" >2020-01-30 00:00:00</td>\n",
              "                        <td id=\"T_b09da1f4_51d1_11ec_8faf_0242ac1c0002row8_col1\" class=\"data row8 col1\" >8235</td>\n",
              "                        <td id=\"T_b09da1f4_51d1_11ec_8faf_0242ac1c0002row8_col2\" class=\"data row8 col2\" >171</td>\n",
              "                        <td id=\"T_b09da1f4_51d1_11ec_8faf_0242ac1c0002row8_col3\" class=\"data row8 col3\" >145</td>\n",
              "                        <td id=\"T_b09da1f4_51d1_11ec_8faf_0242ac1c0002row8_col4\" class=\"data row8 col4\" >7919</td>\n",
              "            </tr>\n",
              "            <tr>\n",
              "                        <th id=\"T_b09da1f4_51d1_11ec_8faf_0242ac1c0002level0_row9\" class=\"row_heading level0 row9\" >9</th>\n",
              "                        <td id=\"T_b09da1f4_51d1_11ec_8faf_0242ac1c0002row9_col0\" class=\"data row9 col0\" >2020-01-31 00:00:00</td>\n",
              "                        <td id=\"T_b09da1f4_51d1_11ec_8faf_0242ac1c0002row9_col1\" class=\"data row9 col1\" >9927</td>\n",
              "                        <td id=\"T_b09da1f4_51d1_11ec_8faf_0242ac1c0002row9_col2\" class=\"data row9 col2\" >213</td>\n",
              "                        <td id=\"T_b09da1f4_51d1_11ec_8faf_0242ac1c0002row9_col3\" class=\"data row9 col3\" >225</td>\n",
              "                        <td id=\"T_b09da1f4_51d1_11ec_8faf_0242ac1c0002row9_col4\" class=\"data row9 col4\" >9489</td>\n",
              "            </tr>\n",
              "    </tbody></table>"
            ],
            "text/plain": [
              "<pandas.io.formats.style.Styler at 0x7f6f311101d0>"
            ]
          },
          "metadata": {},
          "execution_count": 59
        }
      ]
    },
    {
      "cell_type": "code",
      "metadata": {
        "execution": {
          "iopub.execute_input": "2021-11-30T10:48:40.274472Z",
          "iopub.status.busy": "2021-11-30T10:48:40.274242Z",
          "iopub.status.idle": "2021-11-30T10:48:40.307677Z",
          "shell.execute_reply": "2021-11-30T10:48:40.306482Z",
          "shell.execute_reply.started": "2021-11-30T10:48:40.274447Z"
        },
        "id": "rO0gjhOVhOcw"
      },
      "source": [
        "country_wise_data = pd.DataFrame()\n",
        "for i in range(len(cases)-1):\n",
        "    series =  df_list[i][df_list[i].columns[4:]].sum(axis = 1)\n",
        "    df = pd.concat([df_list[i]['Country/Region'] ,series],axis = 1)\n",
        "    df = df.groupby('Country/Region').sum().rename(columns = {0:cases[i]})\n",
        "    country_wise_data = pd.concat([country_wise_data,df],axis = 1)\n",
        "country_wise_data['Active'] = country_wise_data['Confirmed'] - country_wise_data['Deaths'] - country_wise_data['Recovered']\n",
        "country_wise_data = country_wise_data.reset_index()"
      ],
      "execution_count": null,
      "outputs": []
    },
    {
      "cell_type": "code",
      "metadata": {
        "execution": {
          "iopub.execute_input": "2021-11-30T10:48:40.310537Z",
          "iopub.status.busy": "2021-11-30T10:48:40.309198Z",
          "iopub.status.idle": "2021-11-30T10:48:40.318189Z",
          "shell.execute_reply": "2021-11-30T10:48:40.317158Z",
          "shell.execute_reply.started": "2021-11-30T10:48:40.310487Z"
        },
        "colab": {
          "base_uri": "https://localhost:8080/"
        },
        "id": "QZaQW7SThOcx",
        "outputId": "297add1d-b172-4011-d009-feaff9f99060"
      },
      "source": [
        "dataset = time_series_data.iloc[:,1].values #using only confirmed cases\n",
        "dataset.shape"
      ],
      "execution_count": null,
      "outputs": [
        {
          "output_type": "execute_result",
          "data": {
            "text/plain": [
              "(494,)"
            ]
          },
          "metadata": {},
          "execution_count": 61
        }
      ]
    },
    {
      "cell_type": "code",
      "metadata": {
        "execution": {
          "iopub.execute_input": "2021-11-30T10:48:40.319836Z",
          "iopub.status.busy": "2021-11-30T10:48:40.319529Z",
          "iopub.status.idle": "2021-11-30T10:48:40.333711Z",
          "shell.execute_reply": "2021-11-30T10:48:40.333134Z",
          "shell.execute_reply.started": "2021-11-30T10:48:40.319797Z"
        },
        "colab": {
          "base_uri": "https://localhost:8080/"
        },
        "id": "gW8Kd_ZthOcx",
        "outputId": "cc02f17c-1531-4635-8425-87ae8810ed17"
      },
      "source": [
        "#Feature scaling\n",
        "split = round(0.8*len(dataset))\n",
        "dataset = dataset.reshape(-1,1)\n",
        "scaler = MinMaxScaler(feature_range=(0,1))\n",
        "scaler.fit(dataset[:split]) #fit only on the training data which is the first 80%\n",
        "dataset_n = scaler.transform(dataset).flatten()\n",
        "dataset_n.shape"
      ],
      "execution_count": null,
      "outputs": [
        {
          "output_type": "execute_result",
          "data": {
            "text/plain": [
              "(494,)"
            ]
          },
          "metadata": {},
          "execution_count": 62
        }
      ]
    },
    {
      "cell_type": "code",
      "metadata": {
        "execution": {
          "iopub.execute_input": "2021-11-30T10:48:40.335479Z",
          "iopub.status.busy": "2021-11-30T10:48:40.335212Z",
          "iopub.status.idle": "2021-11-30T10:48:40.347551Z",
          "shell.execute_reply": "2021-11-30T10:48:40.346506Z",
          "shell.execute_reply.started": "2021-11-30T10:48:40.335448Z"
        },
        "id": "XswMVNcjhOcx"
      },
      "source": [
        "def create_dataset(df,previous,split_ratio):\n",
        "    X, Y = [], []\n",
        "    for i in range(len(df)-previous):\n",
        "        a = df[i:(i+previous)]\n",
        "        X.append(a)\n",
        "        y = df[i+previous]\n",
        "        Y.append(y)\n",
        "    X = np.array(X).reshape(-1,T,1)\n",
        "    Y = np.array(Y)\n",
        "    N = len(X)\n",
        "    split = round(split_ratio*len(df)) \n",
        "    X_train = X[:split]\n",
        "    X_test = X[split:]\n",
        "    Y_train = Y[:split]\n",
        "    Y_test = Y[split:]\n",
        "    print(\"X.shape\", X.shape, \"Y.shape\", Y.shape)\n",
        "    print(\"X_train.shape\", X_train.shape, \"Y_train.shape\", Y_train.shape)\n",
        "    print(\"X_test.shape\", X_test.shape, \"Y_test.shape\", Y_test.shape)\n",
        "    return X,X_train,X_test,Y,Y_train,Y_test"
      ],
      "execution_count": null,
      "outputs": []
    },
    {
      "cell_type": "code",
      "metadata": {
        "execution": {
          "iopub.execute_input": "2021-11-30T10:48:40.350322Z",
          "iopub.status.busy": "2021-11-30T10:48:40.349909Z",
          "iopub.status.idle": "2021-11-30T10:48:40.365177Z",
          "shell.execute_reply": "2021-11-30T10:48:40.364164Z",
          "shell.execute_reply.started": "2021-11-30T10:48:40.350274Z"
        },
        "colab": {
          "base_uri": "https://localhost:8080/"
        },
        "id": "ScrYvjQ9hOcx",
        "outputId": "3f3b1626-56cd-4f81-f43b-69b9ee4b75c0"
      },
      "source": [
        "T = 5  #number of past days used to predict the value for the current day\n",
        "X,X_train,X_test,Y,Y_train,Y_test = create_dataset(dataset_n,T,0.8) #80% of data for training and 20% for testing"
      ],
      "execution_count": null,
      "outputs": [
        {
          "output_type": "stream",
          "name": "stdout",
          "text": [
            "X.shape (489, 5, 1) Y.shape (489,)\n",
            "X_train.shape (395, 5, 1) Y_train.shape (395,)\n",
            "X_test.shape (94, 5, 1) Y_test.shape (94,)\n"
          ]
        }
      ]
    },
    {
      "cell_type": "code",
      "metadata": {
        "execution": {
          "iopub.execute_input": "2021-11-30T10:48:40.367208Z",
          "iopub.status.busy": "2021-11-30T10:48:40.366881Z",
          "iopub.status.idle": "2021-11-30T10:48:40.376205Z",
          "shell.execute_reply": "2021-11-30T10:48:40.375193Z",
          "shell.execute_reply.started": "2021-11-30T10:48:40.367167Z"
        },
        "id": "JOMQADCVhOcx"
      },
      "source": [
        "def plotLearningCurve(history,epochnum,batchnum):\n",
        "  epochRange = range(1,epochnum+1)\n",
        "  plt.figure(figsize = (5,5))\n",
        "  plt.plot(epochRange,history.history['loss'],'b',label = 'Training Loss')\n",
        "  plt.plot(epochRange,history.history['val_loss'],'r',label = 'Validation Loss')\n",
        "  plt.xlabel('Epoch', fontsize = 15)\n",
        "  plt.ylabel('Loss', fontsize = 15)\n",
        "  plt.grid(color='gray', linestyle='--')\n",
        "  plt.legend()\n",
        "  plt.title('LOSS, Epochs={}, Batch={}'.format(epochnum, batchnum))\n",
        "  plt.show()"
      ],
      "execution_count": null,
      "outputs": []
    },
    {
      "cell_type": "code",
      "metadata": {
        "execution": {
          "iopub.execute_input": "2021-11-30T10:48:40.378364Z",
          "iopub.status.busy": "2021-11-30T10:48:40.377848Z",
          "iopub.status.idle": "2021-11-30T10:48:40.394473Z",
          "shell.execute_reply": "2021-11-30T10:48:40.393393Z",
          "shell.execute_reply.started": "2021-11-30T10:48:40.378321Z"
        },
        "id": "LvIkdQjHhOcx"
      },
      "source": [
        "def lstm_model(previous):\n",
        "    i = Input(shape=(previous,1)) #input shape is n-timesteps x n-features\n",
        "    x = Conv1D(filters=64, kernel_size= 5, strides=3, padding=\"causal\", activation=\"relu\")(i)\n",
        "    x = LSTM(64, return_sequences=True)(x)\n",
        "    x = Dropout(0.4)(x)\n",
        "    x = LSTM(64,return_sequences=True)(x)\n",
        "    x = Dropout(0.4)(x)\n",
        "    x = LSTM(64)(x)\n",
        "    x = Dropout(0.2)(x)\n",
        "    x = Dense(1)(x)\n",
        "    model = Model(i, x)\n",
        "    model.summary()\n",
        "    return model"
      ],
      "execution_count": null,
      "outputs": []
    },
    {
      "cell_type": "code",
      "metadata": {
        "execution": {
          "iopub.execute_input": "2021-11-30T10:48:40.395823Z",
          "iopub.status.busy": "2021-11-30T10:48:40.395591Z",
          "iopub.status.idle": "2021-11-30T10:48:41.174752Z",
          "shell.execute_reply": "2021-11-30T10:48:41.173968Z",
          "shell.execute_reply.started": "2021-11-30T10:48:40.395795Z"
        },
        "colab": {
          "base_uri": "https://localhost:8080/"
        },
        "id": "tQrqc4KNhOcx",
        "outputId": "2c05041e-c014-4581-a8e9-e6093308cd37"
      },
      "source": [
        "model = lstm_model(T)"
      ],
      "execution_count": null,
      "outputs": [
        {
          "output_type": "stream",
          "name": "stdout",
          "text": [
            "Model: \"model\"\n",
            "_________________________________________________________________\n",
            " Layer (type)                Output Shape              Param #   \n",
            "=================================================================\n",
            " input_1 (InputLayer)        [(None, 5, 1)]            0         \n",
            "                                                                 \n",
            " conv1d (Conv1D)             (None, 2, 64)             384       \n",
            "                                                                 \n",
            " lstm (LSTM)                 (None, 2, 64)             33024     \n",
            "                                                                 \n",
            " dropout (Dropout)           (None, 2, 64)             0         \n",
            "                                                                 \n",
            " lstm_1 (LSTM)               (None, 2, 64)             33024     \n",
            "                                                                 \n",
            " dropout_1 (Dropout)         (None, 2, 64)             0         \n",
            "                                                                 \n",
            " lstm_2 (LSTM)               (None, 64)                33024     \n",
            "                                                                 \n",
            " dropout_2 (Dropout)         (None, 64)                0         \n",
            "                                                                 \n",
            " dense (Dense)               (None, 1)                 65        \n",
            "                                                                 \n",
            "=================================================================\n",
            "Total params: 99,521\n",
            "Trainable params: 99,521\n",
            "Non-trainable params: 0\n",
            "_________________________________________________________________\n"
          ]
        }
      ]
    },
    {
      "cell_type": "code",
      "metadata": {
        "execution": {
          "iopub.execute_input": "2021-11-30T10:48:41.176215Z",
          "iopub.status.busy": "2021-11-30T10:48:41.175904Z",
          "iopub.status.idle": "2021-11-30T10:48:41.199654Z",
          "shell.execute_reply": "2021-11-30T10:48:41.198641Z",
          "shell.execute_reply.started": "2021-11-30T10:48:41.176184Z"
        },
        "id": "5xnu6IR7hOcy"
      },
      "source": [
        " model.compile(loss = 'mse',\n",
        "              optimizer = 'adam')"
      ],
      "execution_count": null,
      "outputs": []
    },
    {
      "cell_type": "code",
      "metadata": {
        "execution": {
          "iopub.execute_input": "2021-11-30T10:48:41.201614Z",
          "iopub.status.busy": "2021-11-30T10:48:41.201209Z",
          "iopub.status.idle": "2021-11-30T10:49:00.399779Z",
          "shell.execute_reply": "2021-11-30T10:49:00.398912Z",
          "shell.execute_reply.started": "2021-11-30T10:48:41.201566Z"
        },
        "colab": {
          "base_uri": "https://localhost:8080/"
        },
        "id": "0GuTbY7khOcy",
        "outputId": "1c4c853e-efa3-4b4a-df45-5d7c199f3a3c"
      },
      "source": [
        "batchnum = 64\n",
        "epochnum = 100\n",
        "learning_rate_reduction = ReduceLROnPlateau(monitor='val_loss', \n",
        "                                            patience=3, \n",
        "                                            verbose=1, \n",
        "                                            factor=0.8, \n",
        "                                            min_lr=1e-10)\n",
        "early_stop = EarlyStopping(monitor='val_loss',patience=50,restore_best_weights=True)\n",
        "r = model.fit(X_train,\n",
        "                    Y_train,\n",
        "                    batch_size=batchnum,\n",
        "                    epochs=epochnum,\n",
        "                    validation_split=0.2,\n",
        "                    shuffle=False, #time_series\n",
        "                    callbacks=[learning_rate_reduction])"
      ],
      "execution_count": null,
      "outputs": [
        {
          "output_type": "stream",
          "name": "stdout",
          "text": [
            "Epoch 1/100\n",
            "5/5 [==============================] - 8s 387ms/step - loss: 0.0514 - val_loss: 0.6722 - lr: 0.0010\n",
            "Epoch 2/100\n",
            "5/5 [==============================] - 0s 17ms/step - loss: 0.0439 - val_loss: 0.6246 - lr: 0.0010\n",
            "Epoch 3/100\n",
            "5/5 [==============================] - 0s 17ms/step - loss: 0.0365 - val_loss: 0.5685 - lr: 0.0010\n",
            "Epoch 4/100\n",
            "5/5 [==============================] - 0s 18ms/step - loss: 0.0305 - val_loss: 0.5059 - lr: 0.0010\n",
            "Epoch 5/100\n",
            "5/5 [==============================] - 0s 19ms/step - loss: 0.0267 - val_loss: 0.4434 - lr: 0.0010\n",
            "Epoch 6/100\n",
            "5/5 [==============================] - 0s 17ms/step - loss: 0.0250 - val_loss: 0.3907 - lr: 0.0010\n",
            "Epoch 7/100\n",
            "5/5 [==============================] - 0s 19ms/step - loss: 0.0253 - val_loss: 0.3530 - lr: 0.0010\n",
            "Epoch 8/100\n",
            "5/5 [==============================] - 0s 17ms/step - loss: 0.0259 - val_loss: 0.3305 - lr: 0.0010\n",
            "Epoch 9/100\n",
            "5/5 [==============================] - 0s 18ms/step - loss: 0.0254 - val_loss: 0.3159 - lr: 0.0010\n",
            "Epoch 10/100\n",
            "5/5 [==============================] - 0s 17ms/step - loss: 0.0240 - val_loss: 0.3000 - lr: 0.0010\n",
            "Epoch 11/100\n",
            "5/5 [==============================] - 0s 18ms/step - loss: 0.0225 - val_loss: 0.2766 - lr: 0.0010\n",
            "Epoch 12/100\n",
            "5/5 [==============================] - 0s 18ms/step - loss: 0.0207 - val_loss: 0.2429 - lr: 0.0010\n",
            "Epoch 13/100\n",
            "5/5 [==============================] - 0s 18ms/step - loss: 0.0177 - val_loss: 0.1977 - lr: 0.0010\n",
            "Epoch 14/100\n",
            "5/5 [==============================] - 0s 17ms/step - loss: 0.0149 - val_loss: 0.1418 - lr: 0.0010\n",
            "Epoch 15/100\n",
            "5/5 [==============================] - 0s 20ms/step - loss: 0.0123 - val_loss: 0.0827 - lr: 0.0010\n",
            "Epoch 16/100\n",
            "5/5 [==============================] - 0s 18ms/step - loss: 0.0099 - val_loss: 0.0325 - lr: 0.0010\n",
            "Epoch 17/100\n",
            "5/5 [==============================] - 0s 18ms/step - loss: 0.0074 - val_loss: 0.0039 - lr: 0.0010\n",
            "Epoch 18/100\n",
            "5/5 [==============================] - 0s 21ms/step - loss: 0.0049 - val_loss: 0.0039 - lr: 0.0010\n",
            "Epoch 19/100\n",
            "5/5 [==============================] - 0s 18ms/step - loss: 0.0034 - val_loss: 0.0157 - lr: 0.0010\n",
            "Epoch 20/100\n",
            "1/5 [=====>........................] - ETA: 0s - loss: 0.0031\n",
            "Epoch 00020: ReduceLROnPlateau reducing learning rate to 0.000800000037997961.\n",
            "5/5 [==============================] - 0s 18ms/step - loss: 0.0022 - val_loss: 0.0439 - lr: 0.0010\n",
            "Epoch 21/100\n",
            "5/5 [==============================] - 0s 17ms/step - loss: 0.0018 - val_loss: 0.0608 - lr: 8.0000e-04\n",
            "Epoch 22/100\n",
            "5/5 [==============================] - 0s 19ms/step - loss: 0.0016 - val_loss: 0.0616 - lr: 8.0000e-04\n",
            "Epoch 23/100\n",
            "1/5 [=====>........................] - ETA: 0s - loss: 6.7770e-04\n",
            "Epoch 00023: ReduceLROnPlateau reducing learning rate to 0.0006400000303983689.\n",
            "5/5 [==============================] - 0s 17ms/step - loss: 0.0016 - val_loss: 0.0552 - lr: 8.0000e-04\n",
            "Epoch 24/100\n",
            "5/5 [==============================] - 0s 19ms/step - loss: 0.0021 - val_loss: 0.0479 - lr: 6.4000e-04\n",
            "Epoch 25/100\n",
            "5/5 [==============================] - 0s 25ms/step - loss: 0.0013 - val_loss: 0.0400 - lr: 6.4000e-04\n",
            "Epoch 26/100\n",
            "5/5 [==============================] - ETA: 0s - loss: 0.0017    \n",
            "Epoch 00026: ReduceLROnPlateau reducing learning rate to 0.0005120000336319208.\n",
            "5/5 [==============================] - 0s 21ms/step - loss: 0.0017 - val_loss: 0.0372 - lr: 6.4000e-04\n",
            "Epoch 27/100\n",
            "5/5 [==============================] - 0s 18ms/step - loss: 0.0017 - val_loss: 0.0336 - lr: 5.1200e-04\n",
            "Epoch 28/100\n",
            "5/5 [==============================] - 0s 18ms/step - loss: 0.0013 - val_loss: 0.0258 - lr: 5.1200e-04\n",
            "Epoch 29/100\n",
            "4/5 [=======================>......] - ETA: 0s - loss: 6.1293e-04\n",
            "Epoch 00029: ReduceLROnPlateau reducing learning rate to 0.00040960004553198815.\n",
            "5/5 [==============================] - 0s 23ms/step - loss: 0.0016 - val_loss: 0.0196 - lr: 5.1200e-04\n",
            "Epoch 30/100\n",
            "5/5 [==============================] - 0s 17ms/step - loss: 0.0016 - val_loss: 0.0181 - lr: 4.0960e-04\n",
            "Epoch 31/100\n",
            "5/5 [==============================] - 0s 25ms/step - loss: 0.0014 - val_loss: 0.0160 - lr: 4.0960e-04\n",
            "Epoch 32/100\n",
            "5/5 [==============================] - ETA: 0s - loss: 0.0012    \n",
            "Epoch 00032: ReduceLROnPlateau reducing learning rate to 0.00032768002711236477.\n",
            "5/5 [==============================] - 0s 21ms/step - loss: 0.0012 - val_loss: 0.0189 - lr: 4.0960e-04\n",
            "Epoch 33/100\n",
            "5/5 [==============================] - 0s 18ms/step - loss: 0.0019 - val_loss: 0.0209 - lr: 3.2768e-04\n",
            "Epoch 34/100\n",
            "5/5 [==============================] - 0s 17ms/step - loss: 0.0017 - val_loss: 0.0179 - lr: 3.2768e-04\n",
            "Epoch 35/100\n",
            "5/5 [==============================] - ETA: 0s - loss: 0.0013    \n",
            "Epoch 00035: ReduceLROnPlateau reducing learning rate to 0.0002621440216898918.\n",
            "5/5 [==============================] - 0s 20ms/step - loss: 0.0013 - val_loss: 0.0135 - lr: 3.2768e-04\n",
            "Epoch 36/100\n",
            "5/5 [==============================] - 0s 18ms/step - loss: 0.0015 - val_loss: 0.0131 - lr: 2.6214e-04\n",
            "Epoch 37/100\n",
            "5/5 [==============================] - 0s 19ms/step - loss: 0.0014 - val_loss: 0.0148 - lr: 2.6214e-04\n",
            "Epoch 38/100\n",
            "1/5 [=====>........................] - ETA: 0s - loss: 4.5755e-04\n",
            "Epoch 00038: ReduceLROnPlateau reducing learning rate to 0.00020971521735191345.\n",
            "5/5 [==============================] - 0s 18ms/step - loss: 0.0015 - val_loss: 0.0152 - lr: 2.6214e-04\n",
            "Epoch 39/100\n",
            "5/5 [==============================] - 0s 19ms/step - loss: 0.0012 - val_loss: 0.0144 - lr: 2.0972e-04\n",
            "Epoch 40/100\n",
            "5/5 [==============================] - 0s 17ms/step - loss: 0.0014 - val_loss: 0.0157 - lr: 2.0972e-04\n",
            "Epoch 41/100\n",
            "1/5 [=====>........................] - ETA: 0s - loss: 4.6548e-04\n",
            "Epoch 00041: ReduceLROnPlateau reducing learning rate to 0.00016777217388153076.\n",
            "5/5 [==============================] - 0s 17ms/step - loss: 0.0016 - val_loss: 0.0160 - lr: 2.0972e-04\n",
            "Epoch 42/100\n",
            "5/5 [==============================] - 0s 17ms/step - loss: 0.0014 - val_loss: 0.0154 - lr: 1.6777e-04\n",
            "Epoch 43/100\n",
            "5/5 [==============================] - 0s 18ms/step - loss: 0.0011 - val_loss: 0.0153 - lr: 1.6777e-04\n",
            "Epoch 44/100\n",
            "1/5 [=====>........................] - ETA: 0s - loss: 3.5597e-04\n",
            "Epoch 00044: ReduceLROnPlateau reducing learning rate to 0.00013421773910522462.\n",
            "5/5 [==============================] - 0s 18ms/step - loss: 0.0013 - val_loss: 0.0144 - lr: 1.6777e-04\n",
            "Epoch 45/100\n",
            "5/5 [==============================] - 0s 17ms/step - loss: 0.0011 - val_loss: 0.0146 - lr: 1.3422e-04\n",
            "Epoch 46/100\n",
            "5/5 [==============================] - 0s 22ms/step - loss: 0.0013 - val_loss: 0.0155 - lr: 1.3422e-04\n",
            "Epoch 47/100\n",
            "5/5 [==============================] - ETA: 0s - loss: 0.0012    \n",
            "Epoch 00047: ReduceLROnPlateau reducing learning rate to 0.00010737419361248613.\n",
            "5/5 [==============================] - 0s 21ms/step - loss: 0.0012 - val_loss: 0.0163 - lr: 1.3422e-04\n",
            "Epoch 48/100\n",
            "5/5 [==============================] - 0s 17ms/step - loss: 0.0012 - val_loss: 0.0171 - lr: 1.0737e-04\n",
            "Epoch 49/100\n",
            "5/5 [==============================] - 0s 17ms/step - loss: 0.0013 - val_loss: 0.0166 - lr: 1.0737e-04\n",
            "Epoch 50/100\n",
            "1/5 [=====>........................] - ETA: 0s - loss: 3.4908e-04\n",
            "Epoch 00050: ReduceLROnPlateau reducing learning rate to 8.589935605414213e-05.\n",
            "5/5 [==============================] - 0s 18ms/step - loss: 0.0011 - val_loss: 0.0163 - lr: 1.0737e-04\n",
            "Epoch 51/100\n",
            "5/5 [==============================] - 0s 22ms/step - loss: 0.0012 - val_loss: 0.0163 - lr: 8.5899e-05\n",
            "Epoch 52/100\n",
            "5/5 [==============================] - 0s 19ms/step - loss: 0.0012 - val_loss: 0.0160 - lr: 8.5899e-05\n",
            "Epoch 53/100\n",
            "1/5 [=====>........................] - ETA: 0s - loss: 3.3772e-04\n",
            "Epoch 00053: ReduceLROnPlateau reducing learning rate to 6.871948717162013e-05.\n",
            "5/5 [==============================] - 0s 18ms/step - loss: 0.0014 - val_loss: 0.0158 - lr: 8.5899e-05\n",
            "Epoch 54/100\n",
            "5/5 [==============================] - 0s 17ms/step - loss: 0.0013 - val_loss: 0.0155 - lr: 6.8719e-05\n",
            "Epoch 55/100\n",
            "5/5 [==============================] - 0s 18ms/step - loss: 0.0013 - val_loss: 0.0150 - lr: 6.8719e-05\n",
            "Epoch 56/100\n",
            "1/5 [=====>........................] - ETA: 0s - loss: 3.2261e-04\n",
            "Epoch 00056: ReduceLROnPlateau reducing learning rate to 5.497558740898967e-05.\n",
            "5/5 [==============================] - 0s 17ms/step - loss: 0.0013 - val_loss: 0.0142 - lr: 6.8719e-05\n",
            "Epoch 57/100\n",
            "5/5 [==============================] - 0s 16ms/step - loss: 0.0014 - val_loss: 0.0138 - lr: 5.4976e-05\n",
            "Epoch 58/100\n",
            "5/5 [==============================] - 0s 17ms/step - loss: 0.0013 - val_loss: 0.0131 - lr: 5.4976e-05\n",
            "Epoch 59/100\n",
            "1/5 [=====>........................] - ETA: 0s - loss: 2.9998e-04\n",
            "Epoch 00059: ReduceLROnPlateau reducing learning rate to 4.398046876303852e-05.\n",
            "5/5 [==============================] - 0s 18ms/step - loss: 0.0011 - val_loss: 0.0127 - lr: 5.4976e-05\n",
            "Epoch 60/100\n",
            "5/5 [==============================] - 0s 17ms/step - loss: 0.0017 - val_loss: 0.0125 - lr: 4.3980e-05\n",
            "Epoch 61/100\n",
            "5/5 [==============================] - 0s 17ms/step - loss: 9.9582e-04 - val_loss: 0.0121 - lr: 4.3980e-05\n",
            "Epoch 62/100\n",
            "1/5 [=====>........................] - ETA: 0s - loss: 3.3695e-04\n",
            "Epoch 00062: ReduceLROnPlateau reducing learning rate to 3.518437442835421e-05.\n",
            "5/5 [==============================] - 0s 17ms/step - loss: 0.0013 - val_loss: 0.0120 - lr: 4.3980e-05\n",
            "Epoch 63/100\n",
            "5/5 [==============================] - 0s 19ms/step - loss: 0.0014 - val_loss: 0.0121 - lr: 3.5184e-05\n",
            "Epoch 64/100\n",
            "5/5 [==============================] - 0s 22ms/step - loss: 0.0013 - val_loss: 0.0122 - lr: 3.5184e-05\n",
            "Epoch 65/100\n",
            "1/5 [=====>........................] - ETA: 0s - loss: 2.8341e-04\n",
            "Epoch 00065: ReduceLROnPlateau reducing learning rate to 2.8147498960606756e-05.\n",
            "5/5 [==============================] - 0s 17ms/step - loss: 9.5532e-04 - val_loss: 0.0123 - lr: 3.5184e-05\n",
            "Epoch 66/100\n",
            "5/5 [==============================] - 0s 17ms/step - loss: 0.0012 - val_loss: 0.0124 - lr: 2.8147e-05\n",
            "Epoch 67/100\n",
            "5/5 [==============================] - 0s 17ms/step - loss: 0.0012 - val_loss: 0.0126 - lr: 2.8147e-05\n",
            "Epoch 68/100\n",
            "1/5 [=====>........................] - ETA: 0s - loss: 3.0504e-04\n",
            "Epoch 00068: ReduceLROnPlateau reducing learning rate to 2.25179988774471e-05.\n",
            "5/5 [==============================] - 0s 17ms/step - loss: 0.0012 - val_loss: 0.0127 - lr: 2.8147e-05\n",
            "Epoch 69/100\n",
            "5/5 [==============================] - 0s 18ms/step - loss: 0.0018 - val_loss: 0.0128 - lr: 2.2518e-05\n",
            "Epoch 70/100\n",
            "5/5 [==============================] - 0s 21ms/step - loss: 0.0014 - val_loss: 0.0124 - lr: 2.2518e-05\n",
            "Epoch 71/100\n",
            "1/5 [=====>........................] - ETA: 0s - loss: 2.5956e-04\n",
            "Epoch 00071: ReduceLROnPlateau reducing learning rate to 1.8014399392995985e-05.\n",
            "5/5 [==============================] - 0s 18ms/step - loss: 0.0013 - val_loss: 0.0122 - lr: 2.2518e-05\n",
            "Epoch 72/100\n",
            "5/5 [==============================] - 0s 16ms/step - loss: 0.0014 - val_loss: 0.0121 - lr: 1.8014e-05\n",
            "Epoch 73/100\n",
            "5/5 [==============================] - 0s 18ms/step - loss: 0.0011 - val_loss: 0.0119 - lr: 1.8014e-05\n",
            "Epoch 74/100\n",
            "1/5 [=====>........................] - ETA: 0s - loss: 2.7871e-04\n",
            "Epoch 00074: ReduceLROnPlateau reducing learning rate to 1.4411519805435093e-05.\n",
            "5/5 [==============================] - 0s 21ms/step - loss: 0.0012 - val_loss: 0.0120 - lr: 1.8014e-05\n",
            "Epoch 75/100\n",
            "5/5 [==============================] - 0s 17ms/step - loss: 0.0011 - val_loss: 0.0122 - lr: 1.4412e-05\n",
            "Epoch 76/100\n",
            "5/5 [==============================] - 0s 23ms/step - loss: 9.8566e-04 - val_loss: 0.0125 - lr: 1.4412e-05\n",
            "Epoch 77/100\n",
            "1/5 [=====>........................] - ETA: 0s - loss: 3.2720e-04\n",
            "Epoch 00077: ReduceLROnPlateau reducing learning rate to 1.1529216135386379e-05.\n",
            "5/5 [==============================] - 0s 17ms/step - loss: 0.0015 - val_loss: 0.0127 - lr: 1.4412e-05\n",
            "Epoch 78/100\n",
            "5/5 [==============================] - 0s 18ms/step - loss: 0.0013 - val_loss: 0.0126 - lr: 1.1529e-05\n",
            "Epoch 79/100\n",
            "5/5 [==============================] - 0s 17ms/step - loss: 0.0011 - val_loss: 0.0126 - lr: 1.1529e-05\n",
            "Epoch 80/100\n",
            "1/5 [=====>........................] - ETA: 0s - loss: 3.2318e-04\n",
            "Epoch 00080: ReduceLROnPlateau reducing learning rate to 9.223372762789951e-06.\n",
            "5/5 [==============================] - 0s 17ms/step - loss: 0.0014 - val_loss: 0.0126 - lr: 1.1529e-05\n",
            "Epoch 81/100\n",
            "5/5 [==============================] - 0s 18ms/step - loss: 0.0015 - val_loss: 0.0124 - lr: 9.2234e-06\n",
            "Epoch 82/100\n",
            "5/5 [==============================] - 0s 18ms/step - loss: 9.2782e-04 - val_loss: 0.0122 - lr: 9.2234e-06\n",
            "Epoch 83/100\n",
            "1/5 [=====>........................] - ETA: 0s - loss: 2.9402e-04\n",
            "Epoch 00083: ReduceLROnPlateau reducing learning rate to 7.378698501270265e-06.\n",
            "5/5 [==============================] - 0s 17ms/step - loss: 0.0013 - val_loss: 0.0122 - lr: 9.2234e-06\n",
            "Epoch 84/100\n",
            "5/5 [==============================] - 0s 18ms/step - loss: 0.0012 - val_loss: 0.0121 - lr: 7.3787e-06\n",
            "Epoch 85/100\n",
            "5/5 [==============================] - 0s 17ms/step - loss: 0.0013 - val_loss: 0.0120 - lr: 7.3787e-06\n",
            "Epoch 86/100\n",
            "1/5 [=====>........................] - ETA: 0s - loss: 2.7662e-04\n",
            "Epoch 00086: ReduceLROnPlateau reducing learning rate to 5.902958946535364e-06.\n",
            "5/5 [==============================] - 0s 16ms/step - loss: 0.0011 - val_loss: 0.0120 - lr: 7.3787e-06\n",
            "Epoch 87/100\n",
            "5/5 [==============================] - 0s 18ms/step - loss: 0.0015 - val_loss: 0.0121 - lr: 5.9030e-06\n",
            "Epoch 88/100\n",
            "5/5 [==============================] - 0s 17ms/step - loss: 0.0013 - val_loss: 0.0121 - lr: 5.9030e-06\n",
            "Epoch 89/100\n",
            "1/5 [=====>........................] - ETA: 0s - loss: 3.4158e-04\n",
            "Epoch 00089: ReduceLROnPlateau reducing learning rate to 4.7223671572282915e-06.\n",
            "5/5 [==============================] - 0s 19ms/step - loss: 0.0013 - val_loss: 0.0120 - lr: 5.9030e-06\n",
            "Epoch 90/100\n",
            "5/5 [==============================] - 0s 18ms/step - loss: 0.0013 - val_loss: 0.0120 - lr: 4.7224e-06\n",
            "Epoch 91/100\n",
            "5/5 [==============================] - 0s 19ms/step - loss: 0.0014 - val_loss: 0.0121 - lr: 4.7224e-06\n",
            "Epoch 92/100\n",
            "1/5 [=====>........................] - ETA: 0s - loss: 2.9148e-04\n",
            "Epoch 00092: ReduceLROnPlateau reducing learning rate to 3.7778936530230567e-06.\n",
            "5/5 [==============================] - 0s 19ms/step - loss: 0.0015 - val_loss: 0.0121 - lr: 4.7224e-06\n",
            "Epoch 93/100\n",
            "5/5 [==============================] - 0s 18ms/step - loss: 0.0012 - val_loss: 0.0120 - lr: 3.7779e-06\n",
            "Epoch 94/100\n",
            "5/5 [==============================] - 0s 17ms/step - loss: 0.0012 - val_loss: 0.0120 - lr: 3.7779e-06\n",
            "Epoch 95/100\n",
            "5/5 [==============================] - ETA: 0s - loss: 0.0013    \n",
            "Epoch 00095: ReduceLROnPlateau reducing learning rate to 3.0223149224184457e-06.\n",
            "5/5 [==============================] - 0s 21ms/step - loss: 0.0013 - val_loss: 0.0119 - lr: 3.7779e-06\n",
            "Epoch 96/100\n",
            "5/5 [==============================] - 0s 18ms/step - loss: 0.0012 - val_loss: 0.0118 - lr: 3.0223e-06\n",
            "Epoch 97/100\n",
            "5/5 [==============================] - 0s 22ms/step - loss: 0.0011 - val_loss: 0.0118 - lr: 3.0223e-06\n",
            "Epoch 98/100\n",
            "1/5 [=====>........................] - ETA: 0s - loss: 2.9013e-04\n",
            "Epoch 00098: ReduceLROnPlateau reducing learning rate to 2.4178520106943328e-06.\n",
            "5/5 [==============================] - 0s 18ms/step - loss: 9.5386e-04 - val_loss: 0.0117 - lr: 3.0223e-06\n",
            "Epoch 99/100\n",
            "5/5 [==============================] - 0s 21ms/step - loss: 0.0011 - val_loss: 0.0117 - lr: 2.4179e-06\n",
            "Epoch 100/100\n",
            "5/5 [==============================] - 0s 17ms/step - loss: 0.0016 - val_loss: 0.0117 - lr: 2.4179e-06\n"
          ]
        }
      ]
    },
    {
      "cell_type": "code",
      "metadata": {
        "execution": {
          "iopub.execute_input": "2021-11-30T10:49:00.401496Z",
          "iopub.status.busy": "2021-11-30T10:49:00.401256Z",
          "iopub.status.idle": "2021-11-30T10:49:00.405075Z",
          "shell.execute_reply": "2021-11-30T10:49:00.404510Z",
          "shell.execute_reply.started": "2021-11-30T10:49:00.401469Z"
        },
        "id": "K-qdTxJVhOcy"
      },
      "source": [
        "n_epochs = len(r.history['loss'])"
      ],
      "execution_count": null,
      "outputs": []
    },
    {
      "cell_type": "code",
      "metadata": {
        "execution": {
          "iopub.execute_input": "2021-11-30T10:49:00.406380Z",
          "iopub.status.busy": "2021-11-30T10:49:00.406039Z",
          "iopub.status.idle": "2021-11-30T10:49:00.611280Z",
          "shell.execute_reply": "2021-11-30T10:49:00.610411Z",
          "shell.execute_reply.started": "2021-11-30T10:49:00.406353Z"
        },
        "colab": {
          "base_uri": "https://localhost:8080/"
        },
        "id": "4bNuJivKhOcy",
        "outputId": "d0f6713e-b14f-4d02-bf76-83ed7c3f9605"
      },
      "source": [
        "print(\"Train score:\", model.evaluate(X_train,Y_train))\n",
        "print(\"Test score:\", model.evaluate(X_test,Y_test))"
      ],
      "execution_count": null,
      "outputs": [
        {
          "output_type": "stream",
          "name": "stdout",
          "text": [
            "13/13 [==============================] - 0s 5ms/step - loss: 0.0025\n",
            "Train score: 0.00249776104465127\n",
            "3/3 [==============================] - 0s 5ms/step - loss: 0.0552\n",
            "Test score: 0.05519793927669525\n"
          ]
        }
      ]
    },
    {
      "cell_type": "code",
      "metadata": {
        "execution": {
          "iopub.execute_input": "2021-11-30T10:49:00.614815Z",
          "iopub.status.busy": "2021-11-30T10:49:00.614383Z",
          "iopub.status.idle": "2021-11-30T10:49:00.853476Z",
          "shell.execute_reply": "2021-11-30T10:49:00.852649Z",
          "shell.execute_reply.started": "2021-11-30T10:49:00.614771Z"
        },
        "colab": {
          "base_uri": "https://localhost:8080/",
          "height": 355
        },
        "id": "JvC_CvkfhOcy",
        "outputId": "6b1074ad-f45b-433e-8f0a-81312d3ee023"
      },
      "source": [
        "plotLearningCurve(r,epochnum,batchnum)"
      ],
      "execution_count": null,
      "outputs": [
        {
          "output_type": "display_data",
          "data": {
            "image/png": "[encoded data removed]",
            "text/plain": [
              "<Figure size 360x360 with 1 Axes>"
            ]
          },
          "metadata": {
            "needs_background": "light"
          }
        }
      ]
    },
    {
      "cell_type": "code",
      "metadata": {
        "execution": {
          "iopub.execute_input": "2021-11-30T10:49:00.856274Z",
          "iopub.status.busy": "2021-11-30T10:49:00.854864Z",
          "iopub.status.idle": "2021-11-30T10:49:02.435972Z",
          "shell.execute_reply": "2021-11-30T10:49:02.435030Z",
          "shell.execute_reply.started": "2021-11-30T10:49:00.856228Z"
        },
        "colab": {
          "base_uri": "https://localhost:8080/",
          "height": 312
        },
        "id": "uqmprvoXhOcy",
        "outputId": "3b056d08-e512-41b0-a534-87bbbd79a0a1"
      },
      "source": [
        "Y_pred = model.predict(X_test)\n",
        "Y_pred = scaler.inverse_transform(Y_pred)\n",
        "Y_test = scaler.inverse_transform(Y_test.reshape(-1,1))\n",
        "Y_train = scaler.inverse_transform(Y_train.reshape(-1,1))\n",
        "plt.plot(Y_pred, color='red')\n",
        "plt.plot(Y_test, color='blue')\n",
        "plt.title('Actual vs. Predicted Covid Cases (Test Data)')\n",
        "plt.ylabel('Number of Cases')\n",
        "plt.xlabel('Day')\n",
        "plt.legend(['predicted', 'actual'])"
      ],
      "execution_count": null,
      "outputs": [
        {
          "output_type": "execute_result",
          "data": {
            "text/plain": [
              "<matplotlib.legend.Legend at 0x7f6f2cc7a050>"
            ]
          },
          "metadata": {},
          "execution_count": 73
        },
        {
          "output_type": "display_data",
          "data": {
            "image/png": "[encoded data removed]",
            "text/plain": [
              "<Figure size 432x288 with 1 Axes>"
            ]
          },
          "metadata": {
            "needs_background": "light"
          }
        }
      ]
    },
    {
      "cell_type": "code",
      "metadata": {
        "execution": {
          "iopub.execute_input": "2021-11-30T10:49:02.437840Z",
          "iopub.status.busy": "2021-11-30T10:49:02.437564Z",
          "iopub.status.idle": "2021-11-30T10:49:02.442336Z",
          "shell.execute_reply": "2021-11-30T10:49:02.441521Z",
          "shell.execute_reply.started": "2021-11-30T10:49:02.437808Z"
        },
        "id": "qQyW6B1UhOcy"
      },
      "source": [
        "Y_train = Y_train.reshape(-1)\n",
        "Y_test = Y_test.reshape(-1)\n",
        "Y_pred = Y_pred.reshape(-1)"
      ],
      "execution_count": null,
      "outputs": []
    },
    {
      "cell_type": "code",
      "metadata": {
        "execution": {
          "iopub.execute_input": "2021-11-30T10:49:02.443728Z",
          "iopub.status.busy": "2021-11-30T10:49:02.443521Z",
          "iopub.status.idle": "2021-11-30T10:49:02.457238Z",
          "shell.execute_reply": "2021-11-30T10:49:02.456320Z",
          "shell.execute_reply.started": "2021-11-30T10:49:02.443703Z"
        },
        "id": "a_y2ITYAhOcy"
      },
      "source": [
        "date_array = np.array(time_series_data['ObservationDate'].values)\n",
        "date_train = date_array[:split]\n",
        "date_test = date_array[split:]"
      ],
      "execution_count": null,
      "outputs": []
    },
    {
      "cell_type": "code",
      "metadata": {
        "execution": {
          "iopub.execute_input": "2021-11-30T10:49:02.459526Z",
          "iopub.status.busy": "2021-11-30T10:49:02.458817Z",
          "iopub.status.idle": "2021-11-30T10:49:02.477603Z",
          "shell.execute_reply": "2021-11-30T10:49:02.476930Z",
          "shell.execute_reply.started": "2021-11-30T10:49:02.459481Z"
        },
        "colab": {
          "base_uri": "https://localhost:8080/",
          "height": 542
        },
        "id": "ifSTIdyvhOcz",
        "outputId": "a66b649d-d564-4b8b-bc02-54aabf9ad5b7"
      },
      "source": [
        "trace1 = go.Scatter(\n",
        "    x = date_train,\n",
        "    y = Y_train,\n",
        "    mode = 'lines',\n",
        "    name = 'Data'\n",
        ")\n",
        "trace2 = go.Scatter(\n",
        "    x = date_test,\n",
        "    y = Y_pred,\n",
        "    mode = 'lines',\n",
        "    name = 'Prediction'\n",
        ")\n",
        "trace3 = go.Scatter(\n",
        "    x = date_test,\n",
        "    y = Y_test,\n",
        "    mode='lines',\n",
        "    name = 'Ground Truth'\n",
        ")\n",
        "layout = go.Layout(\n",
        "    title = \"<b>Confirmed Cases</b>\",\n",
        "    xaxis = {'title' : \"Date\"},\n",
        "    yaxis = {'title' : \"Cases\"}\n",
        ")\n",
        "fig = go.Figure(data=[trace1, trace2, trace3], layout=layout)\n",
        "fig.show()"
      ],
      "execution_count": null,
      "outputs": [
        {
          "output_type": "display_data",
          "data": {
            "text/html": [
              "<html>\n",
              "<head><meta charset=\"utf-8\" /></head>\n",
              "<body>\n",
              "    <div>\n",
              "            <script src=\"https://cdnjs.cloudflare.com/ajax/libs/mathjax/2.7.5/MathJax.js?config=TeX-AMS-MML_SVG\"></script><script type=\"text/javascript\">if (window.MathJax) {MathJax.Hub.Config({SVG: {font: \"STIX-Web\"}});}</script>\n",
              "                <script type=\"text/javascript\">window.PlotlyConfig = {MathJaxConfig: 'local'};</script>\n",
              "        <script src=\"https://cdn.plot.ly/plotly-latest.min.js\"></script>    \n",
              "            <div id=\"a02004c7-76b8-4c46-a0a5-66016bc4785b\" class=\"plotly-graph-div\" style=\"height:525px; width:100%;\"></div>\n",
              "            <script type=\"text/javascript\">\n",
              "                \n",
              "                    window.PLOTLYENV=window.PLOTLYENV || {};\n",
              "                    \n",
              "                if (document.getElementById(\"a02004c7-76b8-4c46-a0a5-66016bc4785b\")) {\n",
              "                    Plotly.newPlot(\n",
              "                        'a02004c7-76b8-4c46-a0a5-66016bc4785b',\n",
              "                        [{\"mode\": \"lines\", \"name\": \"Data\", \"type\": \"scatter\", \"x\": [1579651200000000000, 1579737600000000000, 1579824000000000000, 1579910400000000000, 1579996800000000000, 1580083200000000000, 1580169600000000000, 1580256000000000000, 1580342400000000000, 1580428800000000000, 1580515200000000000, 1580601600000000000, 1580688000000000000, 1580774400000000000, 1580860800000000000, 1580947200000000000, 1581033600000000000, 1581120000000000000, 1581206400000000000, 1581292800000000000, 1581379200000000000, 1581465600000000000, 1581552000000000000, 1581638400000000000, 1581724800000000000, 1581811200000000000, 1581897600000000000, 1581984000000000000, 1582070400000000000, 1582156800000000000, 1582243200000000000, 1582329600000000000, 1582416000000000000, 1582502400000000000, 1582588800000000000, 1582675200000000000, 1582761600000000000, 1582848000000000000, 1582934400000000000, 1583020800000000000, 1583107200000000000, 1583193600000000000, 1583280000000000000, 1583366400000000000, 1583452800000000000, 1583539200000000000, 1583625600000000000, 1583712000000000000, 1583798400000000000, 1583884800000000000, 1583971200000000000, 1584057600000000000, 1584144000000000000, 1584230400000000000, 1584316800000000000, 1584403200000000000, 1584489600000000000, 1584576000000000000, 1584662400000000000, 1584748800000000000, 1584835200000000000, 1584921600000000000, 1585008000000000000, 1585094400000000000, 1585180800000000000, 1585267200000000000, 1585353600000000000, 1585440000000000000, 1585526400000000000, 1585612800000000000, 1585699200000000000, 1585785600000000000, 1585872000000000000, 1585958400000000000, 1586044800000000000, 1586131200000000000, 1586217600000000000, 1586304000000000000, 1586390400000000000, 1586476800000000000, 1586563200000000000, 1586649600000000000, 1586736000000000000, 1586822400000000000, 1586908800000000000, 1586995200000000000, 1587081600000000000, 1587168000000000000, 1587254400000000000, 1587340800000000000, 1587427200000000000, 1587513600000000000, 1587600000000000000, 1587686400000000000, 1587772800000000000, 1587859200000000000, 1587945600000000000, 1588032000000000000, 1588118400000000000, 1588204800000000000, 1588291200000000000, 1588377600000000000, 1588464000000000000, 1588550400000000000, 1588636800000000000, 1588723200000000000, 1588809600000000000, 1588896000000000000, 1588982400000000000, 1589068800000000000, 1589155200000000000, 1589241600000000000, 1589328000000000000, 1589414400000000000, 1589500800000000000, 1589587200000000000, 1589673600000000000, 1589760000000000000, 1589846400000000000, 1589932800000000000, 1590019200000000000, 1590105600000000000, 1590192000000000000, 1590278400000000000, 1590364800000000000, 1590451200000000000, 1590537600000000000, 1590624000000000000, 1590710400000000000, 1590796800000000000, 1590883200000000000, 1590969600000000000, 1591056000000000000, 1591142400000000000, 1591228800000000000, 1591315200000000000, 1591401600000000000, 1591488000000000000, 1591574400000000000, 1591660800000000000, 1591747200000000000, 1591833600000000000, 1591920000000000000, 1592006400000000000, 1592092800000000000, 1592179200000000000, 1592265600000000000, 1592352000000000000, 1592438400000000000, 1592524800000000000, 1592611200000000000, 1592697600000000000, 1592784000000000000, 1592870400000000000, 1592956800000000000, 1593043200000000000, 1593129600000000000, 1593216000000000000, 1593302400000000000, 1593388800000000000, 1593475200000000000, 1593561600000000000, 1593648000000000000, 1593734400000000000, 1593820800000000000, 1593907200000000000, 1593993600000000000, 1594080000000000000, 1594166400000000000, 1594252800000000000, 1594339200000000000, 1594425600000000000, 1594512000000000000, 1594598400000000000, 1594684800000000000, 1594771200000000000, 1594857600000000000, 1594944000000000000, 1595030400000000000, 1595116800000000000, 1595203200000000000, 1595289600000000000, 1595376000000000000, 1595462400000000000, 1595548800000000000, 1595635200000000000, 1595721600000000000, 1595808000000000000, 1595894400000000000, 1595980800000000000, 1596067200000000000, 1596153600000000000, 1596240000000000000, 1596326400000000000, 1596412800000000000, 1596499200000000000, 1596585600000000000, 1596672000000000000, 1596758400000000000, 1596844800000000000, 1596931200000000000, 1597017600000000000, 1597104000000000000, 1597190400000000000, 1597276800000000000, 1597363200000000000, 1597449600000000000, 1597536000000000000, 1597622400000000000, 1597708800000000000, 1597795200000000000, 1597881600000000000, 1597968000000000000, 1598054400000000000, 1598140800000000000, 1598227200000000000, 1598313600000000000, 1598400000000000000, 1598486400000000000, 1598572800000000000, 1598659200000000000, 1598745600000000000, 1598832000000000000, 1598918400000000000, 1599004800000000000, 1599091200000000000, 1599177600000000000, 1599264000000000000, 1599350400000000000, 1599436800000000000, 1599523200000000000, 1599609600000000000, 1599696000000000000, 1599782400000000000, 1599868800000000000, 1599955200000000000, 1600041600000000000, 1600128000000000000, 1600214400000000000, 1600300800000000000, 1600387200000000000, 1600473600000000000, 1600560000000000000, 1600646400000000000, 1600732800000000000, 1600819200000000000, 1600905600000000000, 1600992000000000000, 1601078400000000000, 1601164800000000000, 1601251200000000000, 1601337600000000000, 1601424000000000000, 1601510400000000000, 1601596800000000000, 1601683200000000000, 1601769600000000000, 1601856000000000000, 1601942400000000000, 1602028800000000000, 1602115200000000000, 1602201600000000000, 1602288000000000000, 1602374400000000000, 1602460800000000000, 1602547200000000000, 1602633600000000000, 1602720000000000000, 1602806400000000000, 1602892800000000000, 1602979200000000000, 1603065600000000000, 1603152000000000000, 1603238400000000000, 1603324800000000000, 1603411200000000000, 1603497600000000000, 1603584000000000000, 1603670400000000000, 1603756800000000000, 1603843200000000000, 1603929600000000000, 1604016000000000000, 1604102400000000000, 1604188800000000000, 1604275200000000000, 1604361600000000000, 1604448000000000000, 1604534400000000000, 1604620800000000000, 1604707200000000000, 1604793600000000000, 1604880000000000000, 1604966400000000000, 1605052800000000000, 1605139200000000000, 1605225600000000000, 1605312000000000000, 1605398400000000000, 1605484800000000000, 1605571200000000000, 1605657600000000000, 1605744000000000000, 1605830400000000000, 1605916800000000000, 1606003200000000000, 1606089600000000000, 1606176000000000000, 1606262400000000000, 1606348800000000000, 1606435200000000000, 1606521600000000000, 1606608000000000000, 1606694400000000000, 1606780800000000000, 1606867200000000000, 1606953600000000000, 1607040000000000000, 1607126400000000000, 1607212800000000000, 1607299200000000000, 1607385600000000000, 1607472000000000000, 1607558400000000000, 1607644800000000000, 1607731200000000000, 1607817600000000000, 1607904000000000000, 1607990400000000000, 1608076800000000000, 1608163200000000000, 1608249600000000000, 1608336000000000000, 1608422400000000000, 1608508800000000000, 1608595200000000000, 1608681600000000000, 1608768000000000000, 1608854400000000000, 1608940800000000000, 1609027200000000000, 1609113600000000000, 1609200000000000000, 1609286400000000000, 1609372800000000000, 1609459200000000000, 1609545600000000000, 1609632000000000000, 1609718400000000000, 1609804800000000000, 1609891200000000000, 1609977600000000000, 1610064000000000000, 1610150400000000000, 1610236800000000000, 1610323200000000000, 1610409600000000000, 1610496000000000000, 1610582400000000000, 1610668800000000000, 1610755200000000000, 1610841600000000000, 1610928000000000000, 1611014400000000000, 1611100800000000000, 1611187200000000000, 1611273600000000000, 1611360000000000000, 1611446400000000000, 1611532800000000000, 1611619200000000000, 1611705600000000000, 1611792000000000000, 1611878400000000000, 1611964800000000000, 1612051200000000000, 1612137600000000000, 1612224000000000000, 1612310400000000000, 1612396800000000000, 1612483200000000000, 1612569600000000000, 1612656000000000000, 1612742400000000000, 1612828800000000000, 1612915200000000000, 1613001600000000000, 1613088000000000000, 1613174400000000000, 1613260800000000000, 1613347200000000000, 1613433600000000000, 1613520000000000000, 1613606400000000000, 1613692800000000000], \"y\": [2926.9999999999995, 5578.0, 6167.0, 8235.0, 9927.0, 12038.0, 16787.0, 19887.0, 23898.0, 27642.999999999996, 30803.000000000004, 34396.0, 37130.0, 40160.0, 42769.0, 44811.0, 45229.0, 60382.0, 66909.0, 69052.0, 71235.0, 73270.0, 75152.0, 75652.0, 76212.0, 76841.0, 78602.0, 78982.0, 79546.0, 80399.0, 81376.0, 82736.0, 84122.0, 86013.0, 88394.0, 90377.0, 92971.0, 95279.0, 98090.0, 102003.0, 106098.0, 110046.99999999999, 114219.0, 119041.00000000001, 126701.99999999999, 132492.0, 146876.0, 157950.0, 169219.0, 184027.0, 199970.0, 219535.0, 246584.0, 277359.0, 309350.0, 344205.0, 387040.0, 428219.0, 479219.99999999994, 542097.0, 607138.0, 674418.0, 733655.0, 798949.0, 875794.0, 958602.0, 1041662.0, 1125221.0, 1183584.0, 1256176.0, 1329331.0, 1399162.0, 1482540.0, 1569554.0, 1655088.0, 1729371.0, 1849066.9999999998, 1919808.9999999998, 2003820.0, 2080934.0, 2176465.0, 2264462.0, 2341702.0, 2418307.0, 2494325.0, 2570074.0, 2651321.0, 2735570.0, 2819666.0, 2901925.0, 2973513.0, 3043705.0, 3119245.0, 3196355.0, 3279850.0, 3368226.0, 3447426.0, 3523798.9999999995, 3601488.0000000005, 3681990.0, 3772018.0, 3860724.0, 3951003.0, 4036226.0000000005, 4111202.0, 4187833.0, 4272324.0, 4357304.0, 4453535.0, 4549267.0, 4643706.0, 4721728.0, 4810895.0, 4907670.0, 5009548.0, 5116192.0, 5222614.0, 5327418.0, 5421629.0, 5508346.0, 5602313.0, 5705075.0, 5824358.0, 5945261.0, 6081776.0, 6188184.0, 6284179.0, 6406143.0, 6520392.0, 6651336.0, 6782559.0, 6916296.0, 7028659.000000001, 7131155.999999999, 7256216.0, 7391321.0, 7529341.0, 7658105.999999999, 7793395.0, 7925679.0, 8045337.0, 8187421.0, 8331167.000000001, 8472230.0, 8652145.0, 8809593.0, 8937295.0, 9076656.0, 9243465.0, 9416059.0, 9594440.0, 9786037.0, 9964169.0, 10128040.0, 10283387.0, 10457929.0, 10675536.0, 10885481.0, 11086866.0, 11280675.0, 11464678.0, 11628653.0, 11840015.0, 12054174.0, 12281001.0, 12513675.0, 12730157.0, 12922431.0, 13113875.0, 13336063.0, 13567531.0, 13818843.0, 14061585.0, 14297763.0, 14511197.0, 14718313.0, 14951994.0, 15231862.000000002, 15514715.999999998, 15795790.0, 16049844.0, 16262880.0, 16489410.000000002, 16742195.0, 17033923.0, 17314023.0, 17604767.0, 17853105.0, 18084097.0, 18290572.0, 18548514.0, 18825089.0, 19110291.0, 19392530.0, 19651048.0, 19875731.0, 20101760.0, 20359330.0, 20635977.0, 20925193.0, 21228941.0, 21476649.0, 21691119.0, 21898851.0, 22157107.0, 22436697.0, 22709251.0, 22970456.0, 23234707.0, 23440856.0, 23666124.0, 23910125.0, 24193918.0, 24477813.0, 24761440.0, 25025233.0, 25246198.0, 25509089.0, 25774014.0, 26057518.0, 26338937.0, 26652953.0, 26922944.0, 27153409.0, 27371291.0, 27613490.0, 27898311.999999996, 28198187.999999996, 28519558.000000004, 28806136.000000004, 29048854.999999996, 29312607.0, 29598069.0, 29902603.999999996, 30217490.0, 30543411.0, 30835530.000000004, 31087644.0, 31363730.0, 31648244.0, 31924336.0, 32277372.999999996, 32608242.999999996, 32896685.0, 33148076.0, 33402855.999999996, 33685524.0, 34011734.0, 34330037.0, 34627903.0, 34959947.0, 35221344.0, 35522367.0, 35848886.0, 36199883.0, 36561210.0, 36922107.0, 37279208.0, 37566120.0, 37857886.0, 38177145.0, 38559479.0, 38966463.0, 39378234.0, 39750891.0, 40067454.0, 40454664.0, 40843666.0, 41288556.0, 41761275.0, 42258073.0, 42714857.0, 43075510.0, 43561921.0, 44032154.0, 44544026.0, 45094441.0, 45665496.0, 46142261.0, 46604645.0, 47167772.0, 47721517.0, 48233069.0, 48829627.0, 49474481.0, 50071373.0, 50555347.0, 51056879.0, 51616256.0, 52264862.0, 52914405.0, 53566478.0, 54161448.0, 54635389.0, 55169846.0, 55781066.0, 56408168.99999999, 57061754.0, 57730498.0, 58318062.0, 58806043.0, 59331362.0, 59921623.0, 60557847.0, 61140322.00000001, 61827470.0, 62413501.00000001, 62902084.0, 63410725.0, 64022822.0, 64674220.0, 65368548.0, 66051824.0, 66693987.00000001, 67232741.0, 67752760.0, 68396288.0, 69066199.0, 70564412.0, 71268909.0, 71903759.0, 72434597.0, 72959984.0, 73596190.0, 74329916.0, 75069498.0, 75789960.0, 76401213.0, 76934686.0, 77483983.0, 78134244.0, 78829366.0, 79496006.0, 79961556.0, 80474158.0, 80912611.0, 81408934.0, 82073362.0, 82834592.0, 83559601.0, 84092619.0, 84718978.0, 85251774.0, 85805892.0, 86546014.0, 87329386.0, 88210223.0, 89013445.0, 89774439.0, 90363573.0, 90983503.0, 91689011.0, 92437399.0, 93192627.0, 93959814.0, 94598958.0, 95128170.0, 95643236.0, 96251662.0, 96944599.0, 97600922.0, 98259983.0, 98828107.0, 99273761.0, 99771101.0, 100327339.0, 100925700.0, 101539951.0, 102130394.0, 102645724.0, 103027363.0, 103474137.0, 103932094.0, 104454075.0, 104920982.0, 105456410.0, 105828535.0, 106226613.0, 106542506.0, 106970539.0, 107406280.0, 107847745.0, 108276434.0, 108649735.0, 108943585.0, 109226751.0, 109577771.0, 109973326.0, 110376842.0, 110789360.99999999, 111159816.0, 111474261.99999999, 111762700.0, 112151553.0, 112596489.00000001]}, {\"mode\": \"lines\", \"name\": \"Prediction\", \"type\": \"scatter\", \"x\": [1613779200000000000, 1613865600000000000, 1613952000000000000, 1614038400000000000, 1614124800000000000, 1614211200000000000, 1614297600000000000, 1614384000000000000, 1614470400000000000, 1614556800000000000, 1614643200000000000, 1614729600000000000, 1614816000000000000, 1614902400000000000, 1614988800000000000, 1615075200000000000, 1615161600000000000, 1615248000000000000, 1615334400000000000, 1615420800000000000, 1615507200000000000, 1615593600000000000, 1615680000000000000, 1615766400000000000, 1615852800000000000, 1615939200000000000, 1616025600000000000, 1616112000000000000, 1616198400000000000, 1616284800000000000, 1616371200000000000, 1616457600000000000, 1616544000000000000, 1616630400000000000, 1616716800000000000, 1616803200000000000, 1616889600000000000, 1616976000000000000, 1617062400000000000, 1617148800000000000, 1617235200000000000, 1617321600000000000, 1617408000000000000, 1617494400000000000, 1617580800000000000, 1617667200000000000, 1617753600000000000, 1617840000000000000, 1617926400000000000, 1618012800000000000, 1618099200000000000, 1618185600000000000, 1618272000000000000, 1618358400000000000, 1618444800000000000, 1618531200000000000, 1618617600000000000, 1618704000000000000, 1618790400000000000, 1618876800000000000, 1618963200000000000, 1619049600000000000, 1619136000000000000, 1619222400000000000, 1619308800000000000, 1619395200000000000, 1619481600000000000, 1619568000000000000, 1619654400000000000, 1619740800000000000, 1619827200000000000, 1619913600000000000, 1620000000000000000, 1620086400000000000, 1620172800000000000, 1620259200000000000, 1620345600000000000, 1620432000000000000, 1620518400000000000, 1620604800000000000, 1620691200000000000, 1620777600000000000, 1620864000000000000, 1620950400000000000, 1621036800000000000, 1621123200000000000, 1621209600000000000, 1621296000000000000, 1621382400000000000, 1621468800000000000, 1621555200000000000, 1621641600000000000, 1621728000000000000, 1621814400000000000, 1621900800000000000, 1621987200000000000, 1622073600000000000, 1622160000000000000, 1622246400000000000], \"y\": [132046880.0, 132497704.0, 132945272.0, 133494712.0, 134087920.0, 134663168.0, 135217104.0, 135708720.0, 136141072.0, 136592240.0, 137066800.0, 137659008.0, 138250560.0, 138815440.0, 139350112.0, 139855632.0, 140319760.0, 140902496.0, 141531040.0, 142151792.0, 142766736.0, 143352688.0, 143872656.0, 144408752.0, 145072192.0, 145789936.0, 146503360.0, 147205440.0, 147851808.0, 148454960.0, 149080592.0, 149813104.0, 150648080.0, 151473744.0, 152267376.0, 153006752.0, 153666368.0, 154346064.0, 155133408.0, 156005712.0, 156884816.0, 157669536.0, 158371072.0, 159107776.0, 159832128.0, 160673280.0, 161585904.0, 162621376.0, 163551728.0, 164423888.0, 165329792.0, 166192128.0, 167210400.0, 168254288.0, 169279312.0, 170318448.0, 171304896.0, 172218544.0, 173162768.0, 174254464.0, 175364880.0, 176459904.0, 177530048.0, 178529616.0, 179457712.0, 180373344.0, 181433200.0, 182530000.0, 183589936.0, 184610064.0, 185557600.0, 186412608.0, 187293648.0, 188282928.0, 189292544.0, 190296544.0, 191243744.0, 192145440.0, 192930864.0, 193708576.0, 194582288.0, 195455872.0, 196278912.0, 197075344.0, 197793392.0, 198454624.0, 199072688.0, 199773952.0, 200493312.0, 200904976.0, 201589952.0, 202229184.0, 202790352.0, 203342128.0]}, {\"mode\": \"lines\", \"name\": \"Ground Truth\", \"type\": \"scatter\", \"x\": [1613779200000000000, 1613865600000000000, 1613952000000000000, 1614038400000000000, 1614124800000000000, 1614211200000000000, 1614297600000000000, 1614384000000000000, 1614470400000000000, 1614556800000000000, 1614643200000000000, 1614729600000000000, 1614816000000000000, 1614902400000000000, 1614988800000000000, 1615075200000000000, 1615161600000000000, 1615248000000000000, 1615334400000000000, 1615420800000000000, 1615507200000000000, 1615593600000000000, 1615680000000000000, 1615766400000000000, 1615852800000000000, 1615939200000000000, 1616025600000000000, 1616112000000000000, 1616198400000000000, 1616284800000000000, 1616371200000000000, 1616457600000000000, 1616544000000000000, 1616630400000000000, 1616716800000000000, 1616803200000000000, 1616889600000000000, 1616976000000000000, 1617062400000000000, 1617148800000000000, 1617235200000000000, 1617321600000000000, 1617408000000000000, 1617494400000000000, 1617580800000000000, 1617667200000000000, 1617753600000000000, 1617840000000000000, 1617926400000000000, 1618012800000000000, 1618099200000000000, 1618185600000000000, 1618272000000000000, 1618358400000000000, 1618444800000000000, 1618531200000000000, 1618617600000000000, 1618704000000000000, 1618790400000000000, 1618876800000000000, 1618963200000000000, 1619049600000000000, 1619136000000000000, 1619222400000000000, 1619308800000000000, 1619395200000000000, 1619481600000000000, 1619568000000000000, 1619654400000000000, 1619740800000000000, 1619827200000000000, 1619913600000000000, 1620000000000000000, 1620086400000000000, 1620172800000000000, 1620259200000000000, 1620345600000000000, 1620432000000000000, 1620518400000000000, 1620604800000000000, 1620691200000000000, 1620777600000000000, 1620864000000000000, 1620950400000000000, 1621036800000000000, 1621123200000000000, 1621209600000000000, 1621296000000000000, 1621382400000000000, 1621468800000000000, 1621555200000000000, 1621641600000000000, 1621728000000000000, 1621814400000000000, 1621900800000000000, 1621987200000000000, 1622073600000000000, 1622160000000000000, 1622246400000000000], \"y\": [113043966.99999999, 113487006.00000001, 113876236.00000001, 114179745.00000001, 114485608.99999999, 114795897.00000001, 115237039.00000001, 115690087.99999999, 116137141.99999999, 116547675.0, 116915986.99999999, 117214710.0, 117629375.0, 118096453.99999999, 118573350.0, 119062678.0, 119516794.0, 119877179.0, 120226079.99999999, 120699093.0, 121238377.99999999, 121792101.0, 122353779.99999999, 122852600.0, 123275915.0, 123692736.0, 124206980.99999999, 124840562.0, 125491912.0, 126133262.99999999, 126717855.0, 127187813.0, 127646217.99999999, 128214490.99999999, 128897695.99999999, 129609483.0, 130243222.0, 130772665.00000001, 131325468.0, 131815052.0, 132419139.0, 133103485.0, 133943335.0, 134691380.0, 135355887.0, 136046628.0, 136663253.0, 137442820.0, 138259845.0, 139076606.0, 139931461.0, 140719503.0, 141404998.0, 142098420.0, 142952845.0, 143842820.0, 144742575.0, 145646322.0, 146467262.0, 147189618.0, 147872402.0, 148716872.0, 149622864.0, 150520466.0, 151399480.0, 152196159.0, 152870507.0, 153552097.0, 154359533.0, 155200757.0, 156070729.0, 156902287.0, 157688833.0, 158330372.0, 158952301.0, 159690774.0, 160450873.0, 161176148.0, 161894208.0, 162521726.0, 163069932.0, 163609626.0, 164231811.0, 164902903.0, 165182316.0, 165808192.0, 166385987.0, 166862062.0, 167316362.0, 167848207.0, 168416423.0, 168970791.0, 169470725.0, 169951560.0]}],\n",
              "                        {\"template\": {\"data\": {\"bar\": [{\"error_x\": {\"color\": \"#2a3f5f\"}, \"error_y\": {\"color\": \"#2a3f5f\"}, \"marker\": {\"line\": {\"color\": \"#E5ECF6\", \"width\": 0.5}}, \"type\": \"bar\"}], \"barpolar\": [{\"marker\": {\"line\": {\"color\": \"#E5ECF6\", \"width\": 0.5}}, \"type\": \"barpolar\"}], \"carpet\": [{\"aaxis\": {\"endlinecolor\": \"#2a3f5f\", \"gridcolor\": \"white\", \"linecolor\": \"white\", \"minorgridcolor\": \"white\", \"startlinecolor\": \"#2a3f5f\"}, \"baxis\": {\"endlinecolor\": \"#2a3f5f\", \"gridcolor\": \"white\", \"linecolor\": \"white\", \"minorgridcolor\": \"white\", \"startlinecolor\": \"#2a3f5f\"}, \"type\": \"carpet\"}], \"choropleth\": [{\"colorbar\": {\"outlinewidth\": 0, \"ticks\": \"\"}, \"type\": \"choropleth\"}], \"contour\": [{\"colorbar\": {\"outlinewidth\": 0, \"ticks\": \"\"}, \"colorscale\": [[0.0, \"#0d0887\"], [0.1111111111111111, \"#46039f\"], [0.2222222222222222, \"#7201a8\"], [0.3333333333333333, \"#9c179e\"], [0.4444444444444444, \"#bd3786\"], [0.5555555555555556, \"#d8576b\"], [0.6666666666666666, \"#ed7953\"], [0.7777777777777778, \"#fb9f3a\"], [0.8888888888888888, \"#fdca26\"], [1.0, \"#f0f921\"]], \"type\": \"contour\"}], \"contourcarpet\": [{\"colorbar\": {\"outlinewidth\": 0, \"ticks\": \"\"}, \"type\": \"contourcarpet\"}], \"heatmap\": [{\"colorbar\": {\"outlinewidth\": 0, \"ticks\": \"\"}, \"colorscale\": [[0.0, \"#0d0887\"], [0.1111111111111111, \"#46039f\"], [0.2222222222222222, \"#7201a8\"], [0.3333333333333333, \"#9c179e\"], [0.4444444444444444, \"#bd3786\"], [0.5555555555555556, \"#d8576b\"], [0.6666666666666666, \"#ed7953\"], [0.7777777777777778, \"#fb9f3a\"], [0.8888888888888888, \"#fdca26\"], [1.0, \"#f0f921\"]], \"type\": \"heatmap\"}], \"heatmapgl\": [{\"colorbar\": {\"outlinewidth\": 0, \"ticks\": \"\"}, \"colorscale\": [[0.0, \"#0d0887\"], [0.1111111111111111, \"#46039f\"], [0.2222222222222222, \"#7201a8\"], [0.3333333333333333, \"#9c179e\"], [0.4444444444444444, \"#bd3786\"], [0.5555555555555556, \"#d8576b\"], [0.6666666666666666, \"#ed7953\"], [0.7777777777777778, \"#fb9f3a\"], [0.8888888888888888, \"#fdca26\"], [1.0, \"#f0f921\"]], \"type\": \"heatmapgl\"}], \"histogram\": [{\"marker\": {\"colorbar\": {\"outlinewidth\": 0, \"ticks\": \"\"}}, \"type\": \"histogram\"}], \"histogram2d\": [{\"colorbar\": {\"outlinewidth\": 0, \"ticks\": \"\"}, \"colorscale\": [[0.0, \"#0d0887\"], [0.1111111111111111, \"#46039f\"], [0.2222222222222222, \"#7201a8\"], [0.3333333333333333, \"#9c179e\"], [0.4444444444444444, \"#bd3786\"], [0.5555555555555556, \"#d8576b\"], [0.6666666666666666, \"#ed7953\"], [0.7777777777777778, \"#fb9f3a\"], [0.8888888888888888, \"#fdca26\"], [1.0, \"#f0f921\"]], \"type\": \"histogram2d\"}], \"histogram2dcontour\": [{\"colorbar\": {\"outlinewidth\": 0, \"ticks\": \"\"}, \"colorscale\": [[0.0, \"#0d0887\"], [0.1111111111111111, \"#46039f\"], [0.2222222222222222, \"#7201a8\"], [0.3333333333333333, \"#9c179e\"], [0.4444444444444444, \"#bd3786\"], [0.5555555555555556, \"#d8576b\"], [0.6666666666666666, \"#ed7953\"], [0.7777777777777778, \"#fb9f3a\"], [0.8888888888888888, \"#fdca26\"], [1.0, \"#f0f921\"]], \"type\": \"histogram2dcontour\"}], \"mesh3d\": [{\"colorbar\": {\"outlinewidth\": 0, \"ticks\": \"\"}, \"type\": \"mesh3d\"}], \"parcoords\": [{\"line\": {\"colorbar\": {\"outlinewidth\": 0, \"ticks\": \"\"}}, \"type\": \"parcoords\"}], \"pie\": [{\"automargin\": true, \"type\": \"pie\"}], \"scatter\": [{\"marker\": {\"colorbar\": {\"outlinewidth\": 0, \"ticks\": \"\"}}, \"type\": \"scatter\"}], \"scatter3d\": [{\"line\": {\"colorbar\": {\"outlinewidth\": 0, \"ticks\": \"\"}}, \"marker\": {\"colorbar\": {\"outlinewidth\": 0, \"ticks\": \"\"}}, \"type\": \"scatter3d\"}], \"scattercarpet\": [{\"marker\": {\"colorbar\": {\"outlinewidth\": 0, \"ticks\": \"\"}}, \"type\": \"scattercarpet\"}], \"scattergeo\": [{\"marker\": {\"colorbar\": {\"outlinewidth\": 0, \"ticks\": \"\"}}, \"type\": \"scattergeo\"}], \"scattergl\": [{\"marker\": {\"colorbar\": {\"outlinewidth\": 0, \"ticks\": \"\"}}, \"type\": \"scattergl\"}], \"scattermapbox\": [{\"marker\": {\"colorbar\": {\"outlinewidth\": 0, \"ticks\": \"\"}}, \"type\": \"scattermapbox\"}], \"scatterpolar\": [{\"marker\": {\"colorbar\": {\"outlinewidth\": 0, \"ticks\": \"\"}}, \"type\": \"scatterpolar\"}], \"scatterpolargl\": [{\"marker\": {\"colorbar\": {\"outlinewidth\": 0, \"ticks\": \"\"}}, \"type\": \"scatterpolargl\"}], \"scatterternary\": [{\"marker\": {\"colorbar\": {\"outlinewidth\": 0, \"ticks\": \"\"}}, \"type\": \"scatterternary\"}], \"surface\": [{\"colorbar\": {\"outlinewidth\": 0, \"ticks\": \"\"}, \"colorscale\": [[0.0, \"#0d0887\"], [0.1111111111111111, \"#46039f\"], [0.2222222222222222, \"#7201a8\"], [0.3333333333333333, \"#9c179e\"], [0.4444444444444444, \"#bd3786\"], [0.5555555555555556, \"#d8576b\"], [0.6666666666666666, \"#ed7953\"], [0.7777777777777778, \"#fb9f3a\"], [0.8888888888888888, \"#fdca26\"], [1.0, \"#f0f921\"]], \"type\": \"surface\"}], \"table\": [{\"cells\": {\"fill\": {\"color\": \"#EBF0F8\"}, \"line\": {\"color\": \"white\"}}, \"header\": {\"fill\": {\"color\": \"#C8D4E3\"}, \"line\": {\"color\": \"white\"}}, \"type\": \"table\"}]}, \"layout\": {\"annotationdefaults\": {\"arrowcolor\": \"#2a3f5f\", \"arrowhead\": 0, \"arrowwidth\": 1}, \"coloraxis\": {\"colorbar\": {\"outlinewidth\": 0, \"ticks\": \"\"}}, \"colorscale\": {\"diverging\": [[0, \"#8e0152\"], [0.1, \"#c51b7d\"], [0.2, \"#de77ae\"], [0.3, \"#f1b6da\"], [0.4, \"#fde0ef\"], [0.5, \"#f7f7f7\"], [0.6, \"#e6f5d0\"], [0.7, \"#b8e186\"], [0.8, \"#7fbc41\"], [0.9, \"#4d9221\"], [1, \"#276419\"]], \"sequential\": [[0.0, \"#0d0887\"], [0.1111111111111111, \"#46039f\"], [0.2222222222222222, \"#7201a8\"], [0.3333333333333333, \"#9c179e\"], [0.4444444444444444, \"#bd3786\"], [0.5555555555555556, \"#d8576b\"], [0.6666666666666666, \"#ed7953\"], [0.7777777777777778, \"#fb9f3a\"], [0.8888888888888888, \"#fdca26\"], [1.0, \"#f0f921\"]], \"sequentialminus\": [[0.0, \"#0d0887\"], [0.1111111111111111, \"#46039f\"], [0.2222222222222222, \"#7201a8\"], [0.3333333333333333, \"#9c179e\"], [0.4444444444444444, \"#bd3786\"], [0.5555555555555556, \"#d8576b\"], [0.6666666666666666, \"#ed7953\"], [0.7777777777777778, \"#fb9f3a\"], [0.8888888888888888, \"#fdca26\"], [1.0, \"#f0f921\"]]}, \"colorway\": [\"#636efa\", \"#EF553B\", \"#00cc96\", \"#ab63fa\", \"#FFA15A\", \"#19d3f3\", \"#FF6692\", \"#B6E880\", \"#FF97FF\", \"#FECB52\"], \"font\": {\"color\": \"#2a3f5f\"}, \"geo\": {\"bgcolor\": \"white\", \"lakecolor\": \"white\", \"landcolor\": \"#E5ECF6\", \"showlakes\": true, \"showland\": true, \"subunitcolor\": \"white\"}, \"hoverlabel\": {\"align\": \"left\"}, \"hovermode\": \"closest\", \"mapbox\": {\"style\": \"light\"}, \"paper_bgcolor\": \"white\", \"plot_bgcolor\": \"#E5ECF6\", \"polar\": {\"angularaxis\": {\"gridcolor\": \"white\", \"linecolor\": \"white\", \"ticks\": \"\"}, \"bgcolor\": \"#E5ECF6\", \"radialaxis\": {\"gridcolor\": \"white\", \"linecolor\": \"white\", \"ticks\": \"\"}}, \"scene\": {\"xaxis\": {\"backgroundcolor\": \"#E5ECF6\", \"gridcolor\": \"white\", \"gridwidth\": 2, \"linecolor\": \"white\", \"showbackground\": true, \"ticks\": \"\", \"zerolinecolor\": \"white\"}, \"yaxis\": {\"backgroundcolor\": \"#E5ECF6\", \"gridcolor\": \"white\", \"gridwidth\": 2, \"linecolor\": \"white\", \"showbackground\": true, \"ticks\": \"\", \"zerolinecolor\": \"white\"}, \"zaxis\": {\"backgroundcolor\": \"#E5ECF6\", \"gridcolor\": \"white\", \"gridwidth\": 2, \"linecolor\": \"white\", \"showbackground\": true, \"ticks\": \"\", \"zerolinecolor\": \"white\"}}, \"shapedefaults\": {\"line\": {\"color\": \"#2a3f5f\"}}, \"ternary\": {\"aaxis\": {\"gridcolor\": \"white\", \"linecolor\": \"white\", \"ticks\": \"\"}, \"baxis\": {\"gridcolor\": \"white\", \"linecolor\": \"white\", \"ticks\": \"\"}, \"bgcolor\": \"#E5ECF6\", \"caxis\": {\"gridcolor\": \"white\", \"linecolor\": \"white\", \"ticks\": \"\"}}, \"title\": {\"x\": 0.05}, \"xaxis\": {\"automargin\": true, \"gridcolor\": \"white\", \"linecolor\": \"white\", \"ticks\": \"\", \"title\": {\"standoff\": 15}, \"zerolinecolor\": \"white\", \"zerolinewidth\": 2}, \"yaxis\": {\"automargin\": true, \"gridcolor\": \"white\", \"linecolor\": \"white\", \"ticks\": \"\", \"title\": {\"standoff\": 15}, \"zerolinecolor\": \"white\", \"zerolinewidth\": 2}}}, \"title\": {\"text\": \"<b>Confirmed Cases</b>\"}, \"xaxis\": {\"title\": {\"text\": \"Date\"}}, \"yaxis\": {\"title\": {\"text\": \"Cases\"}}},\n",
              "                        {\"responsive\": true}\n",
              "                    ).then(function(){\n",
              "                            \n",
              "var gd = document.getElementById('a02004c7-76b8-4c46-a0a5-66016bc4785b');\n",
              "var x = new MutationObserver(function (mutations, observer) {{\n",
              "        var display = window.getComputedStyle(gd).display;\n",
              "        if (!display || display === 'none') {{\n",
              "            console.log([gd, 'removed!']);\n",
              "            Plotly.purge(gd);\n",
              "            observer.disconnect();\n",
              "        }}\n",
              "}});\n",
              "\n",
              "// Listen for the removal of the full notebook cells\n",
              "var notebookContainer = gd.closest('#notebook-container');\n",
              "if (notebookContainer) {{\n",
              "    x.observe(notebookContainer, {childList: true});\n",
              "}}\n",
              "\n",
              "// Listen for the clearing of the current output cell\n",
              "var outputEl = gd.closest('.output');\n",
              "if (outputEl) {{\n",
              "    x.observe(outputEl, {childList: true});\n",
              "}}\n",
              "\n",
              "                        })\n",
              "                };\n",
              "                \n",
              "            </script>\n",
              "        </div>\n",
              "</body>\n",
              "</html>"
            ]
          },
          "metadata": {}
        }
      ]
    },
    {
      "cell_type": "code",
      "metadata": {
        "execution": {
          "iopub.execute_input": "2021-11-30T10:49:02.479396Z",
          "iopub.status.busy": "2021-11-30T10:49:02.478801Z",
          "iopub.status.idle": "2021-11-30T10:49:04.145319Z",
          "shell.execute_reply": "2021-11-30T10:49:04.144516Z",
          "shell.execute_reply.started": "2021-11-30T10:49:02.479359Z"
        },
        "id": "5E1TPWO7hOcz"
      },
      "source": [
        "T = 5\n",
        "prediction_list = dataset_n[-T:]  #take last 100 values from the dataset\n",
        "num_prediction = 30 #predicting cases for next 1 month\n",
        "for _ in range(num_prediction):\n",
        "    x = prediction_list[-T:]\n",
        "    x = x.reshape((1,T, 1))\n",
        "    out = model.predict(x)[0][0]\n",
        "    prediction_list = np.append(prediction_list, out) #appending the prediction\n",
        "prediction_list = prediction_list[T-1:] \n",
        "prediction_list = scaler.inverse_transform(np.array(prediction_list).reshape(-1,1)).reshape(-1)\n",
        "\n",
        "\n",
        "last_date = time_series_data['ObservationDate'].values[-1]\n",
        "prediction_dates = np.array(pd.date_range(last_date, periods=num_prediction+1))"
      ],
      "execution_count": null,
      "outputs": []
    },
    {
      "cell_type": "code",
      "metadata": {
        "execution": {
          "iopub.execute_input": "2021-11-30T10:49:04.146932Z",
          "iopub.status.busy": "2021-11-30T10:49:04.146594Z",
          "iopub.status.idle": "2021-11-30T10:49:04.162852Z",
          "shell.execute_reply": "2021-11-30T10:49:04.161826Z",
          "shell.execute_reply.started": "2021-11-30T10:49:04.146892Z"
        },
        "colab": {
          "base_uri": "https://localhost:8080/",
          "height": 542
        },
        "id": "UCYcVlxThOcz",
        "outputId": "d16d422c-69bd-4ec6-c5f9-68958d596755"
      },
      "source": [
        "trace1 = go.Scatter(\n",
        "    x = date_array,\n",
        "    y = dataset.reshape(-1),\n",
        "    mode = 'lines',\n",
        "    name = 'Data'\n",
        ")\n",
        "trace2 = go.Scatter(\n",
        "    x = prediction_dates,\n",
        "    y = prediction_list,\n",
        "    mode = 'lines',\n",
        "    name = 'Forecast'\n",
        ")\n",
        "\n",
        "layout = go.Layout(\n",
        "    title = \"<b>Confirmed Cases</b>\",\n",
        "    xaxis = {'title' : \"Date\"},\n",
        "    yaxis = {'title' : \"Cases\"}\n",
        ")\n",
        "fig = go.Figure(data=[trace1, trace2], layout=layout)\n",
        "fig.show()"
      ],
      "execution_count": null,
      "outputs": [
        {
          "output_type": "display_data",
          "data": {
            "text/html": [
              "<html>\n",
              "<head><meta charset=\"utf-8\" /></head>\n",
              "<body>\n",
              "    <div>\n",
              "            <script src=\"https://cdnjs.cloudflare.com/ajax/libs/mathjax/2.7.5/MathJax.js?config=TeX-AMS-MML_SVG\"></script><script type=\"text/javascript\">if (window.MathJax) {MathJax.Hub.Config({SVG: {font: \"STIX-Web\"}});}</script>\n",
              "                <script type=\"text/javascript\">window.PlotlyConfig = {MathJaxConfig: 'local'};</script>\n",
              "        <script src=\"https://cdn.plot.ly/plotly-latest.min.js\"></script>    \n",
              "            <div id=\"d5561881-d1af-465b-b9b4-22f5e947e821\" class=\"plotly-graph-div\" style=\"height:525px; width:100%;\"></div>\n",
              "            <script type=\"text/javascript\">\n",
              "                \n",
              "                    window.PLOTLYENV=window.PLOTLYENV || {};\n",
              "                    \n",
              "                if (document.getElementById(\"d5561881-d1af-465b-b9b4-22f5e947e821\")) {\n",
              "                    Plotly.newPlot(\n",
              "                        'd5561881-d1af-465b-b9b4-22f5e947e821',\n",
              "                        [{\"mode\": \"lines\", \"name\": \"Data\", \"type\": \"scatter\", \"x\": [1579651200000000000, 1579737600000000000, 1579824000000000000, 1579910400000000000, 1579996800000000000, 1580083200000000000, 1580169600000000000, 1580256000000000000, 1580342400000000000, 1580428800000000000, 1580515200000000000, 1580601600000000000, 1580688000000000000, 1580774400000000000, 1580860800000000000, 1580947200000000000, 1581033600000000000, 1581120000000000000, 1581206400000000000, 1581292800000000000, 1581379200000000000, 1581465600000000000, 1581552000000000000, 1581638400000000000, 1581724800000000000, 1581811200000000000, 1581897600000000000, 1581984000000000000, 1582070400000000000, 1582156800000000000, 1582243200000000000, 1582329600000000000, 1582416000000000000, 1582502400000000000, 1582588800000000000, 1582675200000000000, 1582761600000000000, 1582848000000000000, 1582934400000000000, 1583020800000000000, 1583107200000000000, 1583193600000000000, 1583280000000000000, 1583366400000000000, 1583452800000000000, 1583539200000000000, 1583625600000000000, 1583712000000000000, 1583798400000000000, 1583884800000000000, 1583971200000000000, 1584057600000000000, 1584144000000000000, 1584230400000000000, 1584316800000000000, 1584403200000000000, 1584489600000000000, 1584576000000000000, 1584662400000000000, 1584748800000000000, 1584835200000000000, 1584921600000000000, 1585008000000000000, 1585094400000000000, 1585180800000000000, 1585267200000000000, 1585353600000000000, 1585440000000000000, 1585526400000000000, 1585612800000000000, 1585699200000000000, 1585785600000000000, 1585872000000000000, 1585958400000000000, 1586044800000000000, 1586131200000000000, 1586217600000000000, 1586304000000000000, 1586390400000000000, 1586476800000000000, 1586563200000000000, 1586649600000000000, 1586736000000000000, 1586822400000000000, 1586908800000000000, 1586995200000000000, 1587081600000000000, 1587168000000000000, 1587254400000000000, 1587340800000000000, 1587427200000000000, 1587513600000000000, 1587600000000000000, 1587686400000000000, 1587772800000000000, 1587859200000000000, 1587945600000000000, 1588032000000000000, 1588118400000000000, 1588204800000000000, 1588291200000000000, 1588377600000000000, 1588464000000000000, 1588550400000000000, 1588636800000000000, 1588723200000000000, 1588809600000000000, 1588896000000000000, 1588982400000000000, 1589068800000000000, 1589155200000000000, 1589241600000000000, 1589328000000000000, 1589414400000000000, 1589500800000000000, 1589587200000000000, 1589673600000000000, 1589760000000000000, 1589846400000000000, 1589932800000000000, 1590019200000000000, 1590105600000000000, 1590192000000000000, 1590278400000000000, 1590364800000000000, 1590451200000000000, 1590537600000000000, 1590624000000000000, 1590710400000000000, 1590796800000000000, 1590883200000000000, 1590969600000000000, 1591056000000000000, 1591142400000000000, 1591228800000000000, 1591315200000000000, 1591401600000000000, 1591488000000000000, 1591574400000000000, 1591660800000000000, 1591747200000000000, 1591833600000000000, 1591920000000000000, 1592006400000000000, 1592092800000000000, 1592179200000000000, 1592265600000000000, 1592352000000000000, 1592438400000000000, 1592524800000000000, 1592611200000000000, 1592697600000000000, 1592784000000000000, 1592870400000000000, 1592956800000000000, 1593043200000000000, 1593129600000000000, 1593216000000000000, 1593302400000000000, 1593388800000000000, 1593475200000000000, 1593561600000000000, 1593648000000000000, 1593734400000000000, 1593820800000000000, 1593907200000000000, 1593993600000000000, 1594080000000000000, 1594166400000000000, 1594252800000000000, 1594339200000000000, 1594425600000000000, 1594512000000000000, 1594598400000000000, 1594684800000000000, 1594771200000000000, 1594857600000000000, 1594944000000000000, 1595030400000000000, 1595116800000000000, 1595203200000000000, 1595289600000000000, 1595376000000000000, 1595462400000000000, 1595548800000000000, 1595635200000000000, 1595721600000000000, 1595808000000000000, 1595894400000000000, 1595980800000000000, 1596067200000000000, 1596153600000000000, 1596240000000000000, 1596326400000000000, 1596412800000000000, 1596499200000000000, 1596585600000000000, 1596672000000000000, 1596758400000000000, 1596844800000000000, 1596931200000000000, 1597017600000000000, 1597104000000000000, 1597190400000000000, 1597276800000000000, 1597363200000000000, 1597449600000000000, 1597536000000000000, 1597622400000000000, 1597708800000000000, 1597795200000000000, 1597881600000000000, 1597968000000000000, 1598054400000000000, 1598140800000000000, 1598227200000000000, 1598313600000000000, 1598400000000000000, 1598486400000000000, 1598572800000000000, 1598659200000000000, 1598745600000000000, 1598832000000000000, 1598918400000000000, 1599004800000000000, 1599091200000000000, 1599177600000000000, 1599264000000000000, 1599350400000000000, 1599436800000000000, 1599523200000000000, 1599609600000000000, 1599696000000000000, 1599782400000000000, 1599868800000000000, 1599955200000000000, 1600041600000000000, 1600128000000000000, 1600214400000000000, 1600300800000000000, 1600387200000000000, 1600473600000000000, 1600560000000000000, 1600646400000000000, 1600732800000000000, 1600819200000000000, 1600905600000000000, 1600992000000000000, 1601078400000000000, 1601164800000000000, 1601251200000000000, 1601337600000000000, 1601424000000000000, 1601510400000000000, 1601596800000000000, 1601683200000000000, 1601769600000000000, 1601856000000000000, 1601942400000000000, 1602028800000000000, 1602115200000000000, 1602201600000000000, 1602288000000000000, 1602374400000000000, 1602460800000000000, 1602547200000000000, 1602633600000000000, 1602720000000000000, 1602806400000000000, 1602892800000000000, 1602979200000000000, 1603065600000000000, 1603152000000000000, 1603238400000000000, 1603324800000000000, 1603411200000000000, 1603497600000000000, 1603584000000000000, 1603670400000000000, 1603756800000000000, 1603843200000000000, 1603929600000000000, 1604016000000000000, 1604102400000000000, 1604188800000000000, 1604275200000000000, 1604361600000000000, 1604448000000000000, 1604534400000000000, 1604620800000000000, 1604707200000000000, 1604793600000000000, 1604880000000000000, 1604966400000000000, 1605052800000000000, 1605139200000000000, 1605225600000000000, 1605312000000000000, 1605398400000000000, 1605484800000000000, 1605571200000000000, 1605657600000000000, 1605744000000000000, 1605830400000000000, 1605916800000000000, 1606003200000000000, 1606089600000000000, 1606176000000000000, 1606262400000000000, 1606348800000000000, 1606435200000000000, 1606521600000000000, 1606608000000000000, 1606694400000000000, 1606780800000000000, 1606867200000000000, 1606953600000000000, 1607040000000000000, 1607126400000000000, 1607212800000000000, 1607299200000000000, 1607385600000000000, 1607472000000000000, 1607558400000000000, 1607644800000000000, 1607731200000000000, 1607817600000000000, 1607904000000000000, 1607990400000000000, 1608076800000000000, 1608163200000000000, 1608249600000000000, 1608336000000000000, 1608422400000000000, 1608508800000000000, 1608595200000000000, 1608681600000000000, 1608768000000000000, 1608854400000000000, 1608940800000000000, 1609027200000000000, 1609113600000000000, 1609200000000000000, 1609286400000000000, 1609372800000000000, 1609459200000000000, 1609545600000000000, 1609632000000000000, 1609718400000000000, 1609804800000000000, 1609891200000000000, 1609977600000000000, 1610064000000000000, 1610150400000000000, 1610236800000000000, 1610323200000000000, 1610409600000000000, 1610496000000000000, 1610582400000000000, 1610668800000000000, 1610755200000000000, 1610841600000000000, 1610928000000000000, 1611014400000000000, 1611100800000000000, 1611187200000000000, 1611273600000000000, 1611360000000000000, 1611446400000000000, 1611532800000000000, 1611619200000000000, 1611705600000000000, 1611792000000000000, 1611878400000000000, 1611964800000000000, 1612051200000000000, 1612137600000000000, 1612224000000000000, 1612310400000000000, 1612396800000000000, 1612483200000000000, 1612569600000000000, 1612656000000000000, 1612742400000000000, 1612828800000000000, 1612915200000000000, 1613001600000000000, 1613088000000000000, 1613174400000000000, 1613260800000000000, 1613347200000000000, 1613433600000000000, 1613520000000000000, 1613606400000000000, 1613692800000000000, 1613779200000000000, 1613865600000000000, 1613952000000000000, 1614038400000000000, 1614124800000000000, 1614211200000000000, 1614297600000000000, 1614384000000000000, 1614470400000000000, 1614556800000000000, 1614643200000000000, 1614729600000000000, 1614816000000000000, 1614902400000000000, 1614988800000000000, 1615075200000000000, 1615161600000000000, 1615248000000000000, 1615334400000000000, 1615420800000000000, 1615507200000000000, 1615593600000000000, 1615680000000000000, 1615766400000000000, 1615852800000000000, 1615939200000000000, 1616025600000000000, 1616112000000000000, 1616198400000000000, 1616284800000000000, 1616371200000000000, 1616457600000000000, 1616544000000000000, 1616630400000000000, 1616716800000000000, 1616803200000000000, 1616889600000000000, 1616976000000000000, 1617062400000000000, 1617148800000000000, 1617235200000000000, 1617321600000000000, 1617408000000000000, 1617494400000000000, 1617580800000000000, 1617667200000000000, 1617753600000000000, 1617840000000000000, 1617926400000000000, 1618012800000000000, 1618099200000000000, 1618185600000000000, 1618272000000000000, 1618358400000000000, 1618444800000000000, 1618531200000000000, 1618617600000000000, 1618704000000000000, 1618790400000000000, 1618876800000000000, 1618963200000000000, 1619049600000000000, 1619136000000000000, 1619222400000000000, 1619308800000000000, 1619395200000000000, 1619481600000000000, 1619568000000000000, 1619654400000000000, 1619740800000000000, 1619827200000000000, 1619913600000000000, 1620000000000000000, 1620086400000000000, 1620172800000000000, 1620259200000000000, 1620345600000000000, 1620432000000000000, 1620518400000000000, 1620604800000000000, 1620691200000000000, 1620777600000000000, 1620864000000000000, 1620950400000000000, 1621036800000000000, 1621123200000000000, 1621209600000000000, 1621296000000000000, 1621382400000000000, 1621468800000000000, 1621555200000000000, 1621641600000000000, 1621728000000000000, 1621814400000000000, 1621900800000000000, 1621987200000000000, 1622073600000000000, 1622160000000000000, 1622246400000000000], \"y\": [557, 655, 941, 1433, 2118, 2927, 5578, 6167, 8235, 9927, 12038, 16787, 19887, 23898, 27643, 30803, 34396, 37130, 40160, 42769, 44811, 45229, 60382, 66909, 69052, 71235, 73270, 75152, 75652, 76212, 76841, 78602, 78982, 79546, 80399, 81376, 82736, 84122, 86013, 88394, 90377, 92971, 95279, 98090, 102003, 106098, 110047, 114219, 119041, 126702, 132492, 146876, 157950, 169219, 184027, 199970, 219535, 246584, 277359, 309350, 344205, 387040, 428219, 479220, 542097, 607138, 674418, 733655, 798949, 875794, 958602, 1041662, 1125221, 1183584, 1256176, 1329331, 1399162, 1482540, 1569554, 1655088, 1729371, 1849067, 1919809, 2003820, 2080934, 2176465, 2264462, 2341702, 2418307, 2494325, 2570074, 2651321, 2735570, 2819666, 2901925, 2973513, 3043705, 3119245, 3196355, 3279850, 3368226, 3447426, 3523799, 3601488, 3681990, 3772018, 3860724, 3951003, 4036226, 4111202, 4187833, 4272324, 4357304, 4453535, 4549267, 4643706, 4721728, 4810895, 4907670, 5009548, 5116192, 5222614, 5327418, 5421629, 5508346, 5602313, 5705075, 5824358, 5945261, 6081776, 6188184, 6284179, 6406143, 6520392, 6651336, 6782559, 6916296, 7028659, 7131156, 7256216, 7391321, 7529341, 7658106, 7793395, 7925679, 8045337, 8187421, 8331167, 8472230, 8652145, 8809593, 8937295, 9076656, 9243465, 9416059, 9594440, 9786037, 9964169, 10128040, 10283387, 10457929, 10675536, 10885481, 11086866, 11280675, 11464678, 11628653, 11840015, 12054174, 12281001, 12513675, 12730157, 12922431, 13113875, 13336063, 13567531, 13818843, 14061585, 14297763, 14511197, 14718313, 14951994, 15231862, 15514716, 15795790, 16049844, 16262880, 16489410, 16742195, 17033923, 17314023, 17604767, 17853105, 18084097, 18290572, 18548514, 18825089, 19110291, 19392530, 19651048, 19875731, 20101760, 20359330, 20635977, 20925193, 21228941, 21476649, 21691119, 21898851, 22157107, 22436697, 22709251, 22970456, 23234707, 23440856, 23666124, 23910125, 24193918, 24477813, 24761440, 25025233, 25246198, 25509089, 25774014, 26057518, 26338937, 26652953, 26922944, 27153409, 27371291, 27613490, 27898312, 28198188, 28519558, 28806136, 29048855, 29312607, 29598069, 29902604, 30217490, 30543411, 30835530, 31087644, 31363730, 31648244, 31924336, 32277373, 32608243, 32896685, 33148076, 33402856, 33685524, 34011734, 34330037, 34627903, 34959947, 35221344, 35522367, 35848886, 36199883, 36561210, 36922107, 37279208, 37566120, 37857886, 38177145, 38559479, 38966463, 39378234, 39750891, 40067454, 40454664, 40843666, 41288556, 41761275, 42258073, 42714857, 43075510, 43561921, 44032154, 44544026, 45094441, 45665496, 46142261, 46604645, 47167772, 47721517, 48233069, 48829627, 49474481, 50071373, 50555347, 51056879, 51616256, 52264862, 52914405, 53566478, 54161448, 54635389, 55169846, 55781066, 56408169, 57061754, 57730498, 58318062, 58806043, 59331362, 59921623, 60557847, 61140322, 61827470, 62413501, 62902084, 63410725, 64022822, 64674220, 65368548, 66051824, 66693987, 67232741, 67752760, 68396288, 69066199, 70564412, 71268909, 71903759, 72434597, 72959984, 73596190, 74329916, 75069498, 75789960, 76401213, 76934686, 77483983, 78134244, 78829366, 79496006, 79961556, 80474158, 80912611, 81408934, 82073362, 82834592, 83559601, 84092619, 84718978, 85251774, 85805892, 86546014, 87329386, 88210223, 89013445, 89774439, 90363573, 90983503, 91689011, 92437399, 93192627, 93959814, 94598958, 95128170, 95643236, 96251662, 96944599, 97600922, 98259983, 98828107, 99273761, 99771101, 100327339, 100925700, 101539951, 102130394, 102645724, 103027363, 103474137, 103932094, 104454075, 104920982, 105456410, 105828535, 106226613, 106542506, 106970539, 107406280, 107847745, 108276434, 108649735, 108943585, 109226751, 109577771, 109973326, 110376842, 110789361, 111159816, 111474262, 111762700, 112151553, 112596489, 113043967, 113487006, 113876236, 114179745, 114485609, 114795897, 115237039, 115690088, 116137142, 116547675, 116915987, 117214710, 117629375, 118096454, 118573350, 119062678, 119516794, 119877179, 120226080, 120699093, 121238378, 121792101, 122353780, 122852600, 123275915, 123692736, 124206981, 124840562, 125491912, 126133263, 126717855, 127187813, 127646218, 128214491, 128897696, 129609483, 130243222, 130772665, 131325468, 131815052, 132419139, 133103485, 133943335, 134691380, 135355887, 136046628, 136663253, 137442820, 138259845, 139076606, 139931461, 140719503, 141404998, 142098420, 142952845, 143842820, 144742575, 145646322, 146467262, 147189618, 147872402, 148716872, 149622864, 150520466, 151399480, 152196159, 152870507, 153552097, 154359533, 155200757, 156070729, 156902287, 157688833, 158330372, 158952301, 159690774, 160450873, 161176148, 161894208, 162521726, 163069932, 163609626, 164231811, 164902903, 165182316, 165808192, 166385987, 166862062, 167316362, 167848207, 168416423, 168970791, 169470725, 169951560]}, {\"mode\": \"lines\", \"name\": \"Forecast\", \"type\": \"scatter\", \"x\": [1622246400000000000, 1622332800000000000, 1622419200000000000, 1622505600000000000, 1622592000000000000, 1622678400000000000, 1622764800000000000, 1622851200000000000, 1622937600000000000, 1623024000000000000, 1623110400000000000, 1623196800000000000, 1623283200000000000, 1623369600000000000, 1623456000000000000, 1623542400000000000, 1623628800000000000, 1623715200000000000, 1623801600000000000, 1623888000000000000, 1623974400000000000, 1624060800000000000, 1624147200000000000, 1624233600000000000, 1624320000000000000, 1624406400000000000, 1624492800000000000, 1624579200000000000, 1624665600000000000, 1624752000000000000, 1624838400000000000], \"y\": [169951560.0, 203953746.82789326, 204585955.3252597, 209227825.6037464, 212567453.88308287, 216705580.68444347, 243033157.29264736, 244463428.47923565, 250643564.0298977, 254888126.48440075, 260109905.32397842, 277872654.1861229, 279677556.68392086, 285093796.1956501, 288758357.6396799, 293121387.3740797, 303684283.9987364, 305276051.04915714, 309062223.05208206, 311620931.39908695, 314575851.38454247, 320322689.8873949, 321472258.33519554, 323789753.0367117, 325370135.6060543, 327156099.18753433, 330114083.20966053, 330854259.37850475, 332171742.31868076, 333082236.6638403, 334091599.01984787]}],\n",
              "                        {\"template\": {\"data\": {\"bar\": [{\"error_x\": {\"color\": \"#2a3f5f\"}, \"error_y\": {\"color\": \"#2a3f5f\"}, \"marker\": {\"line\": {\"color\": \"#E5ECF6\", \"width\": 0.5}}, \"type\": \"bar\"}], \"barpolar\": [{\"marker\": {\"line\": {\"color\": \"#E5ECF6\", \"width\": 0.5}}, \"type\": \"barpolar\"}], \"carpet\": [{\"aaxis\": {\"endlinecolor\": \"#2a3f5f\", \"gridcolor\": \"white\", \"linecolor\": \"white\", \"minorgridcolor\": \"white\", \"startlinecolor\": \"#2a3f5f\"}, \"baxis\": {\"endlinecolor\": \"#2a3f5f\", \"gridcolor\": \"white\", \"linecolor\": \"white\", \"minorgridcolor\": \"white\", \"startlinecolor\": \"#2a3f5f\"}, \"type\": \"carpet\"}], \"choropleth\": [{\"colorbar\": {\"outlinewidth\": 0, \"ticks\": \"\"}, \"type\": \"choropleth\"}], \"contour\": [{\"colorbar\": {\"outlinewidth\": 0, \"ticks\": \"\"}, \"colorscale\": [[0.0, \"#0d0887\"], [0.1111111111111111, \"#46039f\"], [0.2222222222222222, \"#7201a8\"], [0.3333333333333333, \"#9c179e\"], [0.4444444444444444, \"#bd3786\"], [0.5555555555555556, \"#d8576b\"], [0.6666666666666666, \"#ed7953\"], [0.7777777777777778, \"#fb9f3a\"], [0.8888888888888888, \"#fdca26\"], [1.0, \"#f0f921\"]], \"type\": \"contour\"}], \"contourcarpet\": [{\"colorbar\": {\"outlinewidth\": 0, \"ticks\": \"\"}, \"type\": \"contourcarpet\"}], \"heatmap\": [{\"colorbar\": {\"outlinewidth\": 0, \"ticks\": \"\"}, \"colorscale\": [[0.0, \"#0d0887\"], [0.1111111111111111, \"#46039f\"], [0.2222222222222222, \"#7201a8\"], [0.3333333333333333, \"#9c179e\"], [0.4444444444444444, \"#bd3786\"], [0.5555555555555556, \"#d8576b\"], [0.6666666666666666, \"#ed7953\"], [0.7777777777777778, \"#fb9f3a\"], [0.8888888888888888, \"#fdca26\"], [1.0, \"#f0f921\"]], \"type\": \"heatmap\"}], \"heatmapgl\": [{\"colorbar\": {\"outlinewidth\": 0, \"ticks\": \"\"}, \"colorscale\": [[0.0, \"#0d0887\"], [0.1111111111111111, \"#46039f\"], [0.2222222222222222, \"#7201a8\"], [0.3333333333333333, \"#9c179e\"], [0.4444444444444444, \"#bd3786\"], [0.5555555555555556, \"#d8576b\"], [0.6666666666666666, \"#ed7953\"], [0.7777777777777778, \"#fb9f3a\"], [0.8888888888888888, \"#fdca26\"], [1.0, \"#f0f921\"]], \"type\": \"heatmapgl\"}], \"histogram\": [{\"marker\": {\"colorbar\": {\"outlinewidth\": 0, \"ticks\": \"\"}}, \"type\": \"histogram\"}], \"histogram2d\": [{\"colorbar\": {\"outlinewidth\": 0, \"ticks\": \"\"}, \"colorscale\": [[0.0, \"#0d0887\"], [0.1111111111111111, \"#46039f\"], [0.2222222222222222, \"#7201a8\"], [0.3333333333333333, \"#9c179e\"], [0.4444444444444444, \"#bd3786\"], [0.5555555555555556, \"#d8576b\"], [0.6666666666666666, \"#ed7953\"], [0.7777777777777778, \"#fb9f3a\"], [0.8888888888888888, \"#fdca26\"], [1.0, \"#f0f921\"]], \"type\": \"histogram2d\"}], \"histogram2dcontour\": [{\"colorbar\": {\"outlinewidth\": 0, \"ticks\": \"\"}, \"colorscale\": [[0.0, \"#0d0887\"], [0.1111111111111111, \"#46039f\"], [0.2222222222222222, \"#7201a8\"], [0.3333333333333333, \"#9c179e\"], [0.4444444444444444, \"#bd3786\"], [0.5555555555555556, \"#d8576b\"], [0.6666666666666666, \"#ed7953\"], [0.7777777777777778, \"#fb9f3a\"], [0.8888888888888888, \"#fdca26\"], [1.0, \"#f0f921\"]], \"type\": \"histogram2dcontour\"}], \"mesh3d\": [{\"colorbar\": {\"outlinewidth\": 0, \"ticks\": \"\"}, \"type\": \"mesh3d\"}], \"parcoords\": [{\"line\": {\"colorbar\": {\"outlinewidth\": 0, \"ticks\": \"\"}}, \"type\": \"parcoords\"}], \"pie\": [{\"automargin\": true, \"type\": \"pie\"}], \"scatter\": [{\"marker\": {\"colorbar\": {\"outlinewidth\": 0, \"ticks\": \"\"}}, \"type\": \"scatter\"}], \"scatter3d\": [{\"line\": {\"colorbar\": {\"outlinewidth\": 0, \"ticks\": \"\"}}, \"marker\": {\"colorbar\": {\"outlinewidth\": 0, \"ticks\": \"\"}}, \"type\": \"scatter3d\"}], \"scattercarpet\": [{\"marker\": {\"colorbar\": {\"outlinewidth\": 0, \"ticks\": \"\"}}, \"type\": \"scattercarpet\"}], \"scattergeo\": [{\"marker\": {\"colorbar\": {\"outlinewidth\": 0, \"ticks\": \"\"}}, \"type\": \"scattergeo\"}], \"scattergl\": [{\"marker\": {\"colorbar\": {\"outlinewidth\": 0, \"ticks\": \"\"}}, \"type\": \"scattergl\"}], \"scattermapbox\": [{\"marker\": {\"colorbar\": {\"outlinewidth\": 0, \"ticks\": \"\"}}, \"type\": \"scattermapbox\"}], \"scatterpolar\": [{\"marker\": {\"colorbar\": {\"outlinewidth\": 0, \"ticks\": \"\"}}, \"type\": \"scatterpolar\"}], \"scatterpolargl\": [{\"marker\": {\"colorbar\": {\"outlinewidth\": 0, \"ticks\": \"\"}}, \"type\": \"scatterpolargl\"}], \"scatterternary\": [{\"marker\": {\"colorbar\": {\"outlinewidth\": 0, \"ticks\": \"\"}}, \"type\": \"scatterternary\"}], \"surface\": [{\"colorbar\": {\"outlinewidth\": 0, \"ticks\": \"\"}, \"colorscale\": [[0.0, \"#0d0887\"], [0.1111111111111111, \"#46039f\"], [0.2222222222222222, \"#7201a8\"], [0.3333333333333333, \"#9c179e\"], [0.4444444444444444, \"#bd3786\"], [0.5555555555555556, \"#d8576b\"], [0.6666666666666666, \"#ed7953\"], [0.7777777777777778, \"#fb9f3a\"], [0.8888888888888888, \"#fdca26\"], [1.0, \"#f0f921\"]], \"type\": \"surface\"}], \"table\": [{\"cells\": {\"fill\": {\"color\": \"#EBF0F8\"}, \"line\": {\"color\": \"white\"}}, \"header\": {\"fill\": {\"color\": \"#C8D4E3\"}, \"line\": {\"color\": \"white\"}}, \"type\": \"table\"}]}, \"layout\": {\"annotationdefaults\": {\"arrowcolor\": \"#2a3f5f\", \"arrowhead\": 0, \"arrowwidth\": 1}, \"coloraxis\": {\"colorbar\": {\"outlinewidth\": 0, \"ticks\": \"\"}}, \"colorscale\": {\"diverging\": [[0, \"#8e0152\"], [0.1, \"#c51b7d\"], [0.2, \"#de77ae\"], [0.3, \"#f1b6da\"], [0.4, \"#fde0ef\"], [0.5, \"#f7f7f7\"], [0.6, \"#e6f5d0\"], [0.7, \"#b8e186\"], [0.8, \"#7fbc41\"], [0.9, \"#4d9221\"], [1, \"#276419\"]], \"sequential\": [[0.0, \"#0d0887\"], [0.1111111111111111, \"#46039f\"], [0.2222222222222222, \"#7201a8\"], [0.3333333333333333, \"#9c179e\"], [0.4444444444444444, \"#bd3786\"], [0.5555555555555556, \"#d8576b\"], [0.6666666666666666, \"#ed7953\"], [0.7777777777777778, \"#fb9f3a\"], [0.8888888888888888, \"#fdca26\"], [1.0, \"#f0f921\"]], \"sequentialminus\": [[0.0, \"#0d0887\"], [0.1111111111111111, \"#46039f\"], [0.2222222222222222, \"#7201a8\"], [0.3333333333333333, \"#9c179e\"], [0.4444444444444444, \"#bd3786\"], [0.5555555555555556, \"#d8576b\"], [0.6666666666666666, \"#ed7953\"], [0.7777777777777778, \"#fb9f3a\"], [0.8888888888888888, \"#fdca26\"], [1.0, \"#f0f921\"]]}, \"colorway\": [\"#636efa\", \"#EF553B\", \"#00cc96\", \"#ab63fa\", \"#FFA15A\", \"#19d3f3\", \"#FF6692\", \"#B6E880\", \"#FF97FF\", \"#FECB52\"], \"font\": {\"color\": \"#2a3f5f\"}, \"geo\": {\"bgcolor\": \"white\", \"lakecolor\": \"white\", \"landcolor\": \"#E5ECF6\", \"showlakes\": true, \"showland\": true, \"subunitcolor\": \"white\"}, \"hoverlabel\": {\"align\": \"left\"}, \"hovermode\": \"closest\", \"mapbox\": {\"style\": \"light\"}, \"paper_bgcolor\": \"white\", \"plot_bgcolor\": \"#E5ECF6\", \"polar\": {\"angularaxis\": {\"gridcolor\": \"white\", \"linecolor\": \"white\", \"ticks\": \"\"}, \"bgcolor\": \"#E5ECF6\", \"radialaxis\": {\"gridcolor\": \"white\", \"linecolor\": \"white\", \"ticks\": \"\"}}, \"scene\": {\"xaxis\": {\"backgroundcolor\": \"#E5ECF6\", \"gridcolor\": \"white\", \"gridwidth\": 2, \"linecolor\": \"white\", \"showbackground\": true, \"ticks\": \"\", \"zerolinecolor\": \"white\"}, \"yaxis\": {\"backgroundcolor\": \"#E5ECF6\", \"gridcolor\": \"white\", \"gridwidth\": 2, \"linecolor\": \"white\", \"showbackground\": true, \"ticks\": \"\", \"zerolinecolor\": \"white\"}, \"zaxis\": {\"backgroundcolor\": \"#E5ECF6\", \"gridcolor\": \"white\", \"gridwidth\": 2, \"linecolor\": \"white\", \"showbackground\": true, \"ticks\": \"\", \"zerolinecolor\": \"white\"}}, \"shapedefaults\": {\"line\": {\"color\": \"#2a3f5f\"}}, \"ternary\": {\"aaxis\": {\"gridcolor\": \"white\", \"linecolor\": \"white\", \"ticks\": \"\"}, \"baxis\": {\"gridcolor\": \"white\", \"linecolor\": \"white\", \"ticks\": \"\"}, \"bgcolor\": \"#E5ECF6\", \"caxis\": {\"gridcolor\": \"white\", \"linecolor\": \"white\", \"ticks\": \"\"}}, \"title\": {\"x\": 0.05}, \"xaxis\": {\"automargin\": true, \"gridcolor\": \"white\", \"linecolor\": \"white\", \"ticks\": \"\", \"title\": {\"standoff\": 15}, \"zerolinecolor\": \"white\", \"zerolinewidth\": 2}, \"yaxis\": {\"automargin\": true, \"gridcolor\": \"white\", \"linecolor\": \"white\", \"ticks\": \"\", \"title\": {\"standoff\": 15}, \"zerolinecolor\": \"white\", \"zerolinewidth\": 2}}}, \"title\": {\"text\": \"<b>Confirmed Cases</b>\"}, \"xaxis\": {\"title\": {\"text\": \"Date\"}}, \"yaxis\": {\"title\": {\"text\": \"Cases\"}}},\n",
              "                        {\"responsive\": true}\n",
              "                    ).then(function(){\n",
              "                            \n",
              "var gd = document.getElementById('d5561881-d1af-465b-b9b4-22f5e947e821');\n",
              "var x = new MutationObserver(function (mutations, observer) {{\n",
              "        var display = window.getComputedStyle(gd).display;\n",
              "        if (!display || display === 'none') {{\n",
              "            console.log([gd, 'removed!']);\n",
              "            Plotly.purge(gd);\n",
              "            observer.disconnect();\n",
              "        }}\n",
              "}});\n",
              "\n",
              "// Listen for the removal of the full notebook cells\n",
              "var notebookContainer = gd.closest('#notebook-container');\n",
              "if (notebookContainer) {{\n",
              "    x.observe(notebookContainer, {childList: true});\n",
              "}}\n",
              "\n",
              "// Listen for the clearing of the current output cell\n",
              "var outputEl = gd.closest('.output');\n",
              "if (outputEl) {{\n",
              "    x.observe(outputEl, {childList: true});\n",
              "}}\n",
              "\n",
              "                        })\n",
              "                };\n",
              "                \n",
              "            </script>\n",
              "        </div>\n",
              "</body>\n",
              "</html>"
            ]
          },
          "metadata": {}
        }
      ]
    }
  ]
}